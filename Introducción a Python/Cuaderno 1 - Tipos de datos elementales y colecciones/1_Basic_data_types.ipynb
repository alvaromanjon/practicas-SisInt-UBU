{
 "cells": [
  {
   "cell_type": "code",
   "execution_count": 1,
   "metadata": {},
   "outputs": [
    {
     "data": {
      "text/html": [
       "<link rel=\"stylesheet\" type=\"text/css\" href=\"custom.css\">\n"
      ],
      "text/plain": [
       "<IPython.core.display.HTML object>"
      ]
     },
     "metadata": {},
     "output_type": "display_data"
    }
   ],
   "source": [
    "%%HTML\n",
    "<link rel=\"stylesheet\" type=\"text/css\" href=\"custom.css\">"
   ]
  },
  {
   "cell_type": "markdown",
   "metadata": {
    "slideshow": {
     "slide_type": "slide"
    }
   },
   "source": [
    "<a name=\"begin\"></a><img style=\"float:left\" width=\"70%\" src=\"pics/escudo_COLOR_1L_DCHA.png\">\n",
    "<img style=\"float:right\" width=\"15%\" src=\"pics/PythonLogo.svg\">\n",
    "<br style=\"clear:both;\">\n",
    "\n",
    "# Introducción a la programación en Python\n",
    "    \n",
    "Impartido como curso del [Grupo 9 de universidades (G-9)](https://www.uni-g9.net/)\n",
    "\n",
    "<h2 style=\"display: inline-block; padding: 4mm; padding-left: 2em; background-color: navy; line-height: 1.3em; color: white; border-radius: 10px;\">Estructuras de datos básicas</h2>\n",
    "\n",
    "\n",
    "## Docentes\n",
    "\n",
    " - César Ignacio García Osorio<a style=\"color: black; text-decoration: none;\" href=\"#end\">&nbsp;</a>\n",
    " - Álvar Arnaiz González\n",
    " - José Francisco Diez Pastor\n",
    " - Mario Juez Gil\n",
    " - <i style=\"color:gray\">Juan José Rodríguez (participante en las versiones previas del curso en el IFIE de la Universidad de Burgos)</i>"
   ]
  },
  {
   "cell_type": "markdown",
   "metadata": {
    "slideshow": {
     "slide_type": "slide"
    }
   },
   "source": [
    "<a id=\"index\"></a>\n",
    "## Tabla de contenidos del notebook\n",
    "\n",
    "1. [Repaso de conceptos](#concepts)\n",
    "2. [Enteros y flotantes &mdash; datos numéricos](#nums)\n",
    "3. [Valores lógicos y comparaciones](#booleans)\n",
    "---\n",
    "4. [Cadenas &mdash; datos textuales](#strings)\n",
    "5. [Listas, tuplas y conjuntos &mdash; colecciones de datos](#lists)\n",
    "6. [Diccionarios &mdash; colecciones indexadas por nombre](#dictionaries)\n",
    "---\n",
    "7. [Vectores, matrices y tensores](#arrays)\n",
    "---\n",
    "8. [Ejercicios y retos](#exercises)"
   ]
  },
  {
   "cell_type": "markdown",
   "metadata": {
    "slideshow": {
     "slide_type": "slide"
    }
   },
   "source": [
    "# Repaso de conceptos <a id=\"concepts\"></a><a href=\"#index\"><i class=\"fa fa-list-alt\"></i></a>\n",
    "\n",
    "Se presupone que los alumnos de este curso tienen algún conocimiento previo de programación en otro lenguaje, con lo que los siguientes conceptos les deberían resultar familiares. Aunque más adelante se profundizará en algunos de ellos, a modo de repaso, se da aquí una breve definición:\n",
    "\n",
    "- **Lenguaje de programación**: lenguaje artificial de propósito limitado, que permite expresar cálculos y algoritmos.\n",
    "- **Algoritmo**: secuencia de pasos que permiten resolver un problema («receta» para la solución de un problema), normalmente combina la ejecución secuencial de algunos de los pasos, con la ejecución repetida de algunos de ellos, con la ejecución condicional dependiendo de alguna condición.\n",
    "- **Instrucción**: especificación de una acción que queremos que el ordenador lleve a cabo, por ejemplo, asignación de un valor a una variable, incremento de un valor, comparación de valores. Normalmente se corresponde con el paso de un algoritmo.\n",
    "- **Programa**: secuencia de instrucciones que permiten la solución de un problema, se corresponde con la implementación de un algoritmo en un lenguaje de programación que entienda el ordenador.\n",
    "- **Variable**: en un lenguaje de programación, una variable está formada por un espacio de almacenaje en memoria y un nombre simbólico (un _identificador_) que está asociado a dicho espacio. Ese espacio contiene una cantidad de información conocida o desconocida, es decir un _valor_. El nombre de la variable es la forma usual de referirse al valor almacenado. Esta separación entre nombre y contenido permite que el nombre sea usado independientemente de la información exacta que representa y del espacio de memoria donde se almacena. \n",
    "- **Variable contador**: variable cuyo contenido pasa por una secuencia de valores cada uno de los cuales es el valor anterior tras su incremento o decremento de una cantidad constante (normalmente el valor 1).\n",
    "- **Sentencia**: Instrucción de un lenguaje de programación cuya ejecución consigue un cambio de estado (cambio del valor de una variable, impresión por pantalla, ...).\n",
    "- **Operador**: Es el carácter (o caracteres) utilizados para representar las acciones de combinación de uno o más valores, por ejemplo `+` para representar la suma, o `**` para representar la potencia.\n",
    "- **Expresión**: Combinación de valores mediante operadores que da a lugar a un nuevo valor. Por ejemplo, la suma, diferencia, producto o división de los valores que se combinan.\n",
    "---\n",
    "\n",
    "- **Booleano**: Tipo especial de datos que puede tomar uno de dos posibles valores (`True` o `False`).\n",
    "- **Condición** o **expresión condicional**: Expresión que devuelve un valor lógico, un booleano (valor cierto o falso), y que puede utilizarse para controlarse el flujo de ejecución de las sentencias. Por ejemplo la comparación entre dos valores.\n",
    "- **Sentencia condicional**: Instrucción que tras evaluar una expresión condicional ejecuta o no una secuencia de sentencias, o bien ejecuta un conjunto entre dos conjuntos alternativos.\n",
    "- **Bucle** o **sentencia iterativa**: Instrucción que permite la ejecución repetitiva de una secuencia de instrucciones, el número de veces en que la secuencia se ejecuta se controla mediante una expresión condicional o depende del valor de una variable contador.\n",
    "- **Función**: Secuencia de instrucciones a las que se le da un nombre para que pueda ser reutilizada en diversas partes del programa. Una función puede devolver un valor y recibir como entrada varios valores.\n",
    "- **Llamar o invocar una función**: Utilizar el nombre de la función para ejecutar sus instrucciones.\n",
    "- **Parámetro o argumento**: Variable especial a través de la que una función puede recibir valores que utilizar en sus instrucciones. \n",
    "---\n",
    "\n",
    "- **Objeto**: Es una abstracción de algunos lenguajes de programación que permite agrupar en una única entidad los valores y atributos de un elemento de interés, asimismo agrupa la funcionalidad que permite modificar y acceder a estos valores. \n",
    "- **Clase**: Es una plantilla de construcción de objetos, define los métodos y atributos que tendrá los objetos que se definan por instanciación de la plantilla. \n",
    "- **Método**: Es un conjunto de acciones a las que se le asocia un nombre y que se utilizan para recuperar o modificar los valores almacenados en un objeto.\n",
    "- **Herencia**: Mecanismo en los lenguajes orientados a objetos que permite construir nuevas clases a partir de otras a las que se le añaden funcionalidad o datos."
   ]
  },
  {
   "cell_type": "markdown",
   "metadata": {
    "slideshow": {
     "slide_type": "slide"
    }
   },
   "source": [
    "# Enteros y flotantes &mdash; datos numéricos  <a id=\"nums\"></a><a href=\"#index\"><i class=\"fa fa-list-alt\" aria-hidden=\"true\"></i></a>\n",
    "\n",
    "El tipo más básico que podemos considerar son los datos numéricos. Para prácticamente cualquier tarea necesitamos \n",
    "hacer operaciones como contar ocurrencias o acumular magnitudes y valores. "
   ]
  },
  {
   "cell_type": "markdown",
   "metadata": {},
   "source": [
    "## Los tipos numéricos de Python <a href=\"#index\"><i class=\"fa fa-list-alt\"></i></a>"
   ]
  },
  {
   "cell_type": "code",
   "execution_count": 1,
   "metadata": {},
   "outputs": [
    {
     "name": "stdout",
     "output_type": "stream",
     "text": [
      "<class 'int'>\n",
      "<class 'float'>\n",
      "<class 'complex'>\n"
     ]
    }
   ],
   "source": [
    "# Todo lo que sigue al carácter # es un comentario y es ignorado por el interprete Python,\n",
    "\n",
    "'''\n",
    "Los comentarios de varias líneas se delimitan\n",
    "con triples comillas (simples o dobles).\n",
    "'''\n",
    "\n",
    "num = 4 # Usando el constructor sería: num = int(4)\n",
    "print(type(num)) # => <class 'int'>\n",
    "# La función type devuelve el tipo del valor almacenado en una variable.\n",
    "\n",
    "num = 3.14 # Usando el constructor sería: num = float(3.14)\n",
    "print(type(num)) # => <class 'float'>\n",
    "\n",
    "# Este tipo no es tan común en otros lenguajes\n",
    "num = 3j # 2 + 3j\n",
    "print(type(num)) # => <class 'complex'>"
   ]
  },
  {
   "cell_type": "code",
   "execution_count": null,
   "metadata": {},
   "outputs": [],
   "source": [
    "num = 3j+1\n",
    "print(type(num)) # => <class 'complex'>\n",
    "print(num) # => (1+3j)\n",
    "print(num.imag) # => 3.0\n",
    "print(num.real) # => 1.0\n",
    "print(type(num.imag))"
   ]
  },
  {
   "cell_type": "markdown",
   "metadata": {},
   "source": [
    "## Operaciones aritméticas <a href=\"#index\"><i class=\"fa fa-list-alt\"></i></a>"
   ]
  },
  {
   "cell_type": "code",
   "execution_count": null,
   "metadata": {},
   "outputs": [],
   "source": [
    "# Suma:            3 + 2\n",
    "# Resta:           3 - 2\n",
    "# Multiplicación:  3 * 2\n",
    "# División:        3 / 2\n",
    "# División entera: 3 // 2  \n",
    "# Resto:           3 % 2   \n",
    "# Potencia:        3 ** 2  \n",
    "# Raíz cuadrada:   3 ** (1/2)\n",
    "\n",
    "print(3 / 2)       # Devuelve 1.5 en Python 3, sin embargo, el resultado es 1 en Python 2\n",
    "print(3 // 2)      # Devuelve 1 tanto en Python 2 como en Python 3"
   ]
  },
  {
   "cell_type": "code",
   "execution_count": null,
   "metadata": {},
   "outputs": [],
   "source": [
    "print(13 % 5)      # => 3\n",
    "print(13 % 2)      # => 1, es una forma de comprobar que un número es impar\n",
    "print(14 % 2)      # => 0, si el resultado es cero, el número es par"
   ]
  },
  {
   "cell_type": "code",
   "execution_count": null,
   "metadata": {},
   "outputs": [],
   "source": [
    "print(4 ** 2)      # => 16\n",
    "print(4 ** .5)     # => 2.0\n",
    "print(3 * 2 + 1)   # => 7 \n",
    "print(3 * (2 + 1)) # => 9 "
   ]
  },
  {
   "cell_type": "markdown",
   "metadata": {},
   "source": [
    "## Precedencias, incrementos y decrementos  <a href=\"#index\"><i class=\"fa fa-list-alt\"></i></a>\n",
    "\n",
    "Después de haber visto los resultados para el operador `**`, intenta anticiparte al resultado de la siguiente operación `2 ** 1 ** 4`"
   ]
  },
  {
   "cell_type": "code",
   "execution_count": null,
   "metadata": {},
   "outputs": [],
   "source": [
    "print( 2 ** 1 ** 4 ) # => ¡Sorpresa! el resultado es 2, pero ¿por qué?"
   ]
  },
  {
   "cell_type": "markdown",
   "metadata": {},
   "source": [
    "¿Te atreves a anticipar el resultado de <span class=\"incode\">-1 &ast;&ast; .5</span>?"
   ]
  },
  {
   "cell_type": "code",
   "execution_count": null,
   "metadata": {},
   "outputs": [],
   "source": [
    "# OJO\n",
    "num = -1 ** .5\n",
    "print(num) # => -1 WTF!"
   ]
  },
  {
   "cell_type": "code",
   "execution_count": null,
   "metadata": {},
   "outputs": [],
   "source": [
    "num = (-1)**.5 \n",
    "print(num) # => (6.123233995736766e-17+1j)\n",
    "print(-2 ** 3) # => -8\n",
    "print(-2 ** 2) # => -4"
   ]
  },
  {
   "cell_type": "code",
   "execution_count": null,
   "metadata": {},
   "outputs": [],
   "source": [
    "print((-2) ** 2) # => 4"
   ]
  },
  {
   "cell_type": "markdown",
   "metadata": {},
   "source": [
    "<div class=\"alert alert-danger\">\n",
    "   <i style=\"color: #a94442; font-size: larger\" class=\"fa fa-warning\" aria-hidden=\"true\"> <b>Conclusión:</b> Cuidado con las precedencias.\n",
    "</div>\n",
    "\n",
    "Las precedencias de los operadores definen el orden en el que tienen lugar las operaciones, de modo que los operadores más precedentes se aplican antes que los menos precedentes. Por eso el resultado de `1+2*3` es `7` y no `9`, como sucedería si el operador `+` fuera más precedente que el `*`."
   ]
  },
  {
   "cell_type": "code",
   "execution_count": null,
   "metadata": {},
   "outputs": [],
   "source": [
    "print(2 ** 2 ** 3)"
   ]
  },
  {
   "cell_type": "markdown",
   "metadata": {},
   "source": [
    "<button class=\"btn btn-primary label label-info\" style=\"display: inline-block; padding-top: .5em; margin-bottom: 2mm\" type=\"button\" data-toggle=\"collapse\" data-target=\"#collapseInfo00\">\n",
    "    <i class=\"fa fa-info-circle\" aria-hidden=\"true\"></i> Info\n",
    "</button>\n",
    "\n",
    "<div class=\"collapse\" id=\"collapseInfo00\">\n",
    "\n",
    "Si no tienes experiencia previa con otros lenguajes de programación, es posible que no te esperaras el resultado anterior y pensarás que el resultado tendría que haber sido `64`. Al fin y al cabo dos por dos son cuatro, y cuatro elevado a tres son 64. Si has pensado eso, te digo...\n",
    "\n",
    "<div class=\"alert alert-danger\">\n",
    "    <i style=\"color: #a94442; font-size: larger\" class=\"fa fa-warning\" aria-hidden=\"true\"></i> Cuidado también con las <a href=\"https://es.wikipedia.org/wiki/Asociatividad_(%C3%A1lgebra)\">asociatividades</a>.\n",
    "</div>\n",
    "\n",
    "La asociatividad de un operador define sobre que operandos actuará cuando ese operando está también al lado de otro operador. Con la suma y el producto no es da lo mismo, dado que estos operadores tienen la [propiedad asociativa](https://definicion.de/propiedad-asociativa/) que hace que el resultado sea el mismo independientemente de la asociatividad que se utilice. Pero el operador de exponenciación, primero no tiene la propiedad asociativa, segundo es asociativa a derechas, no a izquierdas. Eso significa que un operando que aparezca entre dos exponenciaciones va a ser utilizado primero por el operador a su derecha. Por eso el resultado es `256`, porque `2**3` es `8` y `2` a la `8` es `256`.\n",
    "    \n",
    "</div>\n",
    "\n",
    "\n",
    "\n"
   ]
  },
  {
   "cell_type": "code",
   "execution_count": null,
   "metadata": {},
   "outputs": [],
   "source": [
    "num = 2\n",
    "print(num) # => 2\n",
    "num += 1\n",
    "print(num) # => 3\n",
    "num *= 10\n",
    "print(num) # => 30"
   ]
  },
  {
   "cell_type": "markdown",
   "metadata": {},
   "source": [
    "## Funciones matemáticas predefinidas  <a href=\"#index\"><i class=\"fa fa-list-alt\"></i></a>"
   ]
  },
  {
   "cell_type": "code",
   "execution_count": 7,
   "metadata": {},
   "outputs": [
    {
     "name": "stdout",
     "output_type": "stream",
     "text": [
      "3\n",
      "4\n",
      "4.0\n",
      "3.9\n"
     ]
    }
   ],
   "source": [
    "# Valor absoluto y redondeo\n",
    "print(abs(-3)); print(round(3.86)) # varias sentencia en una línea separadas por `;`\n",
    "print(round(3.86, 0))\n",
    "print(round(3.86, 1)) "
   ]
  },
  {
   "cell_type": "markdown",
   "metadata": {},
   "source": [
    "<div class=\"alert alert-info\">\n",
    "   <i style=\"font-size: larger;\" class=\"fa fa-info-circle\" aria-hidden=\"true\"></i> Se puede utilizar el comando <kbd>help</kbd> para obtener ayuda sobre funciones.\n",
    "</div>\n"
   ]
  },
  {
   "cell_type": "code",
   "execution_count": null,
   "metadata": {},
   "outputs": [],
   "source": [
    "help(round)"
   ]
  },
  {
   "cell_type": "markdown",
   "metadata": {},
   "source": [
    "En Jupyter se puede usar también estas dos formas de consultar documentación."
   ]
  },
  {
   "cell_type": "code",
   "execution_count": 2,
   "metadata": {},
   "outputs": [],
   "source": [
    "round?"
   ]
  },
  {
   "cell_type": "code",
   "execution_count": 3,
   "metadata": {},
   "outputs": [],
   "source": [
    "?round"
   ]
  },
  {
   "cell_type": "code",
   "execution_count": null,
   "metadata": {},
   "outputs": [],
   "source": [
    "# Otra forma de hacer potencias es la función `pow`\n",
    "print(pow(-1, .5)) # => (6.123233995736766e-17+1j)\n",
    "print(pow(-1, .5).real)\n",
    "print(pow(-1, .5).real + 1 - 1)"
   ]
  },
  {
   "cell_type": "code",
   "execution_count": null,
   "metadata": {},
   "outputs": [],
   "source": [
    "print(max(6,1,8))\n",
    "print(min(6,1,8))"
   ]
  },
  {
   "cell_type": "code",
   "execution_count": null,
   "metadata": {},
   "outputs": [],
   "source": [
    "# Si vamos a necesitar tanto el cociente entero como el resto podemos usar `divmod``\n",
    "divmod(8, 5) # El resultado es una TUPLA, un tipo de datos que veremos más adelante"
   ]
  },
  {
   "cell_type": "markdown",
   "metadata": {},
   "source": [
    "## Coerción de tipos (<span style=\"color:red;text-transform: uppercase;\">opcional</span>)  <a href=\"#index\"><i class=\"fa fa-list-alt\"></i></a>\n",
    "\n",
    "La <a class=\"concept\" href=\"http://diccionario.raing.es/es/lema/coerci%C3%B3n-de-tipos\">coerción de tipos</a> es la <q cite=\"http://diccionario.raing.es/es/lema/coerci%C3%B3n-de-tipos\">Característica de los lenguajes de programación que permite, implícita o explícitamente, convertir un elemento de un tipo de datos en otro, sin tener en cuenta la comprobación de tipos</q>."
   ]
  },
  {
   "cell_type": "code",
   "execution_count": null,
   "metadata": {},
   "outputs": [],
   "source": [
    "num = 255\n",
    "print(type(num))\n",
    "num = str(num)\n",
    "print(type(num))\n",
    "num"
   ]
  },
  {
   "cell_type": "code",
   "execution_count": null,
   "metadata": {},
   "outputs": [],
   "source": [
    "print(float(2))\n",
    "print(int(22.3))\n",
    "print(int(22.8))\n",
    "print(bool(2+3j))\n",
    "print(bool(0j))"
   ]
  },
  {
   "cell_type": "markdown",
   "metadata": {},
   "source": [
    "Otros operadores y funciones, que aunque no de uso frecuente, está bien saber por lo menos que existen son las funciones de convrsión entre bases numéricas y los operadores de desplazamiento de bits. "
   ]
  },
  {
   "cell_type": "code",
   "execution_count": null,
   "metadata": {},
   "outputs": [],
   "source": [
    "print(bin(255))       # => '0b11111111'   número a la cadena correspondiente a su representación binaria\n",
    "print(bin(170))       # => '0b10101010'   número a la cadena correspondiente a su representación binaria\n",
    "print(hex(255))       # => '0xff'\n",
    "print(oct(255))       # => '0x377'"
   ]
  },
  {
   "cell_type": "code",
   "execution_count": null,
   "metadata": {},
   "outputs": [],
   "source": [
    "print(bin(1))       # => '0b1'\n",
    "print(bin(1 << 1))  # => '0b1'\n",
    "print(bin(1 << 4))  # => '0b10000'\n",
    "print(bin(256 >> 4))  # => '0b10000'\n",
    "print(bin(3 & 5))  # => '0b10000'"
   ]
  },
  {
   "cell_type": "code",
   "execution_count": null,
   "metadata": {},
   "outputs": [],
   "source": [
    "print(int('0xff', 16)) # => 255\n",
    "print(int('ff', 16))   # => 255\n",
    "print(int('11', 16))   # => 17\n",
    "print(int('11', 2))    # => 3\n",
    "print(int('11', 3))    # => 4"
   ]
  },
  {
   "cell_type": "code",
   "execution_count": null,
   "metadata": {},
   "outputs": [],
   "source": [
    "n = 20\n",
    "print(int(bin(n), 2))\n",
    "print(int(oct(n), 8))\n",
    "print(int(hex(n), 16))"
   ]
  },
  {
   "cell_type": "markdown",
   "metadata": {},
   "source": [
    "También las funciones de conversión entre carácter y código ASCII."
   ]
  },
  {
   "cell_type": "code",
   "execution_count": null,
   "metadata": {},
   "outputs": [],
   "source": [
    "ord('A')"
   ]
  },
  {
   "cell_type": "code",
   "execution_count": null,
   "metadata": {},
   "outputs": [],
   "source": [
    "chr(32)"
   ]
  },
  {
   "cell_type": "code",
   "execution_count": null,
   "metadata": {},
   "outputs": [],
   "source": [
    "print(chr(ord('ñ')))\n",
    "print(ord(chr(32)))"
   ]
  },
  {
   "cell_type": "markdown",
   "metadata": {},
   "source": [
    "<div class=\"alert alert-info\">\n",
    "   <i style=\"font-size: larger;\" class=\"fa fa-info-circle\" aria-hidden=\"true\"></i> Más información sobre las funciones <i>built-in</i> en:\n",
    "\n",
    "- [https://docs.python.org/3/library/functions.html](https://docs.python.org/3/library/functions.html)\n",
    "- [https://www.programiz.com/python-programming/methods/built-in](https://www.programiz.com/python-programming/methods/built-in)\n",
    "\n",
    "</div>"
   ]
  },
  {
   "cell_type": "markdown",
   "metadata": {},
   "source": [
    "# Comparaciones y valores lógicos  <a id=\"booleans\"></a><a href=\"#index\"><i class=\"fa fa-list-alt\" aria-hidden=\"true\"></i></a>"
   ]
  },
  {
   "cell_type": "markdown",
   "metadata": {},
   "source": [
    "Comparar valores es fundamental en el control del flujo de ejecución: \n",
    "- la ejecución alternativa de sentencias, en las instrucciones condicionales\n",
    "- la ejecución repetitiva de sentencias, en los bucles\n",
    "\n",
    "Python tiene las comparaciones típicas de otros lenguajes de programación."
   ]
  },
  {
   "cell_type": "code",
   "execution_count": null,
   "metadata": {},
   "outputs": [],
   "source": [
    "# Igualdad:      3 == 2\n",
    "# Desigualdad:   3 != 2 (también con: not 3 == 2)\n",
    "# Mayor que:     3 >  2\n",
    "# Menor que:     3 <  2\n",
    "# Mayor o igual: 3 >= 2\n",
    "# Menor o igual: 3 <= 2\n",
    "print(3 == 2)\n",
    "print(3 != 2)\n",
    "print(3 > 2)"
   ]
  },
  {
   "cell_type": "markdown",
   "metadata": {},
   "source": [
    "Pero también otras no tan comunes en otros lenguajes."
   ]
  },
  {
   "cell_type": "code",
   "execution_count": null,
   "metadata": {},
   "outputs": [],
   "source": [
    "5 > 4 > 1 # secuencia decreciente"
   ]
  },
  {
   "cell_type": "code",
   "execution_count": null,
   "metadata": {},
   "outputs": [],
   "source": [
    "-5 < -4 < -1 # secuencia creciente"
   ]
  },
  {
   "cell_type": "markdown",
   "metadata": {},
   "source": [
    "Además las comparaciones pueden combinarse con los operadores lógicos `and`, `or`, `not`. "
   ]
  },
  {
   "cell_type": "code",
   "execution_count": null,
   "metadata": {},
   "outputs": [],
   "source": [
    "val=18\n",
    "print(val>10 and val % 2 == 0)\n",
    "print((val % 5 == 1) or (val % 2 == 1))"
   ]
  },
  {
   "cell_type": "code",
   "execution_count": null,
   "metadata": {},
   "outputs": [],
   "source": [
    "print(False and False)\n",
    "print(False and True)\n",
    "print(True and False)\n",
    "print(True and True)\n",
    "print(False or True)\n",
    "print(False or False)"
   ]
  },
  {
   "cell_type": "code",
   "execution_count": null,
   "metadata": {},
   "outputs": [],
   "source": [
    "print(not True)\n",
    "print(not False)"
   ]
  },
  {
   "cell_type": "markdown",
   "metadata": {},
   "source": [
    "La evaluación de expresiones lógicas se hace en «cortocircuito», eso significa que en el momento en el que el valor de unos de los operandos nos permite conocer el valor de toda la expresión, no se siguen evaluando el resto de operandos."
   ]
  },
  {
   "cell_type": "code",
   "execution_count": 36,
   "metadata": {},
   "outputs": [
    {
     "data": {
      "text/plain": [
       "False"
      ]
     },
     "execution_count": 36,
     "metadata": {},
     "output_type": "execute_result"
    }
   ],
   "source": [
    "False and print(\"¡Sorpresa!\")"
   ]
  },
  {
   "cell_type": "code",
   "execution_count": 37,
   "metadata": {},
   "outputs": [
    {
     "name": "stdout",
     "output_type": "stream",
     "text": [
      "¡Sorpresa!\n"
     ]
    }
   ],
   "source": [
    "True and print(\"¡Sorpresa!\")"
   ]
  },
  {
   "cell_type": "code",
   "execution_count": 39,
   "metadata": {},
   "outputs": [
    {
     "name": "stdout",
     "output_type": "stream",
     "text": [
      "¡Sorpresa!\n"
     ]
    }
   ],
   "source": [
    "False or print(\"¡Sorpresa!\")"
   ]
  },
  {
   "cell_type": "code",
   "execution_count": 38,
   "metadata": {},
   "outputs": [
    {
     "data": {
      "text/plain": [
       "True"
      ]
     },
     "execution_count": 38,
     "metadata": {},
     "output_type": "execute_result"
    }
   ],
   "source": [
    "True or print(\"¡Sorpresa!\")"
   ]
  },
  {
   "cell_type": "markdown",
   "metadata": {},
   "source": [
    "<span class=\"label label-info\"><i class=\"fa fa-info-circle\" aria-hidden=\"true\"></i> Truco</span> Una comparación `and` sobre varios valores se puede hacer también con la función `all`."
   ]
  },
  {
   "cell_type": "code",
   "execution_count": null,
   "metadata": {
    "scrolled": true
   },
   "outputs": [],
   "source": [
    "v1 = val>10\n",
    "v2 = val % 2 == 0\n",
    "v3 = True\n",
    "print(v1 and v2 and v3)\n",
    "print(all([v1, v2, v3])) # la secuencia [v1, v2, v3] es una lista, las listas se ven más adelante"
   ]
  },
  {
   "cell_type": "markdown",
   "metadata": {},
   "source": [
    "<span class=\"label label-info\"><i class=\"fa fa-info-circle\" aria-hidden=\"true\"></i> Truco</span> Una comparación `or` sobre varios valores se puede hacer también con la función `any`."
   ]
  },
  {
   "cell_type": "code",
   "execution_count": null,
   "metadata": {
    "scrolled": true
   },
   "outputs": [],
   "source": [
    "v1 = val>10\n",
    "v2 = val % 2 == 0\n",
    "v3 = True\n",
    "print(v1 or v2 or v3)\n",
    "print(any([v1, v2, v3]))"
   ]
  },
  {
   "cell_type": "code",
   "execution_count": null,
   "metadata": {},
   "outputs": [],
   "source": [
    "v1 = val % 5 == 1\n",
    "v2 = val % 2 == 1\n",
    "v3 = False\n",
    "print(v1 or v2 or v3)\n",
    "print(any([v1, v2, v3]))\n",
    "v1, v2, v3"
   ]
  },
  {
   "cell_type": "code",
   "execution_count": null,
   "metadata": {},
   "outputs": [],
   "source": [
    "print(all([True, True, True, True]))\n",
    "print(all([True, True, False, True]))\n",
    "print(any([False, False, False, False]))\n",
    "print(all([True, True, False, True]))"
   ]
  },
  {
   "cell_type": "markdown",
   "metadata": {},
   "source": [
    "## La expresión condicional (<span style=\"color:red;text-transform: uppercase;\">opcional</span>)  <a href=\"#index\"><i class=\"fa fa-list-alt\"></i></a>\n",
    "\n",
    "La <b class=\"concept\">expresión condicional</b> (conocida como <b class=\"concept\">operador ternario</b> en otros lenguajes) es una expresión cuyo valor depende del resultado de una condición. Su sintaxis es:\n",
    "```python\n",
    "<expresión_si_cierto> if <condición> else <expresión_si_falso>\n",
    "```\n",
    "\n",
    "Si el resultado de la condición es cierto, toda la expresión toma como valor el resultado de evaluar la expresión que aparece al principio, antes del <b style=\"color: #008000; font-family:monospace\">if</b>. Si el resultado de la expresión es falso, toda la expresión toma como valor el resultado de evaluar la expresión que aparece al final, después del <b style=\"color: #008000; font-family:monospace\">else</b>.\n",
    "\n",
    "<br>\n",
    "<button class=\"btn btn-danger label label-danger\" style=\"padding-top: .5em\" type=\"button\" data-toggle=\"collapse\" data-target=\"#collapseAdvanced00\">\n",
    "    <i class=\"fa fa-warning\" aria-hidden=\"true\"></i> ¡Avanzado!\n",
    "</button>\n",
    "<div class=\"collapse\" id=\"collapseAdvanced00\">\n",
    "<br>\n",
    "Si estás familiarizado con C, sería el equivalente a:\n",
    "\n",
    "```c\n",
    "<condición> ? <expresión_si_cierto> : <expresión_si_falso>\n",
    "```\n",
    "\n",
    "<div class=\"alert alert-info\">\n",
    "   <i style=\"font-size: larger;\" class=\"fa fa-info-circle\" aria-hidden=\"true\"></i> Proporcionan un método para incluir condiciones en las <a href=\"https://es.wikipedia.org/wiki/Expresi%C3%B3n_lambda\" class=\"concept\">funciones lambda</a>.\n",
    "</div>\n",
    "</div>      \n",
    "\n",
    "</div>"
   ]
  },
  {
   "cell_type": "code",
   "execution_count": null,
   "metadata": {},
   "outputs": [],
   "source": [
    "a = 10\n",
    "b = 12\n",
    "mínimo = a if a < b else b\n",
    "print(mínimo)"
   ]
  },
  {
   "cell_type": "code",
   "execution_count": null,
   "metadata": {},
   "outputs": [],
   "source": [
    "número = 14\n",
    "print(número, \"es un número\", \"par\" if número % 2 == 0 else \"impar\")"
   ]
  },
  {
   "cell_type": "code",
   "execution_count": null,
   "metadata": {},
   "outputs": [],
   "source": [
    "número_hermanos = 0\n",
    "número_hermanos = 1\n",
    "número_hermanos = 2\n",
    "print(\"Tengo\", número_hermanos, \"hermano\"+(\"s\" if número_hermanos != 1 else \"\"))"
   ]
  },
  {
   "cell_type": "code",
   "execution_count": null,
   "metadata": {},
   "outputs": [],
   "source": [
    "edad = 15\n",
    "(\"niño\" if edad < 10 else \n",
    " \"pre-adolescente\" if edad < 13 else\n",
    " \"adolestente\" if edad < 20 else \n",
    " \"adulto\")"
   ]
  },
  {
   "cell_type": "markdown",
   "metadata": {},
   "source": [
    "## «Extrañas» comparaciones 🤪 (<span style=\"color:red;text-transform: uppercase;\">opcional</span>)  <a href=\"#index\"><i class=\"fa fa-list-alt\"></i></a>\n",
    "\n",
    "Algunos resultados de comparaciones que de primeras te pueden sorprender, pero que si reflexionas un poco son bastante lógicos, ¿o no? "
   ]
  },
  {
   "cell_type": "code",
   "execution_count": 17,
   "metadata": {},
   "outputs": [
    {
     "data": {
      "text/plain": [
       "True"
      ]
     },
     "execution_count": 17,
     "metadata": {},
     "output_type": "execute_result"
    }
   ],
   "source": [
    "int() == 0"
   ]
  },
  {
   "cell_type": "code",
   "execution_count": 24,
   "metadata": {},
   "outputs": [
    {
     "data": {
      "text/plain": [
       "True"
      ]
     },
     "execution_count": 24,
     "metadata": {},
     "output_type": "execute_result"
    }
   ],
   "source": [
    "int(3.14) == int(3.999) == int(\"3\") == 3 "
   ]
  },
  {
   "cell_type": "code",
   "execution_count": null,
   "metadata": {},
   "outputs": [],
   "source": [
    "int(True) == 1"
   ]
  },
  {
   "cell_type": "code",
   "execution_count": null,
   "metadata": {},
   "outputs": [],
   "source": [
    "int(False) == 0"
   ]
  },
  {
   "cell_type": "code",
   "execution_count": 29,
   "metadata": {},
   "outputs": [
    {
     "data": {
      "text/plain": [
       "True"
      ]
     },
     "execution_count": 29,
     "metadata": {},
     "output_type": "execute_result"
    }
   ],
   "source": [
    "int(\"1111\", 2) == int(\"f\", 16) == int(\"17\", 8) == 15"
   ]
  },
  {
   "cell_type": "code",
   "execution_count": null,
   "metadata": {},
   "outputs": [],
   "source": [
    "float(True) == 1.0"
   ]
  },
  {
   "cell_type": "code",
   "execution_count": 18,
   "metadata": {},
   "outputs": [
    {
     "data": {
      "text/plain": [
       "True"
      ]
     },
     "execution_count": 18,
     "metadata": {},
     "output_type": "execute_result"
    }
   ],
   "source": [
    "float() == float(False) == 0.0"
   ]
  },
  {
   "cell_type": "code",
   "execution_count": 16,
   "metadata": {},
   "outputs": [
    {
     "data": {
      "text/plain": [
       "True"
      ]
     },
     "execution_count": 16,
     "metadata": {},
     "output_type": "execute_result"
    }
   ],
   "source": [
    "bool() == bool(0) == bool(0.0) == False"
   ]
  },
  {
   "cell_type": "code",
   "execution_count": null,
   "metadata": {},
   "outputs": [],
   "source": [
    "bool(1) == bool(0.32) == True"
   ]
  },
  {
   "cell_type": "code",
   "execution_count": 14,
   "metadata": {},
   "outputs": [
    {
     "data": {
      "text/plain": [
       "True"
      ]
     },
     "execution_count": 14,
     "metadata": {},
     "output_type": "execute_result"
    }
   ],
   "source": [
    "bool(\"False\") == True"
   ]
  },
  {
   "cell_type": "code",
   "execution_count": null,
   "metadata": {},
   "outputs": [],
   "source": [
    "x = '7'\n",
    "chr(ord(x)) == x"
   ]
  },
  {
   "cell_type": "code",
   "execution_count": null,
   "metadata": {},
   "outputs": [],
   "source": [
    "n = 12\n",
    "ord(chr(n)) == n"
   ]
  },
  {
   "cell_type": "code",
   "execution_count": null,
   "metadata": {},
   "outputs": [],
   "source": [
    "str(23.4) == '23.4'"
   ]
  },
  {
   "cell_type": "code",
   "execution_count": null,
   "metadata": {},
   "outputs": [],
   "source": [
    "str(False) == 'False'"
   ]
  },
  {
   "cell_type": "code",
   "execution_count": null,
   "metadata": {},
   "outputs": [],
   "source": [
    "bool(\"hola\") == True"
   ]
  },
  {
   "cell_type": "code",
   "execution_count": null,
   "metadata": {},
   "outputs": [],
   "source": [
    "bool(\"\") == False"
   ]
  },
  {
   "cell_type": "code",
   "execution_count": null,
   "metadata": {},
   "outputs": [],
   "source": [
    "bool(str(False)) == True"
   ]
  },
  {
   "cell_type": "code",
   "execution_count": null,
   "metadata": {},
   "outputs": [],
   "source": [
    "str(bool('False')) == 'True'"
   ]
  },
  {
   "cell_type": "code",
   "execution_count": null,
   "metadata": {},
   "outputs": [],
   "source": [
    "bool([]) == False"
   ]
  },
  {
   "cell_type": "code",
   "execution_count": null,
   "metadata": {},
   "outputs": [],
   "source": [
    "bool([False]) == True"
   ]
  },
  {
   "cell_type": "code",
   "execution_count": null,
   "metadata": {},
   "outputs": [],
   "source": [
    "bool([2, 4]) == True"
   ]
  },
  {
   "cell_type": "code",
   "execution_count": null,
   "metadata": {},
   "outputs": [],
   "source": [
    "True + True == 2"
   ]
  },
  {
   "cell_type": "code",
   "execution_count": null,
   "metadata": {},
   "outputs": [],
   "source": [
    "False + False == 0"
   ]
  },
  {
   "cell_type": "code",
   "execution_count": null,
   "metadata": {},
   "outputs": [],
   "source": [
    "True ** 2 == 1"
   ]
  },
  {
   "cell_type": "code",
   "execution_count": null,
   "metadata": {},
   "outputs": [],
   "source": [
    "a = 3\n",
    "(type(a) == type(a // 2)) == True"
   ]
  },
  {
   "cell_type": "code",
   "execution_count": null,
   "metadata": {},
   "outputs": [],
   "source": [
    "a = 3.0\n",
    "type(a) == type(a / 2) "
   ]
  },
  {
   "cell_type": "code",
   "execution_count": null,
   "metadata": {},
   "outputs": [],
   "source": [
    "a = 3\n",
    "type(a) == type(a / 2)"
   ]
  },
  {
   "cell_type": "code",
   "execution_count": null,
   "metadata": {},
   "outputs": [],
   "source": [
    "a, b = 3, 2\n",
    "a // b, a % b == divmod(a, b)"
   ]
  },
  {
   "cell_type": "markdown",
   "metadata": {},
   "source": [
    "Si el resultado anterior te ha resultado sorprendente, igual deberías pensar en las precedencias de los operadores 😜."
   ]
  },
  {
   "cell_type": "code",
   "execution_count": 40,
   "metadata": {},
   "outputs": [
    {
     "data": {
      "text/plain": [
       "True"
      ]
     },
     "execution_count": 40,
     "metadata": {},
     "output_type": "execute_result"
    }
   ],
   "source": [
    "2 << 1 == 4"
   ]
  },
  {
   "cell_type": "code",
   "execution_count": 43,
   "metadata": {},
   "outputs": [
    {
     "data": {
      "text/plain": [
       "True"
      ]
     },
     "execution_count": 43,
     "metadata": {},
     "output_type": "execute_result"
    }
   ],
   "source": [
    "-4 >> 2 == -1"
   ]
  },
  {
   "cell_type": "markdown",
   "metadata": {},
   "source": [
    "# Cadenas &mdash; datos textuales   <a id=\"strings\"></a><a href=\"#index\"><i class=\"fa fa-list-alt\" aria-hidden=\"true\"></i></a>\n",
    "\n",
    "Las <a href=\"https://es.wikipedia.org/wiki/Cadena_de_caracteres\"><i class=\"concept\">cadenas</i></a> son el tipo de datos utilizado para las secuencias de caracteres, su sintaxis más habitual es la secuencia de caracteres delimitada por comillas simples `'` o dobles `\"`.\n"
   ]
  },
  {
   "cell_type": "markdown",
   "metadata": {},
   "source": [
    "## Ejemplos básicos  <a href=\"#index\"><i class=\"fa fa-list-alt\"></i></a>"
   ]
  },
  {
   "cell_type": "code",
   "execution_count": null,
   "metadata": {},
   "outputs": [],
   "source": [
    "mi_mensaje = '¡Hola mundo!' # ¡OJO! mi_mensaje se prefiere a miMensaje\n",
    "print(mi_mensaje)"
   ]
  },
  {
   "cell_type": "code",
   "execution_count": null,
   "metadata": {},
   "outputs": [],
   "source": [
    "# Los operadores `*` y `+` están sobrecargados para actuar también sobre cadenas\n",
    "\"a\" * 7 + \"h! se me ha 'colgado' el ordenador!\""
   ]
  },
  {
   "cell_type": "code",
   "execution_count": null,
   "metadata": {},
   "outputs": [],
   "source": [
    "cad1 = \"Hola\"\n",
    "cad2 = \"mundo\"\n",
    "cad1 + \" \" + cad2"
   ]
  },
  {
   "cell_type": "code",
   "execution_count": 4,
   "metadata": {},
   "outputs": [
    {
     "name": "stdout",
     "output_type": "stream",
     "text": [
      "Juan dijo: \"Hola\"\n"
     ]
    }
   ],
   "source": [
    "# Se pueden combinar los dos tipos de comillas por comodidad.\n",
    "cadena = 'Juan dijo: \"Hola\"'\n",
    "print(cadena)"
   ]
  },
  {
   "cell_type": "code",
   "execution_count": null,
   "metadata": {},
   "outputs": [],
   "source": [
    "# las cadenas multilínea se pueden usar también como comentarios multilínea\n",
    "mi_mensaje_largo = '''En un lugar\n",
    "de La Mancha de cuyo\n",
    "nombre no quiero acordarme vivía ...''' \n",
    "print(mi_mensaje_largo)"
   ]
  },
  {
   "cell_type": "markdown",
   "metadata": {},
   "source": [
    "<div style=\"with: 100%; border-top: 1px dashed red\">"
   ]
  },
  {
   "cell_type": "markdown",
   "metadata": {},
   "source": [
    "Antes de seguir con las cadenas, creo que es interesante hacer una pequeña digresión sobre los convenios a la hora de nombrar las variables. Como decía en el comentario de la primera celda de esta sección, en Python, por [motivos históricos](https://towardsdatascience.com/why-does-python-recommend-the-snake-case-nomenclature-bf908777c2dc), se prefiere `nombrar_las_variables_así`, a eso se le llama [snake case](https://en.wikipedia.org/wiki/Snake_case). Es decir, nos permite poner nombres de variables con más carga semántica, sustituyendo los espacios por caracteres de subrayadado (en inglés *underscore*). En otros lenguajes se prefiere `nombrarLasVariablesAsí`, a eso se le llama [*camel case*](https://es.wikipedia.org/wiki/Camel_case) o *pascal case*, si la primera palabra está también en mayúsculas. Estos no son los únicos convenios de nombrado de variables, en los lenguajes en los que el signo menos puede ser parte del nombre de variables, `pueden-nombrarse-las-variables-así`, a eso se le llama *kebab case* o *spinal case*. Más información sobre esto en esta entrada de la Wikipedia: [Convención de nombres](https://es.wikipedia.org/wiki/Convenci%C3%B3n_de_nombres_(programaci%C3%B3n))\n",
    "\n",
    "En realidad el nombrado de variables no es el único aspecto para el que puede haber ciertas reglas. Puede haber otras que nos digan como formatear otros elementos de la sintaxis del lenguaje. La ventaja de seguir estos conjuntos de reglas es que se facilita la lectura del código por otros programadores que estén habituados a las mismas reglas. Para Python este conjunto de reglas está recogido en el PEP-8, más información sobre el PEP-8 y otras guías de estilo, en los siguientes enlaces:\n",
    "- [PEP-8 — Style Guide for Python Code](https://www.python.org/dev/peps/pep-0008/).\n",
    "- [PEP-8 Tutorial: Code Standards in Python](https://www.datacamp.com/community/tutorials/pep8-tutorial-python-code0).\n",
    "- [How to Write Beautiful Python Code With PEP 8](https://realpython.com/python-pep8/).\n",
    "- [Google Python Style Guide](https://google.github.io/styleguide/pyguide.html)."
   ]
  },
  {
   "cell_type": "markdown",
   "metadata": {},
   "source": [
    "<div style=\"with: 100%; border-top: 1px dashed red\">"
   ]
  },
  {
   "cell_type": "code",
   "execution_count": null,
   "metadata": {
    "scrolled": true
   },
   "outputs": [],
   "source": [
    "print(len(mi_mensaje))"
   ]
  },
  {
   "cell_type": "code",
   "execution_count": null,
   "metadata": {},
   "outputs": [],
   "source": [
    "print(mi_mensaje[0])  # en Python, los índices empiezan en 0\n",
    "print(mi_mensaje[11])"
   ]
  },
  {
   "cell_type": "code",
   "execution_count": null,
   "metadata": {},
   "outputs": [],
   "source": [
    "print(mi_mensaje[41]) # ¡OJO! esta da error, mi_mensaje no es tan largo"
   ]
  },
  {
   "cell_type": "markdown",
   "metadata": {},
   "source": [
    "<div class=\"alert alert-info\">\n",
    "   <i style=\"font-size: larger;\" class=\"fa fa-info-circle\" aria-hidden=\"true\"></i> El comando <kbd>help</kbd> también puede utilizarse para obtener ayuda sobre tipos de datos.\n",
    "</div>\n"
   ]
  },
  {
   "cell_type": "code",
   "execution_count": null,
   "metadata": {},
   "outputs": [],
   "source": [
    "help(str)"
   ]
  },
  {
   "cell_type": "code",
   "execution_count": null,
   "metadata": {},
   "outputs": [],
   "source": [
    "str?"
   ]
  },
  {
   "cell_type": "code",
   "execution_count": 5,
   "metadata": {},
   "outputs": [],
   "source": [
    "?str"
   ]
  },
  {
   "cell_type": "markdown",
   "metadata": {},
   "source": [
    "## Métodos de cadenas  <a href=\"#index\"><i class=\"fa fa-list-alt\"></i></a>\n",
    "Los <em class=\"concept\">métodos</em> son porciones de funcionalidad a las que se les da un nombre y se asocia con un objeto. Un <em class=\"concept\">objeto</em> es una entidad de código que agrupa variables (atributos) y\n",
    "funcionalidad (métodos). Son una forma de obtener valores y hacer operaciones sobre elementos."
   ]
  },
  {
   "cell_type": "code",
   "execution_count": null,
   "metadata": {},
   "outputs": [],
   "source": [
    "print(mi_mensaje_largo)"
   ]
  },
  {
   "cell_type": "code",
   "execution_count": null,
   "metadata": {},
   "outputs": [],
   "source": [
    "print(mi_mensaje.upper())\n",
    "print(mi_mensaje_largo.count(\"ar\"))"
   ]
  },
  {
   "cell_type": "code",
   "execution_count": null,
   "metadata": {},
   "outputs": [],
   "source": [
    "print(mi_mensaje_largo.find(\"mancha\"))"
   ]
  },
  {
   "cell_type": "code",
   "execution_count": null,
   "metadata": {
    "scrolled": true
   },
   "outputs": [],
   "source": [
    "help(str.find)"
   ]
  },
  {
   "cell_type": "code",
   "execution_count": null,
   "metadata": {},
   "outputs": [],
   "source": [
    "print(mi_mensaje_largo)"
   ]
  },
  {
   "cell_type": "code",
   "execution_count": null,
   "metadata": {},
   "outputs": [],
   "source": [
    "print(mi_mensaje_largo.find(\"n\", 5, 10))"
   ]
  },
  {
   "cell_type": "code",
   "execution_count": null,
   "metadata": {
    "scrolled": true
   },
   "outputs": [],
   "source": [
    "print(mi_mensaje_largo.lower().find(\"mancha\"))\n",
    "mi_mensaje.replace(\"Hola\", \"Buenos días\")"
   ]
  },
  {
   "cell_type": "code",
   "execution_count": null,
   "metadata": {},
   "outputs": [],
   "source": [
    "print(mi_mensaje)"
   ]
  },
  {
   "cell_type": "markdown",
   "metadata": {},
   "source": [
    "<div class=\"alert alert-danger\">\n",
    "\n",
    "En realidad, muchos de los métodos de cadena, como el método `replace`, no modifican la cadena sobre la que se invoca, utilizan su valor para construir nuevas cadena que devuelven como resultado de su aplicación.\n",
    "\n",
    "</div> "
   ]
  },
  {
   "cell_type": "code",
   "execution_count": null,
   "metadata": {},
   "outputs": [],
   "source": [
    "mi_nuevo_mensaje = mi_mensaje.replace(\"Hola\", \"Buenos días\")\n",
    "print(mi_nuevo_mensaje)"
   ]
  },
  {
   "cell_type": "markdown",
   "metadata": {},
   "source": [
    "<div class=\"alert alert-info\">\n",
    "   <i style=\"font-size: larger;\" class=\"fa fa-info-circle\" aria-hidden=\"true\"></i> Se puede utilizar el comando <kbd>dir</kbd> para obtener los métodos asociados a un objeto.\n",
    "</div>\n"
   ]
  },
  {
   "cell_type": "code",
   "execution_count": null,
   "metadata": {},
   "outputs": [],
   "source": [
    "dir(mi_mensaje)"
   ]
  },
  {
   "cell_type": "markdown",
   "metadata": {},
   "source": [
    "## Rebanado de cadenas (<em class=\"concept\">String slicing</em>) <a href=\"#index\"><i class=\"fa fa-list-alt\"></i></a>\n",
    "\n",
    "El <em class=\"concept\">rebanado de cadenas</em> (aplicable también a las listas que se verán <a href=\"#lists\">más adelante</a>, así que en realidad debería hablarse de rebanado de secuencias) consiste en obtener una subcadena utilizando los índices de inicio y fin de la porción que quiere extraerse; adicionalmente se puede indicar un paso para extraer una subsecuencia. "
   ]
  },
  {
   "cell_type": "code",
   "execution_count": null,
   "metadata": {},
   "outputs": [],
   "source": [
    "mi_mensaje"
   ]
  },
  {
   "cell_type": "code",
   "execution_count": null,
   "metadata": {},
   "outputs": [],
   "source": [
    "print(mi_mensaje[4:9]) "
   ]
  },
  {
   "cell_type": "code",
   "execution_count": null,
   "metadata": {},
   "outputs": [],
   "source": [
    "mi_mensaje_largo"
   ]
  },
  {
   "cell_type": "code",
   "execution_count": null,
   "metadata": {},
   "outputs": [],
   "source": [
    "inicio = 3\n",
    "fin = 60\n",
    "paso = 3\n",
    "print(mi_mensaje_largo[inicio:fin:paso])"
   ]
  },
  {
   "cell_type": "markdown",
   "metadata": {},
   "source": [
    "Se pueden omitir los índices del inicio, del final o ambos."
   ]
  },
  {
   "cell_type": "code",
   "execution_count": null,
   "metadata": {},
   "outputs": [],
   "source": [
    "dígitos = \"0123456789\"\n",
    "print(dígitos[0:7])\n",
    "print(dígitos[:7])"
   ]
  },
  {
   "cell_type": "code",
   "execution_count": null,
   "metadata": {},
   "outputs": [],
   "source": [
    "dígitos[4:]"
   ]
  },
  {
   "cell_type": "code",
   "execution_count": null,
   "metadata": {},
   "outputs": [],
   "source": [
    "dígitos[:4]"
   ]
  },
  {
   "cell_type": "code",
   "execution_count": null,
   "metadata": {},
   "outputs": [],
   "source": [
    "dígitos[:]"
   ]
  },
  {
   "cell_type": "markdown",
   "metadata": {},
   "source": [
    "También se pueden utilizar índices y pasos negativos."
   ]
  },
  {
   "cell_type": "code",
   "execution_count": null,
   "metadata": {},
   "outputs": [],
   "source": [
    "dígitos[-1]"
   ]
  },
  {
   "cell_type": "code",
   "execution_count": null,
   "metadata": {},
   "outputs": [],
   "source": [
    "dígitos[-2]"
   ]
  },
  {
   "cell_type": "code",
   "execution_count": null,
   "metadata": {},
   "outputs": [],
   "source": [
    "dígitos[:-1]"
   ]
  },
  {
   "cell_type": "code",
   "execution_count": null,
   "metadata": {},
   "outputs": [],
   "source": [
    "dígitos[3:-2]"
   ]
  },
  {
   "cell_type": "code",
   "execution_count": null,
   "metadata": {},
   "outputs": [],
   "source": [
    "dígitos[7:3]"
   ]
  },
  {
   "cell_type": "code",
   "execution_count": null,
   "metadata": {},
   "outputs": [],
   "source": [
    "dígitos[7:3:-1]"
   ]
  },
  {
   "cell_type": "code",
   "execution_count": null,
   "metadata": {},
   "outputs": [],
   "source": [
    "dígitos[3:7:-1]"
   ]
  },
  {
   "cell_type": "code",
   "execution_count": null,
   "metadata": {},
   "outputs": [],
   "source": [
    "print(dígitos)\n",
    "dígitos[-2:3:-1]"
   ]
  },
  {
   "cell_type": "code",
   "execution_count": null,
   "metadata": {},
   "outputs": [],
   "source": [
    "dígitos[::-1] # Esto sería una forma de obtener la cadena inversa"
   ]
  },
  {
   "cell_type": "code",
   "execution_count": null,
   "metadata": {},
   "outputs": [],
   "source": [
    "dígitos[-2:-5:-1]"
   ]
  },
  {
   "cell_type": "markdown",
   "metadata": {},
   "source": [
    "## Formateado de cadenas (<span style=\"color:red;text-transform: uppercase;\">opcional</span>)  <a href=\"#index\"><i class=\"fa fa-list-alt\"></i></a>"
   ]
  },
  {
   "cell_type": "code",
   "execution_count": null,
   "metadata": {},
   "outputs": [],
   "source": [
    "print(\"Buenos días\" \"César\")\n",
    "saludo = \"Buenos días\"\n",
    "nombre = \"César\"\n",
    "mi_mensaje = saludo + nombre\n",
    "print(mi_mensaje) # Ojo con los espacios cuando se concatenan cadenas"
   ]
  },
  {
   "cell_type": "code",
   "execution_count": null,
   "metadata": {},
   "outputs": [],
   "source": [
    "mi_mensaje = saludo + \" \" + nombre + \", ¿has dormido bien?\"\n",
    "print(mi_mensaje)"
   ]
  },
  {
   "cell_type": "code",
   "execution_count": null,
   "metadata": {},
   "outputs": [],
   "source": [
    "mi_mensaje = \"{} {}, ¿has dormido bien?\".format(saludo, nombre)\n",
    "print(mi_mensaje)\n",
    "mi_mensaje = \"{saludo} {nombre}, ¿has dormido bien?\".format(saludo=saludo, nombre=nombre)\n",
    "print(mi_mensaje)"
   ]
  },
  {
   "cell_type": "code",
   "execution_count": null,
   "metadata": {},
   "outputs": [],
   "source": [
    "tag = \"h1\"\n",
    "text = \"Esto es un encabezado\"\n",
    "print(\"<{0}>{1}</{0}>\".format(tag, text))"
   ]
  },
  {
   "cell_type": "code",
   "execution_count": null,
   "metadata": {},
   "outputs": [],
   "source": [
    "mi_mensaje = f\"{saludo} {nombre}, ¿has dormido bien?\" # NUEVO! en Python 6.3\n",
    "print(mi_mensaje)\n",
    "mi_mensaje = f\"{saludo} {nombre.upper()}, ¿has dormido bien?\" # NUEVO! en Python 6.3\n",
    "print(mi_mensaje)"
   ]
  },
  {
   "cell_type": "code",
   "execution_count": null,
   "metadata": {},
   "outputs": [],
   "source": [
    "help(str.upper)"
   ]
  },
  {
   "cell_type": "code",
   "execution_count": null,
   "metadata": {},
   "outputs": [],
   "source": [
    "num = 18\n",
    "print(f\"num: {num}\\nnum: {num:4}\") # Probar a cambiar 4 por 10"
   ]
  },
  {
   "cell_type": "code",
   "execution_count": null,
   "metadata": {},
   "outputs": [],
   "source": [
    "saludo = \"Hola\"\n",
    "print(f\"Izquierda: |{saludo:14}|\")\n",
    "print(f\"Izquierda: |{saludo:<14}|\")\n",
    "print(f\"  Derecha: |{saludo:>14}|\")\n",
    "print(f\" Centrado: |{saludo:^14}|\")"
   ]
  },
  {
   "cell_type": "code",
   "execution_count": null,
   "metadata": {},
   "outputs": [],
   "source": [
    "ancho = 14\n",
    "print(f\" Centrado: |{saludo:_^{ancho}}|\")\n",
    "print(f\" Centrado: |{saludo:#^{ancho}.3}|\")"
   ]
  },
  {
   "cell_type": "code",
   "execution_count": null,
   "metadata": {},
   "outputs": [],
   "source": [
    "ancho = 10\n",
    "prec = 5\n",
    "valor = 3.14159265\n",
    "print(f\"valor: {valor:{ancho}.{prec}f}\")\n",
    "print(f\"valor: {valor:{ancho}.{prec}}\") # Error\n",
    "print(f\"valor: {valor:0{ancho}.{prec}f}\")"
   ]
  },
  {
   "cell_type": "markdown",
   "metadata": {},
   "source": [
    "<div class=\"alert alert-info\" style=\"text-indent:-.65em; padding-left: 2.2em\">\n",
    "   <i style=\"font-size: larger;\" class=\"fa fa-info-circle\" aria-hidden=\"true\"></i> Más información sobre el formateado avanzado en: <br><a href=\"https://docs.python.org/3/library/datetime.html#strftime-and-strptime-behavior\" style=\"font-family:monospace\">https://docs.python.org/3/library/datetime.html#strftime-and-strptime-behavior</a>\n",
    "</div>\n"
   ]
  },
  {
   "cell_type": "markdown",
   "metadata": {},
   "source": [
    "# Listas, tuplas y conjuntos &mdash; colecciones de datos   <a id=\"lists\"></a><a href=\"#index\"><i class=\"fa fa-list-alt\" aria-hidden=\"true\"></i></a>\n",
    "\n",
    "* [Listas](#listas)\n",
    "    - [Rebanado de listas](#listsSlicing)\n",
    "    - [Otras operaciones con listas](#otherOpsOnList)\n",
    "    - [Listas por comprensión (avanzado)](#listsComprehension)\n",
    "    - [Copia de listas (avanzado)](#listsCopy)\n",
    "---\n",
    "* [Tuplas](#tuples)\n",
    "* [Conjuntos](#sets)\n",
    "    - [Operaciones sobre conjuntos](#setsOperators)\n",
    "    - [Conjuntos vacíos](#emptySets)"
   ]
  },
  {
   "cell_type": "markdown",
   "metadata": {},
   "source": [
    "## Listas <a id=\"listas\"></a>  <a href=\"#lists\"><i class=\"fa fa-list-alt\"></i></a>"
   ]
  },
  {
   "cell_type": "markdown",
   "metadata": {},
   "source": [
    "Una <i class=\"concept\">lista</i> es una colección de elementos (no necesariamente del mismo tipo) en las que el orden es relevante. Se delimitan con corchetes y sus elementos se separan por comas."
   ]
  },
  {
   "cell_type": "code",
   "execution_count": null,
   "metadata": {},
   "outputs": [],
   "source": [
    "lista = [\"Nilo\", [23, 34.45], -2+4j] # Se pueden mezclar tipos\n",
    "lista"
   ]
  },
  {
   "cell_type": "code",
   "execution_count": null,
   "metadata": {
    "scrolled": true
   },
   "outputs": [],
   "source": [
    "ríos = [\"Nilo\", \"Arlanza\", \"Cerezo\", \"Pico\", \"Vena\" ]\n",
    "print(ríos)\n",
    "print(len(ríos))"
   ]
  },
  {
   "cell_type": "markdown",
   "metadata": {},
   "source": [
    "Se puede acceder a los elementos de una lista utilizando un índice (<span class=\"label label-danger\"><i class=\"fa fa-bomb\" aria-hidden=\"true\"></i> ¡Cuidado!</span> el índice del primer elemento es 0, no 1 como en otros lenguajes de programación)."
   ]
  },
  {
   "cell_type": "code",
   "execution_count": null,
   "metadata": {},
   "outputs": [],
   "source": [
    "print(ríos[1]) # => 'Arlanza', dado que los índices empiezan en 0"
   ]
  },
  {
   "cell_type": "code",
   "execution_count": null,
   "metadata": {},
   "outputs": [],
   "source": [
    "print(ríos[0]) # => 'Nilo'"
   ]
  },
  {
   "cell_type": "code",
   "execution_count": null,
   "metadata": {},
   "outputs": [],
   "source": [
    "# Para obtener el último de los elementos\n",
    "último = len(ríos)-1\n",
    "print(ríos[último]) "
   ]
  },
  {
   "cell_type": "code",
   "execution_count": null,
   "metadata": {},
   "outputs": [],
   "source": [
    "print(ríos[-1]) # Usando números negativos, se pueden indexar elementos desde el final "
   ]
  },
  {
   "cell_type": "markdown",
   "metadata": {},
   "source": [
    "<span class=\"label label-danger\"><i class=\"fa fa-bomb\" aria-hidden=\"true\"></i> ¡Cuidado!</span> Utilizar un índice mayor o igual que la longitud de la lista dará un error. "
   ]
  },
  {
   "cell_type": "code",
   "execution_count": null,
   "metadata": {},
   "outputs": [],
   "source": [
    "print(ríos[11]) # => Error! index out of range"
   ]
  },
  {
   "cell_type": "markdown",
   "metadata": {},
   "source": [
    "Se pueden añadir elementos al final de una lista con el método `append`."
   ]
  },
  {
   "cell_type": "code",
   "execution_count": null,
   "metadata": {},
   "outputs": [],
   "source": [
    "ríos.append(\"Duero\")\n",
    "print(ríos)"
   ]
  },
  {
   "cell_type": "markdown",
   "metadata": {},
   "source": [
    "Se pueden insertar elementos en posiciones arbitrarias con el método `insert`."
   ]
  },
  {
   "cell_type": "code",
   "execution_count": null,
   "metadata": {},
   "outputs": [],
   "source": [
    "antes_de_esta_posición = 0\n",
    "print(ríos)\n",
    "ríos.insert(antes_de_esta_posición, \"Colorado\")\n",
    "print(ríos)"
   ]
  },
  {
   "cell_type": "code",
   "execution_count": null,
   "metadata": {
    "scrolled": false
   },
   "outputs": [],
   "source": [
    "antes_de_esta_posición = -1 # con posiciones negativas, comenzamos por el final\n",
    "print(ríos)\n",
    "ríos.insert(antes_de_esta_posición, \"Danubio\") \n",
    "print(ríos)"
   ]
  },
  {
   "cell_type": "markdown",
   "metadata": {},
   "source": [
    "<span class=\"label label-danger\"><i class=\"fa fa-bomb\" aria-hidden=\"true\"></i> ¡Cuidado!</span> Si lo que se inserta es a su vez una lista, la lista insertada aparece como nuevo elemento (recuerda, los elementos de una lista pueden ser de tipos arbitrarios, incluidas las listas)."
   ]
  },
  {
   "cell_type": "code",
   "execution_count": null,
   "metadata": {
    "scrolled": true
   },
   "outputs": [],
   "source": [
    "ríos = [\"Nilo\", \"Arlanza\", \"Cerezo\", \"Pico\", \"Vena\" ]\n",
    "más_ríos = [\"Danubio\", [\"Ebro\"], \"Turia\" ]\n",
    "print(ríos)\n",
    "ríos.insert(2, más_ríos)\n",
    "print(ríos)"
   ]
  },
  {
   "cell_type": "markdown",
   "metadata": {},
   "source": [
    "Como ahora uno de los elementos es una lista, se pueden concatenar la indexación para acceder a los elementos de la sublista."
   ]
  },
  {
   "cell_type": "code",
   "execution_count": null,
   "metadata": {},
   "outputs": [],
   "source": [
    "ríos[2]"
   ]
  },
  {
   "cell_type": "code",
   "execution_count": null,
   "metadata": {},
   "outputs": [],
   "source": [
    "ríos[2][1][0]"
   ]
  },
  {
   "cell_type": "markdown",
   "metadata": {},
   "source": [
    "Se pueden combinar listas con el operador `+`."
   ]
  },
  {
   "cell_type": "code",
   "execution_count": null,
   "metadata": {},
   "outputs": [],
   "source": [
    "ríos = [\"Nilo\", \"Arlanza\", \"Cerezo\", \"Pico\", \"Vena\" ]\n",
    "más_ríos = [\"Oca\", \"Danubio\", \"Ebro\", \"Guadalmedina\", \"Eo\" ]\n",
    "ríos = ríos + más_ríos\n",
    "print(ríos)"
   ]
  },
  {
   "cell_type": "code",
   "execution_count": null,
   "metadata": {},
   "outputs": [],
   "source": [
    "ríos = [\"Nilo\", \"Arlanza\", \"Cerezo\", \"Pico\", \"Vena\" ]\n",
    "más_ríos = [\"Oca\", \"Danubio\", \"Ebro\", \"Guadalmedina\", \"Eo\" ]\n",
    "ríos += más_ríos\n",
    "print(ríos)"
   ]
  },
  {
   "cell_type": "markdown",
   "metadata": {},
   "source": [
    "<div class=\"alert alert-danger\" style=\"text-indent:-1.5em; padding-left: 3.4em\">\n",
    "   <i style=\"color: #a94442; font-size: larger\" class=\"fa fa-warning\" aria-hidden=\"true\"> El operador <kbd>+</kbd> concatena listas, el método <kbd>.insert</kbd> inserta un nuevo elemento, <b>si éste es una lista, la lista aparecerá como un elemento dentro de la otra lista</b>.\n",
    "</div>\n"
   ]
  },
  {
   "cell_type": "markdown",
   "metadata": {},
   "source": [
    "Si tenemos una lista de números, podemos sumar sus elementos (función `sum`), o encontrar el máximo (función `max`), o encontrar el mínimo (función `min`)."
   ]
  },
  {
   "cell_type": "code",
   "execution_count": null,
   "metadata": {
    "scrolled": true
   },
   "outputs": [],
   "source": [
    "nums = [5, 7, 9, 2]\n",
    "print(sum(nums))\n",
    "print(max(nums))\n",
    "print(min(nums))"
   ]
  },
  {
   "cell_type": "markdown",
   "metadata": {},
   "source": [
    "<span class=\"label label-danger\"><i class=\"fa fa-bomb\" aria-hidden=\"true\"></i> ¡Cuidado!</span>\n",
    "Las funciones `max` y `min` funcionan tanto si se les pasa un **número variables de argumentos**, como si se les pasa una **colección**, pero la función `sum` sólo funciona cuando se le pasa como único argumento una colección."
   ]
  },
  {
   "cell_type": "code",
   "execution_count": null,
   "metadata": {},
   "outputs": [],
   "source": [
    "max(5, 7, 9, 2)"
   ]
  },
  {
   "cell_type": "code",
   "execution_count": null,
   "metadata": {},
   "outputs": [],
   "source": [
    "sum(5, 7, 9, 2)"
   ]
  },
  {
   "cell_type": "markdown",
   "metadata": {},
   "source": [
    "<div class=\"alert alert-info\">\n",
    "   <i style=\"font-size: larger;\" class=\"fa fa-info-circle\" aria-hidden=\"true\"></i> Podemos comprobar si un elemento está dentro de una lista (<b>o dentro de cualquier colección</b>) utilizando el operador <code>in</code>.\n",
    "</div>\n"
   ]
  },
  {
   "cell_type": "code",
   "execution_count": null,
   "metadata": {},
   "outputs": [],
   "source": [
    "ríos"
   ]
  },
  {
   "cell_type": "code",
   "execution_count": null,
   "metadata": {},
   "outputs": [],
   "source": [
    "print(\"Cerezo\" in ríos)\n",
    "print(\"Bernesga\" in ríos)"
   ]
  },
  {
   "cell_type": "markdown",
   "metadata": {},
   "source": [
    "<div class=\"alert alert-info\">\n",
    "   <i style=\"font-size: larger;\" class=\"fa fa-info-circle\" aria-hidden=\"true\"></i> Ya hemos visto por tanto varios ejemplos de los tres conceptos <i class=\"concept\">método</i> (<kbd>.find</kbd>, <kbd>.replace</kbd>, <kbd>.insert</kbd>, <kbd>.append</kbd>, ...), <i class=\"concept\">función</i> (<kbd>print</kbd>, <kbd>len</kbd>, <kbd>help</kbd>, <kbd>dir</kbd>, ...) y <i class=\"concept\">operador</i> (<kbd>+</kbd>, <kbd>//</kbd>, <kbd>**</kbd>, ...).\n",
    "</div>\n"
   ]
  },
  {
   "cell_type": "markdown",
   "metadata": {},
   "source": [
    "Se pueden eliminar elementos con el operador `del`."
   ]
  },
  {
   "cell_type": "code",
   "execution_count": null,
   "metadata": {
    "scrolled": true
   },
   "outputs": [],
   "source": [
    "ríos"
   ]
  },
  {
   "cell_type": "code",
   "execution_count": null,
   "metadata": {},
   "outputs": [],
   "source": [
    "del ríos[ríos.index('Guadalmedina')] # .index devuelve el índice de su argumento en la lista"
   ]
  },
  {
   "cell_type": "code",
   "execution_count": null,
   "metadata": {},
   "outputs": [],
   "source": [
    "ríos"
   ]
  },
  {
   "cell_type": "code",
   "execution_count": null,
   "metadata": {},
   "outputs": [],
   "source": [
    "del ríos[0], ríos[1] # Ojo, se aplican en secuencia y eso afecta a los índices"
   ]
  },
  {
   "cell_type": "code",
   "execution_count": null,
   "metadata": {},
   "outputs": [],
   "source": [
    "ríos"
   ]
  },
  {
   "cell_type": "markdown",
   "metadata": {},
   "source": [
    "Los elementos de una lista se pueden cambiar cuando la lista aparece a la izquierda de una asignación."
   ]
  },
  {
   "cell_type": "code",
   "execution_count": null,
   "metadata": {},
   "outputs": [],
   "source": [
    "ríos"
   ]
  },
  {
   "cell_type": "code",
   "execution_count": null,
   "metadata": {},
   "outputs": [],
   "source": [
    "ríos[0] = 'El río Arlanza'"
   ]
  },
  {
   "cell_type": "code",
   "execution_count": null,
   "metadata": {},
   "outputs": [],
   "source": [
    "ríos"
   ]
  },
  {
   "cell_type": "markdown",
   "metadata": {},
   "source": [
    "En vez de un único elemento, podemos reemplazar (**y borrar**) varios usando rebanadas (en la siguiente sección)."
   ]
  },
  {
   "cell_type": "code",
   "execution_count": null,
   "metadata": {},
   "outputs": [],
   "source": [
    "ríos[3:5] = ['A', 'B']"
   ]
  },
  {
   "cell_type": "code",
   "execution_count": null,
   "metadata": {},
   "outputs": [],
   "source": [
    "ríos"
   ]
  },
  {
   "cell_type": "code",
   "execution_count": null,
   "metadata": {},
   "outputs": [],
   "source": [
    "del ríos[1:3]"
   ]
  },
  {
   "cell_type": "code",
   "execution_count": null,
   "metadata": {},
   "outputs": [],
   "source": [
    "ríos"
   ]
  },
  {
   "cell_type": "markdown",
   "metadata": {},
   "source": [
    "### Rebanado de listas <a id=\"listsSlicing\"></a>    <a href=\"#lists\"><i class=\"fa fa-list-alt\"></i></a>\n",
    "El rebanado (que ya habíamos visto con cadenas para obtener subcadenas) se puede aplicar también a listas.\n",
    "\n",
    "En las listas el rebanado permite obtener una sublista utilizando los índices de inicio y fin de los elementos que quiere extraerse; adicionalmente se puede indicar un paso para extraer elementos no consecutivos."
   ]
  },
  {
   "cell_type": "code",
   "execution_count": null,
   "metadata": {
    "scrolled": false
   },
   "outputs": [],
   "source": [
    "mi_lista = [0, 1, 2, 3, 4, 5, 6, 7, 8, 9]\n",
    "print(mi_lista[3:8])\n",
    "print(mi_lista[8:2])\n",
    "print(mi_lista[1:9:3])"
   ]
  },
  {
   "cell_type": "markdown",
   "metadata": {},
   "source": [
    "<div class=\"alert alert-info\">\n",
    "   <i style=\"font-size: larger;\" class=\"fa fa-info-circle\" aria-hidden=\"true\"></i> También se pueden utilizar índices y pasos negativos.\n",
    "</div>\n"
   ]
  },
  {
   "cell_type": "code",
   "execution_count": null,
   "metadata": {},
   "outputs": [],
   "source": [
    "mi_lista = [0, 1, 2, 3, 4, 5, 6, 7, 8, 9]\n",
    "        #   0, 1, 2, 3, 4, 5, 6, 7, 8, 9   # índices desde el inicio\n",
    "        # -10,-9,-8,-7,-6,-5,-4,-3,-2,-1   # índices desde el final"
   ]
  },
  {
   "cell_type": "code",
   "execution_count": null,
   "metadata": {},
   "outputs": [],
   "source": [
    "print(mi_lista[-4:])\n",
    "print(mi_lista[-7:-2])\n",
    "print(mi_lista[3:-2])\n",
    "print(mi_lista[-7:8])\n",
    "print(mi_lista[2:-1:2])\n",
    "print(mi_lista[-1:2:-1])"
   ]
  },
  {
   "cell_type": "markdown",
   "metadata": {},
   "source": [
    "<div class=\"alert alert-info\">\n",
    "   <i style=\"font-size: larger;\" class=\"fa fa-info-circle\" aria-hidden=\"true\"></i> Como con las rebanadas de cadenas, se pueden omitir los índices de inicio, del final, o ambos.\n",
    "</div>\n"
   ]
  },
  {
   "cell_type": "code",
   "execution_count": null,
   "metadata": {},
   "outputs": [],
   "source": [
    "mi_lista[4:]"
   ]
  },
  {
   "cell_type": "code",
   "execution_count": null,
   "metadata": {},
   "outputs": [],
   "source": [
    "mi_lista[:5]"
   ]
  },
  {
   "cell_type": "code",
   "execution_count": null,
   "metadata": {},
   "outputs": [],
   "source": [
    "mi_lista[:-6]"
   ]
  },
  {
   "cell_type": "code",
   "execution_count": null,
   "metadata": {},
   "outputs": [],
   "source": [
    "mi_lista[::3]"
   ]
  },
  {
   "cell_type": "code",
   "execution_count": null,
   "metadata": {},
   "outputs": [],
   "source": [
    "mi_lista[::-1]"
   ]
  },
  {
   "cell_type": "code",
   "execution_count": null,
   "metadata": {},
   "outputs": [],
   "source": [
    "mi_lista[:] # Copy of list!"
   ]
  },
  {
   "cell_type": "markdown",
   "metadata": {},
   "source": [
    "### Otras operaciones con listas  (<span style=\"color:red;text-transform: uppercase;\">opcional</span>) <a id=\"otherOpsOnList\"></a>    <a href=\"#lists\"><i class=\"fa fa-list-alt\"></i></a>"
   ]
  },
  {
   "cell_type": "markdown",
   "metadata": {},
   "source": [
    "Otras formas de modificar listas."
   ]
  },
  {
   "cell_type": "code",
   "execution_count": null,
   "metadata": {},
   "outputs": [],
   "source": [
    "ríos = ['Ebro', 'Oca', 'Pico', 'Nilo', 'Arlanza',\n",
    "        'Guadalmedina', 'Vena', 'Cerezo']\n",
    "print(ríos)\n",
    "ríos.remove(\"Guadalmedina\")\n",
    "print(ríos)"
   ]
  },
  {
   "cell_type": "code",
   "execution_count": null,
   "metadata": {},
   "outputs": [],
   "source": [
    "print(ríos)\n",
    "ríos.pop()\n",
    "print(ríos)"
   ]
  },
  {
   "cell_type": "code",
   "execution_count": null,
   "metadata": {},
   "outputs": [],
   "source": [
    "print(ríos)\n",
    "un_río = ríos.pop()\n",
    "print(ríos)\n",
    "print(un_río)"
   ]
  },
  {
   "cell_type": "code",
   "execution_count": null,
   "metadata": {},
   "outputs": [],
   "source": [
    "[].pop() # => pop de lista vacía, SyntaxError"
   ]
  },
  {
   "cell_type": "code",
   "execution_count": null,
   "metadata": {},
   "outputs": [],
   "source": [
    "print(ríos.index(\"Arlanza\"))"
   ]
  },
  {
   "cell_type": "markdown",
   "metadata": {},
   "source": [
    "Cambiar el orden de las listas."
   ]
  },
  {
   "cell_type": "code",
   "execution_count": null,
   "metadata": {},
   "outputs": [],
   "source": [
    "ríos = ['Arlanza', 'Pico', 'Vena', 'Oca',\n",
    "        'Danubio', 'Ebro', 'Guadalmedina', 'Eo']"
   ]
  },
  {
   "cell_type": "code",
   "execution_count": null,
   "metadata": {},
   "outputs": [],
   "source": [
    "ríos.reverse()\n",
    "print(ríos)"
   ]
  },
  {
   "cell_type": "code",
   "execution_count": null,
   "metadata": {},
   "outputs": [],
   "source": [
    "print(ríos[::-1])"
   ]
  },
  {
   "cell_type": "code",
   "execution_count": null,
   "metadata": {},
   "outputs": [],
   "source": [
    "print(ríos)\n",
    "res = sorted(ríos)\n",
    "print(res)\n",
    "print(ríos) # La lista original no se ve afectada"
   ]
  },
  {
   "cell_type": "code",
   "execution_count": null,
   "metadata": {},
   "outputs": [],
   "source": [
    "res = ríos.sort() \n",
    "print(ríos) # Se ordena la lista original \n",
    "print(res)  # El valor devuelto es None"
   ]
  },
  {
   "cell_type": "code",
   "execution_count": null,
   "metadata": {},
   "outputs": [],
   "source": [
    "ríos.sort(reverse=True)\n",
    "print(ríos)"
   ]
  },
  {
   "cell_type": "code",
   "execution_count": null,
   "metadata": {},
   "outputs": [],
   "source": [
    "print(sorted(ríos, key=len))"
   ]
  },
  {
   "cell_type": "markdown",
   "metadata": {},
   "source": [
    "Con `sort` y `sorted` se pueden hacer más cosas.\n",
    "<br><br>\n",
    "\n",
    "<button class=\"btn btn-danger label label-danger\" style=\"padding-top: .5em\" type=\"button\" data-toggle=\"collapse\" data-target=\"#collapseAdvanced01\">\n",
    "    <i class=\"fa fa-warning\" aria-hidden=\"true\"></i> ¡Avanzado!\n",
    "</button>\n",
    "\n",
    "<div class=\"collapse\" id=\"collapseAdvanced01\">\n",
    "\n",
    "Como argumento `key` se puede pasar una función arbitraria. Es muy típico pasarle funciones anónimas de un sólo uso. Por ejemplo, el siguiente código sería para ordenar los ríos por su sedundo carácter:\n",
    "    \n",
    "```python\n",
    "ríos = ['Arlanza', 'Pico', 'Vena', 'Oca',\n",
    "        'Danubio', 'Ebro', 'Guadalmedina']\n",
    "print(sorted(ríos, key=lambda r: r[1]))\n",
    "```\n",
    "\n",
    "Lo que daría como resultado:\n",
    "```python\n",
    "['Danubio', 'Ebro', 'Oca', 'Vena', 'Pico', 'Arlanza', 'Guadalmedina']\n",
    "```\n",
    "    \n",
    "<div class=\"alert alert-info\" style=\"text-indent:-.65em; padding-left: 2.2em\">\n",
    "   <i style=\"font-size: larger;\" class=\"fa fa-info-circle\" aria-hidden=\"true\"></i> <kbd>lambda</kbd> se utiliza para crear una función anónima o sin nombre, es decir, no la vamos a poder invocar en ninguna otra parte del programa, sólo en el lugar donde se define.\n",
    "</div>      \n",
    "\n",
    "</div>"
   ]
  },
  {
   "cell_type": "markdown",
   "metadata": {},
   "source": [
    "### Listas por comprensión (<span style=\"color:red;text-transform: uppercase;\">opcional</span>) <a id=\"listsComprehension\"></a>    <a href=\"#lists\"><i class=\"fa fa-list-alt\"></i></a>"
   ]
  },
  {
   "cell_type": "markdown",
   "metadata": {},
   "source": [
    "<div class=\"alert alert-info\" style=\"text-indent:-.65em; padding-left: 2.2em\">\n",
    "   <i style=\"font-size: larger;\" class=\"fa fa-info-circle\" aria-hidden=\"true\"></i> La definición de listas por compresión es una característica muy potentes de Python. Entender su funcionamiento puede ayudarnos a simplificar enormemente nuestro código. \n",
    "</div>\n"
   ]
  },
  {
   "cell_type": "code",
   "execution_count": null,
   "metadata": {},
   "outputs": [],
   "source": [
    "nums = [5, 2, 7, 8, 9, 4]\n",
    "print([ n*10 for n in nums ])\n",
    "print([ n*10 for n in nums if n%2 ])\n",
    "print([ n*10 for n in nums if not n%2 ])"
   ]
  },
  {
   "cell_type": "code",
   "execution_count": null,
   "metadata": {},
   "outputs": [],
   "source": [
    "ríos = [\"Nilo\", \"Arlanza\", \"Cerezo\", \"Pico\", \"Vena\" ]\n",
    "print([ (n, r) for n, r in enumerate(sorted(ríos)) ])\n",
    "print([ (n, r) for n, r in enumerate(sorted(ríos), start=1) ])\n",
    "print('\\n'.join([ str(n) + '. ' + r for n, r in enumerate(sorted(ríos), start=1) ]))\n",
    "\n",
    "\"Hola que tal estás\".split(' ')"
   ]
  },
  {
   "cell_type": "markdown",
   "metadata": {},
   "source": [
    "<div class=\"alert alert-info\" style=\"text-indent:-.65em; padding-left: 2.2em\">\n",
    "   <i style=\"font-size: larger;\" class=\"fa fa-info-circle\" aria-hidden=\"true\"></i> <kbd>enumerate</kbd> se aplica a una lista (en general a un objeto iterable) para poder obtener una secuencia de pares constituidos por los elementos de la lista junto con el orden de éstos.\n",
    "</div>\n"
   ]
  },
  {
   "cell_type": "markdown",
   "metadata": {},
   "source": [
    "<div class=\"alert alert-info\" style=\"text-indent:-.65em; padding-left: 2.2em\">\n",
    "   <i style=\"font-size: larger;\" class=\"fa fa-info-circle\" aria-hidden=\"true\"></i> Un <i class=\"concept\">iterable</i> es un objeto que devuelve un iterador, un <i class=\"concept\">iterador</i> es un objeto que tiene un método <kbd>__next__</kbd> que con cada invocación devuelve un elemento del iterable en secuencia.\n",
    "</div>\n"
   ]
  },
  {
   "cell_type": "code",
   "execution_count": null,
   "metadata": {},
   "outputs": [],
   "source": [
    "help(enumerate)"
   ]
  },
  {
   "cell_type": "markdown",
   "metadata": {},
   "source": [
    "### La copia de listas <a id=\"listsCopy\"></a>  (<span style=\"color:red;text-transform: uppercase;\">opcional</span>)    <a href=\"#lists\"><i class=\"fa fa-list-alt\"></i></a>"
   ]
  },
  {
   "cell_type": "markdown",
   "metadata": {},
   "source": [
    "Veamos lo que ocurre con la copia de listas"
   ]
  },
  {
   "cell_type": "code",
   "execution_count": null,
   "metadata": {},
   "outputs": [],
   "source": [
    "lista1 = ['Vena', 'Ebro']\n",
    "lista2 = lista1\n",
    "print(lista1)\n",
    "print(lista2)\n",
    "print(lista2[1])\n",
    "lista1[0] = 'Pico'\n",
    "print(lista1)\n",
    "print(lista2)"
   ]
  },
  {
   "cell_type": "markdown",
   "metadata": {},
   "source": [
    "<span class=\"label label-warning\"><i class=\"fa fa-warning\" aria-hidden=\"true\"></i> ¡Cuidado!</span> La copia de listas es ligeramente más complicada que los ejemplos que hemos visto. "
   ]
  },
  {
   "cell_type": "code",
   "execution_count": null,
   "metadata": {},
   "outputs": [],
   "source": [
    "lista1 = ['Vena', ['Ebro']]\n",
    "lista2 = lista1\n",
    "lista3 = lista1[:]\n",
    "print(lista1)\n",
    "print(lista2)\n",
    "print(lista3)\n",
    "lista1[0] = 'Pico'\n",
    "lista3[1][0] = 'El río Ebro'\n",
    "print(lista1)\n",
    "print(lista2)\n",
    "print(lista3)"
   ]
  },
  {
   "cell_type": "markdown",
   "metadata": {},
   "source": [
    "<div class=\"alert alert-info\">\n",
    "   <i style=\"font-size: larger;\" class=\"fa fa-info-circle\" aria-hidden=\"true\"></i> Para entender mejor lo que está ocurriendo, probar los ejemplos anteriores en el <a href=\"http://www.pythontutor.com/\">Python Tutor</a>.\n",
    "</div>"
   ]
  },
  {
   "cell_type": "code",
   "execution_count": null,
   "metadata": {},
   "outputs": [],
   "source": [
    "%%HTML\n",
    "<style>.output_wrapper,.output{height:auto !important;max-height:360px;}.output_scroll{box-shadow:none !important;webkit-box-shadow:none !important;}</style>\n",
    "<!--<iframe width=\"800\" height=\"350\" frameborder=\"0\" src=\"http://pythontutor.com/iframe-embed.html#code=lista1%20%3D%20%5B'Vena',%20%5B'Ebro'%5D%5D%0Alista2%20%3D%20lista1%5B%3A%5D%0Aprint%28lista1%29%0Aprint%28lista2%29%0Alista2%5B1%5D%5B0%5D%20%3D%20'El%20rio%20Ebro'%0Alista1%5B0%5D%20%3D%20'Pico'%0Aprint%28lista1%29%0Aprint%28lista2%29&codeDivHeight=400&codeDivWidth=350&cumulative=false&curInstr=8&heapPrimitives=false&origin=opt-frontend.js&py=3&rawInputLstJSON=%5B%5D&textReferences=false\">Hay problemas de conexión con <a href=\"https://goo.gl/kLfJsk\">el ejemplo en Python tutor</a></iframe>-->  \n",
    "<iframe width=\"800\" height=\"500\" frameborder=\"0\" src=\"http://pythontutor.com/iframe-embed.html#code=lista1%20%3D%20%5B'Vena',%20%5B'Ebro'%5D%5D%0Alista2%20%3D%20lista1%0Alista3%20%3D%20lista1%5B%3A%5D%0Aprint%28lista1%29%0Aprint%28lista2%29%0Aprint%28lista3%29%0Alista1%5B0%5D%20%3D%20'Pico'%0Alista3%5B1%5D%5B0%5D%20%3D%20'El%20rio%20Ebro'%0Aprint%28lista1%29%0Aprint%28lista2%29%0Aprint%28lista3%29&codeDivHeight=400&codeDivWidth=350&cumulative=false&curInstr=0&heapPrimitives=nevernest&origin=opt-frontend.js&py=3&rawInputLstJSON=%5B%5D&textReferences=false\"> Hay problemas de conexión con <a href=\"https://tinyurl.com/y42qu98y\">el ejemplo en Python tutor</a></iframe>"
   ]
  },
  {
   "cell_type": "markdown",
   "metadata": {},
   "source": [
    "<hr style=\"background-color: navy; border-top: 1px solid navy;\"/>\n",
    "Otro ejemplo más que ilustra la diferencia entre la copia superficial (<a href=\"https://en.wikipedia.org/wiki/Object_copying#Shallow_copy\" class=\"concept\">shallow copy</a>) y la copia profunda (<a href=\"https://en.wikipedia.org/wiki/Object_copying#Deep_copy\" class=\"concept\">deep copy</a>)."
   ]
  },
  {
   "cell_type": "code",
   "execution_count": null,
   "metadata": {},
   "outputs": [],
   "source": [
    "%%HTML\n",
    "<style>.output_wrapper,.output{height:auto !important;max-height:1000px;}.output_scroll{box-shadow:none !important;webkit-box-shadow:none !important;}</style>\n",
    "<iframe width=\"800\" height=\"720\" frameborder=\"0\" src=\"http://pythontutor.com/iframe-embed.html#code=l0%20%3D%20%5B1,%202%5D%0Al1%20%3D%20%5B%5B1,'a'%5D,%5B2,'b'%5D%5D%0Al2%20%3D%20l1%0Al3%20%3D%20l1%5B%3A%5D%0Aprint%28f%22l1%3A%20%7Bl1%7D,%20l3%3A%20%7Bl3%7D%5Cnl2%3A%20%7Bl2%7D%5Cn%22%29%0Al1%5B0%5D%3D1%0Aprint%28f%22l1%3A%20%7Bl1%7D,%20l3%3A%20%7Bl3%7D%5Cnl2%3A%20%7Bl2%7D%5Cn%22%29%0Al1%5B1%5D%5B0%5D%3D666%0Aprint%28f%22l1%3A%20%7Bl1%7D,%20l3%3A%20%7Bl3%7D%5Cnl2%3A%20%7Bl2%7D%5Cn%22%29%0Afrom%20copy%20import%20deepcopy%0Al4%20%3D%20deepcopy%28l3%29&codeDivHeight=400&codeDivWidth=350&cumulative=false&curInstr=11&heapPrimitives=false&origin=opt-frontend.js&py=3&rawInputLstJSON=%5B%5D&textReferences=false\">Hay problemas de conexión con <a href=\"https://goo.gl/VKZi5K\">el ejemplo en Python tutor</a></iframe>"
   ]
  },
  {
   "cell_type": "markdown",
   "metadata": {},
   "source": [
    "## Tuplas <a id=\"tuples\"></a>    <a href=\"#lists\"><i class=\"fa fa-list-alt\"></i></a>\n",
    "\n",
    "Las <i class=\"concept\">tuplas</i> son como listas, pero no se pueden modificar, es decir, una vez que se crean, sus valores no pueden cambiarse. Esto último permite que las tuplas pueden usarse como claves de diccionarios (que se verán <a href=\"#dictionaries\">más adelante</a>), en cambio las listas no.\n",
    "```python\n",
    "[\"Esto\", \"es\", \"una\", \"lista\"]\n",
    "(\"Esto\", \"es\", \"una\", \"tupla\")\n",
    "```"
   ]
  },
  {
   "cell_type": "markdown",
   "metadata": {},
   "source": [
    "Una de las ventajas de las tuplas es que son mucho más rápidas."
   ]
  },
  {
   "cell_type": "code",
   "execution_count": 1,
   "metadata": {},
   "outputs": [
    {
     "name": "stdout",
     "output_type": "stream",
     "text": [
      "111 ns ± 9.77 ns per loop (mean ± std. dev. of 7 runs, 10000000 loops each)\n"
     ]
    }
   ],
   "source": [
    "%%timeit\n",
    "lista = [0, 1, 2, 3, 4, 5, 6, 7, 8, 9] # se muestra el mejor resultado de 7 ejecuciones"
   ]
  },
  {
   "cell_type": "code",
   "execution_count": 2,
   "metadata": {
    "scrolled": true
   },
   "outputs": [
    {
     "name": "stdout",
     "output_type": "stream",
     "text": [
      "21.8 ns ± 2.14 ns per loop (mean ± std. dev. of 7 runs, 10000000 loops each)\n"
     ]
    }
   ],
   "source": [
    "%%timeit\n",
    "tupla = (0, 1, 2, 3, 4, 5, 6, 7, 8, 9)"
   ]
  },
  {
   "cell_type": "markdown",
   "metadata": {},
   "source": [
    "<span class=\"label label-danger\"><i class=\"fa fa-bomb\" aria-hidden=\"true\"></i> ¡Cuidado!</span> la evaluación de la siguiente celda dará error, dado que las tuplas, una vez creadas, no pueden modificarse."
   ]
  },
  {
   "cell_type": "code",
   "execution_count": 3,
   "metadata": {},
   "outputs": [
    {
     "ename": "NameError",
     "evalue": "name 'tupla' is not defined",
     "output_type": "error",
     "traceback": [
      "\u001b[0;31m---------------------------------------------------------------------------\u001b[0m",
      "\u001b[0;31mNameError\u001b[0m                                 Traceback (most recent call last)",
      "\u001b[0;32m<ipython-input-3-fc1c81000e96>\u001b[0m in \u001b[0;36m<module>\u001b[0;34m\u001b[0m\n\u001b[0;32m----> 1\u001b[0;31m \u001b[0mtupla\u001b[0m\u001b[0;34m[\u001b[0m\u001b[0;36m0\u001b[0m\u001b[0;34m]\u001b[0m \u001b[0;34m=\u001b[0m \u001b[0;34m'Pico'\u001b[0m \u001b[0;31m# => TypeError: 'tuple' object does not support item assignment\u001b[0m\u001b[0;34m\u001b[0m\u001b[0;34m\u001b[0m\u001b[0m\n\u001b[0m",
      "\u001b[0;31mNameError\u001b[0m: name 'tupla' is not defined"
     ]
    }
   ],
   "source": [
    "tupla[0] = 'Pico' # => TypeError: 'tuple' object does not support item assignment"
   ]
  },
  {
   "cell_type": "markdown",
   "metadata": {},
   "source": [
    "Más ejemplos de cosas que pueden hacerse con tuplas:"
   ]
  },
  {
   "cell_type": "markdown",
   "metadata": {},
   "source": [
    "<div class=\"alert alert-info\">\n",
    "    <i style=\"font-size: larger;\" class=\"fa fa-info-circle\" aria-hidden=\"true\"></i> <i style=\"color:red\">Recuerda</i> que una cadena de la forma <kbd>f\"···\"</kbd> es una <b class=\"concept\">cadena de formato</b> o <b class=\"concept\">cadena-f</b>. Dentro de una cadena de formato las expresiones encerradas entre llaves <kbd>{·}</kbd> se evaluan antes de imprimir la cadena. A este proceso de mezclar porciones literales y expresiones que se evaluan se le conoce como <a href=\"https://es.qwe.wiki/wiki/String_interpolation\"><b class=\"concept\">interpolación de cadenas</b></a>.\n",
    "</div>"
   ]
  },
  {
   "cell_type": "code",
   "execution_count": 4,
   "metadata": {},
   "outputs": [
    {
     "name": "stdout",
     "output_type": "stream",
     "text": [
      "a: 1, b: 2\n",
      "a: 2, b: 1\n"
     ]
    }
   ],
   "source": [
    "a, b = 1, 2     # inicialización simultánea de varias variables.\n",
    "print(f\"a: {a}, b: {b}\")\n",
    "a, b = b, a     # intercambio de valores de variables\n",
    "print(f\"a: {a}, b: {b}\")\n",
    "a, _ = 12, 13   # recuperación de valores de una tupla, ignorando los que no interesan"
   ]
  },
  {
   "cell_type": "markdown",
   "metadata": {},
   "source": [
    "<span class=\"label label-danger\"><i class=\"fa fa-bomb\" aria-hidden=\"true\"></i> ¡Cuidado!</span> la evaluación de la siguiente celda dará error, dado que a la izquierda hay más variables que valores a la derecha."
   ]
  },
  {
   "cell_type": "code",
   "execution_count": 6,
   "metadata": {},
   "outputs": [
    {
     "ename": "ValueError",
     "evalue": "not enough values to unpack (expected 3, got 2)",
     "output_type": "error",
     "traceback": [
      "\u001b[0;31m---------------------------------------------------------------------------\u001b[0m",
      "\u001b[0;31mValueError\u001b[0m                                Traceback (most recent call last)",
      "\u001b[0;32m<ipython-input-6-b9923a00a059>\u001b[0m in \u001b[0;36m<module>\u001b[0;34m\u001b[0m\n\u001b[0;32m----> 1\u001b[0;31m \u001b[0ma\u001b[0m\u001b[0;34m,\u001b[0m \u001b[0mb\u001b[0m\u001b[0;34m,\u001b[0m \u001b[0mc\u001b[0m \u001b[0;34m=\u001b[0m \u001b[0;34m(\u001b[0m\u001b[0;36m1\u001b[0m\u001b[0;34m,\u001b[0m \u001b[0;36m2\u001b[0m\u001b[0;34m)\u001b[0m \u001b[0;31m# => ValueError: not enough values to unpack (expected 3, got 2)\u001b[0m\u001b[0;34m\u001b[0m\u001b[0;34m\u001b[0m\u001b[0m\n\u001b[0m",
      "\u001b[0;31mValueError\u001b[0m: not enough values to unpack (expected 3, got 2)"
     ]
    }
   ],
   "source": [
    "a, b, c = (1, 2) # => ValueError: not enough values to unpack (expected 3, got 2)"
   ]
  },
  {
   "cell_type": "markdown",
   "metadata": {},
   "source": [
    "<span class=\"label label-danger\"><i class=\"fa fa-bomb\" aria-hidden=\"true\"></i> ¡Cuidado!</span> la evaluación de la siguiente celda dará error, dado que a la izquierda hay menos variables que valores a la derecha."
   ]
  },
  {
   "cell_type": "code",
   "execution_count": 7,
   "metadata": {},
   "outputs": [
    {
     "ename": "ValueError",
     "evalue": "too many values to unpack (expected 2)",
     "output_type": "error",
     "traceback": [
      "\u001b[0;31m---------------------------------------------------------------------------\u001b[0m",
      "\u001b[0;31mValueError\u001b[0m                                Traceback (most recent call last)",
      "\u001b[0;32m<ipython-input-7-5b8a6c878c92>\u001b[0m in \u001b[0;36m<module>\u001b[0;34m\u001b[0m\n\u001b[0;32m----> 1\u001b[0;31m \u001b[0ma\u001b[0m\u001b[0;34m,\u001b[0m \u001b[0mb\u001b[0m \u001b[0;34m=\u001b[0m \u001b[0;36m1\u001b[0m\u001b[0;34m,\u001b[0m \u001b[0;36m2\u001b[0m\u001b[0;34m,\u001b[0m \u001b[0;36m3\u001b[0m \u001b[0;31m# => ValueError: too many values to unpack (expected 2)\u001b[0m\u001b[0;34m\u001b[0m\u001b[0;34m\u001b[0m\u001b[0m\n\u001b[0m",
      "\u001b[0;31mValueError\u001b[0m: too many values to unpack (expected 2)"
     ]
    }
   ],
   "source": [
    "a, b = 1, 2, 3 # => ValueError: too many values to unpack (expected 2)"
   ]
  },
  {
   "cell_type": "markdown",
   "metadata": {},
   "source": [
    "<span class=\"label label-danger\"><i class=\"fa fa-bomb\" aria-hidden=\"true\"></i> ¡Cuidado!</span> Si se quiere tener una tupla de un elemento, es necesario utilizar una coma tras ese elemento, aunque no haya un segundo."
   ]
  },
  {
   "cell_type": "code",
   "execution_count": 9,
   "metadata": {},
   "outputs": [
    {
     "name": "stdout",
     "output_type": "stream",
     "text": [
      "type(t1): <class 'int'>\n",
      "type(t2): <class 'tuple'>\n"
     ]
    }
   ],
   "source": [
    "t1 = ((1))\n",
    "t2 = (1,)\n",
    "print(f\"type(t1): {type(t1)}\")\n",
    "print(f\"type(t2): {type(t2)}\")"
   ]
  },
  {
   "cell_type": "markdown",
   "metadata": {},
   "source": [
    "<div class=\"alert alert-info\">\n",
    "   <i style=\"font-size: larger;\" class=\"fa fa-info-circle\" aria-hidden=\"true\"></i> Las asignaciones con «desempaquetado» se pueden hacer también para listas y con anidamientos de elementos más complejas.\n",
    "</div>"
   ]
  },
  {
   "cell_type": "code",
   "execution_count": 10,
   "metadata": {},
   "outputs": [
    {
     "data": {
      "text/plain": [
       "(1, 2, 3)"
      ]
     },
     "execution_count": 10,
     "metadata": {},
     "output_type": "execute_result"
    }
   ],
   "source": [
    "[a, [b, c]] = [1, [2, 3]]\n",
    "a, b, c"
   ]
  },
  {
   "cell_type": "code",
   "execution_count": 11,
   "metadata": {},
   "outputs": [
    {
     "data": {
      "text/plain": [
       "(1, [2, 3])"
      ]
     },
     "execution_count": 11,
     "metadata": {},
     "output_type": "execute_result"
    }
   ],
   "source": [
    "[a, b] = (1, [2, 3])\n",
    "a, b"
   ]
  },
  {
   "cell_type": "markdown",
   "metadata": {},
   "source": [
    "<span class=\"label  label-info label-outlined\"><i class=\"fa fa-info-circle\" aria-hidden=\"true\"></i> ¡Avanzado!</span> Con el «empaquetado»/«desempaquetado» de valores se pueden hacer operaciones adicionales en las que en un elemento (precedido del operador `*`) se pueden empaquetar varios de los valores desempeaquetados."
   ]
  },
  {
   "cell_type": "code",
   "execution_count": 12,
   "metadata": {},
   "outputs": [],
   "source": [
    "a, *b = 1, 2, 3, 4 "
   ]
  },
  {
   "cell_type": "code",
   "execution_count": 13,
   "metadata": {},
   "outputs": [
    {
     "data": {
      "text/plain": [
       "(1, [2, 3, 4])"
      ]
     },
     "execution_count": 13,
     "metadata": {},
     "output_type": "execute_result"
    }
   ],
   "source": [
    "a, b"
   ]
  },
  {
   "cell_type": "code",
   "execution_count": 14,
   "metadata": {},
   "outputs": [],
   "source": [
    "*a, b = 1, 2, 3, 4 "
   ]
  },
  {
   "cell_type": "code",
   "execution_count": 15,
   "metadata": {},
   "outputs": [
    {
     "data": {
      "text/plain": [
       "([1, 2, 3], 4)"
      ]
     },
     "execution_count": 15,
     "metadata": {},
     "output_type": "execute_result"
    }
   ],
   "source": [
    "a, b"
   ]
  },
  {
   "cell_type": "code",
   "execution_count": 16,
   "metadata": {},
   "outputs": [],
   "source": [
    "first, *body, last = 1, 2, 3, 4 "
   ]
  },
  {
   "cell_type": "code",
   "execution_count": 17,
   "metadata": {
    "scrolled": true
   },
   "outputs": [
    {
     "data": {
      "text/plain": [
       "(1, [2, 3], 4)"
      ]
     },
     "execution_count": 17,
     "metadata": {},
     "output_type": "execute_result"
    }
   ],
   "source": [
    "first, body, last"
   ]
  },
  {
   "cell_type": "code",
   "execution_count": 20,
   "metadata": {},
   "outputs": [],
   "source": [
    "first, *body, butlast, last = 1, 2, 3, 4 "
   ]
  },
  {
   "cell_type": "code",
   "execution_count": 21,
   "metadata": {
    "scrolled": true
   },
   "outputs": [
    {
     "data": {
      "text/plain": [
       "(1, [2], 3, 4)"
      ]
     },
     "execution_count": 21,
     "metadata": {},
     "output_type": "execute_result"
    }
   ],
   "source": [
    "first, body, butlast, last"
   ]
  },
  {
   "cell_type": "markdown",
   "metadata": {},
   "source": [
    "<span class=\"label  label-info label-outlined\"><i class=\"fa fa-info-circle\" aria-hidden=\"true\"></i> ¡Avanzado!</span> El operador `*` también puede utilizarse para «desempaquetar» la **secuencia** almacenada en una variable."
   ]
  },
  {
   "cell_type": "code",
   "execution_count": 22,
   "metadata": {},
   "outputs": [],
   "source": [
    "a = 1, 2, 3"
   ]
  },
  {
   "cell_type": "code",
   "execution_count": 23,
   "metadata": {},
   "outputs": [
    {
     "data": {
      "text/plain": [
       "(0, (1, 2, 3), 4)"
      ]
     },
     "execution_count": 23,
     "metadata": {},
     "output_type": "execute_result"
    }
   ],
   "source": [
    "(0, a, 4)"
   ]
  },
  {
   "cell_type": "code",
   "execution_count": 24,
   "metadata": {},
   "outputs": [
    {
     "data": {
      "text/plain": [
       "(0, 1, 2, 3, 4)"
      ]
     },
     "execution_count": 24,
     "metadata": {},
     "output_type": "execute_result"
    }
   ],
   "source": [
    "(0, *a, 4)"
   ]
  },
  {
   "cell_type": "markdown",
   "metadata": {},
   "source": [
    "## Conjuntos <a id=\"sets\"></a>   <a href=\"#lists\"><i class=\"fa fa-list-alt\"></i></a>\n",
    "Los <i class=\"concept\">conjuntos</i> son colecciones de objetos en las que el orden no es relevante y donde no se permiten duplicados.\n",
    "\n",
    "Se pueden modificar (aunque existe una versión no modificable, los \n",
    " <a href=\"https://docs.python.org/3/library/stdtypes.html#frozenset\">frozenset</a>). \n",
    "\n",
    "La comprobación de que un elemento pertenece a un conjunto (operador `in`) es más eficiente y rápida que la comprobación \n",
    "de que un elemento pertenece a una lista.\n",
    "\n",
    "Solo se pueden utilizar conjuntos de elementos de tipos inmutables.\n"
   ]
  },
  {
   "cell_type": "code",
   "execution_count": 25,
   "metadata": {},
   "outputs": [
    {
     "name": "stdout",
     "output_type": "stream",
     "text": [
      "{'Nilo', 'Cerezo', 'Pico', 'Vena', 'Arlanza'}\n"
     ]
    }
   ],
   "source": [
    "ríos = { \"Nilo\", \"Arlanza\", \"Cerezo\", \"Pico\", \"Vena\", \"Nilo\", \"Cerezo\" }\n",
    "print(ríos) # El orden no tiene porque coincidir con el utilizado en la definición"
   ]
  },
  {
   "cell_type": "markdown",
   "metadata": {
    "slideshow": {
     "slide_type": "subslide"
    }
   },
   "source": [
    "### Operaciones con conjuntos <a id=\"setsOperators\"></a>   <a href=\"#lists\"><i class=\"fa fa-list-alt\"></i></a>\n",
    "\n",
    "Con el tipo de datos `set` se pueden hacer las mismas operaciones que con los conjuntos matemáticos: intersección, diferencia, unión, comprobación de pertenencia, ...\n",
    "\n",
    "![Set operations](pics/SetOperations.svg)"
   ]
  },
  {
   "cell_type": "code",
   "execution_count": 51,
   "metadata": {
    "scrolled": true
   },
   "outputs": [
    {
     "data": {
      "text/plain": [
       "({'Arlanza', 'Cerezo', 'Nilo', 'Pico'},\n",
       " {'Bernesga', 'Cerezo', 'Danubio', 'Nilo'})"
      ]
     },
     "execution_count": 51,
     "metadata": {},
     "output_type": "execute_result"
    }
   ],
   "source": [
    "unos_ríos = { \"Nilo\", \"Arlanza\", \"Cerezo\", \"Pico\", \"Misisipi\" } # A\n",
    "otros_ríos = { \"Nilo\", \"Danubio\", \"Cerezo\" }                    # B\n",
    "otros_ríos.add(\"Bernesga\")                                      # A ∪ {e} \n",
    "unos_ríos.remove(\"Misisipi\")                                    # A - {e}\n",
    "unos_ríos, otros_ríos                                           # A, B"
   ]
  },
  {
   "cell_type": "code",
   "execution_count": 27,
   "metadata": {},
   "outputs": [
    {
     "data": {
      "text/plain": [
       "True"
      ]
     },
     "execution_count": 27,
     "metadata": {},
     "output_type": "execute_result"
    }
   ],
   "source": [
    "\"Bernesga\" in otros_ríos  # ¿e ∊ A?"
   ]
  },
  {
   "cell_type": "code",
   "execution_count": 47,
   "metadata": {},
   "outputs": [
    {
     "data": {
      "text/plain": [
       "{1, 4}"
      ]
     },
     "execution_count": 47,
     "metadata": {},
     "output_type": "execute_result"
    }
   ],
   "source": [
    "A = {1, 2, 3}; B = {2, 3, 4}\n",
    "A.symmetric_difference(B)"
   ]
  },
  {
   "cell_type": "code",
   "execution_count": 48,
   "metadata": {},
   "outputs": [
    {
     "data": {
      "text/plain": [
       "{1, 4}"
      ]
     },
     "execution_count": 48,
     "metadata": {},
     "output_type": "execute_result"
    }
   ],
   "source": [
    "# A.symmetric_difference(B) también puede hacer con el operador `^``\n",
    "A ^ B "
   ]
  },
  {
   "cell_type": "code",
   "execution_count": 29,
   "metadata": {},
   "outputs": [
    {
     "data": {
      "text/plain": [
       "({'Arlanza', 'Cerezo', 'Nilo', 'Pico'},\n",
       " {'Bernesga', 'Cerezo', 'Danubio', 'Nilo'})"
      ]
     },
     "execution_count": 29,
     "metadata": {},
     "output_type": "execute_result"
    }
   ],
   "source": [
    "unos_ríos, otros_ríos    # A, B"
   ]
  },
  {
   "cell_type": "code",
   "execution_count": 52,
   "metadata": {
    "scrolled": false
   },
   "outputs": [
    {
     "name": "stdout",
     "output_type": "stream",
     "text": [
      "False\n",
      "False\n",
      "False\n"
     ]
    }
   ],
   "source": [
    "print(unos_ríos.isdisjoint(otros_ríos))  # ¿A ∩ B == ∅?\n",
    "print(unos_ríos.issubset(otros_ríos))    # ¿A ⊆ B?\n",
    "print(unos_ríos.issuperset(otros_ríos))  # ¿A ⊇ B?"
   ]
  },
  {
   "cell_type": "code",
   "execution_count": 53,
   "metadata": {},
   "outputs": [
    {
     "name": "stdout",
     "output_type": "stream",
     "text": [
      "False\n",
      "False\n",
      "False\n"
     ]
    }
   ],
   "source": [
    "# También se pueden usar operadores para isdisjoint, issubset, issuperset\n",
    "print(unos_ríos & otros_ríos == set())  # ¿A ∩ B == ∅?\n",
    "print(unos_ríos <= otros_ríos)          # ¿A ⊆ B?\n",
    "print(unos_ríos >= otros_ríos)          # ¿A ⊇ B?"
   ]
  },
  {
   "cell_type": "code",
   "execution_count": null,
   "metadata": {},
   "outputs": [],
   "source": []
  },
  {
   "cell_type": "code",
   "execution_count": null,
   "metadata": {},
   "outputs": [],
   "source": []
  },
  {
   "cell_type": "code",
   "execution_count": 31,
   "metadata": {},
   "outputs": [
    {
     "data": {
      "text/plain": [
       "({'Arlanza', 'Cerezo', 'Nilo', 'Pico'},\n",
       " {'Bernesga', 'Cerezo', 'Danubio', 'Nilo'})"
      ]
     },
     "execution_count": 31,
     "metadata": {},
     "output_type": "execute_result"
    }
   ],
   "source": [
    "unos_ríos, otros_ríos    # A, B"
   ]
  },
  {
   "cell_type": "code",
   "execution_count": 32,
   "metadata": {
    "scrolled": false
   },
   "outputs": [
    {
     "name": "stdout",
     "output_type": "stream",
     "text": [
      "{'Pico', 'Arlanza'}\n",
      "{'Pico', 'Bernesga', 'Danubio', 'Arlanza'}\n"
     ]
    }
   ],
   "source": [
    "print(unos_ríos.difference(otros_ríos))           # A - B\n",
    "print(unos_ríos.symmetric_difference(otros_ríos)) # A ∆ B"
   ]
  },
  {
   "cell_type": "code",
   "execution_count": 59,
   "metadata": {},
   "outputs": [
    {
     "name": "stdout",
     "output_type": "stream",
     "text": [
      "{'Arlanza', 'Pico'}\n",
      "{'Danubio', 'Pico', 'Arlanza', 'Bernesga'}\n"
     ]
    }
   ],
   "source": [
    "# Mismas operaciones que en la celda previa, pero usando operadores\n",
    "print(unos_ríos - otros_ríos)  # A - B\n",
    "print(unos_ríos ^ otros_ríos)  # A ∆ B"
   ]
  },
  {
   "cell_type": "code",
   "execution_count": 33,
   "metadata": {},
   "outputs": [
    {
     "data": {
      "text/plain": [
       "({'Arlanza', 'Cerezo', 'Nilo', 'Pico'},\n",
       " {'Bernesga', 'Cerezo', 'Danubio', 'Nilo'})"
      ]
     },
     "execution_count": 33,
     "metadata": {},
     "output_type": "execute_result"
    }
   ],
   "source": [
    "unos_ríos, otros_ríos    # A, B"
   ]
  },
  {
   "cell_type": "code",
   "execution_count": 56,
   "metadata": {},
   "outputs": [
    {
     "data": {
      "text/plain": [
       "({'Arlanza', 'Bernesga', 'Cerezo', 'Danubio', 'Nilo', 'Pico'},\n",
       " {'Cerezo', 'Nilo'})"
      ]
     },
     "execution_count": 56,
     "metadata": {},
     "output_type": "execute_result"
    }
   ],
   "source": [
    "unión = unos_ríos.union(otros_ríos)               # A ∪ B\n",
    "intersección = unos_ríos.intersection(otros_ríos) # A ∩ B\n",
    "unión, intersección"
   ]
  },
  {
   "cell_type": "code",
   "execution_count": 54,
   "metadata": {},
   "outputs": [
    {
     "data": {
      "text/plain": [
       "({'Arlanza', 'Bernesga', 'Cerezo', 'Danubio', 'Nilo', 'Pico'},\n",
       " {'Cerezo', 'Nilo'})"
      ]
     },
     "execution_count": 54,
     "metadata": {},
     "output_type": "execute_result"
    }
   ],
   "source": [
    "# Mismas operaciones que en la celda previa, pero usando operadores\n",
    "(unos_ríos | otros_ríos), (unos_ríos & otros_ríos)    # A ∪ B, A ∩ B"
   ]
  },
  {
   "cell_type": "code",
   "execution_count": 57,
   "metadata": {},
   "outputs": [
    {
     "data": {
      "text/plain": [
       "({'Arlanza', 'Bernesga', 'Danubio', 'Pico'},\n",
       " {'Arlanza', 'Bernesga', 'Danubio', 'Pico'})"
      ]
     },
     "execution_count": 57,
     "metadata": {},
     "output_type": "execute_result"
    }
   ],
   "source": [
    "unión.difference(intersección), unos_ríos.symmetric_difference(otros_ríos)"
   ]
  },
  {
   "cell_type": "markdown",
   "metadata": {},
   "source": [
    "### Conjuntos vacíos <a id=\"emptySets\"></a>   <a href=\"#lists\"><i class=\"fa fa-list-alt\"></i></a>"
   ]
  },
  {
   "cell_type": "code",
   "execution_count": 36,
   "metadata": {},
   "outputs": [
    {
     "name": "stdout",
     "output_type": "stream",
     "text": [
      "<class 'list'>\n",
      "<class 'tuple'>\n"
     ]
    }
   ],
   "source": [
    "lista_vacía = []\n",
    "print(type(lista_vacía))\n",
    "tupla_vacía = ()\n",
    "print(type(tupla_vacía))"
   ]
  },
  {
   "cell_type": "code",
   "execution_count": 37,
   "metadata": {},
   "outputs": [
    {
     "name": "stdout",
     "output_type": "stream",
     "text": [
      "<class 'dict'>\n"
     ]
    }
   ],
   "source": [
    "conjunto_vacío = {} # => {} es en realidad para diccionarios\n",
    "print(type(conjunto_vacío))"
   ]
  },
  {
   "cell_type": "code",
   "execution_count": 38,
   "metadata": {},
   "outputs": [
    {
     "name": "stdout",
     "output_type": "stream",
     "text": [
      "<class 'set'>\n"
     ]
    }
   ],
   "source": [
    "conjunto_vacío = set() # usando de forma explícita el constructor de conjuntos\n",
    "print(type(conjunto_vacío))"
   ]
  },
  {
   "cell_type": "code",
   "execution_count": 39,
   "metadata": {},
   "outputs": [
    {
     "name": "stdout",
     "output_type": "stream",
     "text": [
      "<class 'list'>\n",
      "<class 'tuple'>\n"
     ]
    }
   ],
   "source": [
    "# También se pueden usar los constructores para listas y tuplas\n",
    "lista_vacía = list()\n",
    "tupla_vacía = tuple()\n",
    "print(type(lista_vacía))\n",
    "print(type(tupla_vacía))"
   ]
  },
  {
   "cell_type": "markdown",
   "metadata": {},
   "source": [
    "### Conjuntos no legales <a id=\"nolegalSets\"></a>   <a href=\"#lists\"><i class=\"fa fa-list-alt\"></i></a>"
   ]
  },
  {
   "cell_type": "code",
   "execution_count": 5,
   "metadata": {},
   "outputs": [
    {
     "data": {
      "text/plain": [
       "{'a', 'h', 'l', 'o'}"
      ]
     },
     "execution_count": 5,
     "metadata": {},
     "output_type": "execute_result"
    }
   ],
   "source": [
    "caracteres = set(\"hola\") # OK, con un iterable, los elementos son los del iterable\n",
    "caracteres"
   ]
  },
  {
   "cell_type": "code",
   "execution_count": 2,
   "metadata": {},
   "outputs": [
    {
     "data": {
      "text/plain": [
       "{3, 'hola mundo'}"
      ]
     },
     "execution_count": 2,
     "metadata": {},
     "output_type": "execute_result"
    }
   ],
   "source": [
    "un_conjunto = set()\n",
    "un_conjunto.add(3)            # OK, `int` es un tipo inmutable\n",
    "un_conjunto.add(\"hola mundo\") # OK, `str` es un tipo inmutable y se puden mezclar tipos\n",
    "un_conjunto"
   ]
  },
  {
   "cell_type": "code",
   "execution_count": 3,
   "metadata": {},
   "outputs": [
    {
     "data": {
      "text/plain": [
       "{(2, 3), 3, 'hola mundo'}"
      ]
     },
     "execution_count": 3,
     "metadata": {},
     "output_type": "execute_result"
    }
   ],
   "source": [
    "un_conjunto.add((2, 3)) # OK, `tuple` es un tipo inmutable\n",
    "un_conjunto"
   ]
  },
  {
   "cell_type": "code",
   "execution_count": 4,
   "metadata": {},
   "outputs": [
    {
     "ename": "TypeError",
     "evalue": "unhashable type: 'list'",
     "output_type": "error",
     "traceback": [
      "\u001b[0;31m---------------------------------------------------------------------------\u001b[0m",
      "\u001b[0;31mTypeError\u001b[0m                                 Traceback (most recent call last)",
      "\u001b[0;32m<ipython-input-4-20ac61c26f62>\u001b[0m in \u001b[0;36m<module>\u001b[0;34m\u001b[0m\n\u001b[0;32m----> 1\u001b[0;31m \u001b[0mun_conjunto\u001b[0m\u001b[0;34m.\u001b[0m\u001b[0madd\u001b[0m\u001b[0;34m(\u001b[0m\u001b[0;34m[\u001b[0m\u001b[0;36m2\u001b[0m\u001b[0;34m,\u001b[0m \u001b[0;36m4\u001b[0m\u001b[0;34m]\u001b[0m\u001b[0;34m)\u001b[0m\u001b[0;34m\u001b[0m\u001b[0;34m\u001b[0m\u001b[0m\n\u001b[0m",
      "\u001b[0;31mTypeError\u001b[0m: unhashable type: 'list'"
     ]
    }
   ],
   "source": [
    "un_conjunto.add([2, 4]) # ¡ERROR! las listas son mutables"
   ]
  },
  {
   "cell_type": "markdown",
   "metadata": {},
   "source": [
    "# Diccionarios &mdash; colecciones indexadas por nombre   <a id=\"dictionaries\"></a><a href=\"#index\"><i class=\"fa fa-list-alt\" aria-hidden=\"true\"></i></a>\n",
    "\n",
    "Los <i class=\"concept\">diccionarios</i> son estructuras de datos en las que los elementos constituyentes se pueden recuperar utilizando claves que no tienen porque ser valores numéricos, como ocurre con las listas y las tuplas. **Las claves de acceso pueden ser cualquier valor _inmutable_**, aunque lo más habitual es usar cadenas.\n",
    "\n",
    "Como en los conjuntos, **el orden no es relevante** en los diccionarios.\n",
    "\n",
    "Se delimitan con llaves (como los conjuntos), sus elementos se separan por comas (como en las listas y los conjuntos), pero éstos consisten en pares <i class=\"concept\">clave</i> y <i class=\"concept\">valor</i> (la clave separada del valor por dos puntos `:`). Los valores pueden ser de tipos arbitrarios y distintos para cada par. Las claves tienen que ser <a href=\"https://docs.python.org/2/glossary.html#term-hashable\"><i class=\"concept\">hashables</i></a>. Un elemento es *hashable* (o *resumible*) si se le puede asignar un valor <i>hash</i> que no cambie en el tiempo de vida del elemento. Un <a href=\"https://es.wikipedia.org/wiki/Funci%C3%B3n_hash\">valor de <i>hash</i></a> es una especie de <i>firma</i> que se puede asociar al elemento, que depende de su valor y que será único para ese elemento. Todos los tipos inmutables de Python son <i>hashables</i>. Los contenedores mutables, como las listas y diccionarios, no lo son."
   ]
  },
  {
   "cell_type": "code",
   "execution_count": 40,
   "metadata": {},
   "outputs": [],
   "source": [
    "un_río = {'nombre': 'Nilo', 'longitud': 6853, # km\n",
    "          'ciudades': ['El Cairo', 'Jartum', 'Jinja', 'Yuba']}"
   ]
  },
  {
   "cell_type": "code",
   "execution_count": 31,
   "metadata": {},
   "outputs": [],
   "source": [
    "# También podemos pasar una **secuencia** de pares clave/valor al constructor de diccionarios\n",
    "un_río = dict([('nombre', 'Nilo'), ('longitud', 6853), # km\n",
    "               ('ciudades', ['El Cairo', 'Jartum', 'Jinja', 'Yuba'])])"
   ]
  },
  {
   "cell_type": "markdown",
   "metadata": {},
   "source": [
    "El acceso a los elementos se hace con la misma sintaxis que en las listas, pero ahora en vez de un índice se utiliza el valor de la clave del elemento que quiere recuperarse o modificarse."
   ]
  },
  {
   "cell_type": "code",
   "execution_count": 41,
   "metadata": {},
   "outputs": [
    {
     "name": "stdout",
     "output_type": "stream",
     "text": [
      "nombre del río: Nilo\n",
      "ciudades por las que pasa: ['El Cairo', 'Jartum', 'Jinja', 'Yuba']\n"
     ]
    }
   ],
   "source": [
    "print(f\"nombre del río: {un_río['nombre']}\")\n",
    "print(f\"ciudades por las que pasa: {un_río['ciudades']}\")"
   ]
  },
  {
   "cell_type": "markdown",
   "metadata": {},
   "source": [
    "<span class=\"label label-danger\"><i class=\"fa fa-bomb\" aria-hidden=\"true\"></i> ¡Cuidado!</span> Si se utiliza una clave de acceso no existente en el diccionario, se genera un error.."
   ]
  },
  {
   "cell_type": "code",
   "execution_count": 42,
   "metadata": {},
   "outputs": [
    {
     "ename": "KeyError",
     "evalue": "'caudal'",
     "output_type": "error",
     "traceback": [
      "\u001b[0;31m---------------------------------------------------------------------------\u001b[0m",
      "\u001b[0;31mKeyError\u001b[0m                                  Traceback (most recent call last)",
      "\u001b[0;32m<ipython-input-42-9b097c239c9e>\u001b[0m in \u001b[0;36m<module>\u001b[0;34m\u001b[0m\n\u001b[0;32m----> 1\u001b[0;31m \u001b[0mprint\u001b[0m\u001b[0;34m(\u001b[0m\u001b[0;34mf\"su caudal es: {un_río['caudal']}\"\u001b[0m\u001b[0;34m)\u001b[0m \u001b[0;31m# => KeyError: 'caudal'\u001b[0m\u001b[0;34m\u001b[0m\u001b[0;34m\u001b[0m\u001b[0m\n\u001b[0m",
      "\u001b[0;31mKeyError\u001b[0m: 'caudal'"
     ]
    }
   ],
   "source": [
    "print(f\"su caudal es: {un_río['caudal']}\") # => KeyError: 'caudal' "
   ]
  },
  {
   "cell_type": "markdown",
   "metadata": {},
   "source": [
    "<span class=\"label label-info\"><i class=\"fa fa-info-circle\" aria-hidden=\"true\"></i> Truco</span> Si quieres evitar el error de utilizar una clave inexistente, puedes utilizar el método `get` cuyo segundo valor será devuelto en caso de que la clave no exista en el diccionario."
   ]
  },
  {
   "cell_type": "code",
   "execution_count": 43,
   "metadata": {
    "slideshow": {
     "slide_type": "subslide"
    }
   },
   "outputs": [
    {
     "name": "stdout",
     "output_type": "stream",
     "text": [
      "su caudal es: None\n",
      "su caudal es: eso no lo sé\n"
     ]
    }
   ],
   "source": [
    "print(f\"su caudal es: {un_río.get('caudal')}\")\n",
    "print(f\"su caudal es: {un_río.get('caudal', 'eso no lo sé')}\")"
   ]
  },
  {
   "cell_type": "markdown",
   "metadata": {},
   "source": [
    "La modificación de los valores se hace como en la lista, pero usando la clave como valor de acceso."
   ]
  },
  {
   "cell_type": "code",
   "execution_count": 45,
   "metadata": {},
   "outputs": [
    {
     "name": "stdout",
     "output_type": "stream",
     "text": [
      "{'nombre': 'Nilo', 'longitud': 6853, 'ciudades': ['El Cairo', 'Jartum', 'Jinja', 'Yuba'], 'caudal': 2.83}\n"
     ]
    }
   ],
   "source": [
    "un_río['caudal'] = 2.830 # m^3/s , valor erróneo!!! el Nilo tiene un caudal mucho mayor\n",
    "print(un_río)"
   ]
  },
  {
   "cell_type": "markdown",
   "metadata": {},
   "source": [
    "Se pueden modificar varios elementos usando el método `update`."
   ]
  },
  {
   "cell_type": "code",
   "execution_count": 46,
   "metadata": {},
   "outputs": [
    {
     "name": "stdout",
     "output_type": "stream",
     "text": [
      "lo que se de este río es: {'nombre': 'Nilo', 'longitud': 6853, 'ciudades': ['El Cairo', 'Jartum', 'Jinja', 'Yuba'], 'caudal': 2830, 'afluentes': ['Nilo blanco', 'Nilo azul', 'Ora', 'Gumara', 'Dinder', 'Sobat', '...']}\n"
     ]
    }
   ],
   "source": [
    "un_río.update({'caudal': 2830, 'afluentes': ['Nilo blanco', 'Nilo azul',\n",
    "    'Ora', 'Gumara', 'Dinder', 'Sobat', '...']})\n",
    "print(f\"lo que se de este río es: {un_río}\")"
   ]
  },
  {
   "cell_type": "markdown",
   "metadata": {},
   "source": [
    "Se pueden eliminar un elemento usando el **operador** `del`."
   ]
  },
  {
   "cell_type": "code",
   "execution_count": 47,
   "metadata": {},
   "outputs": [
    {
     "name": "stdout",
     "output_type": "stream",
     "text": [
      "{'nombre': 'Nilo', 'longitud': 6853, 'ciudades': ['El Cairo', 'Jartum', 'Jinja', 'Yuba'], 'caudal': 2830}\n"
     ]
    }
   ],
   "source": [
    "del un_río['afluentes']\n",
    "print(un_río)"
   ]
  },
  {
   "cell_type": "code",
   "execution_count": null,
   "metadata": {},
   "outputs": [],
   "source": []
  },
  {
   "cell_type": "code",
   "execution_count": 49,
   "metadata": {},
   "outputs": [
    {
     "data": {
      "text/plain": [
       "(['nombre', 'longitud', 'ciudades', 'caudal'],\n",
       " ['Nilo', 6853, ['El Cairo', 'Jartum', 'Jinja', 'Yuba'], 2830])"
      ]
     },
     "execution_count": 49,
     "metadata": {},
     "output_type": "execute_result"
    }
   ],
   "source": [
    "un_río.keys(), un_río.values()"
   ]
  },
  {
   "cell_type": "code",
   "execution_count": 50,
   "metadata": {},
   "outputs": [
    {
     "data": {
      "text/plain": [
       "dict_items([('nombre', 'Nilo'), ('longitud', 6853), ('ciudades', ['El Cairo', 'Jartum', 'Jinja', 'Yuba']), ('caudal', 2830)])"
      ]
     },
     "execution_count": 50,
     "metadata": {},
     "output_type": "execute_result"
    }
   ],
   "source": [
    "un_río.items()"
   ]
  },
  {
   "cell_type": "markdown",
   "metadata": {},
   "source": [
    "<div class=\"alert alert-info\">\n",
    "   <i style=\"font-size: larger;\" class=\"fa fa-info-circle\" aria-hidden=\"true\"></i> Estos tres últimos métodos: <kbd>keys</kbd>, <kbd>values</kbd> y <kbd>items</kbd>, van a ser muy útiles en combinación con las estructuras de bucle, que se verán en la siguiente sesión.\n",
    "</div>"
   ]
  },
  {
   "cell_type": "markdown",
   "metadata": {},
   "source": [
    "### Otras operaciones con diccionarios <a id=\"otherOpsOnDicts\"></a>  (<span style=\"color:red;text-transform: uppercase;\">opcional</span>) "
   ]
  },
  {
   "cell_type": "code",
   "execution_count": null,
   "metadata": {},
   "outputs": [],
   "source": [
    "ciudades = un_río.pop('ciudades')\n",
    "print(un_río)\n",
    "print(f\"ciudades por las que pasa: {ciudades}\")"
   ]
  },
  {
   "cell_type": "code",
   "execution_count": null,
   "metadata": {},
   "outputs": [],
   "source": [
    "print(f\"len(un_río): {len(un_río)}\")"
   ]
  },
  {
   "cell_type": "code",
   "execution_count": null,
   "metadata": {},
   "outputs": [],
   "source": [
    "print(f\"un_río.keys(): {un_río.keys()}\")\n",
    "print(f\"un_río.values(): {un_río.values()}\")\n",
    "print(f\"un_río.items(): {un_río.items()}\")"
   ]
  },
  {
   "cell_type": "code",
   "execution_count": null,
   "metadata": {},
   "outputs": [],
   "source": [
    "print(f\"\\nel resultado de iterar es:\", end=\" \")\n",
    "[ print(e, end=\", \") for e in un_río ]"
   ]
  },
  {
   "cell_type": "code",
   "execution_count": null,
   "metadata": {},
   "outputs": [],
   "source": [
    "print(f\"\\nListado de datos:\")\n",
    "[ print(f\"\\t{k}: {v}\") for k, v in un_río.items() ]"
   ]
  },
  {
   "cell_type": "markdown",
   "metadata": {},
   "source": [
    "### Comparación de distintas colecciones <a id=\"compareCollections\"></a>  (<span style=\"color:red;text-transform: uppercase;\">opcional</span>) "
   ]
  },
  {
   "cell_type": "code",
   "execution_count": 8,
   "metadata": {},
   "outputs": [
    {
     "name": "stdout",
     "output_type": "stream",
     "text": [
      "lista1 == lista2: True\n",
      "lista1 == lista3: True\n",
      "lista1 == lista4: False\n",
      "lista1 is lista2: False\n",
      "lista1 is lista3: True\n"
     ]
    }
   ],
   "source": [
    "lista1 = [1, 2, 3]\n",
    "lista2 = lista1[:]\n",
    "lista3 = lista1\n",
    "lista4 = [3, 1, 2]\n",
    "\n",
    "# El == compara valores\n",
    "print(f\"lista1 == lista2: {lista1 == lista2}\")  # tienen los mismos valores\n",
    "print(f\"lista1 == lista3: {lista1 == lista3}\")  # tienen los mismos valores\n",
    "print(f\"lista1 == lista4: {lista1 == lista4}\")  # tienen distintos valores\n",
    "\n",
    "# El operador is compara referencias\n",
    "print(f\"lista1 is lista2: {lista1 is lista2}\")  # no es la misma referencia\n",
    "print(f\"lista1 is lista3: {lista1 is lista3}\")  # es la misma referencia"
   ]
  },
  {
   "cell_type": "code",
   "execution_count": 9,
   "metadata": {},
   "outputs": [
    {
     "name": "stdout",
     "output_type": "stream",
     "text": [
      "lista1 == tupla1: False\n",
      "lista1 == list(tupla1): True\n",
      "set1 == set2: True\n",
      "lista1 == lista4: False\n",
      "set(lista1) == set(lista4): True\n"
     ]
    }
   ],
   "source": [
    "tupla1 = (1, 2, 3)\n",
    "set1 = {1, 2, 3}\n",
    "set2 = {3, 1, 2}\n",
    "\n",
    "print(f\"lista1 == tupla1: {lista1 == tupla1}\")             # mismos valores, pero distinto tipo\n",
    "print(f\"lista1 == list(tupla1): {lista1 == list(tupla1)}\") # mismos valores y mismo tipo\n",
    " \n",
    "print(f\"set1 == set2: {set1 == set2}\")                     # iguales (no importa el orden)\n",
    " \n",
    "print(f\"lista1 == lista4: {lista1 == lista4}\")             # no son iguales (importa el orden)\n",
    "print(f\"set(lista1) == set(lista4): {set(lista1) == set(lista4)}\")  # iguales (no importa el orden)"
   ]
  },
  {
   "cell_type": "markdown",
   "metadata": {},
   "source": [
    "# Vectores, matrices y tensores  <a id=\"arrays\"></a><a href=\"#index\"><i class=\"fa fa-list-alt\" aria-hidden=\"true\"></i></a>\n",
    "\n",
    "En Python no existen tipos específicos para los <i class=\"concept\">vectores</i>, las <i class=\"concept\">matrices</i> y los <i class=\"concept\">tensores</i>. Los vectores son fácilmente representables como listas, las matrices podrían representarse como listas de listas, y del mismo modo los tensores de más dimensiones podrían representarse como listas de tensores de dimensiones menores. Pero el acceso a los elementos usando esta representación se hace un poco engorroso. Además tendríamos que programar las operaciones para manipular estos objetos: sumas, productos, traspuestas, inversas, ..."
   ]
  },
  {
   "cell_type": "markdown",
   "metadata": {},
   "source": [
    "<div class=\"alert alert-info\" style=\"text-indent:-.65em; padding-left: 2.2em\">\n",
    "   <i style=\"font-size: larger;\" class=\"fa fa-info-circle\" aria-hidden=\"true\"></i> Un <a href=\"https://en.wikipedia.org/wiki/Tensor\"><i class=\"concept\">tensor</i></a> es un conjunto de valores ordenados en varias dimensiones, arreglo multi dimensional de valores, de modo que se puede hacer referencia a cada valor en la colección (el arreglo) usando las coordenadas que ocupa el valor en la ordenación. Una <a href=\"https://es.wikipedia.org/wiki/Matriz_(matem%C3%A1ticas)\"><i class=\"concept\">matriz</i></a> es un caso especial de tensor de dimensión 2. Un <a href=\"https://es.wikipedia.org/wiki/Vector\"><i class=\"concept\">vector</i></a> es un caso especial de tensor de dimensión 1.\n",
    "</div>\n"
   ]
  },
  {
   "cell_type": "code",
   "execution_count": null,
   "metadata": {},
   "outputs": [],
   "source": [
    "# Un ejemplo de vectores\n",
    "v1 = [7, 9, 6]\n",
    "v2 = [-1, -3, 0]\n",
    "# La suma de vectores\n",
    "v_suma = [v1[0]+v2[0], v1[1]+v2[1], v1[2]+v2[2]] # MÉTODO AVANZADO: v_suma = [e1+e2 for e1, e2 in zip(v1, v2)]\n",
    "print(f\"v_suma => {v_suma}\")\n",
    "\n",
    "# Un ejemplo de matriz\n",
    "M = [[2, 3], [4, 5]]\n",
    "print(f\"M => {M}\")\n",
    "# Accediendo a un elemento de M\n",
    "print(f\"M[0][1] => {M[0][1]}\")\n",
    "\n",
    "# Un ejemplo de tensor\n",
    "M1 = [[2, 3, 1], [4, 5, -2]]\n",
    "M2 = [[3, -1, 69], [0, 1, -1]]\n",
    "T = [M1, M2]\n",
    "print(f\"T => {T}\")\n",
    "# Accediendo a un elemento de T\n",
    "print(f\"T[1][0][2] => {T[1][0][2]}\")"
   ]
  },
  {
   "cell_type": "markdown",
   "metadata": {},
   "source": [
    "Para facilitar un poco la utilización de este tipo de objetos existe la biblioteca [Numpy](http://www.numpy.org/).\n",
    "\n",
    "Numpy ofrece el tipo `array` que se puede utilizar para representar tensores de dimensiones arbitrarias (también tiene el tipo `matrix` para los tensores bi-dimensionales, [_aunque su uso_](https://stackoverflow.com/questions/4151128/what-are-the-differences-between-numpy-arrays-and-matrices-which-one-should-i-u)\n",
    "[_se desaconseja_](https://docs.scipy.org/doc/numpy/user/numpy-for-matlab-users.html#array-or-matrix-which-should-i-use)).\n",
    "\n",
    "Para poder utilizar estos tipos, lo único que tenemos que hacer es importar el paquete `numpy`. Además, la tradición establecida es renombrarlo a `np` para ahorrarnos pulsaciones de teclado."
   ]
  },
  {
   "cell_type": "code",
   "execution_count": 52,
   "metadata": {},
   "outputs": [],
   "source": [
    "import numpy as np # Esto importa la biblioteca `numpy` con el nombre `np`"
   ]
  },
  {
   "cell_type": "markdown",
   "metadata": {},
   "source": [
    "Ahora podemos utilizar toda la funcionalidad que proporcionan `numpy`, lo que nos permitirá manipular tensores como si fueran tipos básicos."
   ]
  },
  {
   "cell_type": "code",
   "execution_count": 53,
   "metadata": {},
   "outputs": [
    {
     "name": "stdout",
     "output_type": "stream",
     "text": [
      "v_suma => [6 6 6]\n"
     ]
    }
   ],
   "source": [
    "# Un ejemplo de vectores\n",
    "v1 = np.array([7, 9, 6])\n",
    "v2 = np.array([-1, -3, 0])\n",
    "# La suma de vectores\n",
    "v_suma = v1 + v2\n",
    "print(f\"v_suma => {v_suma}\")"
   ]
  },
  {
   "cell_type": "code",
   "execution_count": 54,
   "metadata": {},
   "outputs": [
    {
     "name": "stdout",
     "output_type": "stream",
     "text": [
      "M =>\n",
      "[[2 3]\n",
      " [4 5]]\n",
      "M[0, 1] => 3\n"
     ]
    }
   ],
   "source": [
    "# Un ejemplo de matriz\n",
    "M = np.array([[2, 3], [4, 5]])\n",
    "print(f\"M =>\\n{M}\")\n",
    "# Accediendo a un elemento de M\n",
    "print(f\"M[0, 1] => {M[0, 1]}\")"
   ]
  },
  {
   "cell_type": "code",
   "execution_count": 55,
   "metadata": {
    "scrolled": false
   },
   "outputs": [
    {
     "name": "stdout",
     "output_type": "stream",
     "text": [
      "T =>\n",
      " [[[ 2  3  1]\n",
      "  [ 4  5 -2]]\n",
      "\n",
      " [[ 3 -1 69]\n",
      "  [ 0  1 -1]]]\n",
      "T[1, 0, 2] => 69\n"
     ]
    }
   ],
   "source": [
    "# Un ejemplo de tensor\n",
    "t1 = [[2, 3, 1], [4, 5, -2]]\n",
    "t2 = [[3, -1, 69], [0, 1, -1]]\n",
    "T = np.array([t1, t2])\n",
    "print(f\"T =>\\n {T}\")\n",
    "# Accediendo a un elemento de T\n",
    "print(f\"T[1, 0, 2] => {T[1, 0, 2]}\")"
   ]
  },
  {
   "cell_type": "markdown",
   "metadata": {},
   "source": [
    "<span class=\"label label-info\"><i class=\"fa fa-info-circle\" aria-hidden=\"true\"></i> Truco</span> Un importante concepto en Numpy es el de [<i class=\"concept\">broadcasting</i>](https://docs.scipy.org/doc/numpy-1.13.0/user/basics.broadcasting.html), básicamente consiste en que cuando se combina con un operador dos <i>arrays</i>, las dimensiones del <i>array</i> de menos dimensiones se transforman para hacerlo compatible con el del mayor dimensión."
   ]
  },
  {
   "cell_type": "code",
   "execution_count": null,
   "metadata": {},
   "outputs": [],
   "source": [
    "M = np.array([[-2, 3], [4, -5]])\n",
    "v = np.array([[2, 3]])\n",
    "print(f\"M + 10 =>\\n {M + 10}\")\n",
    "print(f\"M * 5 =>\\n {M * 5}\")\n",
    "print(f\"M - v =>\\n {M - v}\")"
   ]
  },
  {
   "cell_type": "code",
   "execution_count": null,
   "metadata": {
    "scrolled": true
   },
   "outputs": [],
   "source": [
    "print(f\"M =>\\n {M}\")\n",
    "print(f\"M == 2 =>\\n {M == 2}\")\n",
    "print(f\"M > 2 =>\\n {M > 2}\")\n",
    "print(f\"M == v =>\\n {M == v}\")"
   ]
  },
  {
   "cell_type": "markdown",
   "metadata": {},
   "source": [
    "<span class=\"label label-info\"><i class=\"fa fa-info-circle\" aria-hidden=\"true\"></i> Truco</span> Cuando se trabaja con arrays, los equivalentes a `sum`, `all` y `any`, que se usaban para colecciones, son `np.sum`, `np.all` y `np.any`."
   ]
  },
  {
   "cell_type": "code",
   "execution_count": null,
   "metadata": {},
   "outputs": [],
   "source": [
    "print(f\"M =>\\n {M}\")\n",
    "print(f\"M > -10 =>\\n {M > -10}\")\n",
    "print(f\"np.all(M > -10) => {np.all(M > -10)}\")\n",
    "print(f\"np.sum(M) =>\\n {np.sum(M)}\")"
   ]
  },
  {
   "cell_type": "markdown",
   "metadata": {},
   "source": [
    "<span class=\"label label-info\"><i class=\"fa fa-info-circle\" aria-hidden=\"true\"></i> Truco</span> El operador `*` es la multiplicación elemento a elemento, para la multiplicación de matrices, se usa `@`."
   ]
  },
  {
   "cell_type": "code",
   "execution_count": 56,
   "metadata": {},
   "outputs": [
    {
     "name": "stdout",
     "output_type": "stream",
     "text": [
      "M =>\n",
      " [[2 3]\n",
      " [4 5]]\n",
      "M * M =>\n",
      " [[ 4  9]\n",
      " [16 25]]\n",
      "M @ 2 =>\n",
      " [[16 21]\n",
      " [28 37]]\n"
     ]
    }
   ],
   "source": [
    "print(f\"M =>\\n {M}\")\n",
    "print(f\"M * M =>\\n {M * M}\")\n",
    "print(f\"M @ 2 =>\\n {M @ M}\")"
   ]
  },
  {
   "cell_type": "markdown",
   "metadata": {},
   "source": [
    "### Otros ejemplos (<span style=\"color:red;text-transform: uppercase;\">opcional</span>) "
   ]
  },
  {
   "cell_type": "code",
   "execution_count": null,
   "metadata": {},
   "outputs": [],
   "source": [
    "# Otras operaciones\n",
    "print(f\"v2 * v2 => {v2 * v2}\")\n",
    "print(f\"v2 @ v2 => {v2 @ v2}\")\n",
    "print(f\"3 * v1 + v2 * v2 => {3 * v1 + v2 * v2}\")\n",
    "print(f\"3 * v1 + v2 @ v2 => {3 * v1 + v2 @ v2}\")"
   ]
  },
  {
   "cell_type": "code",
   "execution_count": null,
   "metadata": {},
   "outputs": [],
   "source": [
    "# Otro ejemplo de vectores\n",
    "v1 = np.array([[7, 9, 6]])\n",
    "v2 = np.array([[-1, -3, 0]])\n",
    "print(f\"v1.shape => {v1.shape}\")\n",
    "print(f\"v2 => {v2}\")\n",
    "print(f\"v2.T => {v2.T}\")\n",
    "print(f\"v2.shape => {v2.shape}\")\n",
    "print(f\"v2.T.shape => {v2.T.shape}\")\n",
    "print(f\"3 * v1 + v2 * v2 => {3 * v1 + v2 * v2}\")\n",
    "print(f\"3 * v1 + v2 @ v2.T => {3 * v1 + v2 @ v2.T}\")"
   ]
  },
  {
   "cell_type": "markdown",
   "metadata": {},
   "source": [
    "<h1 class=\"jumbo\">Ejercicios y retos   <a id=\"exercises\"></a><a href=\"#index\" style=\"color: white\"><i class=\"fa fa-list-alt\" aria-hidden=\"true\"></i></a></h1>"
   ]
  },
  {
   "cell_type": "markdown",
   "metadata": {},
   "source": [
    "### Ejercicio 1\n",
    "Calcular los ceros de una parábola.\n",
    "\n",
    "Dados los valores $a$, $b$, $c$ de un polinomio de segundo grado: $ax^2+bx+c$, encontrar los valores de $x$ para los que el polinomio se evalúa a cero: \n",
    "$$x=\\frac{-b\\pm\\sqrt{b^2-4ac}}{2a}$$"
   ]
  },
  {
   "cell_type": "code",
   "execution_count": null,
   "metadata": {},
   "outputs": [],
   "source": [
    "a = 2\n",
    "b = 3\n",
    "c = 5\n",
    " # ojo con las raíces de números negativos (aunque podrían usarse números complejos)\n",
    " ## AQUÍ EL CÓDIGO PARA CALCULAR LOS VALORES DE x "
   ]
  },
  {
   "cell_type": "markdown",
   "metadata": {},
   "source": [
    "### Ejercicio 2\n",
    "\n",
    "Cómo utilizarías el acceso indexado a listas para obtener el valor 3 a partir de las siguiente listas?\n",
    "```python\n",
    "lista1 = [1, 2, 3, 4]\n",
    "lista2 = [1, [2, [3, [4]]]]\n",
    "lista3 = [[[[1], 2], 3], 4]\n",
    "lista4 = [[1, 2],[[3], 4]]\n",
    "lista5 = [[[1], [2], [3], [4]]]\n",
    "lista6 = [[[[1]]], [[2]], [3], 4]\n",
    "lista7 = [[[1], [[2, 3], 4]]]\n",
    "```"
   ]
  },
  {
   "cell_type": "code",
   "execution_count": null,
   "metadata": {},
   "outputs": [],
   "source": [
    "lista1 = [1, 2, 3, 4]\n",
    "# AQUÍ EL CÓDIGO PARA RECUPERAR EL VALOR 3"
   ]
  },
  {
   "cell_type": "code",
   "execution_count": null,
   "metadata": {},
   "outputs": [],
   "source": [
    "lista2 = [1, [2, [3, [4]]]]\n",
    "# AQUÍ EL CÓDIGO PARA RECUPERAR EL VALOR 3"
   ]
  },
  {
   "cell_type": "code",
   "execution_count": null,
   "metadata": {},
   "outputs": [],
   "source": [
    "lista3 = [[[[1], 2], 3], 4]\n",
    "# AQUÍ EL CÓDIGO PARA RECUPERAR EL VALOR 3"
   ]
  },
  {
   "cell_type": "code",
   "execution_count": null,
   "metadata": {},
   "outputs": [],
   "source": [
    "lista4 = [[1, 2],[[3], 4]]\n",
    "# AQUÍ EL CÓDIGO PARA RECUPERAR EL VALOR 3"
   ]
  },
  {
   "cell_type": "code",
   "execution_count": null,
   "metadata": {},
   "outputs": [],
   "source": [
    "lista5 = [[[1], [2], [3], [4]]]\n",
    "# AQUÍ EL CÓDIGO PARA RECUPERAR EL VALOR 3"
   ]
  },
  {
   "cell_type": "code",
   "execution_count": null,
   "metadata": {},
   "outputs": [],
   "source": [
    "lista6 = [[[[1]]], [[2]], [3], 4]\n",
    "# AQUÍ EL CÓDIGO PARA RECUPERAR EL VALOR 3"
   ]
  },
  {
   "cell_type": "code",
   "execution_count": null,
   "metadata": {},
   "outputs": [],
   "source": [
    "lista7 = [[[1], [[2, 3], 4]]]\n",
    "# AQUÍ EL CÓDIGO PARA RECUPERAR EL VALOR 3"
   ]
  },
  {
   "cell_type": "markdown",
   "metadata": {},
   "source": [
    "### Ejercicio 3\n",
    "Sumar dos vectores representados como listas. Si los vectores son $\\vec{v_1}=(2,3)$ y $\\vec{v_2}=(-3,1)$ el resultado sería $\\vec{v_1}+\\vec{v_2}=(-1,4)$"
   ]
  },
  {
   "cell_type": "code",
   "execution_count": null,
   "metadata": {},
   "outputs": [],
   "source": [
    "vec1 = [4, 8, 10]\n",
    "vec2 = [1, 6, -2]\n",
    "# AQUÍ EL CÓDIGO PARA CALCULAR vec1 + vec2"
   ]
  },
  {
   "cell_type": "markdown",
   "metadata": {},
   "source": [
    "### Ejercicio 4\n",
    "Sumar dos vectores representados como arrays de numpy."
   ]
  },
  {
   "cell_type": "code",
   "execution_count": null,
   "metadata": {},
   "outputs": [],
   "source": [
    "vec1 = np.array([4, 8, 10])\n",
    "vec2 = np.array([1, 6, -2])\n",
    "# AQUÍ EL CÓDIGO PARA CALCULAR vec1 + vec2"
   ]
  },
  {
   "cell_type": "markdown",
   "metadata": {},
   "source": [
    "### Ejercicio 5\n",
    "Calcular la norma de un vector representado como array de numpy.\n",
    "\n",
    "Dado un vector $\\vec{v}=(x_1, x_2, \\ldots, x_n)$ calcular: \n",
    "$$\\|x\\|=\\sqrt{\\sum_{i=1}^n x_i^2}$$\n",
    "\n",
    "Si el vector es $\\vec{v}=(9,6,2)$, el resultado sería $11$"
   ]
  },
  {
   "cell_type": "code",
   "execution_count": null,
   "metadata": {},
   "outputs": [],
   "source": [
    "vec = np.array([5, 8, -3])\n",
    " # AQUÍ EL CÓDIGO PARA CALCULAR LA NORMA DE vec"
   ]
  },
  {
   "cell_type": "markdown",
   "metadata": {},
   "source": [
    "### Ejercicio 6\n",
    "Comprobar que un elemento pertenece a una lista. Si el elemento a buscar es 3 y la lista es <kbd>[4, 7, 9]</kbd>, el resultado sería <kbd>False</kbd>, en cambio para la lista <kbd>[4, 6, 3, 2]</kbd>, el resultado sería <kbd>True</kbd>.\n",
    "\n",
    "<a class=\"label label-info\" style=\"padding-top: .5em\" type=\"button\" data-toggle=\"collapse\" data-target=\"#collapsePista00\">\n",
    "    <i class=\"fa fa-info-circle\" aria-hidden=\"true\"></i> Pista\n",
    "</a>\n",
    "  \n",
    "<div class=\"collapse\" id=\"collapsePista00\">\n",
    "  <div class=\"card card-body\" style=\"-moz-border-bottom-colors: none; -moz-border-left-colors: none; -moz-border-right-colors: none; -moz-border-top-colors: none; background-color: #fefef1; border-bottom-right-radius: 12px; border-color: #f7a600; border-style: solid; border-width: 1px 1px 1px 5px; box-shadow: 2px 3px 5px #ccc; color: #222; display: table; line-height: 1.4em; margin: 10px 20px 20px; overflow: hidden; padding: 10px 16px;\">\n",
    "      El operador <kbd>in</kbd> puede utilizarse para comprobar que un elemento está dentro de una colección.\n",
    "  </div>  \n",
    "</div>"
   ]
  },
  {
   "cell_type": "code",
   "execution_count": null,
   "metadata": {},
   "outputs": [],
   "source": [
    "lista = [5, 8, 9, 10]\n",
    "elto = 9\n",
    " # AQUÍ EL CÓDIGO"
   ]
  },
  {
   "cell_type": "markdown",
   "metadata": {},
   "source": [
    "### Ejercicio 7\n",
    "Comprobar que todos los elementos de una lista son iguales. Una lista como <kbd>[4, 4, 4]</kbd> daría <kbd>True</kbd>, una lista como <kbd>[1, 1, 1, 2]</kbd> daría <kbd>False</kbd>. \n",
    "\n",
    "<a class=\"label label-info\" style=\"padding-top: .5em\" type=\"button\" data-toggle=\"collapse\" data-target=\"#collapsePista01\">\n",
    "    <i class=\"fa fa-info-circle\" aria-hidden=\"true\"></i> Pista\n",
    "</a>\n",
    "  \n",
    "<div class=\"collapse\" id=\"collapsePista01\">\n",
    "  <div class=\"card card-body\" style=\"-moz-border-bottom-colors: none; -moz-border-left-colors: none; -moz-border-right-colors: none; -moz-border-top-colors: none; background-color: #fefef1; border-bottom-right-radius: 12px; border-color: #f7a600; border-style: solid; border-width: 1px 1px 1px 5px; box-shadow: 2px 3px 5px #ccc; color: #222; display: table; line-height: 1.4em; margin: 10px 20px 20px; overflow: hidden; padding: 10px 16px;\">\n",
    "    Puedes utilizar la lista para crear un array de numpy y aprovecharte del broadcasting.\n",
    "  </div>  \n",
    "</div>"
   ]
  },
  {
   "cell_type": "code",
   "execution_count": null,
   "metadata": {},
   "outputs": [],
   "source": [
    "lista = [5, 5, 5, 5]\n",
    " # AQUÍ EL CÓDIGO"
   ]
  },
  {
   "cell_type": "code",
   "execution_count": null,
   "metadata": {},
   "outputs": [],
   "source": [
    "any([False, True])"
   ]
  },
  {
   "cell_type": "markdown",
   "metadata": {},
   "source": [
    "### Ejercicio 8\n",
    "Dada una secuencia de bases de una porción de ADN, representada como una cadena, calcular el [porcentaje GC](https://es.wikipedia.org/wiki/Contenido_GC).\n",
    "\n",
    "<a class=\"label label-info\" style=\"padding-top: .5em\" type=\"button\" data-toggle=\"collapse\" data-target=\"#collapsePista02\">\n",
    "    <i class=\"fa fa-info-circle\" aria-hidden=\"true\"></i> Pista\n",
    "</a>\n",
    "  \n",
    "<div class=\"collapse\" id=\"collapsePista02\">\n",
    "  <div class=\"card card-body\" style=\"-moz-border-bottom-colors: none; -moz-border-left-colors: none; -moz-border-right-colors: none; -moz-border-top-colors: none; background-color: #fefef1; border-bottom-right-radius: 12px; border-color: #f7a600; border-style: solid; border-width: 1px 1px 1px 5px; box-shadow: 2px 3px 5px #ccc; color: #222; display: table; line-height: 1.4em; margin: 10px 20px 20px; overflow: hidden; padding: 10px 16px;\">\n",
    "      Recuerda lo que hacía el método <kbd>count</kbd>, si no lo recuerdas, puedes usar <kbd>help(str.count)</kbd>.\n",
    "  </div>  \n",
    "</div>"
   ]
  },
  {
   "cell_type": "code",
   "execution_count": null,
   "metadata": {},
   "outputs": [],
   "source": [
    "adn = \"AAGCATCGTGTCATGCATCG\"\n",
    "GC = '<Aquí el código solución>'"
   ]
  },
  {
   "cell_type": "markdown",
   "metadata": {},
   "source": [
    "### Ejercicio 9\n",
    "Comprobar que una número es capicúa, es decir, se lee lo mismo de izquierda a derecha que de derecha a izquierda. \n",
    "\n",
    "<a class=\"label label-info\" style=\"padding-top: .5em\" type=\"button\" data-toggle=\"collapse\" data-target=\"#collapsePista03\">\n",
    "    <i class=\"fa fa-info-circle\" aria-hidden=\"true\"></i> Pista\n",
    "</a>\n",
    "  \n",
    "<div class=\"collapse\" id=\"collapsePista03\">\n",
    "  <div class=\"card card-body\" style=\"-moz-border-bottom-colors: none; -moz-border-left-colors: none; -moz-border-right-colors: none; -moz-border-top-colors: none; background-color: #fefef1; border-bottom-right-radius: 12px; border-color: #f7a600; border-style: solid; border-width: 1px 1px 1px 5px; box-shadow: 2px 3px 5px #ccc; color: #222; display: table; line-height: 1.4em; margin: 10px 20px 20px; overflow: hidden; padding: 10px 16px;\">\n",
    "      Utiliza el constructor de cadenas <kbd>str</kbd> para obtener una cadena a partir del número, y comprueba si la cadena obtenida es un palíndromo, es decir, es igual a su inversa.\n",
    "        </div>  \n",
    "</div>"
   ]
  },
  {
   "cell_type": "code",
   "execution_count": null,
   "metadata": {},
   "outputs": [],
   "source": [
    "valor = 6941496\n",
    "# Aquí el código"
   ]
  },
  {
   "cell_type": "markdown",
   "metadata": {},
   "source": [
    "### Ejercicio 10\n",
    "\n",
    "Dada la siguiente estructura de datos:"
   ]
  },
  {
   "cell_type": "code",
   "execution_count": null,
   "metadata": {
    "scrolled": true
   },
   "outputs": [],
   "source": [
    "datos = [{'v1': 'g1', 'v2': (3.1415, 2.7118, {'f': 'a/a=1'}) }, \n",
    "         {'v1': 'g2', 'v2': (-3.1415, -2.7118,  {'f': 'E=mc^2'}) }, \n",
    "         {'v1': 'g3', 'v2': (0, 1, {'f': 'e^{iπ}-1=0'}) },\n",
    "        ]\n",
    "datos"
   ]
  },
  {
   "cell_type": "markdown",
   "metadata": {},
   "source": [
    "¿Cómo accederías al valor `'g1'`?"
   ]
  },
  {
   "cell_type": "code",
   "execution_count": null,
   "metadata": {},
   "outputs": [],
   "source": []
  },
  {
   "cell_type": "markdown",
   "metadata": {},
   "source": [
    "¿Cómo accederías al valor `3.1415`?"
   ]
  },
  {
   "cell_type": "code",
   "execution_count": null,
   "metadata": {},
   "outputs": [],
   "source": []
  },
  {
   "cell_type": "markdown",
   "metadata": {},
   "source": [
    "¿Cómo accederías al valor `-2.7118`?"
   ]
  },
  {
   "cell_type": "code",
   "execution_count": null,
   "metadata": {},
   "outputs": [],
   "source": []
  },
  {
   "cell_type": "markdown",
   "metadata": {},
   "source": [
    "¿Cómo accederías al valor `'e^{iπ}-1=0'`?"
   ]
  },
  {
   "cell_type": "code",
   "execution_count": null,
   "metadata": {},
   "outputs": [],
   "source": []
  },
  {
   "cell_type": "markdown",
   "metadata": {},
   "source": [
    "### Ejercicio 11\n",
    "\n",
    "Dada la siguiente estructura de datos:"
   ]
  },
  {
   "cell_type": "code",
   "execution_count": null,
   "metadata": {
    "scrolled": false
   },
   "outputs": [],
   "source": [
    "datos = {'xyz': ['g1', (3.1415, 2.7118,  {'f': 'a/a=1'})], \n",
    "         'abc': ['g2', (-3.1415, -2.7118, {'f': 'E=mc^2'})], \n",
    "         'X11': ['g3', (0, 1, {'f': 'e^{iπ}-1=0'})],\n",
    "        }\n",
    "datos"
   ]
  },
  {
   "cell_type": "markdown",
   "metadata": {},
   "source": [
    "¿Cómo accederías al valor `'g1'`?"
   ]
  },
  {
   "cell_type": "code",
   "execution_count": null,
   "metadata": {},
   "outputs": [],
   "source": []
  },
  {
   "cell_type": "markdown",
   "metadata": {},
   "source": [
    "¿Cómo accederías al valor `3.1415`?"
   ]
  },
  {
   "cell_type": "code",
   "execution_count": null,
   "metadata": {},
   "outputs": [],
   "source": []
  },
  {
   "cell_type": "markdown",
   "metadata": {},
   "source": [
    "¿Cómo accederías al valor `-2.7118`?"
   ]
  },
  {
   "cell_type": "code",
   "execution_count": null,
   "metadata": {},
   "outputs": [],
   "source": []
  },
  {
   "cell_type": "markdown",
   "metadata": {},
   "source": [
    "¿Cómo accederías al valor `'e^{iπ}-1=0'`?"
   ]
  },
  {
   "cell_type": "code",
   "execution_count": null,
   "metadata": {},
   "outputs": [],
   "source": []
  },
  {
   "cell_type": "markdown",
   "metadata": {},
   "source": [
    "###  Ejercicio 12 \n",
    "Se tiene los siguientes datos de unos investigadores del área de lenguajes y sistemas informáticos:\n",
    "- Nombre: Juan José Rodríguez, email: jjrodriguez@ubu.es, h-index: 25.\n",
    "- Nombre: César Ignacio García Osorio, email: cgosorio@ubu.es, h-index: 17.\n",
    "- Nombre: José Francisco Díez Pastor, email: jfdpastor@ubu.es, h-index: 9.\n",
    "- Nombre: Álvar Arnaiz González, email: alvarag@ubu.es, h-index: 8.\n",
    "\n",
    "Se quiere almacenar esta información con tres listas: `nombres`, `emails`, `h_índices`, de forma que la información relacionada ocupe las mismas posiciones en cada lista. **Crea dichas listas**."
   ]
  },
  {
   "cell_type": "code",
   "execution_count": null,
   "metadata": {},
   "outputs": [],
   "source": [
    "# Aquí la definición de las tres listas\n",
    "nombres = [ ]\n",
    "emails = [ ]\n",
    "h_índices = [ ]\n",
    "# El acceso a los datos de un investigador consistiría en usar \n",
    "# el índice de su posición para recuperar los tres valores, si pos=0: nombre[pos], emails[pos], h_índices[pos]"
   ]
  },
  {
   "cell_type": "markdown",
   "metadata": {},
   "source": [
    "###  Ejercicio 13 \n",
    "Otra representación para los datos del ejercicio 10 sería tener una lista cuyos elementos sean tuplas con los tres valores que se quieren almacenar para cada investigador.  **Crea dicha lista**."
   ]
  },
  {
   "cell_type": "code",
   "execution_count": null,
   "metadata": {},
   "outputs": [],
   "source": [
    "# Aquí la definición de la lista de tuplas\n",
    "investigadores = [ ]\n",
    "# El acceso a los datos de un investigador consistiría en usar \n",
    "# el índice de su posición para recuperar los tres valores, si pos=0: n, e, h = investigadores[pos]"
   ]
  },
  {
   "cell_type": "markdown",
   "metadata": {},
   "source": [
    "###  Ejercicio 14 \n",
    "Otra representación para los datos del ejercicio 10 sería tener una lista de diccionarios, en la que cada diccionario tenga las tres claves: `nombre`, `email`, `h_index`. **Crea dicha lista**."
   ]
  },
  {
   "cell_type": "code",
   "execution_count": null,
   "metadata": {},
   "outputs": [],
   "source": [
    "# Aquí la definición de la lista de diccionarios\n",
    "investigadores = [ ]\n",
    "# El acceso a los datos de un investigador consistiría en usar \n",
    "# el índice de su posición para recuperar los tres valores, \n",
    "# si pos=0: inv=investigadores[pos], inv['nombre'], inv['email'], inv['h_index']"
   ]
  },
  {
   "cell_type": "markdown",
   "metadata": {},
   "source": [
    "###  Ejercicio 15 \n",
    "Otra representación para los datos del ejercicio 10 sería tener un diccionario indexado por el email, de forma que el valor asociado a cada clave sea una tupla con el nombre y el h-index. **Crea dicho diccionario**."
   ]
  },
  {
   "cell_type": "code",
   "execution_count": null,
   "metadata": {},
   "outputs": [],
   "source": [
    "# Aquí la definición del diccionario de tuplas\n",
    "investigadores = dict()\n",
    "# El acceso a los datos de un investigador consistiría en usar \n",
    "# el índice de su posición para recuperar los tres valores, \n",
    "# si nombre, h_index = investigadores['cgosorio@ubu.es']"
   ]
  },
  {
   "cell_type": "code",
   "execution_count": null,
   "metadata": {},
   "outputs": [],
   "source": []
  },
  {
   "cell_type": "markdown",
   "metadata": {},
   "source": [
    "###  Ejercicio 16 \n",
    "Se podrían combinar las representaciones del ejercicio 12 y 13 para tener un diccionario de diccionarios, en el que cada diccionario miembro este indexado por email, y cada uno de estos diccionarios tenga tres claves (incluida de nuevo la del email). **Crea dicho diccionario**."
   ]
  },
  {
   "cell_type": "code",
   "execution_count": null,
   "metadata": {},
   "outputs": [],
   "source": [
    "# Aquí la definición del diccionario de diccionarios\n",
    "investigadores = dict()\n",
    "# El acceso a los datos de un investigador consistiría en usar \n",
    "# el índice de su posición para recuperar los tres valores, \n",
    "# si nombre, inv = investigadores['cgosorio@ubu.es'], inv['nombre'], inv['email'], inv['h_index']"
   ]
  },
  {
   "cell_type": "code",
   "execution_count": null,
   "metadata": {},
   "outputs": [],
   "source": []
  },
  {
   "cell_type": "markdown",
   "metadata": {},
   "source": [
    "<div class=\"alert alert-info\" style=\"text-indent:-.65em; padding-left: 2.2em\">\n",
    "   <i style=\"font-size: larger;\" class=\"fa fa-info-circle\" aria-hidden=\"true\"></i> Como ha podido verse, la misma situación puede representarse de varias formas distintas. <b>Que una representación sea más adecuada que otra dependerá del problema concreto que quiera resolverse</b>.  \n",
    "</div>\n"
   ]
  },
  {
   "cell_type": "markdown",
   "metadata": {},
   "source": [
    "<div class=\"alert alert-info\" style=\"text-indent:-.65em; padding-left: 2.2em\">\n",
    "   <i style=\"font-size: larger;\" class=\"fa fa-info-circle\" aria-hidden=\"true\"></i> En esta sesión se han visto las estructuras de datos básicas de Python (se han incluido los arrays de numpy, porque aunque no es un tipo básico del lenguaje, en un contexto científico vamos a estar utilizando el <code>import numpy as np</code> prácticamente por sistema). En la siguiente sesión se verán las estructuras de control que permite la manipulación de los datos. Y por último, en la sesión 3 se verán estructuras de datos incluso más potentes, y algunas de las bibliotecas más interesantes en el contexto del análisis de datos.  \n",
    "</div>\n"
   ]
  },
  {
   "cell_type": "code",
   "execution_count": null,
   "metadata": {},
   "outputs": [],
   "source": []
  }
 ],
 "metadata": {
  "kernelspec": {
   "display_name": "Python 3",
   "language": "python",
   "name": "python3"
  },
  "language_info": {
   "codemirror_mode": {
    "name": "ipython",
    "version": 3
   },
   "file_extension": ".py",
   "mimetype": "text/x-python",
   "name": "python",
   "nbconvert_exporter": "python",
   "pygments_lexer": "ipython3",
   "version": "3.6.10"
  }
 },
 "nbformat": 4,
 "nbformat_minor": 2
}
