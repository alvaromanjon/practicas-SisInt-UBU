{
 "cells": [
  {
   "cell_type": "code",
   "execution_count": 10,
   "metadata": {
    "nbpresent": {
     "id": "965b3334-7092-43da-ab51-fd2e16ed00a5"
    },
    "scrolled": true,
    "slideshow": {
     "slide_type": "skip"
    }
   },
   "outputs": [
    {
     "data": {
      "text/html": [
       "<link rel=\"stylesheet\" type=\"text/css\" href=\"custom.css\">\n"
      ],
      "text/plain": [
       "<IPython.core.display.HTML object>"
      ]
     },
     "metadata": {},
     "output_type": "display_data"
    }
   ],
   "source": [
    "%%HTML\n",
    "<link rel=\"stylesheet\" type=\"text/css\" href=\"custom.css\">"
   ]
  },
  {
   "cell_type": "markdown",
   "metadata": {
    "nbpresent": {
     "id": "b8300535-6e4c-460b-b499-7db5c12d363e"
    },
    "slideshow": {
     "slide_type": "slide"
    }
   },
   "source": [
    "<a name=\"begin\"></a><img style=\"float:left\" width=\"70%\" src=\"pics/escudo_COLOR_1L_DCHA.png\">\n",
    "<img style=\"float:right\" width=\"15%\" src=\"pics/PythonLogo.svg\">\n",
    "<br style=\"clear:both;\">\n",
    "\n",
    "# Introducción a la programación en Python\n",
    "    \n",
    "Impartido como curso del [Grupo 9 de universidades (G-9)](https://www.uni-g9.net/)\n",
    "\n",
    "<h2 style=\"display: inline-block; padding: 4mm; padding-left: 2em; background-color: navy; line-height: 1.3em; color: white; border-radius: 10px;\">Preliminares, instalación y uso de Jupyter</h2>\n",
    "\n",
    "\n",
    "## Docentes\n",
    "\n",
    " - César Ignacio García Osorio<a style=\"color: black; text-decoration: none;\" href=\"#end\">&nbsp;</a>\n",
    " - Álvar Arnaiz González\n",
    " - José Francisco Diez Pastor\n",
    " - Mario Juez Gil\n",
    " - <i style=\"color:gray\">Juan José Rodríguez (participante en las versiones previas del curso en el IFIE de la Universidad de Burgos)</i>"
   ]
  },
  {
   "cell_type": "markdown",
   "metadata": {
    "nbpresent": {
     "id": "b8300535-6e4c-460b-b499-7db5c12d363e"
    },
    "slideshow": {
     "slide_type": "subslide"
    }
   },
   "source": [
    "## Tabla de contenidos del notebook <a id=\"index\"></a>\n",
    "\n",
    "1. [Python](#python)\n",
    "2. [Descarga e instalación](#download)\n",
    "3. [Primeros ejemplos](#ejes)\n",
    "4. [Cuadernos Jupyter](#notebooks)\n",
    "5. [Markdown, LaTeX y HTML](#markdown)\n",
    "6. [Referencias](#references)\n",
    "<hr style=\"border-top: 1px solid red\" />\n",
    "7. [Utilización de entornos virtuales](#virtenv)\n",
    "8. [Opciones del comando conda](#conda)\n",
    "9. [El comando pip](#pip)\n",
    "10. [Magics de Jupyter](#magic)\n",
    "11. [Más referencias](#morereferences)"
   ]
  },
  {
   "cell_type": "markdown",
   "metadata": {
    "nbpresent": {
     "id": "57e2b216-f721-4b20-b9d6-2117cd151dcb"
    },
    "slideshow": {
     "slide_type": "slide"
    }
   },
   "source": [
    "# Python <a id=\"python\"></a>&nbsp;&nbsp;<a href=\"#index\"><i class=\"fa fa-list-alt\" aria-hidden=\"true\"></i></a>\n",
    "<img style=\"float:right;\" width=\"20%\" src=\"pics/PythonLogo.svg\">\n",
    "\n",
    "Creado a finales de los ochenta por <a href=\"https://es.wikipedia.org/wiki/Guido_van_Rossum\">Guido van Rossum</a>, Python es un lenguaje de programación de alto nivel, moderno, robusto, interpretado, **muy potente y ampliamente utilizado**. Dispone estructuras de datos eficientes y de alto nivel así como de un enfoque simple para programación orientada a objetos."
   ]
  },
  {
   "cell_type": "markdown",
   "metadata": {
    "nbpresent": {
     "id": "fc47db58-1081-4763-885b-2f6f61beaa25"
    },
    "slideshow": {
     "slide_type": "subslide"
    }
   },
   "source": [
    "A diferencia de otros lenguajes tradicionales, como C, Python tiene algunas ventajas:\n",
    "\n",
    "- Es interpretado: no es necesaria una compilación para poder ejecutar el código programado.\n",
    "- Sintaxis simple y eficiente que permite realizar operaciones complejas con poco código y que hace que sea un <b>lenguaje fácil de aprender</b>, incluso para las personas que no han programado previamente.\n",
    "- **Multitud de bibliotecas disponibles**: computación científica, servicios web, juegos, procesamiento de lenguaje, dibujo, minería de datos, aprendizaje automático, deep learning, interfaces gráficas, ..."
   ]
  },
  {
   "cell_type": "markdown",
   "metadata": {
    "nbpresent": {
     "id": "4062eb4e-d2d9-4897-a7f5-ea566d66be2b"
    },
    "slideshow": {
     "slide_type": "subslide"
    }
   },
   "source": [
    "- Tipado dinámico: no es necesario definir el tipo de una variable. Puede verse como una desventaja porque puede producir errores en ejecución.\n",
    "- Permite utilizar <b>varios paradigmas de programación</b> como: [la orientación a objetos](https://es.wikipedia.org/wiki/Programaci%C3%B3n_orientada_a_objetos), [la programación imperativa](https://es.wikipedia.org/wiki/Programaci%C3%B3n_imperativa) y la [programación funcional](https://es.wikipedia.org/wiki/Programaci%C3%B3n_funcional).\n",
    "- Proporciona un sistema de módulos que <b>permite la creación de aplicaciones grandes y complejas</b>.\n",
    "\n",
    "Aunque también tiene sus desventajas, entre ellas la más llamativa, hasta hace poco, era la falta de compatibilidad entre las versiones 2.x y 3.x de Python. Hoy por hoy no es un problema, dado que la última versión de Python 2, la versión 2.7 dejó de mantenerse el 1 de enero del 2020. No obstante, cuando se busca información de Python, todavía hay muchas páginas que muestran información sobre Python 2.\n"
   ]
  },
  {
   "cell_type": "markdown",
   "metadata": {
    "nbpresent": {
     "id": "cc51c927-6cfa-4b06-be63-7f79b196838d"
    },
    "slideshow": {
     "slide_type": "subslide"
    }
   },
   "source": [
    "## Diferencias entre Python 2 y Python 3\n",
    "\n",
    "Estas son algunas de las diferencias más relevantes:\n",
    "- En Python 2 <kbd>print</kbd> es una sentencia: <kbd>print \"hola\"</kbd>. En Python 3 es una función <kbd>print(\"hola\")</kbd>.\n",
    "- En Python 2 el operador <kbd>/</kbd> devuelve un entero si se aplica a enteros (3/2 => 1). En cambio en Python 3 devuelve un real (3/2 => 1.5). El operador de división entera es <kbd>//</kbd>.\n",
    "- En Python 3 todas las cadenas están en Unicode.\n",
    "\n",
    "\n",
    "<div class=\"alert alert-info\" style=\"text-indent:-.65em; padding-left: 2.2em\">\n",
    "   <i style=\"font-size: larger;\" class=\"fa fa-info-circle\" aria-hidden=\"true\"></i> En el curso utilizaremos <a href=\"https://www.python.org/download/releases/3.0/\">Python 3</a>. \n",
    "    En la práctica la única razón para usar Python 2 es la necesidad de usar bibliotecas que todavía no están adaptadas a Python 3. <b>Éstas son cada vez menos</b>.\n",
    "</div>"
   ]
  },
  {
   "cell_type": "markdown",
   "metadata": {
    "nbpresent": {
     "id": "b9556e46-e813-410b-8380-940f1e7d6895"
    },
    "slideshow": {
     "slide_type": "fragment"
    }
   },
   "source": [
    "Más información (en inglés) sobre las diferencias en los siguientes enlaces:\n",
    "- [What is the difference between Python 2.x and Python 3.x?](https://www.quora.com/What-is-the-difference-between-Python-2-x-and-Python-3-x)\n",
    "- [The key differences between Python 2.7.x and Python 3.x with examples](http://sebastianraschka.com/Articles/2014_python_2_3_key_diff.html)"
   ]
  },
  {
   "cell_type": "markdown",
   "metadata": {
    "nbpresent": {
     "id": "4ae3590e-3c7d-4751-b03e-243976c64ad4"
    },
    "slideshow": {
     "slide_type": "slide"
    }
   },
   "source": [
    "# Descarga e instalación <a id=\"download\"></a>&nbsp;&nbsp;<a href=\"#index\"><i class=\"fa fa-list-alt\" aria-hidden=\"true\"></i></a>\n",
    "\n",
    "Tenemos varias opciones para descargar e instalar Python en nuestro equipo:\n",
    "1.  Bajando el instalador desde [http://www.python.org](http://www.python.org).\n",
    "2.  **Instalarlo a través de una distribución como [Anaconda](https://www.anaconda.com/products/individual) (o [miniconda](https://docs.conda.io/en/latest/miniconda.html))**. $\\Longleftarrow$\n",
    "3.  En Linux y Mac, instalar los instaladores del sistema operativo (`apt`, `yum`, `brew`, ...)\n",
    "    - Ahora también en Windows, con el [Windows Subsystem for Linux](https://tinyurl.com/y6od36l7) o con\n",
    "      los instaladores de paquetes existentes para Windows: [Chocolatey](https://chocolatey.org/packages/python), [Npackd](https://npackd.appspot.com/), [Scoop](https://scoop.sh/), [OneGet](https://github.com/OneGet/oneget), ...\n",
    "4.  Incluso, podríamos bajar el código fuente y compilarlo (`configure && make && make install`).\n",
    "\n",
    "\n",
    "<div class=\"alert alert-success\">\n",
    "    Pero nosotros en este curso vamos a utilizar la distribución <a href=\"https://www.anaconda.com/download/\">Anaconda</a>.\n",
    "Es una de las maneras más sencillas de instalar para empezar a usar y programar en Python. Además, incluye cientos de los paquetes más comunes. Por último, su gestor de paquetes y entornos hace fácil y rápido el manejo de paquetes y entornos.\n",
    "</div>\n",
    "\n",
    "\n"
   ]
  },
  {
   "cell_type": "code",
   "execution_count": 2,
   "metadata": {
    "slideshow": {
     "slide_type": "slide"
    }
   },
   "outputs": [
    {
     "data": {
      "text/html": [
       "<div class=\"v\"><iframe with=\"100%\" src=\"https://www.youtube.com/embed/c5Uo-ETjxqk\" allowfullscreen=\"\" frameborder=\"0\"></iframe></div>\n"
      ],
      "text/plain": [
       "<IPython.core.display.HTML object>"
      ]
     },
     "metadata": {},
     "output_type": "display_data"
    }
   ],
   "source": [
    "%%HTML\n",
    "<div class=\"v\"><iframe with=\"100%\" src=\"https://www.youtube.com/embed/c5Uo-ETjxqk\" allowfullscreen=\"\" frameborder=\"0\"></iframe></div>"
   ]
  },
  {
   "cell_type": "markdown",
   "metadata": {
    "nbpresent": {
     "id": "6cc96f8a-f04f-4598-a754-270afe185327"
    },
    "slideshow": {
     "slide_type": "slide"
    }
   },
   "source": [
    "# Primeros ejemplos <a id=\"ejes\"></a>&nbsp;&nbsp;<a href=\"#index\"><i class=\"fa fa-list-alt\" aria-hidden=\"true\"></i></a>\n",
    "Siguiendo la tradición en informática, el primer ejemplo de código Python será un [«Hola mundo»](https://es.wikipedia.org/wiki/Hola_mundo):"
   ]
  },
  {
   "cell_type": "code",
   "execution_count": 21,
   "metadata": {
    "collapsed": true,
    "nbpresent": {
     "id": "e6640e12-ed13-4dc8-8fae-5dc2fbc61320"
    },
    "slideshow": {
     "slide_type": "fragment"
    }
   },
   "outputs": [
    {
     "name": "stdout",
     "output_type": "stream",
     "text": [
      "¡Hola mundo!\n"
     ]
    }
   ],
   "source": [
    "# Mi primer ejemplo de Python\n",
    "print(\"¡Hola mundo!\")"
   ]
  },
  {
   "cell_type": "code",
   "execution_count": 19,
   "metadata": {
    "collapsed": true,
    "nbpresent": {
     "id": "e6640e12-ed13-4dc8-8fae-5dc2fbc61320"
    },
    "slideshow": {
     "slide_type": "fragment"
    }
   },
   "outputs": [
    {
     "data": {
      "text/plain": [
       "6.5"
      ]
     },
     "execution_count": 19,
     "metadata": {},
     "output_type": "execute_result"
    }
   ],
   "source": [
    "# Mi segundo ejemplo de Python\n",
    "1+2*3-1/2"
   ]
  },
  {
   "cell_type": "markdown",
   "metadata": {
    "nbpresent": {
     "id": "6e033a24-643a-4d91-b6df-8c976d3bec7c"
    },
    "slideshow": {
     "slide_type": "subslide"
    }
   },
   "source": [
    "Los ejemplos anteriores se evaluaron en una <i class=\"concept\">celda</i> de un <i class=\"concept\">cuaderno de Jupyter</i>, pero se puede utilizar el interprete de Python desde la línea de comandos con:\n",
    "<pre class=\"cgocode\">C:&gt; python -c \"print('¡Hola mundo!');\"\n",
    "¡Hola mundo!</pre>"
   ]
  },
  {
   "cell_type": "markdown",
   "metadata": {
    "nbpresent": {
     "id": "6e033a24-643a-4d91-b6df-8c976d3bec7c"
    },
    "slideshow": {
     "slide_type": "fragment"
    }
   },
   "source": [
    "O tras la ejecución del interprete:\n",
    "<pre class=\"cgocode\" style=\"font-size: smaller\">C:&gt; python\n",
    "Python 3.8.5 (default, Aug  5 2020, 03:39:04)\n",
    "[Clang 10.0.0 ] :: Anaconda, Inc. on darwin\n",
    "Type \"help\", \"copyright\", \"credits\" or \"license\" for more information.\n",
    "&gt;&gt;&gt; print(\"¡Hola mundo!\")\n",
    "¡Hola mundo!\n",
    "</pre>"
   ]
  },
  {
   "cell_type": "markdown",
   "metadata": {
    "nbpresent": {
     "id": "6e033a24-643a-4d91-b6df-8c976d3bec7c"
    },
    "slideshow": {
     "slide_type": "fragment"
    }
   },
   "source": [
    "<div class=\"alert alert-info\">\n",
    "   <i style=\"font-size: larger;\" class=\"fa fa-info-circle\" aria-hidden=\"true\"></i> Para salir del interprete, introducir <code>quit()</code>\n",
    "</div>"
   ]
  },
  {
   "cell_type": "markdown",
   "metadata": {
    "nbpresent": {
     "id": "6e033a24-643a-4d91-b6df-8c976d3bec7c"
    },
    "slideshow": {
     "slide_type": "fragment"
    }
   },
   "source": [
    "O de la versión más avanzada <kbd>ipython</kbd>:\n",
    "<pre class=\"cgocode\" style=\"font-size: smaller\">C:&gt; ipython\n",
    "Python 3.8.5 (default, Aug  5 2020, 03:39:04)\n",
    "Type 'copyright', 'credits' or 'license' for more information\n",
    "IPython 7.17.0 -- An enhanced Interactive Python. Type '?' for help.\n",
    "<!--\n",
    "?         -&gt; Introduction and overview of IPython's features.\n",
    "%quickref -&gt; Quick reference.\n",
    "help      -&gt; Python's own help system.\n",
    "object?   -&gt; Details about 'object', use 'object??' for extra details.\n",
    "-->\n",
    "In [1]: print(\"¡Hola mundo!\")\n",
    "¡Hola mundo!\n",
    "</pre>"
   ]
  },
  {
   "cell_type": "markdown",
   "metadata": {
    "nbpresent": {
     "id": "6e033a24-643a-4d91-b6df-8c976d3bec7c"
    },
    "slideshow": {
     "slide_type": "subslide"
    }
   },
   "source": [
    "Por último, podemos crear el archivo `ejemplo.py` con el siguiente contenido:\n",
    "```\n",
    "print(\"¡Hola mundo!\")\n",
    "```"
   ]
  },
  {
   "cell_type": "markdown",
   "metadata": {
    "nbpresent": {
     "id": "6e033a24-643a-4d91-b6df-8c976d3bec7c"
    },
    "slideshow": {
     "slide_type": "fragment"
    }
   },
   "source": [
    "y ejecutarlo usando cualquiera de los dos interpretes (`python` o `ipython`):\n",
    "<pre class=\"cgocode\">C:&gt; ipython ejemplo.py\n",
    "¡Hola mundo!\n",
    "\n",
    "</pre>"
   ]
  },
  {
   "cell_type": "markdown",
   "metadata": {
    "nbpresent": {
     "id": "6cc96f8a-f04f-4598-a754-270afe185327"
    },
    "slideshow": {
     "slide_type": "slide"
    }
   },
   "source": [
    "Ahora vamos a ver un ejemplo un poco más interesante que el <q>Hola mundo</q>, donde se define una lista de enteros $N=[1,3,4,5,7]$ para luego calcular la suma de sus cuadrados: $$\\sum_{i\\in N} i^2=100$$"
   ]
  },
  {
   "cell_type": "code",
   "execution_count": 2,
   "metadata": {
    "nbpresent": {
     "id": "b87dec4c-0fd4-4120-ad9a-420012478e60"
    },
    "slideshow": {
     "slide_type": "fragment"
    }
   },
   "outputs": [
    {
     "name": "stdout",
     "output_type": "stream",
     "text": [
      "La suma ∑_{i∈números} i² es 👉 100\n"
     ]
    }
   ],
   "source": [
    "números = [1, 3, 4, 5, 7]\n",
    "Σ = sum(i**2 for i in números)\n",
    "print('La suma ∑_{i∈números} i² es 👉', Σ)\n",
    "\n",
    "# ¡en Python se puede usar Unicode!\n",
    "# ¡hasta para los nombres de variables!"
   ]
  },
  {
   "cell_type": "markdown",
   "metadata": {
    "nbpresent": {
     "id": "668c065a-f472-4ede-882d-dba2dd929df2"
    },
    "slideshow": {
     "slide_type": "slide"
    }
   },
   "source": [
    "# Cuadernos Jupyter <a id=\"notebooks\"></a>&nbsp;&nbsp;<a href=\"#index\"><i class=\"fa fa-list-alt\" aria-hidden=\"true\"></i></a>\n",
    "\n",
    "En este curso se utilizan los [cuadernos de Jupyter](http://jupyter.org/) (<i class=\"concept\">Jupyter notebooks</i>), que permiten combinar documentación y código. \n",
    "\n",
    "## ¿Qué son?\n",
    "\n",
    "Un notebook es un entorno de desarrollo que nos permite escribir y evaluar código. Permite, además, documentar de manera atractiva usando sintaxis [Markdown](https://es.wikipedia.org/wiki/Markdown) y [HTML](https://es.wikipedia.org/wiki/HTML), mostrar fórmulas con [LaTeX](https://es.wikipedia.org/wiki/LaTeX), visualizar los resultados y gestionar la interacción con el usuario. Se guardan en un archivo de texto de extensión <kbd>.ipynb</kbd> que contiene una estructura de datos en formato JSON."
   ]
  },
  {
   "cell_type": "markdown",
   "metadata": {
    "nbpresent": {
     "id": "bffc4427-4d54-41bc-9084-a6257ad63d05"
    },
    "slideshow": {
     "slide_type": "subslide"
    }
   },
   "source": [
    "## ¿Por qué utilizarlos?\n",
    "\n",
    "Su capacidad de poder intercalar explicaciones y código hace que sea una buena herramienta para la docencia y el aprendizaje. Además, existen visores de notebooks *on-line*, que permiten interactuar desde cualquier equipo con un lenguaje de programación de los que soporta, entre ellos: Python, R, Julia, y Scala."
   ]
  },
  {
   "cell_type": "markdown",
   "metadata": {
    "nbpresent": {
     "id": "1af1cb42-399f-4e63-a772-6419fc5cc2d2"
    },
    "slideshow": {
     "slide_type": "fragment"
    }
   },
   "source": [
    "<div style=\"padding: 10px; padding-top: 10px; \n",
    "    margin: 20px 0;\n",
    "    border: 1px solid #d6e9c6;\n",
    "    border-left: 5px solid #3c763d;\n",
    "    background-color: #dff0d8; \n",
    "    border-radius: 3px;\"> \n",
    "    <p>Además es posible obtener una presentación a partir del notebook  (<a href=\"https://damianavila.github.io/RISE/\">RISE</a>).</p> \n",
    "</div>"
   ]
  },
  {
   "cell_type": "markdown",
   "metadata": {
    "nbpresent": {
     "id": "2222db2c-46e4-4b97-998d-03d10a4a5f1d"
    },
    "slideshow": {
     "slide_type": "subslide"
    }
   },
   "source": [
    "## ¿Cómo funcionan?\n",
    "\n",
    "Un <i class=\"concept\">notebook</i> (<i class=\"concept\">cuaderno</i>) está formado por celdas, que se ejecutan una detrás de otra (o en el orden que quiera el usuario). Hasta que no se ejecute una celda, el programa no puede hacer uso de las variables o funciones que se definan en dicha celda."
   ]
  },
  {
   "cell_type": "markdown",
   "metadata": {
    "nbpresent": {
     "id": "6e033a24-643a-4d91-b6df-8c976d3bec7c"
    },
    "slideshow": {
     "slide_type": "fragment"
    }
   },
   "source": [
    "Para visualizar un notebook hay que iniciar una aplicación web llamada [Jupyter](http://jupyter.readthedocs.io/en/latest/), para arrancarla, desde la línea de comandos (o el Anaconda Powershell Prompt, en Windows), hay que ejecutar:\n",
    "\n",
    "<pre class=\"cgocode\">C:&gt; jupyter notebook</pre>\n",
    "\n",
    "A continuación se abrirá el navegador mostrando los archivos en el directorio de ejecución, si alguno es un notebook, pulsando en su nombre podremos visualizarlo.\n",
    "\n",
    "También podemos lanzar Jupyter desde el Anaconda Navigator. Primero iniciando el Navigator.\n",
    "\n",
    "<img alt=\"El Anaconda Navigator en el menú de inicio\" src=\"pics/AnacondaNavigatorAtStartMenu.png\" width=400>\n",
    "\n",
    "Para a continuación lanzar Jupyter.\n",
    "\n",
    "<img alt=\"El lanzador de Jupyter en el Anaconda Navigator\" src=\"pics/JupyterAtAnacondaNavigator.png\" width=400>"
   ]
  },
  {
   "cell_type": "markdown",
   "metadata": {
    "nbpresent": {
     "id": "6e033a24-643a-4d91-b6df-8c976d3bec7c"
    },
    "slideshow": {
     "slide_type": "fragment"
    }
   },
   "source": [
    "<div class=\"alert alert-info\">\n",
    "   <i style=\"font-size: larger;\" class=\"fa fa-info-circle\" aria-hidden=\"true\"></i> Jupyter también se puede lanzar desde el menú de inicio (en Windows) o desde el Launcher (en Mac).\n",
    "</div>"
   ]
  },
  {
   "cell_type": "markdown",
   "metadata": {
    "nbpresent": {
     "id": "c2c81500-78b1-4f18-b05a-7810da9becd5"
    },
    "slideshow": {
     "slide_type": "slide"
    }
   },
   "source": [
    "## Elementos de Jupyter\n",
    "\n",
    "### Tablero inicial (<i class=\"concept\">dashboard</i>) \n",
    "\n",
    "Presenta tres pestañas:\n",
    "\n",
    "<ul class=\"nav nav-tabs\" id=\"myTab\" role=\"tablist\">\n",
    "  <li class=\"nav-item\">\n",
    "    <a style=\"text-decoration: none;\" class=\"nav-link active\" id=\"home-tab\" data-toggle=\"tab\" href=\"#home\" role=\"tab\" aria-controls=\"home\" aria-selected=\"true\">Files</a>\n",
    "  </li>\n",
    "  <li class=\"nav-item active\">\n",
    "    <a style=\"text-decoration: none;\" class=\"nav-link\" id=\"profile-tab\" data-toggle=\"tab\" href=\"#profile\" role=\"tab\" aria-controls=\"profile\" aria-selected=\"false\">Running</a>\n",
    "  </li>\n",
    "  <li class=\"nav-item\">\n",
    "    <a style=\"text-decoration: none;\" class=\"nav-link\" id=\"contact-tab\" data-toggle=\"tab\" href=\"#contact\" role=\"tab\" aria-controls=\"contact\" aria-selected=\"false\">Clusters</a>\n",
    "  </li>\n",
    "</ul>\n",
    "<div class=\"tab-content\" id=\"myTabContent\">\n",
    "  <div class=\"tab-pane fade active\" id=\"home\" role=\"tabpanel\" aria-labelledby=\"home-tab\"><b>Files</b>: Muestra todos los cuadernos en el directorio (carpeta) actual.\n",
    "<img src=\"pics/TabFiles.png\"></div>\n",
    "    \n",
    "  <div class=\"tab-pane fade\" id=\"profile\" role=\"tabpanel\" aria-labelledby=\"profile-tab\"><b>Running</b>: Muestra todos los kérneles en ejecución.\n",
    "<img src=\"pics/TabRunning.png\"></div>\n",
    "  \n",
    "  <div class=\"tab-pane fade\" id=\"contact\" role=\"tabpanel\" aria-labelledby=\"contact-tab\"><b>Clusters</b>: Permite lanzar kérneles adicionales para computación paralela.<img src=\"pics/TabClusters.png\"></div>\n",
    "  \n",
    "</div>"
   ]
  },
  {
   "cell_type": "markdown",
   "metadata": {
    "nbpresent": {
     "id": "c301692d-1655-490b-bff4-d3c71f6290ae"
    },
    "slideshow": {
     "slide_type": "subslide"
    }
   },
   "source": [
    "### Área de menús\n",
    "\n",
    "![área de menús](pics/JupyterMenus.png)"
   ]
  },
  {
   "cell_type": "markdown",
   "metadata": {
    "nbpresent": {
     "id": "386910eb-638d-433f-8654-dfd348af81ef"
    },
    "slideshow": {
     "slide_type": "subslide"
    }
   },
   "source": [
    "### Elementos en la celda\n",
    "\n",
    "![elementos de una celda Jupyter](pics/JupyterCell.png)"
   ]
  },
  {
   "cell_type": "markdown",
   "metadata": {
    "nbpresent": {
     "id": "551ef9ec-2a33-4b1c-9ce3-f61a858ea6df"
    },
    "slideshow": {
     "slide_type": "subslide"
    }
   },
   "source": [
    "### Modos de trabajo\n",
    "\n",
    "Los cuadernos de Jupyter utilizan una interfaz modal (como la del editor de textos [Vim](https://es.wikipedia.org/wiki/Vim)), con dos modos:\n",
    "\n",
    "- <b>Modo de edición</b> para escribir código o texto en la celda, este modo se activa cuando se hace *click* dentro de las celdas de código, o doble *click* dentro de las celdas Markdown (para dividir la celda: <kbd>CTRL</kbd>-<kbd>SHIFT</kbd>-<kbd>-</kbd>).\n",
    "\n",
    "- <b>Modo de comando</b>, se activa haciendo *click* fuera del área de entrada de la celda (margen izquierdo) o pulsando <kbd>ESC</kbd>, para hacer operaciones sobre las celdas como:\n",
    "    - copiar celda: <kbd>c</kbd>\n",
    "    - cortar celda: <kbd>x</kbd>\n",
    "    - borrar celda: <kbd>dd</kbd> (también podría usarse <kbd>x</kbd>, pero sin pegar a continuación).\n",
    "    - pegar celda copiada o cortada debajo de la celda actual: <kbd>v</kbd>\n",
    "    - pegar celda copiada o cortada encima de la celda actual: <kbd>V</kbd>\n",
    "    - fusionar celdas seleccionadas: <kbd>M</kbd> (<b>M</b>erge)\n",
    "    - mostrar/ocultar la salida de la celda: <kbd>o</kbd> (<b>O</b>utput)\n",
    "    - añadir una celda en blanco por arriba: <kbd>a</kbd> (<b>A</b>bove)\n",
    "    - añadir una celda en blanco por debajo: <kbd>b</kbd> (<b>B</b>elow)\n",
    "\n",
    "Hay comandos disponibles en los dos modos:\n",
    "- ejecutar y permanecer en la celda: <kbd>Ctrl</kbd>+<kbd>⮐ Enter</kbd> (Windows), <kbd>⌘</kbd>+<kbd>⮐ Enter</kbd> (Mac)\n",
    "- ejecutar y pasar a la siguiente celda: <kbd>⇧ Shift</kbd>+<kbd>⮐ Enter</kbd>.\n",
    "- ejecutar e insertar una celda: <kbd>Alt</kbd>-<kbd>⮐ Enter</kbd>\n",
    "- guardar el cuaderno <kbd>Ctrl</kbd>+<kbd>S</kbd> (Windows), <kbd>⌘</kbd>+<kbd>S</kbd> (Mac)\n",
    "    \n",
    "Las anteriores operaciones también están accesibles a través de las entradas en los menús «*Edit*», «*Insert*» y «*Cell*».\n",
    "\n",
    "<div style=\"padding: 10px; padding-top: 10px; \n",
    "    margin: 20px 0;\n",
    "    border: 1px solid #d6e9c6;\n",
    "    border-left: 5px solid #3c763d;\n",
    "    background-color: #dff0d8; \n",
    "    border-radius: 3px;\"> \n",
    "Para ver todos los atajos de teclado se puede usar el atajo <kbd>h</kbd> (<b>h</b>elp).\n",
    "</div>\n"
   ]
  },
  {
   "cell_type": "markdown",
   "metadata": {
    "nbpresent": {
     "id": "8081a668-ef24-4987-88ab-43e94825f5e3"
    },
    "slideshow": {
     "slide_type": "subslide"
    }
   },
   "source": [
    "### Tipos de celda\n",
    "\n",
    "Hay dos tipos principales de celda:\n",
    "- <b>Celdas de documentación</b>: Se usan para documentar que se está haciendo en el cuaderno y en las sucesivas celdas. Se puede usar la sintaxis [Markdown](https://es.wikipedia.org/wiki/Markdown), pero también [HTML](https://es.wikipedia.org/wiki/HTML) y [$\\LaTeX$](https://es.wikipedia.org/wiki/LaTeX). \n",
    "- <b>Celdas de código</b>: Contiene el código a ejecutar por el *kernel*. El lenguaje de programación será el del *kernel*. Nosotros usaremos sólo Python, pero existen otros: [JavaScript](https://es.wikipedia.org/wiki/Javascript), <a href=\"https://es.wikipedia.org/wiki/R_(lenguaje_de_programaci%C3%B3n\\)\">R</a>, [Matlab](https://es.wikipedia.org/wiki/MATLAB), <a href=\"https://es.wikipedia.org/wiki/C_(lenguaje_de_programaci%C3%B3n)\">C</a>, ...\n",
    "\n",
    "Se puede cambiar el tipo de celda seleccionado y eligiendo su tipo en el menú *Cell* ▹ *Cell Type*. Una vez seleccionada la celda (indicación de margen en azul), también se pueden usar los atajos de teclado <kbd>y</kbd> para código, y <kbd>m</kbd> para Markdown."
   ]
  },
  {
   "cell_type": "markdown",
   "metadata": {},
   "source": [
    "#### Salidas de una celda de código\n",
    "En una celda de código hay dos posibles salidas.\n",
    "- La salida **stdout**, como la que se produce en el `print`. Se muestra por pantalla en formato unicode.\n",
    "- El valor retornado por la celda, que es el valor resultante de evaluar la última expresión. Puede ser unicode, HTML, jpg ..."
   ]
  },
  {
   "cell_type": "code",
   "execution_count": 5,
   "metadata": {},
   "outputs": [
    {
     "name": "stdout",
     "output_type": "stream",
     "text": [
      "hola\n"
     ]
    },
    {
     "data": {
      "text/plain": [
       "7"
      ]
     },
     "execution_count": 5,
     "metadata": {},
     "output_type": "execute_result"
    }
   ],
   "source": [
    "'''\n",
    "Imprime de forma explícita 'hola'.\n",
    "El valor de la última expresión evaluada es 7, y este es el valor que se muestra\n",
    "en el `Out` de la celda.\n",
    "'''\n",
    "print(\"hola\")\n",
    "5+2"
   ]
  },
  {
   "cell_type": "code",
   "execution_count": 7,
   "metadata": {},
   "outputs": [
    {
     "name": "stdout",
     "output_type": "stream",
     "text": [
      "hola\n"
     ]
    }
   ],
   "source": [
    "'''\n",
    "Imprime 'hola' de forma explícita.\n",
    "Esta celda no tiene `Out` porque `print` no devuelve ningún valor.\n",
    "'''\n",
    "\n",
    "5+2\n",
    "print(\"hola\")"
   ]
  },
  {
   "cell_type": "code",
   "execution_count": 8,
   "metadata": {},
   "outputs": [
    {
     "data": {
      "text/plain": [
       "<matplotlib.axes._subplots.AxesSubplot at 0x11de13f60>"
      ]
     },
     "execution_count": 8,
     "metadata": {},
     "output_type": "execute_result"
    },
    {
     "data": {
      "image/png": "[encoded data removed]",
      "text/plain": [
       "<Figure size 432x288 with 1 Axes>"
      ]
     },
     "metadata": {
      "needs_background": "light"
     },
     "output_type": "display_data"
    }
   ],
   "source": [
    "'''\n",
    "Uso Pandas (librería de tratamiento de datos) para generar una gráfica\n",
    "'''\n",
    "\n",
    "%matplotlib inline\n",
    "import pandas as pd\n",
    "import numpy as np\n",
    "df = pd.DataFrame(np.random.randn(10, 2))\n",
    "\n",
    "df.plot.bar()"
   ]
  },
  {
   "cell_type": "markdown",
   "metadata": {
    "slideshow": {
     "slide_type": "slide"
    }
   },
   "source": [
    "## Alternativas a Jupyter\n",
    "- La [Jupyter QtConsole](https://qtconsole.readthedocs.io/en/latest/), no tenemos que hacer nada espacial para instalarla, dado que, como Jupyter, también viene por defecto con la distribución de Anaconda, se ejecuta con `jupyter-qtconsole`. Permite mostrar gráficos integrados.\n",
    "- [JupyterLab](https://jupyterlab.readthedocs.io/en/stable/) la evolución de Jupyter. Aunque es un producto en desarrollo es ya se puede usar. Se puede instalar con el [Anaconda navigator](https://anaconda.org/anaconda/anaconda-navigator)\n",
    "- [ptpython](https://github.com/prompt-toolkit/ptpython) es una consola [REPL](https://es.wikipedia.org/wiki/REPL) (read-eval-print loop) para Python, [más avanzada](https://terriblecode.com/blog/why-ptpython-is-the-only-repl-you-will-ever-need/) de la que viene instalada por defecto. Es ligera, proporciona sintaxis resaltada, autocompletado y el uso de IPython. Se puede instalar con el comando `pip install ptpython`.\n",
    "- [bpython](https://bpython-interpreter.org/) es otra consola REPL mejorada.\n",
    "- [DreamPie](https://github.com/noamraph/dreampie).\n",
    "-  Usar un REPL en la nube: [REPL.it](https://repl.it/languages/python3), [Python Fiddle](http://pythonfiddle.com/), [Python console](https://www.python.org/shell/), [Online GDB](https://www.onlinegdb.com/online_python_interpreter), [Python on line compiler](https://www.programiz.com/python-programming/online-compiler/), [Python anywhere](https://www.pythonanywhere.com/), ..."
   ]
  },
  {
   "cell_type": "markdown",
   "metadata": {
    "slideshow": {
     "slide_type": "subslide"
    }
   },
   "source": [
    "<h3>IDEs (<a style=\"font-size: smaller;\" href=\"https://es.wikipedia.org/wiki/Entorno_de_desarrollo_integrado\">Entornos de desarrollo integrados</a>)</h3>\n",
    "\n",
    "- [Spyder](https://www.spyder-ide.org/) es un IDE de programación, por defecto también se instala cuando instalamos Anaconda. Integra: NumPy, SciPy, Matplotlib, e IPython.\n",
    "- [PyCharm](https://www.jetbrains.com/pycharm/) es un potente IDE comercial, pero que cuenta con una versión <i>community</i> también bastante potente.\n",
    "- [Rodeo](https://rodeo.yhat.com/products/), es un IDE desarrollado por YHat y enfocado a las aplicaciones de análisis de datos. Pretende emular [RStudio](https://www.rstudio.com/), el popular IDE de <a href=\"https://es.wikipedia.org/wiki/R_(lenguaje_de_programaci%C3%B3n)\">R</a>.\n",
    "- Existen multitud de otros IDEs, que o bien son específicos para Python, o se pueden ajustar para ser usados con Python:\n",
    "    - [Komodo](https://www.activestate.com/products/komodo-ide/download-ide/)\n",
    "    - [Visual Studio Code](https://code.visualstudio.com/)\n",
    "    - [Atom](https://atom.io/)\n",
    "    - [Wing](https://wingware.com/downloads)\n",
    "    - [Thonny](https://thonny.org/)\n",
    "    - [Ninja](http://ninja-ide.org/downloads/)\n",
    "    - ..."
   ]
  },
  {
   "cell_type": "markdown",
   "metadata": {
    "slideshow": {
     "slide_type": "fragment"
    }
   },
   "source": [
    "### Jupyter en la nube\n",
    "<div style=\"padding: 10px; padding-top: 10px; \n",
    "    margin: 20px 0;\n",
    "    border: 1px solid #d6e9c6;\n",
    "    border-left: 5px solid #3c763d;\n",
    "    background-color: #dff0d8; \n",
    "    border-radius: 3px;\"> \n",
    "Quizás la alternativa más interesante a la instalación local de Jupyter sea <a href=\"https://colab.research.google.com/notebooks/welcome.ipynb\">Google Colaboratory</a> que permite el trabajo colaborativo en un cuaderno Jupyter compartido en la nube. \n",
    "<span class=\"label label-success\"><i class=\"fa fa-thumbs-up\" aria-hidden=\"true\"></i> Permite incluso ejecutar código en una GPU</span>.\n",
    "    \n",
    "Si solo queremos probar Jupyter, podemos utilizar [Try Jupyter](https://jupyter.org/try).\n",
    "    \n",
    "Ahora, también podemos hacer uso de cuadernos en la nube en <a href=\"https://notebooks.azure.com/\">Microsoft Azure</a>.\n",
    "</div>\n",
    "\n"
   ]
  },
  {
   "cell_type": "markdown",
   "metadata": {
    "nbpresent": {
     "id": "668c065a-f472-4ede-882d-dba2dd929df2"
    },
    "slideshow": {
     "slide_type": "slide"
    }
   },
   "source": [
    "# Markdown, LaTeX y HTML <a id=\"markdown\"></a>&nbsp;&nbsp;<a href=\"#index\"><i class=\"fa fa-list-alt\" aria-hidden=\"true\"></i></a>\n",
    "\n",
    "[Markdown](https://es.wikipedia.org/wiki/Markdown) es un lenguaje de marcado ligero (en contraste con otros como [HTML](https://es.wikipedia.org/wiki/HTML) o [$\\LaTeX$](https://es.wikipedia.org/wiki/LaTeX)). \n",
    "\n",
    "En curso es una introducción al lenguaje de programación Python, pero es también interesante tener unos mínimos conocimientos de Markdown para hacer las celdas de documentación más atractivas."
   ]
  },
  {
   "cell_type": "markdown",
   "metadata": {
    "nbpresent": {
     "id": "668c065a-f472-4ede-882d-dba2dd929df2"
    },
    "slideshow": {
     "slide_type": "subslide"
    }
   },
   "source": [
    "Con Markdown la sintaxis para los títulos es:\n",
    "<pre>\n",
    "# Título de nivel 1\n",
    "## Título de nivel 2\n",
    "### Título de nivel 3\n",
    "</pre>"
   ]
  },
  {
   "cell_type": "markdown",
   "metadata": {
    "nbpresent": {
     "id": "668c065a-f472-4ede-882d-dba2dd929df2"
    },
    "slideshow": {
     "slide_type": "fragment"
    }
   },
   "source": [
    "Que se formatea como:\n",
    "# Título de nivel 1\n",
    "## Título de nivel 2\n",
    "### Título de nivel 3\n",
    "###### Título de nivel 6"
   ]
  },
  {
   "cell_type": "markdown",
   "metadata": {
    "nbpresent": {
     "id": "668c065a-f472-4ede-882d-dba2dd929df2"
    },
    "slideshow": {
     "slide_type": "subslide"
    }
   },
   "source": [
    "La sintaxis para las listas de elementos y las listas ordenadas es:\n",
    "<pre>\n",
    "- Un elemento.\n",
    "- Otro elemento.\n",
    "  1. Primer elemento.\n",
    "  2. Segundo elemento.\n",
    "</pre>"
   ]
  },
  {
   "cell_type": "markdown",
   "metadata": {
    "nbpresent": {
     "id": "668c065a-f472-4ede-882d-dba2dd929df2"
    },
    "slideshow": {
     "slide_type": "fragment"
    }
   },
   "source": [
    "Que se formatea como:\n",
    "- Un elemento.\n",
    "- Otro elemento.\n",
    "    1. Primer sub-elemento.\n",
    "    2. Segundo sub-elemento."
   ]
  },
  {
   "cell_type": "markdown",
   "metadata": {
    "nbpresent": {
     "id": "668c065a-f472-4ede-882d-dba2dd929df2"
    },
    "slideshow": {
     "slide_type": "subslide"
    }
   },
   "source": [
    "La sintaxis para el enfatizado de texto es:\n",
    "```\n",
    "Los enfatizados pueden ser: **negritas**, _itálicas_ (o *itálicas*) y `literales de código`.\n",
    "```"
   ]
  },
  {
   "cell_type": "markdown",
   "metadata": {
    "nbpresent": {
     "id": "668c065a-f472-4ede-882d-dba2dd929df2"
    },
    "slideshow": {
     "slide_type": "fragment"
    }
   },
   "source": [
    "Que se formatea como:\n",
    "\n",
    "Los enfatizados pueden ser: **negritas**, _itálicas_ (o *itálicas*) y `literales de código`."
   ]
  },
  {
   "cell_type": "markdown",
   "metadata": {
    "nbpresent": {
     "id": "668c065a-f472-4ede-882d-dba2dd929df2"
    },
    "slideshow": {
     "slide_type": "subslide"
    }
   },
   "source": [
    "También se puede usar la siguiente sintaxis para mostrar bloques completos de código:\n",
    "<pre>\n",
    "```python\n",
    "nombre = input(\"¿Cómo te llamas?\")\n",
    "if nombre:\n",
    "    print(f\"Hola {nombre}, encantado de conocerte\")\n",
    "else:\n",
    "    print(\"Creo que eres un poco antipático.\")\n",
    "```\n",
    "<!--\n",
    "<span style=\"color:#a50;\">&#96;&#96;&#96;python</span>\n",
    "nombre = <span style=\"color:#30a;\">input</span>(<span style=\"color:#a11;\">\"¿Cómo te llamas?\"</span>)\n",
    "<span style=\"color:#708;font-weight:bold;\">if</span> nombre:\n",
    "    <span style=\"color:#30a;\">print</span>(<span style=\"color:#a11;\">f\"Hola {nombre}, encantado de conocerte\"</span>)\n",
    "<span style=\"color:#708;font-weight:bold;\">else</span>:\n",
    "    <span style=\"color:#30a;\">print</span>(<span style=\"color:#a11;\">\"Creo que eres un poco antipático.\"</span>)\n",
    "<span style=\"color:#a50;\">&#96;&#96;&#96;</span>\n",
    "-->\n",
    "</pre>\n"
   ]
  },
  {
   "cell_type": "markdown",
   "metadata": {
    "nbpresent": {
     "id": "668c065a-f472-4ede-882d-dba2dd929df2"
    },
    "slideshow": {
     "slide_type": "fragment"
    }
   },
   "source": [
    "Que se formatea como:\n",
    "```python\n",
    "nombre = input(\"¿Cómo te llamas?\")\n",
    "if nombre:\n",
    "    print(f\"Hola {nombre}, encantado de conocerte\")\n",
    "else:\n",
    "    print(\"Creo que eres un poco antipático.\")\n",
    "```\n"
   ]
  },
  {
   "cell_type": "markdown",
   "metadata": {},
   "source": [
    "Se soportan múltiples lenguajes en el resaltado de código.\n",
    "\n",
    "- **Java**: \n",
    "\n",
    "```Java\n",
    "public class HelloWorld {\n",
    "\n",
    "    public static void main(String[] args) {\n",
    "        // Prints \"Hello, World\" to the terminal window.\n",
    "        System.out.println(\"Hello, World\");\n",
    "    }\n",
    "\n",
    "}\n",
    "```\n",
    "\n",
    "- **Scala**:\n",
    "\n",
    "```Scala\n",
    "\n",
    "object HelloWorld {\n",
    "  def main(args: Array[String]): Unit = {\n",
    "    println(\"Hello, world!\")\n",
    "  }\n",
    "}\n",
    "```\n",
    "\n",
    "- **C++**:\n",
    "\n",
    "```C++\n",
    "\n",
    "#include <iostream>\n",
    "using namespace std;\n",
    "\n",
    "int main() \n",
    "{\n",
    "    cout << \"Hello, World!\";\n",
    "    return 0;\n",
    "}\n",
    "```"
   ]
  },
  {
   "cell_type": "markdown",
   "metadata": {
    "nbpresent": {
     "id": "668c065a-f472-4ede-882d-dba2dd929df2"
    },
    "slideshow": {
     "slide_type": "subslide"
    }
   },
   "source": [
    "Para usar hiperenlaces e incluir imágenes se usa:\n",
    "<pre style=\"font-size:smaller\">\n",
    "Mi perfil está \n",
    "<span style=\"color: #00c\">[aquí]</span><span style=\"color:#a11\">(http://apps.ubu.es/profesorado/cv.php?docente=cgosorio@ubu.es)</span>.\n",
    "El logo del grupo ADMIRABLE es: \n",
    "!<span style=\"color: #00c\">[El escudo de la UBU]</span><span style=\"color:#a11\">(http://cgosorio.es/logo.v3.3.svg)</span>\n",
    "</pre>"
   ]
  },
  {
   "cell_type": "markdown",
   "metadata": {
    "nbpresent": {
     "id": "668c065a-f472-4ede-882d-dba2dd929df2"
    },
    "slideshow": {
     "slide_type": "fragment"
    }
   },
   "source": [
    "Que se formatea como:\n",
    "\n",
    "Mi perfil está [aquí](http://apps.ubu.es/profesorado/cv.php?docente=cgosorio@ubu.es).\n",
    "El logo del grupo ADMIRABLE es: ![El escudo de la UBU](http://cgosorio.es/logo.v3.3.svg)\n"
   ]
  },
  {
   "cell_type": "markdown",
   "metadata": {
    "slideshow": {
     "slide_type": "subslide"
    }
   },
   "source": [
    "También se pueden hacer tablas Markdown. El siguiente código\n",
    "```\n",
    "\n",
    "|  C1  |  C2  |  C3  |   C4   |\n",
    "|:-----|:----:|------| -----: |\n",
    "|    1 |    2 |    3 |      4 |\n",
    "|  101 |  202 |  303 |    404 |\n",
    "|  Uno |  Dos | Tres | Cuatro |\n",
    "```\n",
    "\n",
    "No es necesario aprenderse la sintaxis, para generar tablas Markdown puede usarse el recurso [*Markdown Tables Generator*](https://www.tablesgenerator.com/markdown_tables)."
   ]
  },
  {
   "cell_type": "markdown",
   "metadata": {
    "slideshow": {
     "slide_type": "fragment"
    }
   },
   "source": [
    "Da lugar a la tabla:\n",
    "\n",
    "|  C1  |  C2  |  C3  |   C4   |\n",
    "|:-----|:----:|------| -----: |\n",
    "|    1 |    2 |    3 |      4 |\n",
    "|  101 |  202 |  303 |    404 |\n",
    "|  Uno |  Dos | Tres | Cuatro |\n"
   ]
  },
  {
   "cell_type": "markdown",
   "metadata": {
    "slideshow": {
     "slide_type": "subslide"
    }
   },
   "source": []
  },
  {
   "cell_type": "markdown",
   "metadata": {
    "slideshow": {
     "slide_type": "slide"
    }
   },
   "source": [
    "<div class=\"alert alert-info\" style=\"text-indent:-.65em; padding-left: 2.2em\">\n",
    "   <i style=\"font-size: larger;\" class=\"fa fa-info-circle\" aria-hidden=\"true\"></i>\n",
    "No es necesario aprenderse la sintaxis. Para generar tablas Markdown, puede usarse el recurso <a href=\"https://www.tablesgenerator.com/markdown_tables\"><i>Markdown Tables Generator</i></a>.\n",
    "</div>"
   ]
  },
  {
   "cell_type": "markdown",
   "metadata": {
    "slideshow": {
     "slide_type": "slide"
    }
   },
   "source": [
    "<div class=\"alert alert-info\" style=\"text-indent:-.65em; padding-left: 2.2em\">\n",
    "   <i style=\"font-size: larger;\" class=\"fa fa-info-circle\" aria-hidden=\"true\"></i> \n",
    "La documentación con todas las opciones sintácticas de Markdown la puedes encontrar en estos enlaces:\n",
    "    <ul>\n",
    "        <li><a href=\"https://www.markdownguide.org/basic-syntax\"\n",
    "               style=\"font-family:monospace\">https://www.markdownguide.org/basic-syntax</a>.</li>\n",
    "        <li><a href=\"https://www.markdownguide.org/extended-syntax/\"\n",
    "               style=\"font-family:monospace\">https://www.markdownguide.org/extended-syntax/</a>.</li>\n",
    "    </ul>\n",
    "</div>"
   ]
  },
  {
   "cell_type": "markdown",
   "metadata": {
    "slideshow": {
     "slide_type": "slide"
    }
   },
   "source": [
    "## $\\LaTeX$\n",
    "\n",
    "Si ya sabes $\\LaTeX$, puedes usar sus comandos en las celdas de documentación: \n",
    "\n",
    "$$e^{i\\pi}+1=0$$\n",
    "\n",
    "$$\\frac{1}{\\pi}=\\frac{2\\sqrt{2}}{9801}\\sum_{k=0}^\\infty\\frac{(4k)!(1103+26390k)}{(k!)^4396^{4k}}$$\n",
    "\n",
    "$$ \\pi = \\sum_{k=0}^\\infty\\frac{1}{16^k}\\left[\\frac{4}{8k+1}-\\frac{2}{8k+4}-\\frac{1}{8k+5}-\\frac{1}{8k+6}\\right]$$\n",
    "\n",
    "\n",
    "$$\\left(\\begin{array}{c}m \\\\n\\end{array}\\right) = \\frac{m!}{n!\\cdot(m-n)!}$$\n",
    "\n",
    "$$f'(x)=\\lim_{\\Delta x\\to 0}\\frac{f(x+\\Delta x)-f(\\Delta x)}{\\Delta x}$$\n",
    "\n",
    "<!-- http://www.cracked.com/blog/5-math-equations-that-change-way-you-see-world/ -->"
   ]
  },
  {
   "cell_type": "markdown",
   "metadata": {
    "slideshow": {
     "slide_type": "subslide"
    }
   },
   "source": [
    "$$\\forall \\mathbf{x}\\in \\mathbb{R}^n \\text{,  }\\|\\mathbf{x}\\|=\\sqrt{\\sum_{i=1}^n x_i^2}$$\n",
    "\n",
    "$$\\lim_{x\\to 0}\\frac{\\sin(x)}{x}=1$$\n",
    "\n",
    "\n",
    "$$\\frac{1}{2} < \\left\\lfloor\\text{mod}\\left(\\left\\lfloor\\frac{y}{17}\\right\\rfloor 2^{-17\\lfloor x\\rfloor-\\text{mod}(\\lfloor y\\rfloor, 17)},2\\right)\\right\\rfloor$$\n",
    "\n",
    "$$\\int_a^b f'(x)dx = f(b)-f(a)$$\n",
    "\n",
    "$$\\left[M\\frac{\\partial}{\\partial M}+\\beta(g)\\frac{\\partial}{\\partial g}+n\\lambda\\right]G^n(x_1, x_2, \\ldots, x_n; M, g) = 0$$\n",
    "\n",
    "<div class=\"alert alert-info\" style=\"text-indent:-.65em; padding-left: 2.2em\">\n",
    "   <i style=\"font-size: larger;\" class=\"fa fa-info-circle\" aria-hidden=\"true\"></i> \n",
    "Aunque no sepas LaTeX, puedes utilizar ecuaciones con la ayuda de herramientas en línea de edición de fórmulas, como por ejemplo: \n",
    "    <ul>\n",
    "        <li><a href=\"https://www.latex4technics.com/\" \n",
    "               style=\"font-family:monospace\">https://www.latex4technics.com/</a>.</li>\n",
    "        <li><a href=\"https://latex.codecogs.com/legacy/eqneditor/editor.php\"\n",
    "               style=\"font-family:monospace\">https://latex.codecogs.com/legacy/eqneditor/editor.php</a>.</li>\n",
    "    </ul>\n",
    "</div>"
   ]
  },
  {
   "cell_type": "markdown",
   "metadata": {
    "slideshow": {
     "slide_type": "slide"
    }
   },
   "source": [
    "## HTML\n",
    "\n",
    "Si ya sabes HTML, puedes usar sus comandos en las celdas de documentación, para <b>formatear listas</b>:\n",
    "\n",
    "<ul><li>uno</li><li>otro</li></ul>\n",
    "<ol><li>uno</li><li>dos</li></ol>\n",
    "<dl>\n",
    "    <dt>Lista ordenada (<kbd>ol</kbd>)</dt><dd>Lista de elementos en los que el orden es relevante</dd>\n",
    "    <dt>Lista no ordenada (<kbd>ul</kbd>)</dt><dd>Lista de elementos en los que el orden no importa</dd>\n",
    "    <dt>Lista de términos (<kbd>dt</kbd>)</dt><dd>Para enumerar una serie de conceptos y sus correspondientes definiciones.</dd>\n",
    "</dl>"
   ]
  },
  {
   "cell_type": "markdown",
   "metadata": {
    "slideshow": {
     "slide_type": "subslide"
    }
   },
   "source": [
    "<b>O tablas</b>:\n",
    "<table style=\"font-size: xx-large\">\n",
    "    <tr style=\"border-top: 2px solid\"><th>Col<sub>1</sub></th><th>Col<sub>2</sub></th><th>Col<sub>3</sub></th><th>Col<sub>4</sub></th></tr>\n",
    "    <tr style=\"border-top: 1px solid\"><td>1</td><td>2</td><td>3</td><td>4</td></tr>\n",
    "    <tr><td>101</td><td>202</td><td>303</td><td>404</td></tr>\n",
    "    <tr style=\"border-bottom: 2px solid\"><td>Uno</td><td>Dos</td><td>Tres</td><td>Cuatro</td></tr>\n",
    "</table>\n",
    "\n",
    "\n",
    "<div class=\"alert alert-info\" style=\"text-indent:-.65em; padding-left: 2.2em\">\n",
    "   <i style=\"font-size: larger;\" class=\"fa fa-info-circle\" aria-hidden=\"true\"></i> \n",
    "Aunque no sepas HTML, puedes utilizar tablas HTML con la ayuda de herramientas en línea de edición de tablas, como por ejemplo: <a href=\"https://www.tablesgenerator.com/html_tables\" style=\"font-family:monospace\">https://www.tablesgenerator.com/html_tables</a>.\n",
    "</div>"
   ]
  },
  {
   "cell_type": "markdown",
   "metadata": {
    "slideshow": {
     "slide_type": "subslide"
    }
   },
   "source": [
    "O utilizar [CSS](https://es.wikipedia.org/wiki/Hoja_de_estilos_en_cascada) para dar estilo a elementos:\n",
    "\n",
    "<!-- For important announcements -->\n",
    "<div style=\"-moz-border-bottom-colors: none; -moz-border-left-colors: none; -moz-border-right-colors: none; -moz-border-top-colors: none; background-color: #fefef1; border-bottom-right-radius: 12px; border-color: #f7a600; border-style: solid; border-width: 1px 1px 1px 5px; box-shadow: 2px 3px 5px #ccc; color: #222; display: table; line-height: 1.4em; margin: 10px 20px 20px; overflow: hidden; padding: 10px 16px;\">\n",
    "<p>Por ejemplo para establecer bordes, colores y sombreados.</p>\n",
    "</div>\n"
   ]
  },
  {
   "cell_type": "markdown",
   "metadata": {
    "slideshow": {
     "slide_type": "slide"
    }
   },
   "source": [
    "## Bootstrap\n",
    "\n",
    "Si ya sabes Bootstrap, ..., <button class=\"btn btn-primary label label-info\" style=\"padding-top: .5em\" type=\"button\" data-toggle=\"collapse\" data-target=\"#collapseExample\" aria-expanded=\"false\" aria-controls=\"collapseExample\">\n",
    "    <i class=\"fa fa-info-circle\" aria-hidden=\"true\"></i> ya te imaginas qué ¿verdad?\n",
    "  </button> <span style=\"font-size: 8pt; color:red\">(pulsa le botón precedente para ver más información)</span>\n",
    "\n",
    "<div class=\"collapse\" id=\"collapseExample\">\n",
    "  <div class=\"card card-body\">\n",
    "    Podrás utilizar <b>algunos</b> de los elementos y clases de bootstrap:\n",
    "    <ul>\n",
    "    <li><i class=\"concept\">Desplegables</i> y <i class=\"concept\">Pestañas</i>.</li> \n",
    "    <li><i class=\"concept\">Iconos</i>:\n",
    "<i title=\"fa-external-link\" style=\"font-size: xx-large; color: navy\" class=\"fa fa-external-link\" aria-hidden=\"true\"></i>,\n",
    "<i title=\"fa-globe\" style=\"font-size: xx-large; color: blue\" class=\"fa fa-globe\" aria-hidden=\"true\"></i>,\n",
    "<i title=\"fa-film\" style=\"font-size: xx-large; color: maroon\" class=\"fa fa-film\" aria-hidden=\"true\"></i>,\n",
    "<i title=\"fa-book\" style=\"font-size: xx-large; color: black\" class=\"fa fa-book\" aria-hidden=\"true\"></i>,\n",
    "<i title=\"fa-gears\" style=\"font-size: xx-large; color: #558\" class=\"fa fa-gears\" aria-hidden=\"true\"></i>,\n",
    "<i title=\"fa-graduation-cap\" style=\"font-size: xx-large; color: black\" class=\"fa fa-graduation-cap\" aria-hidden=\"true\"></i>,\n",
    "<i title=\"fa-language\" style=\"font-size: xx-large; color: black\" class=\"fa fa-language\" aria-hidden=\"true\"></i>,\n",
    "<i title=\"fa-linux\" style=\"border: 1px solid #BCBEC0; border-radius: 7px; background-color: #ddd4; padding: 3px; font-size: xx-large; color: black\" class=\"fa fa-linux\" aria-hidden=\"true\"></i>,\n",
    "<i title=\"fa-file-pdf-o\" style=\"font-size: xx-large; color: #900\" class=\"fa fa-file-pdf-o\" aria-hidden=\"true\"></i>,\n",
    "<i title=\"fa-paperclip\" style=\"font-size: xx-large; color: #999\" class=\"fa fa-paperclip\" aria-hidden=\"true\"></i>,\n",
    "<i title=\"fa-pencil\" style=\"font-size: xx-large; color: navy\" class=\"fa fa-pencil\" aria-hidden=\"true\"></i>,\n",
    "<i title=\"fa-pencil-square-o\" style=\"font-size: xx-large; color: black;\" class=\"fa fa-pencil-square-o\" aria-hidden=\"true\"></i>,\n",
    "<i title=\"fa-question\" style=\"font-size: xx-large; color: black;\" class=\"fa fa-question\" aria-hidden=\"true\"></i>,\n",
    "<i title=\"fa-question-circle\" style=\"font-size: xx-large; color: black;\" class=\"fa fa-question-circle\" aria-hidden=\"true\"></i>,\n",
    "<i title=\"fa-youtube\" style=\"font-size: xx-large; color: red\" class=\"fa fa-youtube\" aria-hidden=\"true\"></i>,\n",
    "<i title=\"fa-remove\" style=\"font-size: xx-large; color: red\" class=\"fa fa-remove\" aria-hidden=\"true\"></i>,\n",
    "<i title=\"fa-check-circle-o\" style=\"font-size: xx-large; color: green\" class=\"fa fa-check-circle-o\" aria-hidden=\"true\"></i>,\n",
    "<i title=\"fa-check-square-o\" style=\"font-size: xx-large; color: green\" class=\"fa fa-check-square-o\" aria-hidden=\"true\"></i>,\n",
    "<i title=\"fa-search\" style=\"font-size: xx-large; color: navy\" class=\"fa fa-search\" aria-hidden=\"true\"></i>,\n",
    "<i title=\"fa-thumbs-o-up\" style=\"font-size: xx-large; color: navy\" class=\"fa fa-thumbs-o-up\" aria-hidden=\"true\"></i>,\n",
    "<i title=\"fa-hand-o-right\" style=\"font-size: xx-large; color: navy\" class=\"fa fa-hand-o-right\" aria-hidden=\"true\"></i>,\n",
    "<i title=\"fa-thumbs-up\" style=\"font-size: xx-large; color: #0d0\" class=\"fa fa-thumbs-up\" aria-hidden=\"true\"></i>,\n",
    "<i title=\"fa-thumbs-down\" style=\"font-size: xx-large; color: #d00\" class=\"fa fa-thumbs-down\" aria-hidden=\"true\"></i>,\n",
    "<i title=\"fa-spinner\" class=\"fa fa-spinner fa-spin\" style=\"font-size:24px; color: silver\"></i>,\n",
    "<i title=\"fa-refresh\" class=\"fa fa-refresh fa-spin\" style=\"font-size:24px; color: #99f\"></i>\n",
    "    </li>\n",
    "    <li><i class=\"concept\">Etiquetas</i>: <span class=\"label label-default\">Default</span>\n",
    "<span class=\"label label-primary\">Primary</span>\n",
    "<span class=\"label label-success\"><i class=\"fa fa-check-circle-o\" aria-hidden=\"true\"></i> Success</span>\n",
    "<span class=\"label label-success\"><i class=\"fa fa-thumbs-up\" aria-hidden=\"true\"></i> Success</span>\n",
    "<span class=\"label label-info\"><i class=\"fa fa-info-circle\" aria-hidden=\"true\"></i> Info</span>\n",
    "<span class=\"label label-warning\"><i class=\"fa fa-warning\" aria-hidden=\"true\"></i> Warning</span>\n",
    "<span class=\"label label-danger\"><i class=\"fa fa-bomb\" aria-hidden=\"true\"></i> Danger</span>\n",
    "    </li>\n",
    "    <li><i class=\"concept\">Alertas</i>:\n",
    "        <div class=\"alert alert-success\" role=\"alert\">\n",
    "          This is a success alert—check it out!\n",
    "        </div>\n",
    "        <!--\n",
    "        <div class=\"alert alert-danger\" role=\"alert\">\n",
    "          This is a danger alert—check it out!\n",
    "        </div>\n",
    "        <div class=\"alert alert-warning\" role=\"alert\">\n",
    "          This is a warning alert—check it out!\n",
    "        </div>\n",
    "        <div class=\"alert alert-info\" role=\"alert\">\n",
    "          This is a info alert—check it out!\n",
    "        </div>\n",
    "        -->\n",
    "    </li>\n",
    "    </ul>\n",
    "  </div>\n",
    "\n",
    "<b style=\"color: red\">Aunque Bootstrap ya no parece estar soportado por JupyterLab 😥.</b>\n",
    "</div>"
   ]
  },
  {
   "cell_type": "markdown",
   "metadata": {
    "nbpresent": {
     "id": "67879a71-84fb-41fd-97c8-84dd9d0c8828"
    },
    "slideshow": {
     "slide_type": "slide"
    }
   },
   "source": [
    "# Referencias <a id=\"references\"></a>&nbsp;&nbsp;<a href=\"#index\"><i class=\"fa fa-list-alt\" aria-hidden=\"true\"></i></a>\n",
    "- https://es.wikipedia.org/wiki/Python\n",
    "- https://gitlab.erc.monash.edu.au/andrease/Python4Maths/tree/master\n",
    "- https://nbviewer.jupyter.org/github/jupyter/notebook/blob/master/docs/source/examples/Notebook/Running%20Code.ipynb\n",
    "- https://github.com/ipython-books/minibook-2nd-code\n",
    "- http://nbviewer.jupyter.org/github/ipython-books/minibook-2nd-code/blob/master/chapter1/13-nbui.ipynb\n",
    "- http://nbviewer.jupyter.org/github/ipython-books/minibook-2nd-code/blob/master/chapter1/12-installation.ipynb\n",
    "- https://markdown.es/sintaxis-markdown/\n",
    "- https://medium.com/analytics-vidhya/the-ultimate-markdown-guide-for-jupyter-notebook-d5e5abf728fd"
   ]
  },
  {
   "cell_type": "markdown",
   "metadata": {
    "nbpresent": {
     "id": "82bea5fe-9e8d-4406-ac9f-0372631be978"
    },
    "slideshow": {
     "slide_type": "slide"
    }
   },
   "source": [
    "<br>\n",
    "<br>\n",
    "<hr style=\"border: 2px solid red\">\n",
    "<br>\n",
    "\n",
    "\n",
    "<h1 class=\"jumbo\">Algunas cuestiones avanzadas</h1>\n",
    "\n",
    "<span style=\"color:red\">Lo que sigue es material opcional, es interesante conocerlo, pero no indispensable para poder introducirse al uso de Python.</span>"
   ]
  },
  {
   "cell_type": "markdown",
   "metadata": {
    "nbpresent": {
     "id": "2b9c23eb-a1e1-4814-8330-0c38dd7322d8"
    },
    "slideshow": {
     "slide_type": "slide"
    }
   },
   "source": [
    "# Utilización de entornos virtuales <a id=\"virtenv\"></a><a href=\"#index\"><i class=\"fa fa-list-alt\" aria-hidden=\"true\"></i></a>\n",
    "\n",
    "Con Anaconda se pueden crear entornos virtuales aislados. Los «entornos virtuales» son instalaciones de Python autocontenidas en las que se pueden instalar versiones concretas de Python, bibliotecas y versiones específicas de estas. Las  bibliotecas en un entorno no interfieren con la instalación general, ni con las de otros entornos.\n",
    "\n",
    "Podemos incluso instalar un entorno con una versión de Python distinta de la general:\n",
    "<pre class=\"cgocode\">\n",
    "conda create -n py2 anaconda python=2.7\n",
    "</pre>\n",
    "\n",
    "Para activar el nuevo entorno, se usa:\n",
    "- En Windows: <kbd>activate py2</kbd> (esto puede dar problemas con Powershell, ver https://github.com/conda/conda/issues/626, o alternativamente usa la terminal de <kbd>cmd</kbd>).\n",
    "- Linux y Mac OS X: <kbd>source activate py2</kbd>\n",
    "\n",
    "Ahora verás el prefijo (py2) en frente del símbolo de sistema.\n",
    "\n",
    "Para desactivar el entorno, usa <kbd>deactivate</kbd> en Windows, o <kbd>source deactivate</kbd> en Linux y Mac OS X."
   ]
  },
  {
   "cell_type": "markdown",
   "metadata": {
    "nbpresent": {
     "id": "3af15181-95b0-4e38-ab56-e8b7500f0752"
    },
    "slideshow": {
     "slide_type": "slide"
    }
   },
   "source": [
    "# Más opciones del comando <kbd>conda</kbd> <a id=\"conda\"></a><a href=\"#index\"><i class=\"fa fa-list-alt\" aria-hidden=\"true\"></i></a>\n",
    "\n",
    "- Listar todos los paquetes instalados en el entorno actual:\n",
    "<pre class=\"cgocode\">\n",
    "conda list\n",
    "</pre>\n",
    "- Listar todos los paquetes instalados en el entorno <kbd>myenv</kbd>:\n",
    "<pre class=\"cgocode\">\n",
    "conda list -n myenv\n",
    "</pre>\n",
    "- Instalar el paquete <kbd>scipy</kbd> en el entorno activo actual:\n",
    "<pre class=\"cgocode\">\n",
    "conda install scipy\n",
    "</pre>\n",
    "- Instalar el paquete <kbd>scipy</kbd> en el entorno <kbd>myenv</kbd>:\n",
    "<pre class=\"cgocode\">\n",
    "conda install -n myenv scipy\n",
    "</pre>"
   ]
  },
  {
   "cell_type": "markdown",
   "metadata": {
    "nbpresent": {
     "id": "c4650f03-9a0c-40f5-b3cc-4178ff1ff829"
    },
    "slideshow": {
     "slide_type": "subslide"
    }
   },
   "source": [
    "- Crear un nuevo entorno conda de nombre <kbd>myenv</kbd> y con los paquetes <kbd>sqlite</kbd> y <kbd>flask</kbd>:\n",
    "<pre class=\"cgocode\">\n",
    "conda create -n myenv python=3.6 sqlite flask\n",
    "# o\n",
    "conda env create -n myenv python=3.6 sqlite flask\n",
    "</pre>\n",
    "- Activar el entorno <kbd>myenv</kbd>:\n",
    "<pre class=\"cgocode\">\n",
    "source activate myenv # en Linux y Mac\n",
    "activate myenv # en Windows\n",
    "</pre>\n",
    "- Desactivar el entorno virtual\n",
    "<pre class=\"cgocode\">\n",
    "source deactivate # en Linux y Mac\n",
    "deactivate # en Windows\n",
    "</pre>\n",
    "- Listar todos los entornos virtuales:\n",
    "<pre class=\"cgocode\">\n",
    "conda env list\n",
    "# o\n",
    "conda info --envs\n",
    "</pre>"
   ]
  },
  {
   "cell_type": "markdown",
   "metadata": {
    "nbpresent": {
     "id": "32087d5a-553e-423c-99d0-07295f844d74"
    },
    "slideshow": {
     "slide_type": "subslide"
    }
   },
   "source": [
    "- Clonar un entorno virtual:\n",
    "<pre class=\"cgocode\">\n",
    "conda create --name nombre_del_nuevo_entorno --clone entorno_que_se_clona\n",
    "</pre>\n",
    "- Eliminar un entorno virtual de nombre <kbd>myenvname</kbd>\n",
    "<pre class=\"cgocode\">\n",
    "conda remove -n myenvname -all\n",
    "</pre>\n",
    "- Exportar el archivo de entorno (pare recrearlo en otra máquina):\n",
    "<pre class=\"cgocode\">\n",
    "source activate envname\n",
    "# activate envname # en Windows\n",
    "conda env export > environment.yml\n",
    "</pre>\n",
    "- Crear una copia de un entorno a partir de un archivo de entorno <kbd>environment.yml</kbd>:\n",
    "<pre class=\"cgocode\">\n",
    "conda env create -f environment.yml\n",
    "source activate envname\n",
    "# activate envname # en Windows\n",
    "</pre>"
   ]
  },
  {
   "cell_type": "markdown",
   "metadata": {
    "nbpresent": {
     "id": "ee7d8911-498f-402e-bddf-c4b3146f299d"
    },
    "slideshow": {
     "slide_type": "subslide"
    }
   },
   "source": [
    "- Obtener el listado de paquetes instalados en el entorno virtual:\n",
    "<pre class=\"cgocode\">\n",
    "conda list --export > package-list.txt\n",
    "</pre>\n",
    "- Crear un entorno con los paquetes incluidos en el archivo <kbd>package-list.txt</kbd>:\n",
    "<pre class=\"cgocode\">\n",
    "conda create -n myenv --file package-list.txt\n",
    "</pre>\n",
    "- Mostrar la lista de subcomandos de conda:\n",
    "<pre class=\"cgocode\">\n",
    "conda help\n",
    "</pre>\n",
    "- Mostrar información general de la instalación:\n",
    "<pre class=\"cgocode\">\n",
    "conda info\n",
    "</pre>"
   ]
  },
  {
   "cell_type": "markdown",
   "metadata": {
    "nbpresent": {
     "id": "9ed96586-10bc-4975-866d-0087758083e2"
    },
    "slideshow": {
     "slide_type": "subslide"
    }
   },
   "source": [
    "- Actualizar todos los paquetes en la instalación de anaconda:\n",
    "<pre class=\"cgocode\">\n",
    "conda update anaconda\n",
    "</pre>\n",
    "- Actualizar el gestor de paquetes <kbd>conda</kbd>:\n",
    "<pre class=\"cgocode\">\n",
    "conda update conda\n",
    "</pre>"
   ]
  },
  {
   "cell_type": "markdown",
   "metadata": {
    "nbpresent": {
     "id": "af8c1f9f-f4cf-4d9d-9c9e-fde2ec27227e"
    },
    "slideshow": {
     "slide_type": "fragment"
    }
   },
   "source": [
    "<div class=\"alert alert-success\">\n",
    "<p>Más información sobre entornos virtuales:</p>\n",
    "    \n",
    "- [Managing environments](http://stuarteberg.github.io/conda-docs/using/envs.html).\n",
    "- [Cheat sheet](https://conda.io/docs/user-guide/cheatsheet.html).\n",
    "</div>\n",
    "\n",
    "<!--\n",
    "conda install somepackage=0.7: install a specific version of a package.\n",
    "conda update somepackage: update a Python package to the latest available version.\n",
    "conda update conda: update conda itself.\n",
    "conda update --all: update all packages.\n",
    "conda remove somepackage: uninstall a Python package.\n",
    "conda remove -n myenv --all: remove the environment named myenv (replace this by the name of the environment you want to uninstall).\n",
    "conda clean -t: remove the old tarballs that are left over after installation and updates.\n",
    "-->"
   ]
  },
  {
   "cell_type": "markdown",
   "metadata": {
    "nbpresent": {
     "id": "3af15181-95b0-4e38-ab56-e8b7500f0752"
    },
    "slideshow": {
     "slide_type": "slide"
    }
   },
   "source": [
    "# El comando <kbd>pip</kbd> <a id=\"pip\"></a><a href=\"#index\"><i class=\"fa fa-list-alt\" aria-hidden=\"true\"></i></a>\n",
    "\n",
    "Es más general, en el sentido de que está disponible tanto en Anaconda como en otras distribuciones de Python, además, en ocasiones necesitaremos paquetes que no están disponibles a través de `conda` pero sí a través de `pip`.\n",
    "\n",
    "- Para instalarlo (<span class=\"label label-success\"><i class=\"fa fa-thumbs-up\" aria-hidden=\"true\"></i> Con Anaconda no es necesario, dado que se instala por defecto.</span>), primero descargamos el programa https://bootstrap.pypa.io/get-pip.py y luego lo ejecutamos:\n",
    "<pre class=\"cgocode\">\n",
    "python get-pip.py\n",
    "</pre>\n",
    "- Si ya está instalado, pero queremos actualizarlo\n",
    "<pre class=\"cgocode\">\n",
    "pip install -U pip # en Linux\n",
    "python -m pip install -U pip # en Windows\n",
    "</pre>\n",
    "- Instalar el paquete <kbd>scipy</kbd> en el entorno activo actual:\n",
    "<pre class=\"cgocode\">\n",
    "pip install scipy\n",
    "</pre>"
   ]
  },
  {
   "cell_type": "markdown",
   "metadata": {
    "nbpresent": {
     "id": "3af15181-95b0-4e38-ab56-e8b7500f0752"
    },
    "slideshow": {
     "slide_type": "subslide"
    }
   },
   "source": [
    "- Para ver información sobre el paquete <kbd>scipy</kbd> ya instalado:\n",
    "<pre class=\"cgocode\">\n",
    "pip show scipy\n",
    "</pre>\n",
    "- Desinstalar el paquete <kbd>scipy</kbd> en el entorno activo actual:\n",
    "<pre class=\"cgocode\">\n",
    "pip uninstall scipy\n",
    "</pre>\n",
    "- Para buscar un paquete en el repositorio PyPi:\n",
    "<pre class=\"cgocode\">\n",
    "pip search <i style=\"font-family: serif;\">palabra_relacionada_con_el_paquete</i>\n",
    "</pre>\n",
    "- Para listar los paquetes instalados:\n",
    "<pre class=\"cgocode\">\n",
    "pip list\n",
    "</pre>\n",
    "<div class=\"alert alert-success\">\n",
    "Más información en <code><a href=\"http://dcjtech.info/wp-content/uploads/2015/10/Pip-Cheatsheet.pdf\">http://dcjtech.info/wp-content/uploads/2015/10/Pip-Cheatsheet.pdf</a></code>\n",
    "</div>"
   ]
  },
  {
   "cell_type": "markdown",
   "metadata": {
    "nbpresent": {
     "id": "f5a436b1-aa2e-41af-9ec7-3381cf16c482"
    },
    "slideshow": {
     "slide_type": "slide"
    }
   },
   "source": [
    "# Magics <a id=\"magic\"></a><a href=\"#index\"><i class=\"fa fa-list-alt\" aria-hidden=\"true\"></i></a>\n",
    "\n",
    "Jupyter tiene un conjunto de <q class=\"concept\">funciones mágicas</q> predefinidas. Hay dos tipos funciones mágicas\n",
    "- orientadas a la línea, se introducen con <kbd>%</kbd> y funcionan más o menos como las funciones de línea de comandos de un sistema operativo.\n",
    "- orientadas a la celda, se introducen con <kbd>%%</kbd> y toman como argumento no sólo el resto de la línea, sino la totalidad de la celda."
   ]
  },
  {
   "cell_type": "markdown",
   "metadata": {
    "nbpresent": {
     "id": "0a7398d6-6726-4258-b8f7-39063804cabe"
    },
    "slideshow": {
     "slide_type": "subslide"
    }
   },
   "source": [
    "Los siguientes ejemplos muestran como invocar la función mágica <kbd>timeit</kbd> en los dos modos."
   ]
  },
  {
   "cell_type": "code",
   "execution_count": null,
   "metadata": {
    "nbpresent": {
     "id": "0a274f3a-6d07-471b-8924-b4e318f11ce6"
    },
    "slideshow": {
     "slide_type": "fragment"
    }
   },
   "outputs": [],
   "source": [
    "%timeit range(1000)"
   ]
  },
  {
   "cell_type": "code",
   "execution_count": null,
   "metadata": {
    "nbpresent": {
     "id": "8a27c354-3e53-47b0-8317-60995594175e"
    },
    "slideshow": {
     "slide_type": "fragment"
    }
   },
   "outputs": [],
   "source": [
    "%timeit x = range(10000)"
   ]
  },
  {
   "cell_type": "markdown",
   "metadata": {
    "nbpresent": {
     "id": "7e4af3de-a456-430f-8789-ca4f19762842"
    },
    "slideshow": {
     "slide_type": "slide"
    }
   },
   "source": [
    "Algunos ejemplos de funciones mágicas son:\n",
    "- Funciones que actúan sobre código: <kbd>%run</kbd>, <kbd>%edit</kbd>, <kbd>%save</kbd>, <kbd>%macro</kbd>, <kbd>%recall</kbd>, ...\n",
    "- Funciones que afectan a la forma de interacción: <kbd>%colors</kbd>, <kbd>%xmode</kbd>, <kbd>%autoindent</kbd>, <kbd>%automagic</kbd>, ..\n",
    "- Otras funciones: <kbd>%reset</kbd>, <kbd>%timeit</kbd>, <kbd>%%writefile</kbd>, <kbd>%load</kbd>, or <kbd>%paste</kbd>, ...\n",
    "\n",
    "Con la función <kbd>%lsmagic</kbd> se obtiene un listado de las funciones mágicas.\n",
    " \n",
    "Con la función mágica <kbd>%magic</kbd> se obtiene una ayuda sobre las funciones mágicas.\n"
   ]
  },
  {
   "cell_type": "code",
   "execution_count": null,
   "metadata": {
    "nbpresent": {
     "id": "821158e4-9adb-4940-a4fa-85c1e226b115"
    },
    "slideshow": {
     "slide_type": "subslide"
    }
   },
   "outputs": [],
   "source": [
    "%lsmagic"
   ]
  },
  {
   "cell_type": "code",
   "execution_count": null,
   "metadata": {
    "nbpresent": {
     "id": "c0ba2309-4fe8-4458-b549-341adf9d72ec"
    },
    "slideshow": {
     "slide_type": "subslide"
    }
   },
   "outputs": [],
   "source": [
    "%magic"
   ]
  },
  {
   "cell_type": "markdown",
   "metadata": {
    "nbpresent": {
     "id": "cf492abd-b934-451f-9984-2462dab013f3"
    },
    "slideshow": {
     "slide_type": "slide"
    }
   },
   "source": [
    "# Algunas referencias adicionales <a id=\"morereferences\"></a><a href=\"#index\"><i class=\"fa fa-list-alt\" aria-hidden=\"true\"></i></a>\n",
    "\n",
    "- Sitio web de Continuum Analytics: http://continuum.io/\n",
    "- Página principal de Anaconda: https://store.continuum.io/cshop/anaconda/\n",
    "- Descargas de Anaconda: http://continuum.io/downloads\n",
    "- Lista de paquetes en la distribución Anaconda: http://docs.continuum.io/anaconda/pkg-docs\n",
    "- Página principal de Conda: http://conda.io/\n",
    "- Lista de distribución de Anaconda: https://groups.google.com/a/continuum.io/forum/#!forum/anaconda"
   ]
  },
  {
   "cell_type": "markdown",
   "metadata": {
    "nbpresent": {
     "id": "2faa7bf2-1937-4ef6-88a8-66c902ff4f67"
    },
    "slideshow": {
     "slide_type": "subslide"
    }
   },
   "source": [
    "- Cuenta de Twitter de Continuum Analytics: https://twitter.com/ContinuumIO\n",
    "- Lista de preguntas frecuentes sobre Conda: http://conda.pydata.org/docs/faq.html\n",
    "- Un selección de paquetes Python: http://awesome-python.com/\n",
    "- Una lista de cuadernos Jupyter interesantes: https://github.com/jupyter/jupyter/wiki/A-gallery-of-interesting-Jupyter-Notebooks\n",
    "- Advanced Jupyter Notebook Tricks — Part I: https://blog.dominodatalab.com/lesser-known-ways-of-using-notebooks/\n",
    "- Jupyter Magic Commands: https://www.cloudera.com/documentation/data-science-workbench/1-0-x/topics/cdsw_jupyter.html\n",
    "- Built-in magic commands: http://ipython.readthedocs.io/en/stable/interactive/magics.html\n",
    "- 28 Jupyter Notebook tips, tricks, and shortcuts: https://www.dataquest.io/blog/jupyter-notebook-tips-tricks-shortcuts/"
   ]
  },
  {
   "cell_type": "markdown",
   "metadata": {},
   "source": [
    "# Algo de humor"
   ]
  },
  {
   "cell_type": "code",
   "execution_count": 13,
   "metadata": {},
   "outputs": [],
   "source": [
    "import antigravity"
   ]
  },
  {
   "cell_type": "code",
   "execution_count": null,
   "metadata": {},
   "outputs": [],
   "source": [
    "!pip install pyjokes"
   ]
  },
  {
   "cell_type": "code",
   "execution_count": 6,
   "metadata": {},
   "outputs": [],
   "source": [
    "import pyjokes.jokes_es\n",
    "import pyjokes.jokes_en"
   ]
  },
  {
   "cell_type": "code",
   "execution_count": 12,
   "metadata": {
    "collapsed": true
   },
   "outputs": [
    {
     "data": {
      "text/plain": [
       "['¿Qué es una mujer objeto? Un instancia de una mujer con clase',\n",
       " '- Cuántos dalmatas habia en la peli? - 101. - Por el culo te la hinco!',\n",
       " 'Encuentran programador muerto en la ducha con un bote de champu: \"enjabonar, aclarar y vuelta a empezar\"',\n",
       " 'Esto es un mainframe que le dice a un PC: \"tan pequeno y ya \"computas\"?']"
      ]
     },
     "execution_count": 12,
     "metadata": {},
     "output_type": "execute_result"
    }
   ],
   "source": [
    "# cambia 'neutral' por 'adult' bajo tu propia responsabilidad (algunos chistes pueden resultarte ofensivos)\n",
    "pyjokes.jokes_es.jokes_es['neutral'] "
   ]
  },
  {
   "cell_type": "code",
   "execution_count": 10,
   "metadata": {
    "collapsed": true
   },
   "outputs": [
    {
     "name": "stdout",
     "output_type": "stream",
     "text": [
      "* Ubuntu users are apt to get this joke.\n",
      "* Obfuscated Reality Mappers (ORMs) can be useful database tools.\n",
      "* I wonder if the MPs voting on the Digital Economy Bill think that Creative Commons is a Parliamentary initiative.\n",
      "* Asked to explain Unicode during an interview, Geoff went into detail about his final year university project. He was not hired.\n",
      "* Triumphantly, Beth removed Python 2.7 from her server in 2020. 'Finally!' she said with glee, only to see the announcement for Python 4.4.\n",
      "* An SQL query goes into a bar, walks up to two tables and asks, 'Can I join you?'\n",
      "* When your hammer is C++, everything begins to look like a thumb.\n",
      "* If you put a million monkeys at a million keyboards, one of them will eventually write a Java program. The rest of them will write Perl.\n",
      "* To understand recursion you must first understand recursion.\n",
      "* Friends don't let friends use Python 2.7\n",
      "* I suggested holding a 'Python Object Oriented Programming Seminar', but the acronym was unpopular.\n",
      "* 'Knock, knock.' 'Who’s there?' ... very long pause ... 'Java.'\n",
      "* How many programmers does it take to change a light bulb? None, that's a hardware problem.\n",
      "* What's the object-oriented way to become wealthy? Inheritance\n",
      "* Why don't jokes work in octal? Because 7 10 11.\n",
      "* How many programmers does it take to change a light bulb? None, they just make darkness a standard.\n",
      "* Two bytes meet. The first byte asks, 'Are you ill?' The second byte replies, 'No, just feeling a bit off.'\n",
      "* Two threads walk into a bar. The barkeeper looks up and yells, 'Hey, I want don't any conditions race like time last!'\n",
      "* Old C programmers don't die, they're just cast into void.\n",
      "* Eight bytes walk into a bar. The bartender asks, 'Can I get you anything?' 'Yeah,' reply the bytes. 'Make us a double.'\n",
      "* Why did the programmer quit his job? Because they didn't get arrays.\n",
      "* Why do Java programmers have to wear glasses? Because they don't see sharp.\n",
      "* Software developers like to solve problems. If there are no problems handily available, they will create their own problems.\n",
      "* .NET was named .NET so that it wouldn't show up in a Unix directory listing.\n",
      "* Hardware: The part of a computer that you can kick.\n",
      "* A programmer was found dead in the shower. Next to their body was a bottle of shampoo with the instructions 'Lather, Rinse and Repeat'.\n",
      "* Optimist: The glass is half full. Pessimist: The glass is half empty. Programmer: The glass is twice as large as necessary.\n",
      "* In C we had to code our own bugs. In C++ we can inherit them.\n",
      "* How come there is not obfuscated Perl contest? Because everyone would win.\n",
      "* If you play a Windows CD backwards, you'll hear satanic chanting ... worse still, if you play it forwards, it installs Windows.\n",
      "* How many programmers does it take to kill a cockroach? Two: one holds, the other installs Windows on it.\n",
      "* What do you call a programmer from Finland? Nerdic.\n",
      "* What did the Java code say to the C code? A: You've got no class.\n",
      "* Why did Microsoft name their search engine BING? Because It's Not Google.\n",
      "* Pirates go 'arg!', computer pirates go 'argv!'\n",
      "* Software salesmen and used-car salesmen differ in that the latter know when they are lying.\n",
      "* Child: Dad, why does the sun rise in the east and set in the west? Dad: Son, it's working, don't touch\n",
      "* Why do programmers confuse Halloween with Christmas? Because OCT 31 == DEC 25\n",
      "* How many Prolog programmers does it take to change a lightbulb? false.\n",
      "* Real programmers can write assembly code in any language\n",
      "* Waiter: Would you like coffee or tea? Programmer: Yes.\n",
      "* What do you get when you cross a cat and a dog? Cat dog sin theta.\n",
      "* If loving you is ROM I don't wanna read write.\n",
      "* A programmer walks into a foo...\n",
      "* A programmer walks into a bar and orders 1.38 root beers. The bartender informs her it's a root beer float. She says 'Make it a double!'\n",
      "* What is Benoit B. Mandelbrot's middle name? Benoit B. Mandelbrot.\n",
      "* Why are you always smiling? That's just my... regular expression.\n",
      "* ASCII stupid question, get a stupid ANSI.\n",
      "* A programmer had a problem. He thought to himself, 'I know, I'll solve it with threads!'. has Now problems. two he\n",
      "* Why do sin and tan work? Just cos.\n",
      "* Java: Write once, run away.\n",
      "* I would tell you a joke about UDP, but you would never get it.\n",
      "* A QA engineer walks into a bar. Runs into a bar. Crawls into a bar. Dances into a bar. Tiptoes into a bar. Rams a bar. Jumps into a bar.\n",
      "* My friend's in a band called '1023 Megabytes'... They haven't got a gig yet!\n",
      "* I had a problem so I thought I'd use Java. Now I have a ProblemFactory.\n",
      "* QA Engineer walks into a bar. Orders a beer. Orders 0 beers. Orders 999999999 beers. Orders a lizard. Orders -1 beers. Orders a sfdeljknesv.\n",
      "* A product manager walks into a bar, asks for drink. Bartender says no, but will consider adding later.\n",
      "* How do you generate a random string? Put a first year Computer Science student in Vim and ask them to save and exit.\n",
      "* I've been using Vim for a long time now, mainly because I can't figure out how to exit.\n",
      "* How do you know whether a person is a Vim user? Don't worry, they'll tell you.\n",
      "* Waiter: He's choking! Is anyone a doctor? Programmer: I'm a Vim user.\n",
      "* 3 Database Admins walked into a NoSQL bar. A little while later they walked out because they couldn’t find a table.\n",
      "* How to explain the movie Inception to a programmer? When you run a VM inside another VM, inside another VM ... everything runs real slow!\n",
      "* What do you call a parrot that says \"Squawk! Pieces of nine! Pieces of nine!\"? A parrot-ey error.\n",
      "* There are only two hard problems in Computer Science: cache invalidation, naming things and off-by-one-errors.\n",
      "* There are 10 types of people: those who understand binary and those who don't\n",
      "* There are 2 types of people: those who can interpret incomplete data sets...\n",
      "* There are II types of people: Those who understand Roman Numerals and those who don't.\n",
      "* There are 10 types of people: those who understand hexadecimal and 15 others\n",
      "* There are 10 types of people: those who understand binary, those who don't, and those who were expecting this joke to be in trinary.\n",
      "* There are 10 types of people: those who understand trinary, those who don't, and those who have never heard of it.\n",
      "* What do you call eight hobbits? A hobbyte.\n",
      "* The best thing about a Boolean is even if you are wrong, you are only off by a bit.\n",
      "* A good programmer is someone who always looks both ways before crossing a one-way street.\n",
      "* There are two ways to write error-free programs; only the third one works.\n"
     ]
    }
   ],
   "source": [
    "for joke in pyjokes.jokes_en.jokes_en['neutral']: # 'adult' jokes could be offensive, so DO NOT print them\n",
    "    print(\"* \"+joke)"
   ]
  },
  {
   "cell_type": "markdown",
   "metadata": {},
   "source": [
    "# This is just for me <a name=\"end\"></a>"
   ]
  },
  {
   "cell_type": "code",
   "execution_count": 1,
   "metadata": {
    "nbpresent": {
     "id": "965b3334-7092-43da-ab51-fd2e16ed00a5"
    },
    "scrolled": true,
    "slideshow": {
     "slide_type": "skip"
    }
   },
   "outputs": [
    {
     "data": {
      "text/html": [
       "<link rel=\"stylesheet\" type=\"text/css\" href=\"custom.css\">\n"
      ],
      "text/plain": [
       "<IPython.core.display.HTML object>"
      ]
     },
     "metadata": {},
     "output_type": "display_data"
    }
   ],
   "source": [
    "%%HTML\n",
    "<link rel=\"stylesheet\" type=\"text/css\" href=\"custom.css\">"
   ]
  },
  {
   "cell_type": "markdown",
   "metadata": {
    "nbpresent": {
     "id": "965b3334-7092-43da-ab51-fd2e16ed00a5"
    },
    "slideshow": {
     "slide_type": "skip"
    }
   },
   "source": [
    "\n",
    "Atajos de teclado en modo comando (para Mac):\n",
    "- `ALT`+`R`    Para iniciar el modo de presentación de RISE \n",
    "- `SHIFT`+`I`  Para configurar el tipo de celda como Slide\n",
    "- `SHIFT`+`O`  Para configurar el tipo de celda como Sub-slide\n",
    "- `SHIFT`+`P`  Para configurar el tipo de celda como Part\n",
    "\n",
    "También es posible ver y cambiar el tipo de 'slide' asociado a cada celda \n",
    "activando la opción: View ▸ Cell Toolbar ▸ Slideshow. Tras lo cual aparece un desplegable en cada celda donde es posible elegir el tipo de celda (<label><span>Slide Type</span></label>&nbsp;<select><option value=\"-\">-</option><option value=\"slide\" selected>Slide</option><option value=\"subslide\">Sub-Slide</option><option value=\"fragment\">Fragment</option><option value=\"skip\">Skip</option><option value=\"notes\">Notes</option></select>)."
   ]
  },
  {
   "cell_type": "markdown",
   "metadata": {},
   "source": [
    "[Back to the beginning](#begin)"
   ]
  },
  {
   "cell_type": "markdown",
   "metadata": {
    "nbpresent": {
     "id": "965b3334-7092-43da-ab51-fd2e16ed00a5"
    },
    "slideshow": {
     "slide_type": "skip"
    }
   },
   "source": [
    "### Para usar RISE\n",
    "```bash\n",
    "conda create -n riseenv python=3.8\n",
    "source activate riseenv # On Linux and Mac\n",
    "# activate riseenv # On Windows\n",
    "conda install -c damianavila82 rise\n",
    "jupyter notebook\n",
    "```\n",
    "Si todo ha ido bien, ahora al abrir un cuaderno, en la barra de herramientas\n",
    "aparece un nuevo botón con un icono de una gráfica de barras <button class=\"btn btn-default\" style=\"padding: 0.5mm 1mm\"><i class=\"fa-bar-chart fa\"></i></button>.\n",
    "\n",
    "Atajos de teclado en modo comando (para Mac):\n",
    "- `Alt`+`R`    Para iniciar el modo de presentación de RISE \n",
    "- `⇧ Shift`+`I`  Para configurar el tipo de celda como Slide\n",
    "- `⇧ Shift`+`O`  Para configurar el tipo de celda como Sub-slide\n",
    "- `⇧ Shift`+`P`  Para configurar el tipo de celda como Part\n",
    "\n",
    "También es posible ver y cambiar el tipo de 'slide' asociado a cada celda \n",
    "activando la opción: *View* ▹ *Cell Toolbar* ▹ *Slideshow*. Tras lo cual aparece un desplegable en cada celda donde es posible elegir el tipo de celda (<label><i>Slide Type</i></label>&nbsp;<select><option value=\"-\">-</option><option value=\"slide\" selected>Slide</option><option value=\"subslide\">Sub-Slide</option><option value=\"fragment\">Fragment</option><option value=\"skip\">Skip</option><option value=\"notes\">Notes</option></select>)."
   ]
  }
 ],
 "metadata": {
  "anaconda-cloud": {},
  "celltoolbar": "Slideshow",
  "kernelspec": {
   "display_name": "Python 3",
   "language": "python",
   "name": "python3"
  },
  "language_info": {
   "codemirror_mode": {
    "name": "ipython",
    "version": 3
   },
   "file_extension": ".py",
   "mimetype": "text/x-python",
   "name": "python",
   "nbconvert_exporter": "python",
   "pygments_lexer": "ipython3",
   "version": "3.6.10"
  },
  "nbpresent": {
   "slides": {
    "01c00cd7-6e41-483f-a6a7-56694cd71b4c": {
     "id": "01c00cd7-6e41-483f-a6a7-56694cd71b4c",
     "prev": "1564e321-42db-472c-9da0-de7565e38893",
     "regions": {
      "d66b49ab-54a1-4dde-9deb-45a123a84ceb": {
       "attrs": {
        "height": 0.8,
        "width": 0.8,
        "x": 0.1,
        "y": 0.1
       },
       "content": {
        "cell": "fc47db58-1081-4763-885b-2f6f61beaa25",
        "part": "whole"
       },
       "id": "d66b49ab-54a1-4dde-9deb-45a123a84ceb"
      }
     }
    },
    "1564e321-42db-472c-9da0-de7565e38893": {
     "id": "1564e321-42db-472c-9da0-de7565e38893",
     "prev": "eecee4cb-a97b-492c-8bb4-45cf50f0e85c",
     "regions": {
      "4f03b8e5-553c-4605-b49e-267b0b6c086f": {
       "attrs": {
        "height": 0.8,
        "width": 0.8,
        "x": 0.1,
        "y": 0.1
       },
       "content": {
        "cell": "57e2b216-f721-4b20-b9d6-2117cd151dcb",
        "part": "whole"
       },
       "id": "4f03b8e5-553c-4605-b49e-267b0b6c086f"
      }
     }
    },
    "16883615-90e3-4ea7-9c16-58a5740e3512": {
     "id": "16883615-90e3-4ea7-9c16-58a5740e3512",
     "prev": "e41f3d6f-1ef8-4a68-b954-1312b5afb247",
     "regions": {
      "8b5dec8c-9b5c-4801-8a2c-6b126dde26ca": {
       "attrs": {
        "height": 0.4,
        "width": 0.8,
        "x": 0.1,
        "y": 0.5
       },
       "content": {
        "cell": "af8c1f9f-f4cf-4d9d-9c9e-fde2ec27227e",
        "part": "whole"
       },
       "id": "8b5dec8c-9b5c-4801-8a2c-6b126dde26ca"
      },
      "ce93106d-ddde-41d3-9c24-e191ac100453": {
       "attrs": {
        "height": 0.8,
        "width": 0.8,
        "x": 0.1,
        "y": 0.1
       },
       "content": {
        "cell": "9ed96586-10bc-4975-866d-0087758083e2",
        "part": "whole"
       },
       "id": "ce93106d-ddde-41d3-9c24-e191ac100453"
      }
     }
    },
    "189da0b2-45b3-4ea6-b2c4-0e046617b5d8": {
     "id": "189da0b2-45b3-4ea6-b2c4-0e046617b5d8",
     "prev": "d866144e-a031-4f5c-9267-7069bf5c5a61",
     "regions": {
      "a09e986e-399d-4e77-9c86-5257e2dec89f": {
       "attrs": {
        "height": 0.8,
        "width": 0.8,
        "x": 0.1,
        "y": 0.1
       },
       "content": {
        "cell": "2faa7bf2-1937-4ef6-88a8-66c902ff4f67",
        "part": "whole"
       },
       "id": "a09e986e-399d-4e77-9c86-5257e2dec89f"
      },
      "b87cd366-1613-4f63-be79-3ebe7430aa22": {
       "attrs": {
        "height": 0.4,
        "width": 0.8,
        "x": 0.1,
        "y": 0.5
       },
       "content": {
        "cell": "73c54e57-5e9c-421a-9e35-4740c338d1a5",
        "part": "whole"
       },
       "id": "b87cd366-1613-4f63-be79-3ebe7430aa22"
      }
     }
    },
    "2cdbf33f-8e89-4e73-b199-66489afcadf7": {
     "id": "2cdbf33f-8e89-4e73-b199-66489afcadf7",
     "prev": "eaf7d7b3-3050-47bd-9efd-a16a79e044b2",
     "regions": {
      "8c96f9ff-8bf0-4de5-9b41-f492a697b263": {
       "attrs": {
        "height": 0.8,
        "width": 0.8,
        "x": 0.1,
        "y": 0.1
       },
       "content": {
        "cell": "668c065a-f472-4ede-882d-dba2dd929df2",
        "part": "whole"
       },
       "id": "8c96f9ff-8bf0-4de5-9b41-f492a697b263"
      }
     }
    },
    "39fc6e3e-4861-456f-8707-06aa4313477c": {
     "id": "39fc6e3e-4861-456f-8707-06aa4313477c",
     "prev": "80dd70db-5338-4dab-867a-5fa2ddd0142a",
     "regions": {
      "72619a0f-5352-40cb-a458-de32363cd7b9": {
       "attrs": {
        "height": 0.4,
        "width": 0.8,
        "x": 0.1,
        "y": 0.5
       },
       "content": {
        "cell": "b87dec4c-0fd4-4120-ad9a-420012478e60",
        "part": "whole"
       },
       "id": "72619a0f-5352-40cb-a458-de32363cd7b9"
      },
      "dace0dd3-c58b-4ad8-af5f-8ee3f98aa474": {
       "attrs": {
        "height": 0.8,
        "width": 0.8,
        "x": 0.1,
        "y": 0.1
       },
       "content": {
        "cell": "6cc96f8a-f04f-4598-a754-270afe185327",
        "part": "whole"
       },
       "id": "dace0dd3-c58b-4ad8-af5f-8ee3f98aa474"
      }
     }
    },
    "3c41447e-b298-4c9a-8d04-df1032085db5": {
     "id": "3c41447e-b298-4c9a-8d04-df1032085db5",
     "prev": "c2c9c945-d405-4570-95bd-8c345b5a8e0f",
     "regions": {
      "6fed2da9-d0a9-4f8d-8287-fd2fb882f8fb": {
       "attrs": {
        "height": 0.8,
        "width": 0.8,
        "x": 0.1,
        "y": 0.1
       },
       "content": {
        "cell": "32087d5a-553e-423c-99d0-07295f844d74",
        "part": "whole"
       },
       "id": "6fed2da9-d0a9-4f8d-8287-fd2fb882f8fb"
      }
     }
    },
    "3e1bb488-4af0-4ac0-84a6-866beb01fd89": {
     "id": "3e1bb488-4af0-4ac0-84a6-866beb01fd89",
     "prev": "5ffc987b-aae2-466f-9646-e53c20ab8ba8",
     "regions": {
      "db0a92bb-0d07-41ec-aa51-ca821fcace72": {
       "attrs": {
        "height": 0.8,
        "width": 0.8,
        "x": 0.1,
        "y": 0.1
       },
       "content": {
        "cell": "2b9c23eb-a1e1-4814-8330-0c38dd7322d8",
        "part": "whole"
       },
       "id": "db0a92bb-0d07-41ec-aa51-ca821fcace72"
      }
     }
    },
    "4c0bf905-2f7c-4229-9983-d951e026cdcd": {
     "id": "4c0bf905-2f7c-4229-9983-d951e026cdcd",
     "prev": "f62cfb85-9b63-4a91-ad72-76a0dd8e14b6",
     "regions": {
      "1c79ff63-0853-490d-a435-0a68a4079792": {
       "attrs": {
        "height": 0.8,
        "width": 0.8,
        "x": 0.1,
        "y": 0.1
       },
       "content": {
        "cell": "2222db2c-46e4-4b97-998d-03d10a4a5f1d",
        "part": "whole"
       },
       "id": "1c79ff63-0853-490d-a435-0a68a4079792"
      },
      "c321753b-eb67-42a1-87bb-6c96ba9d518d": {
       "attrs": {
        "height": 0.4,
        "width": 0.8,
        "x": 0.1,
        "y": 0.5
       },
       "content": {
        "cell": "6e033a24-643a-4d91-b6df-8c976d3bec7c",
        "part": "whole"
       },
       "id": "c321753b-eb67-42a1-87bb-6c96ba9d518d"
      }
     }
    },
    "5655c65e-2fcb-4d68-916d-cc41e903c04e": {
     "id": "5655c65e-2fcb-4d68-916d-cc41e903c04e",
     "prev": null,
     "regions": {
      "7106eb55-f6b8-4b36-baa5-afdb80123e37": {
       "attrs": {
        "height": 0.8,
        "width": 0.8,
        "x": 0.1,
        "y": 0.1
       },
       "content": {
        "cell": "b8300535-6e4c-460b-b499-7db5c12d363e",
        "part": "whole"
       },
       "id": "7106eb55-f6b8-4b36-baa5-afdb80123e37"
      }
     }
    },
    "5ffc987b-aae2-466f-9646-e53c20ab8ba8": {
     "id": "5ffc987b-aae2-466f-9646-e53c20ab8ba8",
     "prev": "7e51c3c7-8d84-4e7f-92f9-f1d35093e3d6",
     "regions": {
      "f17c5d9a-224c-4a26-b384-ae1e7baa64b1": {
       "attrs": {
        "height": 0.8,
        "width": 0.8,
        "x": 0.1,
        "y": 0.1
       },
       "content": {
        "cell": "82bea5fe-9e8d-4406-ac9f-0372631be978",
        "part": "whole"
       },
       "id": "f17c5d9a-224c-4a26-b384-ae1e7baa64b1"
      }
     }
    },
    "75b261c4-860e-4c0b-b702-7119d8bef002": {
     "id": "75b261c4-860e-4c0b-b702-7119d8bef002",
     "prev": "4c0bf905-2f7c-4229-9983-d951e026cdcd",
     "regions": {
      "6b81024b-5c86-4311-97b7-df14141d905a": {
       "attrs": {
        "height": 0.8,
        "width": 0.8,
        "x": 0.1,
        "y": 0.1
       },
       "content": {
        "cell": "c2c81500-78b1-4f18-b05a-7810da9becd5",
        "part": "whole"
       },
       "id": "6b81024b-5c86-4311-97b7-df14141d905a"
      }
     }
    },
    "7e51c3c7-8d84-4e7f-92f9-f1d35093e3d6": {
     "id": "7e51c3c7-8d84-4e7f-92f9-f1d35093e3d6",
     "prev": "f3b03c6b-d0f4-4ff5-9aab-1f6dc4cddec9",
     "regions": {
      "3bfb1fb1-ab7e-44ed-a49a-cda82f200688": {
       "attrs": {
        "height": 0.8,
        "width": 0.8,
        "x": 0.1,
        "y": 0.1
       },
       "content": {
        "cell": "67879a71-84fb-41fd-97c8-84dd9d0c8828",
        "part": "whole"
       },
       "id": "3bfb1fb1-ab7e-44ed-a49a-cda82f200688"
      }
     }
    },
    "80dd70db-5338-4dab-867a-5fa2ddd0142a": {
     "id": "80dd70db-5338-4dab-867a-5fa2ddd0142a",
     "prev": "83b21fd0-959a-464f-a625-3d814ec05550",
     "regions": {
      "b19738fd-4324-40c2-84c4-c2f2955f1afa": {
       "attrs": {
        "height": 0.4,
        "width": 0.8,
        "x": 0.1,
        "y": 0.5
       },
       "content": {
        "cell": "b9556e46-e813-410b-8380-940f1e7d6895",
        "part": "whole"
       },
       "id": "b19738fd-4324-40c2-84c4-c2f2955f1afa"
      },
      "c6e4cfd0-9c2c-472b-805b-cb8dd85ec665": {
       "attrs": {
        "height": 0.8,
        "width": 0.8,
        "x": 0.1,
        "y": 0.1
       },
       "content": {
        "cell": "cc51c927-6cfa-4b06-be63-7f79b196838d",
        "part": "whole"
       },
       "id": "c6e4cfd0-9c2c-472b-805b-cb8dd85ec665"
      }
     }
    },
    "83b21fd0-959a-464f-a625-3d814ec05550": {
     "id": "83b21fd0-959a-464f-a625-3d814ec05550",
     "prev": "01c00cd7-6e41-483f-a6a7-56694cd71b4c",
     "regions": {
      "28db094a-fff9-4712-b55e-d111c042469a": {
       "attrs": {
        "height": 0.8,
        "width": 0.8,
        "x": 0.1,
        "y": 0.1
       },
       "content": {
        "cell": "4062eb4e-d2d9-4897-a7f5-ea566d66be2b",
        "part": "whole"
       },
       "id": "28db094a-fff9-4712-b55e-d111c042469a"
      }
     }
    },
    "997149ce-2892-471f-b7b1-8ff2a59c9b08": {
     "id": "997149ce-2892-471f-b7b1-8ff2a59c9b08",
     "prev": "a33602e1-63ea-46d3-9e2f-1b5cebea19ce",
     "regions": {
      "229431c7-984f-47b1-bf9e-ba17d5422a81": {
       "attrs": {
        "height": 0.4,
        "width": 0.8,
        "x": 0.1,
        "y": 0.5
       },
       "content": {
        "cell": "5a8a0f4b-5e36-4764-aafd-8f430f1ad167",
        "part": "whole"
       },
       "id": "229431c7-984f-47b1-bf9e-ba17d5422a81"
      },
      "cd7f8b38-8fc7-47ec-a762-61c68cfd98c9": {
       "attrs": {
        "height": 0.8,
        "width": 0.8,
        "x": 0.1,
        "y": 0.1
       },
       "content": {
        "cell": "c0ba2309-4fe8-4458-b549-341adf9d72ec",
        "part": "whole"
       },
       "id": "cd7f8b38-8fc7-47ec-a762-61c68cfd98c9"
      }
     }
    },
    "a1afb0a6-66e2-4c3c-9d2c-177a26af30b1": {
     "id": "a1afb0a6-66e2-4c3c-9d2c-177a26af30b1",
     "prev": "f6245d61-28c5-4acc-8fcd-561772176fb3",
     "regions": {
      "e885eacd-42c2-4fd5-962a-d5da4b4b5aa5": {
       "attrs": {
        "height": 0.8,
        "width": 0.8,
        "x": 0.1,
        "y": 0.1
       },
       "content": {
        "cell": "7e4af3de-a456-430f-8789-ca4f19762842",
        "part": "whole"
       },
       "id": "e885eacd-42c2-4fd5-962a-d5da4b4b5aa5"
      }
     }
    },
    "a33602e1-63ea-46d3-9e2f-1b5cebea19ce": {
     "id": "a33602e1-63ea-46d3-9e2f-1b5cebea19ce",
     "prev": "a1afb0a6-66e2-4c3c-9d2c-177a26af30b1",
     "regions": {
      "f67abe85-0180-4ccd-b485-467506806ea1": {
       "attrs": {
        "height": 0.8,
        "width": 0.8,
        "x": 0.1,
        "y": 0.1
       },
       "content": {
        "cell": "821158e4-9adb-4940-a4fa-85c1e226b115",
        "part": "whole"
       },
       "id": "f67abe85-0180-4ccd-b485-467506806ea1"
      }
     }
    },
    "c2c9c945-d405-4570-95bd-8c345b5a8e0f": {
     "id": "c2c9c945-d405-4570-95bd-8c345b5a8e0f",
     "prev": "c2edea1d-3bfb-44ec-87f4-e8252106b1bf",
     "regions": {
      "0c1cc2db-215b-4b12-80d2-ca6d6fb54128": {
       "attrs": {
        "height": 0.8,
        "width": 0.8,
        "x": 0.1,
        "y": 0.1
       },
       "content": {
        "cell": "c4650f03-9a0c-40f5-b3cc-4178ff1ff829",
        "part": "whole"
       },
       "id": "0c1cc2db-215b-4b12-80d2-ca6d6fb54128"
      }
     }
    },
    "c2edea1d-3bfb-44ec-87f4-e8252106b1bf": {
     "id": "c2edea1d-3bfb-44ec-87f4-e8252106b1bf",
     "prev": "3e1bb488-4af0-4ac0-84a6-866beb01fd89",
     "regions": {
      "2a144fef-937c-4eab-85d7-8b432f6d4711": {
       "attrs": {
        "height": 0.8,
        "width": 0.8,
        "x": 0.1,
        "y": 0.1
       },
       "content": {
        "cell": "3af15181-95b0-4e38-ab56-e8b7500f0752",
        "part": "whole"
       },
       "id": "2a144fef-937c-4eab-85d7-8b432f6d4711"
      }
     }
    },
    "ccaa9481-4f8f-4a38-996d-b3a22ac2b02a": {
     "id": "ccaa9481-4f8f-4a38-996d-b3a22ac2b02a",
     "prev": "75b261c4-860e-4c0b-b702-7119d8bef002",
     "regions": {
      "ff8685ce-4467-45e7-9d6d-ecc87169b60a": {
       "attrs": {
        "height": 0.8,
        "width": 0.8,
        "x": 0.1,
        "y": 0.1
       },
       "content": {
        "cell": "c301692d-1655-490b-bff4-d3c71f6290ae",
        "part": "whole"
       },
       "id": "ff8685ce-4467-45e7-9d6d-ecc87169b60a"
      }
     }
    },
    "d866144e-a031-4f5c-9267-7069bf5c5a61": {
     "id": "d866144e-a031-4f5c-9267-7069bf5c5a61",
     "prev": "997149ce-2892-471f-b7b1-8ff2a59c9b08",
     "regions": {
      "6dba5361-59b7-4d33-8259-b20c899f068f": {
       "attrs": {
        "height": 0.8,
        "width": 0.8,
        "x": 0.1,
        "y": 0.1
       },
       "content": {
        "cell": "cf492abd-b934-451f-9984-2462dab013f3",
        "part": "whole"
       },
       "id": "6dba5361-59b7-4d33-8259-b20c899f068f"
      }
     }
    },
    "d9faafe9-11a9-4f13-93ab-36d251e61db0": {
     "id": "d9faafe9-11a9-4f13-93ab-36d251e61db0",
     "prev": "ccaa9481-4f8f-4a38-996d-b3a22ac2b02a",
     "regions": {
      "8bb079d8-fb93-4a3b-84ff-058d87e37900": {
       "attrs": {
        "height": 0.8,
        "width": 0.8,
        "x": 0.1,
        "y": 0.1
       },
       "content": {
        "cell": "386910eb-638d-433f-8654-dfd348af81ef",
        "part": "whole"
       },
       "id": "8bb079d8-fb93-4a3b-84ff-058d87e37900"
      },
      "c759fa18-5057-4597-9723-4742539d17ad": {
       "attrs": {
        "height": 0.4,
        "width": 0.8,
        "x": 0.1,
        "y": 0.5
       },
       "content": {
        "cell": "e6640e12-ed13-4dc8-8fae-5dc2fbc61320",
        "part": "whole"
       },
       "id": "c759fa18-5057-4597-9723-4742539d17ad"
      }
     }
    },
    "e41f3d6f-1ef8-4a68-b954-1312b5afb247": {
     "id": "e41f3d6f-1ef8-4a68-b954-1312b5afb247",
     "prev": "3c41447e-b298-4c9a-8d04-df1032085db5",
     "regions": {
      "1f8eea0f-96d6-41ce-a66e-0875c079c000": {
       "attrs": {
        "height": 0.8,
        "width": 0.8,
        "x": 0.1,
        "y": 0.1
       },
       "content": {
        "cell": "ee7d8911-498f-402e-bddf-c4b3146f299d",
        "part": "whole"
       },
       "id": "1f8eea0f-96d6-41ce-a66e-0875c079c000"
      }
     }
    },
    "e438a110-f873-4e36-b3dc-236fe511fb1f": {
     "id": "e438a110-f873-4e36-b3dc-236fe511fb1f",
     "prev": "d9faafe9-11a9-4f13-93ab-36d251e61db0",
     "regions": {
      "8f17b38f-4685-4a12-8bfd-3d6801dd8e23": {
       "attrs": {
        "height": 0.8,
        "width": 0.8,
        "x": 0.1,
        "y": 0.1
       },
       "content": {
        "cell": "551ef9ec-2a33-4b1c-9ce3-f61a858ea6df",
        "part": "whole"
       },
       "id": "8f17b38f-4685-4a12-8bfd-3d6801dd8e23"
      }
     }
    },
    "e5a42f99-251d-4b55-a771-1d6db0534246": {
     "id": "e5a42f99-251d-4b55-a771-1d6db0534246",
     "prev": "16883615-90e3-4ea7-9c16-58a5740e3512",
     "regions": {
      "d55c273f-7f89-42fe-a193-57026c194696": {
       "attrs": {
        "height": 0.8,
        "width": 0.8,
        "x": 0.1,
        "y": 0.1
       },
       "content": {
        "cell": "f5a436b1-aa2e-41af-9ec7-3381cf16c482",
        "part": "whole"
       },
       "id": "d55c273f-7f89-42fe-a193-57026c194696"
      }
     }
    },
    "eaf7d7b3-3050-47bd-9efd-a16a79e044b2": {
     "id": "eaf7d7b3-3050-47bd-9efd-a16a79e044b2",
     "prev": "5655c65e-2fcb-4d68-916d-cc41e903c04e",
     "regions": {
      "23bf0ecd-3d44-4900-86ac-90847d7c9d70": {
       "attrs": {
        "height": 0.8,
        "width": 0.8,
        "x": 0.1,
        "y": 0.1
       },
       "content": {
        "cell": "6f8fb067-9e3c-4be0-855a-5b238269cec8",
        "part": "whole"
       },
       "id": "23bf0ecd-3d44-4900-86ac-90847d7c9d70"
      }
     }
    },
    "eecee4cb-a97b-492c-8bb4-45cf50f0e85c": {
     "id": "eecee4cb-a97b-492c-8bb4-45cf50f0e85c",
     "prev": "e438a110-f873-4e36-b3dc-236fe511fb1f",
     "regions": {
      "868ede22-18ce-42bb-817d-f36c2308c204": {
       "attrs": {
        "height": 0.8,
        "width": 0.8,
        "x": 0.1,
        "y": 0.1
       },
       "content": {
        "cell": "8081a668-ef24-4987-88ab-43e94825f5e3",
        "part": "whole"
       },
       "id": "868ede22-18ce-42bb-817d-f36c2308c204"
      }
     }
    },
    "f3b03c6b-d0f4-4ff5-9aab-1f6dc4cddec9": {
     "id": "f3b03c6b-d0f4-4ff5-9aab-1f6dc4cddec9",
     "prev": "39fc6e3e-4861-456f-8707-06aa4313477c",
     "regions": {
      "82bac27c-f0c0-4cd6-b7aa-6ae9951cebe3": {
       "attrs": {
        "height": 0.8,
        "width": 0.8,
        "x": 0.1,
        "y": 0.1
       },
       "content": {
        "cell": "4ae3590e-3c7d-4751-b03e-243976c64ad4",
        "part": "whole"
       },
       "id": "82bac27c-f0c0-4cd6-b7aa-6ae9951cebe3"
      }
     }
    },
    "f6245d61-28c5-4acc-8fcd-561772176fb3": {
     "id": "f6245d61-28c5-4acc-8fcd-561772176fb3",
     "prev": "e5a42f99-251d-4b55-a771-1d6db0534246",
     "regions": {
      "296c358b-6d08-4588-b4e6-c433902e88b8": {
       "attrs": {
        "height": 0.8,
        "width": 0.8,
        "x": 0.1,
        "y": 0.1
       },
       "content": {
        "cell": "0a7398d6-6726-4258-b8f7-39063804cabe",
        "part": "whole"
       },
       "id": "296c358b-6d08-4588-b4e6-c433902e88b8"
      },
      "a2cfa2aa-8a31-47bc-a089-4d6e12bf56cf": {
       "attrs": {
        "height": 0.4,
        "width": 0.8,
        "x": 0.1,
        "y": 0.5
       },
       "content": {
        "cell": "8a27c354-3e53-47b0-8317-60995594175e",
        "part": "whole"
       },
       "id": "a2cfa2aa-8a31-47bc-a089-4d6e12bf56cf"
      },
      "b49a2955-09b4-4f17-9834-c4dcf4f63a82": {
       "attrs": {
        "height": 0.4,
        "width": 0.8,
        "x": 0.1,
        "y": 0.5
       },
       "content": {
        "cell": "0a274f3a-6d07-471b-8924-b4e318f11ce6",
        "part": "whole"
       },
       "id": "b49a2955-09b4-4f17-9834-c4dcf4f63a82"
      }
     }
    },
    "f62cfb85-9b63-4a91-ad72-76a0dd8e14b6": {
     "id": "f62cfb85-9b63-4a91-ad72-76a0dd8e14b6",
     "prev": "2cdbf33f-8e89-4e73-b199-66489afcadf7",
     "regions": {
      "859492fe-db5e-4aa7-a77e-a1de91c2669b": {
       "attrs": {
        "height": 0.8,
        "width": 0.8,
        "x": 0.1,
        "y": 0.1
       },
       "content": {
        "cell": "bffc4427-4d54-41bc-9084-a6257ad63d05",
        "part": "whole"
       },
       "id": "859492fe-db5e-4aa7-a77e-a1de91c2669b"
      },
      "d92645e2-9794-4a1b-b705-4bb04ebcd2e8": {
       "attrs": {
        "height": 0.4,
        "width": 0.8,
        "x": 0.1,
        "y": 0.5
       },
       "content": {
        "cell": "1af1cb42-399f-4e63-a772-6419fc5cc2d2",
        "part": "whole"
       },
       "id": "d92645e2-9794-4a1b-b705-4bb04ebcd2e8"
      }
     }
    }
   },
   "themes": {}
  }
 },
 "nbformat": 4,
 "nbformat_minor": 1
}
