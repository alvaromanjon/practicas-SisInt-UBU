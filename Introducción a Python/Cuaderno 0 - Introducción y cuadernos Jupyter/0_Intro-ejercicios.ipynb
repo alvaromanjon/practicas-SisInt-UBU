{
 "cells": [
  {
   "cell_type": "code",
   "execution_count": 8,
   "metadata": {
    "nbpresent": {
     "id": "965b3334-7092-43da-ab51-fd2e16ed00a5"
    },
    "slideshow": {
     "slide_type": "skip"
    }
   },
   "outputs": [
    {
     "data": {
      "text/html": [
       "<link rel=\"stylesheet\" type=\"text/css\" href=\"custom.css\">\n"
      ],
      "text/plain": [
       "<IPython.core.display.HTML object>"
      ]
     },
     "metadata": {},
     "output_type": "display_data"
    }
   ],
   "source": [
    "%%HTML\n",
    "<link rel=\"stylesheet\" type=\"text/css\" href=\"custom.css\">"
   ]
  },
  {
   "cell_type": "markdown",
   "metadata": {
    "nbpresent": {
     "id": "b8300535-6e4c-460b-b499-7db5c12d363e"
    },
    "slideshow": {
     "slide_type": "slide"
    }
   },
   "source": [
    "<img style=\"float:left\" width=\"70%\" src=\"pics/escudo_COLOR_1L_DCHA.png\">\n",
    "<img style=\"float:right\" width=\"15%\" src=\"pics/PythonLogo.svg\">\n",
    "<br style=\"clear:both;\">\n",
    "\n",
    "# Introducción a la programación en Python\n",
    "\n",
    "<h2 style=\"display: inline-block; padding: 4mm; padding-left: 2em; background-color: navy; line-height: 1.3em; color: white; border-radius: 10px;\">Preliminares, instalación y uso de Jupyter &mdash; EJERCICIOS</h2>\n",
    "\n",
    "## Docentes\n",
    "\n",
    " - César Ignacio García Osorio\n",
    " - Álvar Arnaiz González\n",
    " - José Francisco Diez Pastor\n",
    " - Mario Juez Gil"
   ]
  },
  {
   "cell_type": "markdown",
   "metadata": {
    "nbpresent": {
     "id": "e6640e12-ed13-4dc8-8fae-5dc2fbc61320"
    },
    "slideshow": {
     "slide_type": "fragment"
    }
   },
   "source": [
    "# Ejercicio 1\n",
    "Utiliza la línea de comandos para pasar como argumento el siguiente comando al interprete de python  (sin acceder al [REPL](https://es.wikipedia.org/wiki/REPL)).\n",
    "```python\n",
    "import antigravity\n",
    "```\n",
    "\n",
    "<button class=\"btn btn-primary label label-info\" style=\"padding-top: .5em\" type=\"button\" data-toggle=\"collapse\" data-target=\"#collapseInfo00\">\n",
    "    <i class=\"fa fa-info-circle\" aria-hidden=\"true\"></i> Info\n",
    "</button>\n",
    "  \n",
    "<div class=\"collapse\" id=\"collapseInfo00\">\n",
    "  <div class=\"card card-body\" style=\"-moz-border-bottom-colors: none; -moz-border-left-colors: none; -moz-border-right-colors: none; -moz-border-top-colors: none; background-color: #fefef1; border-bottom-right-radius: 12px; border-color: #f7a600; border-style: solid; border-width: 1px 1px 1px 5px; box-shadow: 2px 3px 5px #ccc; color: #222; display: table; line-height: 1.4em; margin: 10px 20px 20px; overflow: hidden; padding: 10px 16px;\">\n",
    "      <p>Se trata de un «<em>huevo de pascua para informáticos</em>», un chiste o broma escondido dentro de un programa, aplicación o biblioteca. En este caso sólo se quiere ilustrar la forma en la que se importa un paquete en Python, aunque este paquete en concreto no importa ninguna funcionalidad útil y sólo pretende arrancarnos una sonrisa.</p>\n",
    "      <p>Este ejemplo ilustra además una de las formas de usar el comando <kbd>import</kbd>, que se utiliza para la de importación de paquetes.</p>\n",
    "  </div>  \n",
    "</div>"
   ]
  },
  {
   "cell_type": "markdown",
   "metadata": {
    "nbpresent": {
     "id": "6e033a24-643a-4d91-b6df-8c976d3bec7c"
    },
    "slideshow": {
     "slide_type": "fragment"
    }
   },
   "source": [
    "# Ejercicio 2\n",
    "Desde la línea de comandos:\n",
    "1. Abre el interprete IPython.\n",
    "2. introduce los siguientes comandos:\n",
    "```python\n",
    "var = \"SPAM \"\n",
    "print(var*10)\n",
    "```\n",
    "3. Y finaliza la ejecución del interprete.\n",
    "\n",
    "<br>\n",
    "<!-- INFO -->\n",
    "<button class=\"btn btn-primary label label-info\" style=\"padding-top: .5em\" type=\"button\" data-toggle=\"collapse\" data-target=\"#collapseInfo01\">\n",
    "    <i class=\"fa fa-info-circle\" aria-hidden=\"true\"></i> Info\n",
    "</button>\n",
    "  \n",
    "<div class=\"collapse\" id=\"collapseInfo01\">\n",
    "  <div class=\"card card-body\" style=\"-moz-border-bottom-colors: none; -moz-border-left-colors: none; -moz-border-right-colors: none; -moz-border-top-colors: none; background-color: #fefef1; border-bottom-right-radius: 12px; border-color: #f7a600; border-style: solid; border-width: 1px 1px 1px 5px; box-shadow: 2px 3px 5px #ccc; color: #222; display: table; line-height: 1.4em; margin: 10px 20px 20px; overflow: hidden; padding: 10px 16px;\">\n",
    "      Este ejercicio sólo es para forzarte a que repases como se abre y utiliza un interprete. Además ilustra el resultado de aplicar el operador de multiplicación a las cadenas (las cadenas se explican en detalle en uno de los siguientes cuadernos de Jupyter).\n",
    "  </div>  \n",
    "</div>"
   ]
  },
  {
   "cell_type": "markdown",
   "metadata": {
    "nbpresent": {
     "id": "6e033a24-643a-4d91-b6df-8c976d3bec7c"
    },
    "slideshow": {
     "slide_type": "fragment"
    }
   },
   "source": [
    "# Ejercicio 3\n",
    "\n",
    "Primero, utiliza un editor de texto (no un procesador de texto, usa por ejemplo el *notepad*) para crear un archivo de nombre `test.py` y con el siguiente contenido (no te preocupes si no entiendes lo que está haciendo, estos elementos del lenguaje se explicarán en sesiones posteriores):\n",
    "```python\n",
    "nombre = input(\"¿Cómo te llamas?\")\n",
    "if nombre:\n",
    "    print(f\"Hola {nombre} encantado de conocerte\")\n",
    "else:\n",
    "    print(\"Creo que eres un poco antipático.\")\n",
    "```\n",
    "\n",
    "Ahora desde la línea de comandos ejecuta el programa usando:\n",
    "<pre class=\"cgocode\" style=\"font-size: smaller\">C:&gt; python test.py\n",
    "</pre>\n",
    "\n",
    "<br>  \n",
    "<button class=\"btn btn-warning label label-warning\" style=\"padding-top: .5em\" type=\"button\" data-toggle=\"collapse\" data-target=\"#collapseWarning01\">\n",
    "    <i class=\"fa fa-warning\" aria-hidden=\"true\"></i> ¡Cuidado!\n",
    "</button>\n",
    "\n",
    "<div class=\"collapse\" id=\"collapseWarning01\">\n",
    "  <div class=\"card card-body\">\n",
    "<br>\n",
    "<p>En Windows puedes tener problemas con la codificación de caracteres del archivo. Si te da el siguiente error:</p>\n",
    "<pre class=\"cgocode\">\n",
    "  File \"test.py\", line 1\n",
    "SyntaxError: Non-UTF-8 code starting with '\\xbf' in file test.py on line 1, but\n",
    "no encoding declared; see http://python.org/dev/peps/pep-0263/ for details\n",
    "</pre>\n",
    "<p>Prueba a añadir al principio del archivo la línea:</p>\n",
    "\n",
    "<pre>\n",
    "# -*- coding: utf-8 -*-\n",
    "</pre>\n",
    "\n",
    "<p>y a guardar el archivo con codificación utf-8 (opción del desplegable mostrado en la imagen).</p>\n",
    "\n",
    "![](./pics/setEncoding.png)\n",
    "\n",
    "<p>Más información sobre esto en: <a href=\"https://docs.python.org/3/reference/lexical_analysis.html#encoding-declarations\">https://docs.python.org/3/reference/lexical_analysis.html#encoding-declarations</a>.</p>\n",
    "<p>Si sigue dándote problemas, prueba a crear un nuevo archivo y guardarlo como utf-8 vacío antes de copiar y pegar el código. Alternativamente, puedes teclear el código tu mismo, sin usar el copia y pega.</p>\n",
    "</div>  \n",
    "\n",
    "</div>"
   ]
  },
  {
   "cell_type": "markdown",
   "metadata": {
    "nbpresent": {
     "id": "6e033a24-643a-4d91-b6df-8c976d3bec7c"
    },
    "slideshow": {
     "slide_type": "fragment"
    }
   },
   "source": [
    "# Ejercicio 4\n",
    "\n",
    "En este ejercicio vas a practicar con la evaluación de celdas, usando las celdas que siguen a esta celda de documentación (no te preocupes si no sabes lo que se hace en las celdas, lo veremos en sesiones posteriores). Lo vas a hacer de distintas formas:\n",
    "\n",
    "1. Selecciona una celda y utiliza <kbd>⇧ Shift</kbd>+<kbd>⮐ Enter</kbd>, la forma más habitual de evaluar una celda.\n",
    "2. Selecciona una celda y utiliza <kbd>Ctrl</kbd>+<kbd>⮐ Enter</kbd> (en Mac: <kbd>⌘</kbd>+<kbd>⮐ Enter</kbd>), no se selecciona la celda que sigue.\n",
    "3. Selecciona una celda y utiliza <kbd>Alt</kbd>+<kbd>⮐ Enter</kbd> (en Mac: <kbd>⌥</kbd>+<kbd>⮐ Enter</kbd>), se evalua la celda y se crea una celda debajo.\n",
    "4. Selecciona una celda y utiliza la opción de menú *Cell* ▹ *Run cells*.\n",
    "5. Selecciona una celda y utiliza el botón de la barra de herramientas <button style=\"padding: 0.5mm 1mm;\" class=\"btn btn-default\"><i class=\"fa-play fa\"></i><span class=\"toolbar-btn-label\">Run</span></button>.\n",
    "6. Selecciona varias celdas consecutivas (primero haz *click* en la primera celda de la secuencia, después manteniendo pulsada la tecla <kbd>⇧ Shift</kbd>, haz *click* en la última celda de la secuencia), y evalúalas usando cualquiera de los métodos anteriores."
   ]
  },
  {
   "cell_type": "code",
   "execution_count": 6,
   "metadata": {},
   "outputs": [
    {
     "data": {
      "text/plain": [
       "'2 + 3 es 5'"
      ]
     },
     "execution_count": 6,
     "metadata": {},
     "output_type": "execute_result"
    }
   ],
   "source": [
    "f\"2 + 3 es {2+3}\""
   ]
  },
  {
   "cell_type": "code",
   "execution_count": 7,
   "metadata": {},
   "outputs": [
    {
     "data": {
      "text/plain": [
       "\"La longitud de 'superfragilisticoespiralidoso' es 29\""
      ]
     },
     "execution_count": 7,
     "metadata": {},
     "output_type": "execute_result"
    }
   ],
   "source": [
    "s = \"superfragilisticoespiralidoso\"\n",
    "f\"La longitud de '{s}' es {len(s)}\""
   ]
  },
  {
   "cell_type": "code",
   "execution_count": 5,
   "metadata": {},
   "outputs": [
    {
     "name": "stdout",
     "output_type": "stream",
     "text": [
      "¿Cómo te llamas?hola\n",
      "Hola hola encantado de conocerte\n"
     ]
    }
   ],
   "source": [
    "nombre = input(\"¿Cómo te llamas?\")\n",
    "if nombre:\n",
    "    print(f\"Hola {nombre} encantado de conocerte\")\n",
    "else:\n",
    "    print(\"Creo que eres un poco antipático.\")\n"
   ]
  },
  {
   "cell_type": "markdown",
   "metadata": {
    "nbpresent": {
     "id": "6e033a24-643a-4d91-b6df-8c976d3bec7c"
    },
    "slideshow": {
     "slide_type": "fragment"
    }
   },
   "source": [
    "# Ejercicio 5\n",
    "Vas a usar los atajos de teclado (o las entradas del menú, si lo prefieres) para crear 2 celdas encima de ésta, y 3 celdas por debajo."
   ]
  },
  {
   "cell_type": "markdown",
   "metadata": {
    "nbpresent": {
     "id": "6e033a24-643a-4d91-b6df-8c976d3bec7c"
    },
    "slideshow": {
     "slide_type": "fragment"
    }
   },
   "source": [
    "# Ejercicio 6\n",
    "Vas a fusionar el contenido de esta celda, con las dos celdas siguientes."
   ]
  },
  {
   "cell_type": "markdown",
   "metadata": {},
   "source": [
    "<span class=\"label label-warning\">Por favor, fusióname con la celda anterior.</span>"
   ]
  },
  {
   "cell_type": "markdown",
   "metadata": {},
   "source": [
    "<span class=\"label label-danger\"> ¡A mi también! ¡A mi también! ¡Fusióname a mi también!</span>"
   ]
  },
  {
   "cell_type": "markdown",
   "metadata": {
    "nbpresent": {
     "id": "6e033a24-643a-4d91-b6df-8c976d3bec7c"
    },
    "slideshow": {
     "slide_type": "fragment"
    }
   },
   "source": [
    "# Ejercicio 7\n",
    "\n",
    "La celda de código que sigue, tiene un área de salida con un montón de texto. Aunque no se ha explicado, el reto que tienes es encontrar la forma de ocultar el texto del área de salida. \n",
    "\n",
    "<br>\n",
    "<!-- PISTA -->\n",
    "\n",
    "<button class=\"btn btn-info label label-info\" style=\"padding-top: .5em\" type=\"button\" data-toggle=\"collapse\" data-target=\"#collapsePista00\">\n",
    "    <i class=\"fa fa-info-circle\" aria-hidden=\"true\"></i> Pista\n",
    "</button>\n",
    "  \n",
    "<div class=\"collapse\" id=\"collapsePista00\">\n",
    "  <div class=\"card card-body\" style=\"-moz-border-bottom-colors: none; -moz-border-left-colors: none; -moz-border-right-colors: none; -moz-border-top-colors: none; background-color: #fefef1; border-bottom-right-radius: 12px; border-color: #f7a600; border-style: solid; border-width: 1px 1px 1px 5px; box-shadow: 2px 3px 5px #ccc; color: #222; display: table; line-height: 1.4em; margin: 10px 20px 20px; overflow: hidden; padding: 10px 16px;\">\n",
    "      Utiliza el atajo de teclado que permite mostrar la ayuda de Jupyter y busca algo sobre «<em>toggle output</em>»\n",
    "  </div>  \n",
    "</div>\n",
    "\n",
    "<br>\n",
    "<br>\n",
    "<!-- INFO -->\n",
    "<button class=\"btn btn-primary label label-info\" style=\"padding-top: .5em\" type=\"button\" data-toggle=\"collapse\" data-target=\"#collapseInfo02\">\n",
    "    <i class=\"fa fa-info-circle\" aria-hidden=\"true\"></i> Info\n",
    "</button>\n",
    "  \n",
    "<div class=\"collapse\" id=\"collapseInfo02\">\n",
    "  <div class=\"card card-body\" style=\"-moz-border-bottom-colors: none; -moz-border-left-colors: none; -moz-border-right-colors: none; -moz-border-top-colors: none; background-color: #fefef1; border-bottom-right-radius: 12px; border-color: #f7a600; border-style: solid; border-width: 1px 1px 1px 5px; box-shadow: 2px 3px 5px #ccc; color: #222; display: table; line-height: 1.4em; margin: 10px 20px 20px; overflow: hidden; padding: 10px 16px;\">\n",
    "      <p>En la celda se está utilizando una funcionalidad especial de Jupyter que permite ejecutar comandos del sistema cuando se les precede del símbolo <kbd>!</kbd>, en este ejemplo el comando <kbd>pip install <em style=\"color: navy;\">nombre_paquete</em></kbd> que permite la instalación de paquetes (la otra forma de instalar paquetes en Python es con <kbd>conda install -y <em  style=\"color: navy;\">nombre_paquete</em></kbd>, pero algunos paquetes, por ejemplo el paquete <kbd>lipsum</kbd>, no se encuentra disponibles a través de <kbd>conda</kbd>).</p>\n",
    "      <p>Se da otro ejemplo de comando de importación.</p>\n",
    "      <p>Se usa una de las funciones de <kbd>lipsum</kbd> que para lo único que sirve es para generar texto de relleno (si quieres saber más sobre este texto, puedes consultar: <a href=\"https://es.wikipedia.org/wiki/Lorem_ipsum\">https://es.wikipedia.org/wiki/Lorem_ipsum</a>).</p>\n",
    "  </div>  \n",
    "</div>\n"
   ]
  },
  {
   "cell_type": "code",
   "execution_count": null,
   "metadata": {},
   "outputs": [],
   "source": [
    "!pip install lipsum\n",
    "import lipsum\n",
    "lipsum.generate_sentences(40)"
   ]
  },
  {
   "cell_type": "markdown",
   "metadata": {
    "nbpresent": {
     "id": "6e033a24-643a-4d91-b6df-8c976d3bec7c"
    },
    "slideshow": {
     "slide_type": "fragment"
    }
   },
   "source": [
    "# Ejercicio 8\n",
    "\n",
    "Utiliza los elementos de formateado Markdown para conseguir el formateado que se pide en la celda que sigue.\n",
    "\n",
    "<div class=\"alert alert-success\">\n",
    "    \n",
    "En realidad el marcado Markdown permite mucho más que lo visto en la introducción. Puedes ver todas sus opciones en la [*Markdown Cheatsheet*](https://github.com/adam-p/markdown-here/wiki/Markdown-Cheatsheet) o utilizar herramientas como el [*Markdown Tables Generator*](https://www.tablesgenerator.com/markdown_tables) para hacer el formateado de tablas más sencillo.\n",
    "    \n",
    "</div>"
   ]
  },
  {
   "cell_type": "markdown",
   "metadata": {},
   "source": [
    "Formatea el contenido de esta celda siguiendo las instrucciones del texto. Es decir, siguiendo las instrucciones añade los elementos de marcado necesarios sobre el texto ya presente en esta celda para conseguir el resultado que se muestra en la siguiente.\n",
    "\n",
    "\n",
    "\n",
    "Esto tiene que aparecer como un título de primer nivel\n",
    "\n",
    "\n",
    "\n",
    "Esto tiene que aparecer como un título de segundo nivel\n",
    "\n",
    "\n",
    "\n",
    "La palabra UBU tiene que se un hiperenlace a la página web de la Universidad de Burgos.\n",
    "\n",
    "\n",
    "\n",
    "En esta frase vas a utilizar estilos que hagan que: esto este en negrita, esto en cursiva y esto como un literal de código.\n",
    "\n",
    "\n",
    "\n",
    "Vas a incluir la imagen en este enlace (usa como texto de descripción «Escudo UBU») http://www.ubu.es/sites/default/files/portal_page/images/escudo_color_1l_dcha.jpg\n",
    "\n",
    "\n",
    "\n",
    "Las siguientes cuatro líneas tienen que aparecer como elementos de una lista no ordenada.\n",
    "\n",
    "Un globo.\n",
    "\n",
    "Dos globos.\n",
    "\n",
    "Tres globos.\n",
    "\n",
    "La tierra es el globo donde vivo yo.\n",
    "\n",
    "\n",
    "\n",
    "Las siguientes cuatro líneas tienen que aparecer como elementos de una lista ORDENADA.\n",
    "\n",
    "Un globo.\n",
    "\n",
    "Dos globos.\n",
    "\n",
    "Tres globos.\n",
    "\n",
    "La luna es un globo que se me escapó.\n",
    "\n",
    "\n",
    "\n",
    "El texto que sigue tiene que estar formateado como código Python.\n",
    "\n",
    "import numpy as np\n",
    "A = np.array(np.matrix(\"[2, 3; 4, 5]\"))\n",
    "A_inv = np.linalg.inv(A)\n",
    "print(A.T)\n",
    "print(A_inv)\n",
    "print(A_inv @ A)\n"
   ]
  },
  {
   "cell_type": "markdown",
   "metadata": {},
   "source": [
    "Cuando siguiendo las instrucciones finalices el formateado de la celda anterior, el resultado final tiene que ser como sigue:\n",
    "\n",
    "![](./pics/ResultadoFormateadoMarkdown.svg)\n"
   ]
  },
  {
   "cell_type": "markdown",
   "metadata": {
    "nbpresent": {
     "id": "6e033a24-643a-4d91-b6df-8c976d3bec7c"
    },
    "slideshow": {
     "slide_type": "fragment"
    }
   },
   "source": [
    "# Ejercicio 9 (opcional)\n",
    "Ejecuta la siguiente porción de código en un cuaderno de [Google Colaboratory](https://colab.research.google.com/).\n",
    "```python\n",
    "nombre = input(\"¿Cómo te llamas?\")\n",
    "if nombre:\n",
    "    print(f\"Hola {nombre} encantado de conocerte\")\n",
    "else:\n",
    "    print(\"Creo que eres un poco antipático.\")\n",
    "```\n"
   ]
  },
  {
   "cell_type": "markdown",
   "metadata": {
    "nbpresent": {
     "id": "6e033a24-643a-4d91-b6df-8c976d3bec7c"
    },
    "slideshow": {
     "slide_type": "fragment"
    }
   },
   "source": [
    "# Ejercicio 10 (opcional)\n",
    "Ejecuta en [Google Colaboratory](https://colab.research.google.com/) la siguiente porción de código:\n",
    "```python\n",
    "!pip install lipsum\n",
    "import lipsum\n",
    "lipsum.generate_sentences(40)\n",
    "```\n",
    "\n",
    "<div class=\"alert alert-success\">\n",
    "    \n",
    "Observa que estás instalando un paquete adicional (el paquete <kbd>lipsum</kbd>) en la máquina remota donde está ejecutando el servidor Jupyter que da soporte a [Google Colaboratory](https://colab.research.google.com/).\n",
    "    \n",
    "</div>\n"
   ]
  },
  {
   "cell_type": "markdown",
   "metadata": {
    "nbpresent": {
     "id": "6e033a24-643a-4d91-b6df-8c976d3bec7c"
    },
    "slideshow": {
     "slide_type": "fragment"
    }
   },
   "source": [
    "# Ejercicio 11 (opcional)\n",
    "Ejecuta el siguiente comando tanto en este cuaderno como en [Google Colaboratory](https://colab.research.google.com/) para ver el listado de paquetes instalados en local y en remoto.\n",
    "```python\n",
    "!pip list\n",
    "```"
   ]
  },
  {
   "cell_type": "code",
   "execution_count": null,
   "metadata": {},
   "outputs": [],
   "source": [
    "!pip list"
   ]
  },
  {
   "cell_type": "markdown",
   "metadata": {},
   "source": [
    "Para listar los paquetes instalados con `conda` se usaría lo siguiente:"
   ]
  },
  {
   "cell_type": "code",
   "execution_count": null,
   "metadata": {},
   "outputs": [],
   "source": [
    "!conda list"
   ]
  },
  {
   "cell_type": "code",
   "execution_count": null,
   "metadata": {},
   "outputs": [],
   "source": []
  }
 ],
 "metadata": {
  "anaconda-cloud": {},
  "celltoolbar": "Slideshow",
  "kernelspec": {
   "display_name": "Python 3",
   "language": "python",
   "name": "python3"
  },
  "language_info": {
   "codemirror_mode": {
    "name": "ipython",
    "version": 3
   },
   "file_extension": ".py",
   "mimetype": "text/x-python",
   "name": "python",
   "nbconvert_exporter": "python",
   "pygments_lexer": "ipython3",
   "version": "3.6.10"
  },
  "nbpresent": {
   "slides": {
    "01c00cd7-6e41-483f-a6a7-56694cd71b4c": {
     "id": "01c00cd7-6e41-483f-a6a7-56694cd71b4c",
     "prev": "1564e321-42db-472c-9da0-de7565e38893",
     "regions": {
      "d66b49ab-54a1-4dde-9deb-45a123a84ceb": {
       "attrs": {
        "height": 0.8,
        "width": 0.8,
        "x": 0.1,
        "y": 0.1
       },
       "content": {
        "cell": "fc47db58-1081-4763-885b-2f6f61beaa25",
        "part": "whole"
       },
       "id": "d66b49ab-54a1-4dde-9deb-45a123a84ceb"
      }
     }
    },
    "1564e321-42db-472c-9da0-de7565e38893": {
     "id": "1564e321-42db-472c-9da0-de7565e38893",
     "prev": "eecee4cb-a97b-492c-8bb4-45cf50f0e85c",
     "regions": {
      "4f03b8e5-553c-4605-b49e-267b0b6c086f": {
       "attrs": {
        "height": 0.8,
        "width": 0.8,
        "x": 0.1,
        "y": 0.1
       },
       "content": {
        "cell": "57e2b216-f721-4b20-b9d6-2117cd151dcb",
        "part": "whole"
       },
       "id": "4f03b8e5-553c-4605-b49e-267b0b6c086f"
      }
     }
    },
    "16883615-90e3-4ea7-9c16-58a5740e3512": {
     "id": "16883615-90e3-4ea7-9c16-58a5740e3512",
     "prev": "e41f3d6f-1ef8-4a68-b954-1312b5afb247",
     "regions": {
      "8b5dec8c-9b5c-4801-8a2c-6b126dde26ca": {
       "attrs": {
        "height": 0.4,
        "width": 0.8,
        "x": 0.1,
        "y": 0.5
       },
       "content": {
        "cell": "af8c1f9f-f4cf-4d9d-9c9e-fde2ec27227e",
        "part": "whole"
       },
       "id": "8b5dec8c-9b5c-4801-8a2c-6b126dde26ca"
      },
      "ce93106d-ddde-41d3-9c24-e191ac100453": {
       "attrs": {
        "height": 0.8,
        "width": 0.8,
        "x": 0.1,
        "y": 0.1
       },
       "content": {
        "cell": "9ed96586-10bc-4975-866d-0087758083e2",
        "part": "whole"
       },
       "id": "ce93106d-ddde-41d3-9c24-e191ac100453"
      }
     }
    },
    "189da0b2-45b3-4ea6-b2c4-0e046617b5d8": {
     "id": "189da0b2-45b3-4ea6-b2c4-0e046617b5d8",
     "prev": "d866144e-a031-4f5c-9267-7069bf5c5a61",
     "regions": {
      "a09e986e-399d-4e77-9c86-5257e2dec89f": {
       "attrs": {
        "height": 0.8,
        "width": 0.8,
        "x": 0.1,
        "y": 0.1
       },
       "content": {
        "cell": "2faa7bf2-1937-4ef6-88a8-66c902ff4f67",
        "part": "whole"
       },
       "id": "a09e986e-399d-4e77-9c86-5257e2dec89f"
      },
      "b87cd366-1613-4f63-be79-3ebe7430aa22": {
       "attrs": {
        "height": 0.4,
        "width": 0.8,
        "x": 0.1,
        "y": 0.5
       },
       "content": {
        "cell": "73c54e57-5e9c-421a-9e35-4740c338d1a5",
        "part": "whole"
       },
       "id": "b87cd366-1613-4f63-be79-3ebe7430aa22"
      }
     }
    },
    "2cdbf33f-8e89-4e73-b199-66489afcadf7": {
     "id": "2cdbf33f-8e89-4e73-b199-66489afcadf7",
     "prev": "eaf7d7b3-3050-47bd-9efd-a16a79e044b2",
     "regions": {
      "8c96f9ff-8bf0-4de5-9b41-f492a697b263": {
       "attrs": {
        "height": 0.8,
        "width": 0.8,
        "x": 0.1,
        "y": 0.1
       },
       "content": {
        "cell": "668c065a-f472-4ede-882d-dba2dd929df2",
        "part": "whole"
       },
       "id": "8c96f9ff-8bf0-4de5-9b41-f492a697b263"
      }
     }
    },
    "39fc6e3e-4861-456f-8707-06aa4313477c": {
     "id": "39fc6e3e-4861-456f-8707-06aa4313477c",
     "prev": "80dd70db-5338-4dab-867a-5fa2ddd0142a",
     "regions": {
      "72619a0f-5352-40cb-a458-de32363cd7b9": {
       "attrs": {
        "height": 0.4,
        "width": 0.8,
        "x": 0.1,
        "y": 0.5
       },
       "content": {
        "cell": "b87dec4c-0fd4-4120-ad9a-420012478e60",
        "part": "whole"
       },
       "id": "72619a0f-5352-40cb-a458-de32363cd7b9"
      },
      "dace0dd3-c58b-4ad8-af5f-8ee3f98aa474": {
       "attrs": {
        "height": 0.8,
        "width": 0.8,
        "x": 0.1,
        "y": 0.1
       },
       "content": {
        "cell": "6cc96f8a-f04f-4598-a754-270afe185327",
        "part": "whole"
       },
       "id": "dace0dd3-c58b-4ad8-af5f-8ee3f98aa474"
      }
     }
    },
    "3c41447e-b298-4c9a-8d04-df1032085db5": {
     "id": "3c41447e-b298-4c9a-8d04-df1032085db5",
     "prev": "c2c9c945-d405-4570-95bd-8c345b5a8e0f",
     "regions": {
      "6fed2da9-d0a9-4f8d-8287-fd2fb882f8fb": {
       "attrs": {
        "height": 0.8,
        "width": 0.8,
        "x": 0.1,
        "y": 0.1
       },
       "content": {
        "cell": "32087d5a-553e-423c-99d0-07295f844d74",
        "part": "whole"
       },
       "id": "6fed2da9-d0a9-4f8d-8287-fd2fb882f8fb"
      }
     }
    },
    "3e1bb488-4af0-4ac0-84a6-866beb01fd89": {
     "id": "3e1bb488-4af0-4ac0-84a6-866beb01fd89",
     "prev": "5ffc987b-aae2-466f-9646-e53c20ab8ba8",
     "regions": {
      "db0a92bb-0d07-41ec-aa51-ca821fcace72": {
       "attrs": {
        "height": 0.8,
        "width": 0.8,
        "x": 0.1,
        "y": 0.1
       },
       "content": {
        "cell": "2b9c23eb-a1e1-4814-8330-0c38dd7322d8",
        "part": "whole"
       },
       "id": "db0a92bb-0d07-41ec-aa51-ca821fcace72"
      }
     }
    },
    "4c0bf905-2f7c-4229-9983-d951e026cdcd": {
     "id": "4c0bf905-2f7c-4229-9983-d951e026cdcd",
     "prev": "f62cfb85-9b63-4a91-ad72-76a0dd8e14b6",
     "regions": {
      "1c79ff63-0853-490d-a435-0a68a4079792": {
       "attrs": {
        "height": 0.8,
        "width": 0.8,
        "x": 0.1,
        "y": 0.1
       },
       "content": {
        "cell": "2222db2c-46e4-4b97-998d-03d10a4a5f1d",
        "part": "whole"
       },
       "id": "1c79ff63-0853-490d-a435-0a68a4079792"
      },
      "c321753b-eb67-42a1-87bb-6c96ba9d518d": {
       "attrs": {
        "height": 0.4,
        "width": 0.8,
        "x": 0.1,
        "y": 0.5
       },
       "content": {
        "cell": "6e033a24-643a-4d91-b6df-8c976d3bec7c",
        "part": "whole"
       },
       "id": "c321753b-eb67-42a1-87bb-6c96ba9d518d"
      }
     }
    },
    "5655c65e-2fcb-4d68-916d-cc41e903c04e": {
     "id": "5655c65e-2fcb-4d68-916d-cc41e903c04e",
     "prev": null,
     "regions": {
      "7106eb55-f6b8-4b36-baa5-afdb80123e37": {
       "attrs": {
        "height": 0.8,
        "width": 0.8,
        "x": 0.1,
        "y": 0.1
       },
       "content": {
        "cell": "b8300535-6e4c-460b-b499-7db5c12d363e",
        "part": "whole"
       },
       "id": "7106eb55-f6b8-4b36-baa5-afdb80123e37"
      }
     }
    },
    "5ffc987b-aae2-466f-9646-e53c20ab8ba8": {
     "id": "5ffc987b-aae2-466f-9646-e53c20ab8ba8",
     "prev": "7e51c3c7-8d84-4e7f-92f9-f1d35093e3d6",
     "regions": {
      "f17c5d9a-224c-4a26-b384-ae1e7baa64b1": {
       "attrs": {
        "height": 0.8,
        "width": 0.8,
        "x": 0.1,
        "y": 0.1
       },
       "content": {
        "cell": "82bea5fe-9e8d-4406-ac9f-0372631be978",
        "part": "whole"
       },
       "id": "f17c5d9a-224c-4a26-b384-ae1e7baa64b1"
      }
     }
    },
    "75b261c4-860e-4c0b-b702-7119d8bef002": {
     "id": "75b261c4-860e-4c0b-b702-7119d8bef002",
     "prev": "4c0bf905-2f7c-4229-9983-d951e026cdcd",
     "regions": {
      "6b81024b-5c86-4311-97b7-df14141d905a": {
       "attrs": {
        "height": 0.8,
        "width": 0.8,
        "x": 0.1,
        "y": 0.1
       },
       "content": {
        "cell": "c2c81500-78b1-4f18-b05a-7810da9becd5",
        "part": "whole"
       },
       "id": "6b81024b-5c86-4311-97b7-df14141d905a"
      }
     }
    },
    "7e51c3c7-8d84-4e7f-92f9-f1d35093e3d6": {
     "id": "7e51c3c7-8d84-4e7f-92f9-f1d35093e3d6",
     "prev": "f3b03c6b-d0f4-4ff5-9aab-1f6dc4cddec9",
     "regions": {
      "3bfb1fb1-ab7e-44ed-a49a-cda82f200688": {
       "attrs": {
        "height": 0.8,
        "width": 0.8,
        "x": 0.1,
        "y": 0.1
       },
       "content": {
        "cell": "67879a71-84fb-41fd-97c8-84dd9d0c8828",
        "part": "whole"
       },
       "id": "3bfb1fb1-ab7e-44ed-a49a-cda82f200688"
      }
     }
    },
    "80dd70db-5338-4dab-867a-5fa2ddd0142a": {
     "id": "80dd70db-5338-4dab-867a-5fa2ddd0142a",
     "prev": "83b21fd0-959a-464f-a625-3d814ec05550",
     "regions": {
      "b19738fd-4324-40c2-84c4-c2f2955f1afa": {
       "attrs": {
        "height": 0.4,
        "width": 0.8,
        "x": 0.1,
        "y": 0.5
       },
       "content": {
        "cell": "b9556e46-e813-410b-8380-940f1e7d6895",
        "part": "whole"
       },
       "id": "b19738fd-4324-40c2-84c4-c2f2955f1afa"
      },
      "c6e4cfd0-9c2c-472b-805b-cb8dd85ec665": {
       "attrs": {
        "height": 0.8,
        "width": 0.8,
        "x": 0.1,
        "y": 0.1
       },
       "content": {
        "cell": "cc51c927-6cfa-4b06-be63-7f79b196838d",
        "part": "whole"
       },
       "id": "c6e4cfd0-9c2c-472b-805b-cb8dd85ec665"
      }
     }
    },
    "83b21fd0-959a-464f-a625-3d814ec05550": {
     "id": "83b21fd0-959a-464f-a625-3d814ec05550",
     "prev": "01c00cd7-6e41-483f-a6a7-56694cd71b4c",
     "regions": {
      "28db094a-fff9-4712-b55e-d111c042469a": {
       "attrs": {
        "height": 0.8,
        "width": 0.8,
        "x": 0.1,
        "y": 0.1
       },
       "content": {
        "cell": "4062eb4e-d2d9-4897-a7f5-ea566d66be2b",
        "part": "whole"
       },
       "id": "28db094a-fff9-4712-b55e-d111c042469a"
      }
     }
    },
    "997149ce-2892-471f-b7b1-8ff2a59c9b08": {
     "id": "997149ce-2892-471f-b7b1-8ff2a59c9b08",
     "prev": "a33602e1-63ea-46d3-9e2f-1b5cebea19ce",
     "regions": {
      "229431c7-984f-47b1-bf9e-ba17d5422a81": {
       "attrs": {
        "height": 0.4,
        "width": 0.8,
        "x": 0.1,
        "y": 0.5
       },
       "content": {
        "cell": "5a8a0f4b-5e36-4764-aafd-8f430f1ad167",
        "part": "whole"
       },
       "id": "229431c7-984f-47b1-bf9e-ba17d5422a81"
      },
      "cd7f8b38-8fc7-47ec-a762-61c68cfd98c9": {
       "attrs": {
        "height": 0.8,
        "width": 0.8,
        "x": 0.1,
        "y": 0.1
       },
       "content": {
        "cell": "c0ba2309-4fe8-4458-b549-341adf9d72ec",
        "part": "whole"
       },
       "id": "cd7f8b38-8fc7-47ec-a762-61c68cfd98c9"
      }
     }
    },
    "a1afb0a6-66e2-4c3c-9d2c-177a26af30b1": {
     "id": "a1afb0a6-66e2-4c3c-9d2c-177a26af30b1",
     "prev": "f6245d61-28c5-4acc-8fcd-561772176fb3",
     "regions": {
      "e885eacd-42c2-4fd5-962a-d5da4b4b5aa5": {
       "attrs": {
        "height": 0.8,
        "width": 0.8,
        "x": 0.1,
        "y": 0.1
       },
       "content": {
        "cell": "7e4af3de-a456-430f-8789-ca4f19762842",
        "part": "whole"
       },
       "id": "e885eacd-42c2-4fd5-962a-d5da4b4b5aa5"
      }
     }
    },
    "a33602e1-63ea-46d3-9e2f-1b5cebea19ce": {
     "id": "a33602e1-63ea-46d3-9e2f-1b5cebea19ce",
     "prev": "a1afb0a6-66e2-4c3c-9d2c-177a26af30b1",
     "regions": {
      "f67abe85-0180-4ccd-b485-467506806ea1": {
       "attrs": {
        "height": 0.8,
        "width": 0.8,
        "x": 0.1,
        "y": 0.1
       },
       "content": {
        "cell": "821158e4-9adb-4940-a4fa-85c1e226b115",
        "part": "whole"
       },
       "id": "f67abe85-0180-4ccd-b485-467506806ea1"
      }
     }
    },
    "c2c9c945-d405-4570-95bd-8c345b5a8e0f": {
     "id": "c2c9c945-d405-4570-95bd-8c345b5a8e0f",
     "prev": "c2edea1d-3bfb-44ec-87f4-e8252106b1bf",
     "regions": {
      "0c1cc2db-215b-4b12-80d2-ca6d6fb54128": {
       "attrs": {
        "height": 0.8,
        "width": 0.8,
        "x": 0.1,
        "y": 0.1
       },
       "content": {
        "cell": "c4650f03-9a0c-40f5-b3cc-4178ff1ff829",
        "part": "whole"
       },
       "id": "0c1cc2db-215b-4b12-80d2-ca6d6fb54128"
      }
     }
    },
    "c2edea1d-3bfb-44ec-87f4-e8252106b1bf": {
     "id": "c2edea1d-3bfb-44ec-87f4-e8252106b1bf",
     "prev": "3e1bb488-4af0-4ac0-84a6-866beb01fd89",
     "regions": {
      "2a144fef-937c-4eab-85d7-8b432f6d4711": {
       "attrs": {
        "height": 0.8,
        "width": 0.8,
        "x": 0.1,
        "y": 0.1
       },
       "content": {
        "cell": "3af15181-95b0-4e38-ab56-e8b7500f0752",
        "part": "whole"
       },
       "id": "2a144fef-937c-4eab-85d7-8b432f6d4711"
      }
     }
    },
    "ccaa9481-4f8f-4a38-996d-b3a22ac2b02a": {
     "id": "ccaa9481-4f8f-4a38-996d-b3a22ac2b02a",
     "prev": "75b261c4-860e-4c0b-b702-7119d8bef002",
     "regions": {
      "ff8685ce-4467-45e7-9d6d-ecc87169b60a": {
       "attrs": {
        "height": 0.8,
        "width": 0.8,
        "x": 0.1,
        "y": 0.1
       },
       "content": {
        "cell": "c301692d-1655-490b-bff4-d3c71f6290ae",
        "part": "whole"
       },
       "id": "ff8685ce-4467-45e7-9d6d-ecc87169b60a"
      }
     }
    },
    "d866144e-a031-4f5c-9267-7069bf5c5a61": {
     "id": "d866144e-a031-4f5c-9267-7069bf5c5a61",
     "prev": "997149ce-2892-471f-b7b1-8ff2a59c9b08",
     "regions": {
      "6dba5361-59b7-4d33-8259-b20c899f068f": {
       "attrs": {
        "height": 0.8,
        "width": 0.8,
        "x": 0.1,
        "y": 0.1
       },
       "content": {
        "cell": "cf492abd-b934-451f-9984-2462dab013f3",
        "part": "whole"
       },
       "id": "6dba5361-59b7-4d33-8259-b20c899f068f"
      }
     }
    },
    "d9faafe9-11a9-4f13-93ab-36d251e61db0": {
     "id": "d9faafe9-11a9-4f13-93ab-36d251e61db0",
     "prev": "ccaa9481-4f8f-4a38-996d-b3a22ac2b02a",
     "regions": {
      "8bb079d8-fb93-4a3b-84ff-058d87e37900": {
       "attrs": {
        "height": 0.8,
        "width": 0.8,
        "x": 0.1,
        "y": 0.1
       },
       "content": {
        "cell": "386910eb-638d-433f-8654-dfd348af81ef",
        "part": "whole"
       },
       "id": "8bb079d8-fb93-4a3b-84ff-058d87e37900"
      },
      "c759fa18-5057-4597-9723-4742539d17ad": {
       "attrs": {
        "height": 0.4,
        "width": 0.8,
        "x": 0.1,
        "y": 0.5
       },
       "content": {
        "cell": "e6640e12-ed13-4dc8-8fae-5dc2fbc61320",
        "part": "whole"
       },
       "id": "c759fa18-5057-4597-9723-4742539d17ad"
      }
     }
    },
    "e41f3d6f-1ef8-4a68-b954-1312b5afb247": {
     "id": "e41f3d6f-1ef8-4a68-b954-1312b5afb247",
     "prev": "3c41447e-b298-4c9a-8d04-df1032085db5",
     "regions": {
      "1f8eea0f-96d6-41ce-a66e-0875c079c000": {
       "attrs": {
        "height": 0.8,
        "width": 0.8,
        "x": 0.1,
        "y": 0.1
       },
       "content": {
        "cell": "ee7d8911-498f-402e-bddf-c4b3146f299d",
        "part": "whole"
       },
       "id": "1f8eea0f-96d6-41ce-a66e-0875c079c000"
      }
     }
    },
    "e438a110-f873-4e36-b3dc-236fe511fb1f": {
     "id": "e438a110-f873-4e36-b3dc-236fe511fb1f",
     "prev": "d9faafe9-11a9-4f13-93ab-36d251e61db0",
     "regions": {
      "8f17b38f-4685-4a12-8bfd-3d6801dd8e23": {
       "attrs": {
        "height": 0.8,
        "width": 0.8,
        "x": 0.1,
        "y": 0.1
       },
       "content": {
        "cell": "551ef9ec-2a33-4b1c-9ce3-f61a858ea6df",
        "part": "whole"
       },
       "id": "8f17b38f-4685-4a12-8bfd-3d6801dd8e23"
      }
     }
    },
    "e5a42f99-251d-4b55-a771-1d6db0534246": {
     "id": "e5a42f99-251d-4b55-a771-1d6db0534246",
     "prev": "16883615-90e3-4ea7-9c16-58a5740e3512",
     "regions": {
      "d55c273f-7f89-42fe-a193-57026c194696": {
       "attrs": {
        "height": 0.8,
        "width": 0.8,
        "x": 0.1,
        "y": 0.1
       },
       "content": {
        "cell": "f5a436b1-aa2e-41af-9ec7-3381cf16c482",
        "part": "whole"
       },
       "id": "d55c273f-7f89-42fe-a193-57026c194696"
      }
     }
    },
    "eaf7d7b3-3050-47bd-9efd-a16a79e044b2": {
     "id": "eaf7d7b3-3050-47bd-9efd-a16a79e044b2",
     "prev": "5655c65e-2fcb-4d68-916d-cc41e903c04e",
     "regions": {
      "23bf0ecd-3d44-4900-86ac-90847d7c9d70": {
       "attrs": {
        "height": 0.8,
        "width": 0.8,
        "x": 0.1,
        "y": 0.1
       },
       "content": {
        "cell": "6f8fb067-9e3c-4be0-855a-5b238269cec8",
        "part": "whole"
       },
       "id": "23bf0ecd-3d44-4900-86ac-90847d7c9d70"
      }
     }
    },
    "eecee4cb-a97b-492c-8bb4-45cf50f0e85c": {
     "id": "eecee4cb-a97b-492c-8bb4-45cf50f0e85c",
     "prev": "e438a110-f873-4e36-b3dc-236fe511fb1f",
     "regions": {
      "868ede22-18ce-42bb-817d-f36c2308c204": {
       "attrs": {
        "height": 0.8,
        "width": 0.8,
        "x": 0.1,
        "y": 0.1
       },
       "content": {
        "cell": "8081a668-ef24-4987-88ab-43e94825f5e3",
        "part": "whole"
       },
       "id": "868ede22-18ce-42bb-817d-f36c2308c204"
      }
     }
    },
    "f3b03c6b-d0f4-4ff5-9aab-1f6dc4cddec9": {
     "id": "f3b03c6b-d0f4-4ff5-9aab-1f6dc4cddec9",
     "prev": "39fc6e3e-4861-456f-8707-06aa4313477c",
     "regions": {
      "82bac27c-f0c0-4cd6-b7aa-6ae9951cebe3": {
       "attrs": {
        "height": 0.8,
        "width": 0.8,
        "x": 0.1,
        "y": 0.1
       },
       "content": {
        "cell": "4ae3590e-3c7d-4751-b03e-243976c64ad4",
        "part": "whole"
       },
       "id": "82bac27c-f0c0-4cd6-b7aa-6ae9951cebe3"
      }
     }
    },
    "f6245d61-28c5-4acc-8fcd-561772176fb3": {
     "id": "f6245d61-28c5-4acc-8fcd-561772176fb3",
     "prev": "e5a42f99-251d-4b55-a771-1d6db0534246",
     "regions": {
      "296c358b-6d08-4588-b4e6-c433902e88b8": {
       "attrs": {
        "height": 0.8,
        "width": 0.8,
        "x": 0.1,
        "y": 0.1
       },
       "content": {
        "cell": "0a7398d6-6726-4258-b8f7-39063804cabe",
        "part": "whole"
       },
       "id": "296c358b-6d08-4588-b4e6-c433902e88b8"
      },
      "a2cfa2aa-8a31-47bc-a089-4d6e12bf56cf": {
       "attrs": {
        "height": 0.4,
        "width": 0.8,
        "x": 0.1,
        "y": 0.5
       },
       "content": {
        "cell": "8a27c354-3e53-47b0-8317-60995594175e",
        "part": "whole"
       },
       "id": "a2cfa2aa-8a31-47bc-a089-4d6e12bf56cf"
      },
      "b49a2955-09b4-4f17-9834-c4dcf4f63a82": {
       "attrs": {
        "height": 0.4,
        "width": 0.8,
        "x": 0.1,
        "y": 0.5
       },
       "content": {
        "cell": "0a274f3a-6d07-471b-8924-b4e318f11ce6",
        "part": "whole"
       },
       "id": "b49a2955-09b4-4f17-9834-c4dcf4f63a82"
      }
     }
    },
    "f62cfb85-9b63-4a91-ad72-76a0dd8e14b6": {
     "id": "f62cfb85-9b63-4a91-ad72-76a0dd8e14b6",
     "prev": "2cdbf33f-8e89-4e73-b199-66489afcadf7",
     "regions": {
      "859492fe-db5e-4aa7-a77e-a1de91c2669b": {
       "attrs": {
        "height": 0.8,
        "width": 0.8,
        "x": 0.1,
        "y": 0.1
       },
       "content": {
        "cell": "bffc4427-4d54-41bc-9084-a6257ad63d05",
        "part": "whole"
       },
       "id": "859492fe-db5e-4aa7-a77e-a1de91c2669b"
      },
      "d92645e2-9794-4a1b-b705-4bb04ebcd2e8": {
       "attrs": {
        "height": 0.4,
        "width": 0.8,
        "x": 0.1,
        "y": 0.5
       },
       "content": {
        "cell": "1af1cb42-399f-4e63-a772-6419fc5cc2d2",
        "part": "whole"
       },
       "id": "d92645e2-9794-4a1b-b705-4bb04ebcd2e8"
      }
     }
    }
   },
   "themes": {}
  }
 },
 "nbformat": 4,
 "nbformat_minor": 1
}
