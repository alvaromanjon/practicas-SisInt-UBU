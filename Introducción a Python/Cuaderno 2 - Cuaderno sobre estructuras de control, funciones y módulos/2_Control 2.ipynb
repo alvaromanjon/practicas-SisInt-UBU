{
 "cells": [
  {
   "cell_type": "code",
   "execution_count": 59,
   "metadata": {},
   "outputs": [
    {
     "data": {
      "text/html": [
       "<link rel=\"stylesheet\" type=\"text/css\" href=\"custom.css\">"
      ],
      "text/plain": [
       "<IPython.core.display.HTML object>"
      ]
     },
     "metadata": {},
     "output_type": "display_data"
    }
   ],
   "source": [
    "%%HTML\n",
    "<link rel=\"stylesheet\" type=\"text/css\" href=\"custom.css\">"
   ]
  },
  {
   "cell_type": "markdown",
   "metadata": {},
   "source": [
    "<img style=\"float:left\" width=\"70%\" src=\"pics/escudo_COLOR_1L_DCHA.png\">\n",
    "<img style=\"float:right\" width=\"15%\" src=\"pics/PythonLogo.svg\">\n",
    "<br style=\"clear:both;\">\n",
    "\n",
    "# Introducción a la programación en Python\n",
    "\n",
    "<h2 style=\"display: inline-block; padding: 4mm; padding-left: 2em; background-color: navy; line-height: 1.3em; color: white; border-radius: 10px;\">Estructuras de control, funciones y módulos</h2>\n",
    "\n",
    "## Docentes\n",
    "\n",
    " - César Ignacio García Osorio\n",
    " - Mario Juez Gil\n",
    " - José Francisco Diez Pastor\n",
    " - Álvar Arnaiz González"
   ]
  },
  {
   "cell_type": "markdown",
   "metadata": {},
   "source": [
    "## Tabla de contenidos del notebook <a id=\"index\"></a>\n",
    "\n",
    "1. [Estructuras de control](#control)\n",
    "2. [Funciones](#functions)\n",
    "3. [Programación Funcional](#fp)\n",
    "4. [Módulos](#modules)\n",
    "5. [Ejercicios y retos](#exercises)\n",
    "\n",
    "\n",
    "## Bibliografía\n",
    "\n",
    "- [More Control Flow Tools](https://docs.python.org/3/tutorial/controlflow.html)"
   ]
  },
  {
   "cell_type": "markdown",
   "metadata": {},
   "source": [
    "# Estructuras de control <a id=\"control\"></a><a href=\"#index\"><i class=\"fa fa-list-alt\" aria-hidden=\"true\"></i></a>\n",
    "\n",
    "## Condicionales \n",
    "\n",
    "La estructura de control más conocida es el <kbd>if</kbd>. La condición <kbd>if</kbd> permite representar una regla del tipo condición/acción:\n",
    "\n",
    "```\n",
    "si hace sol entonces juego al tenis\n",
    "```\n",
    "\n",
    "En Python se podría codificar del siguiente modo:\n",
    "\n",
    "```Python\n",
    "if sol == True:\n",
    "    jugar_tenis()\n",
    "```\n",
    "\n",
    "En términos generales, las condiciones en Python tienen la siguiente sintaxis.\n",
    "\n",
    "```Python\n",
    "if primera condición:\n",
    "    primer cuerpo\n",
    "elif segunda condición:\n",
    "    segundo cuerpo\n",
    "elif tercera condición:\n",
    "    tercer cuerpo\n",
    "else:\n",
    "    cuarto cuerpo\n",
    "```\n",
    "\n",
    "- El inicio del cuerpo son los «<kbd>:</kbd>».\n",
    "- La indentación determina la extensión del cuerpo.\n",
    "- Puede haber cero o más partes <kbd>elif</kbd>.\n",
    "- La parte <kbd>else</kbd> es única y es opcional.\n",
    "\n",
    "<span class=\"label label-info\"><i class=\"fa fa-info-circle\" aria-hidden=\"true\"></i> Nota</span>  En las condiciones en Python: el número 0 se evalua a <kbd>False</kbd>, el resto de números se evaluan a <kbd>True</kbd>. Una secuencia vacía se evalua a <kbd>False</kbd>, el resto de secuencias se evaluan a <kbd>True</kbd>."
   ]
  },
  {
   "cell_type": "code",
   "execution_count": null,
   "metadata": {},
   "outputs": [],
   "source": [
    "x = int(input(\"Introduce un número: \"))\n",
    "\n",
    "if x < 0:\n",
    "    print(\"Número negativo\")\n",
    "elif x > 0:\n",
    "    print(\"Número positivo\")\n",
    "else:\n",
    "    print(\"Cero\")"
   ]
  },
  {
   "cell_type": "code",
   "execution_count": null,
   "metadata": {},
   "outputs": [],
   "source": [
    "if 0:\n",
    "    print(\"El 0 se evalua a False (No imprime nada)\")\n",
    "    \n",
    "if 1:\n",
    "    print(\"El resto de número se evaluan a True (Imprime)\")\n",
    "    \n",
    "if \"\":\n",
    "    print(\"Secuencias vacías se evaluan a False (No imprime)\")\n",
    "    \n",
    "if [1,2]:\n",
    "    print(\"El resto de secuencias se evaluan a True (Imprime)\")"
   ]
  },
  {
   "cell_type": "markdown",
   "metadata": {},
   "source": [
    "En Python no existe la secuencia <kbd>switch</kbd>, que sí existe en otros lenguajes (C, Java...).\n",
    "\n",
    "```cpp  \n",
    "switch (hijos) {\n",
    "    case 0: \n",
    "        printf(\"Sin hijos\");          \n",
    "        break;\n",
    "    case 1:  \n",
    "        printf(\"Un hijo\"); \n",
    "        break;\n",
    "    case 2: \n",
    "        printf(\"Dos hijos\");\n",
    "        break;\n",
    "    default: \n",
    "        printf(\"Familia numerosa\");\n",
    "}\n",
    "```\n",
    "\n",
    "Con el  <kbd>if</kbd> … <kbd>elif</kbd> … <kbd>elif</kbd>, se puede hacer exactamente lo mismo que con un <kbd>switch</kbd>. Prúebalo tu mismo."
   ]
  },
  {
   "cell_type": "markdown",
   "metadata": {},
   "source": [
    "## Bucles\n",
    "\n",
    "Los bucles permiten ejecutar un mismo código de manera repetida. En Python existen los siguientes bucles:\n",
    "\n",
    "- <kbd>while</kbd>\n",
    "- <kbd>for</kbd>\n",
    "\n",
    "### El while\n",
    "\n",
    "Bucle general basado en la comprobación repetida de una condición booleana. Mientras se cumpla la condición, ejecutará las sentencias del cuerpo.\n",
    "\n",
    "```Python\n",
    "while condición:\n",
    "    cuerpo\n",
    "```"
   ]
  },
  {
   "cell_type": "code",
   "execution_count": null,
   "metadata": {
    "scrolled": true
   },
   "outputs": [],
   "source": [
    "# Recordemos que el 0 se evalúa a False\n",
    "n = 10\n",
    "while n:\n",
    "    print(n)\n",
    "    n -= 1"
   ]
  },
  {
   "cell_type": "markdown",
   "metadata": {},
   "source": [
    "### El for\n",
    "\n",
    "El bucle <kbd>for</kbd> permite iterar/recorrer secuencias/colecciones.\n",
    "\n",
    "El <kbd>for</kbd> en Python difiere un poco de como se usa esta sentencia en lenguajes como C o Java. En C y otros lenguajes se permite definir: el inicio, el final y el incremento/decremento.\n",
    "\n",
    "En Python se itera sobre los valores de una secuencia (lista, tupla, set)\n",
    "\n",
    "```Python\n",
    "for elemento in iterable:\n",
    "    cuerpo\n",
    "```"
   ]
  },
  {
   "cell_type": "code",
   "execution_count": null,
   "metadata": {},
   "outputs": [],
   "source": [
    "# Ejemplo, iterar sobre una lista\n",
    "lista = [1, 3, 7, 8]\n",
    "\n",
    "for i in lista:\n",
    "    print(i)"
   ]
  },
  {
   "cell_type": "code",
   "execution_count": null,
   "metadata": {},
   "outputs": [],
   "source": [
    "# Ejemplo, iterar sobre las claves de un diccionario\n",
    "names_age = {\"Susana\": 33, \"Pedro\": 25, \"Juan\": 32, \"Jose\": 22, 'María': 28}\n",
    "\n",
    "for name, age in names_age.items():\n",
    "    print(\"The age of\", name, \"is\", age)"
   ]
  },
  {
   "cell_type": "markdown",
   "metadata": {},
   "source": [
    "Si se desea realizar el bucle un número fijo de iteraciones, hay que crear una secuencia de números. Para ello, se puede usar <kbd>range</kbd>: que genera secuencias de enteros personalizadas.\n",
    "\n",
    "Se puede llamar con 1, 2 ó 3 parámetros, dependiendo de lo que se desee:\n",
    "\n",
    "1. Se especifica el final. \n",
    "```Python\n",
    "range(10)       # de 0 hasta 9\n",
    "```\n",
    "2. Se especifica el inicio y el final.\n",
    "```Python\n",
    "range(5, 10)    # de 5 hasta 9\n",
    "```\n",
    "3. Se especifica el inicio, el final y el incremento.\n",
    "```Python\n",
    "range(5, 10, 2) # de 5 hasta 9 contando de 2 en 2\n",
    "```\n",
    "\n",
    "<span class=\"label label-info\"><i class=\"fa fa-info-circle\" aria-hidden=\"true\"></i> Info</span>  El incremento podría ser negativo, como se ve en el siguiente ejemplo."
   ]
  },
  {
   "cell_type": "code",
   "execution_count": null,
   "metadata": {},
   "outputs": [],
   "source": [
    "for i in range(25, 5, -2):\n",
    "    print(i)"
   ]
  },
  {
   "cell_type": "code",
   "execution_count": null,
   "metadata": {},
   "outputs": [],
   "source": [
    "# Ejemplo, iterar sobre una lista, pero manteniendo el índice como en C o Java\n",
    "alumnos = [\"Pedro\", \"Juan\", \"Jose\"]\n",
    "\n",
    "for i in range(len(alumnos)):\n",
    "    print(i, alumnos[i])"
   ]
  },
  {
   "cell_type": "markdown",
   "metadata": {},
   "source": [
    "<span class=\"label label-info\"><i class=\"fa fa-info-circle\" aria-hidden=\"true\"></i> Info</span>  La sentencia <kbd>enumerate</kbd> puede ser muy útil y cómoda para algunas ocasiones. Permite iterar sobre la secuencia de elementos y recuperar el elemento y su índice directamente."
   ]
  },
  {
   "cell_type": "code",
   "execution_count": null,
   "metadata": {},
   "outputs": [],
   "source": [
    "# El mismo ejemplo que el anterior pero utilizando enumerate\n",
    "alumnos = [\"Pedro\", \"Juan\", \"Jose\"]\n",
    "for i, alumno in enumerate(alumnos):\n",
    "    print(i, alumno)"
   ]
  },
  {
   "cell_type": "markdown",
   "metadata": {},
   "source": [
    "#### Modificar la secuencia sobre la que se está iterando\n",
    "\n",
    "Aunque no sea una buena idea porque nos puede conducir a errores, es posible modificar la propia lista sobre la que estamos iterando."
   ]
  },
  {
   "cell_type": "code",
   "execution_count": null,
   "metadata": {},
   "outputs": [],
   "source": [
    "numeros = [10, 20, 150, 140, 30]\n",
    "\n",
    "# Los dos puntos ':' de dentro de los corchetes son para hacer el slice o rebanada\n",
    "for n in numeros[:]:  # Itera sobre un slice (copia de la lista completa).\n",
    "    if n < 100:\n",
    "         numeros.remove(n)\n",
    "numeros"
   ]
  },
  {
   "cell_type": "markdown",
   "metadata": {},
   "source": [
    "<span class=\"label label-warning\"><i class=\"fa fa-warning\" aria-hidden=\"true\"></i> Nota</span> Prueba a cambiar <kbd>numeros[:]</kbd> por <kbd>numeros</kbd>: cambia el resultado ¿verdad? Por ello no se recomienda modificar una lista sobre la que se está iterando."
   ]
  },
  {
   "cell_type": "markdown",
   "metadata": {},
   "source": [
    "#### Iterar sobre varias secuencias a la vez\n",
    "\n",
    "La función <kbd>zip</kbd> devuelve un iterador de tuplas, donde la tupla $i$-esima, cotienen los elementos $i$-esimos de cada una de las secuencias pasadas como argumentos al <kbd>zip</kbd>."
   ]
  },
  {
   "cell_type": "code",
   "execution_count": null,
   "metadata": {},
   "outputs": [],
   "source": [
    "lista1 = [1, 2, 3]\n",
    "lista2 = [10, 20, 30]\n",
    "\n",
    "for i, j in zip(lista1, lista2):\n",
    "    print(i, j)"
   ]
  },
  {
   "cell_type": "markdown",
   "metadata": {},
   "source": [
    "<span class=\"label label-info\"><i class=\"fa fa-info-circle\" aria-hidden=\"true\"></i> Pregunta</span> ¿Qué crees que ocurre si una de las dos listas tiene mayor longitud que la otra?"
   ]
  },
  {
   "cell_type": "markdown",
   "metadata": {},
   "source": [
    "### break, continue, pass\n",
    "\n",
    "Tanto <kbd>break</kbd> como <kbd>continue</kbd> son sentencias tomadas de C, se pueden usar dentro de cualquier bucle: <kbd>for</kbd> y <kbd>while</kbd>.\n",
    "\n",
    "El <kbd>break</kbd> permite abandonar/interrumpir el bucle antes de haber iterado sobre todos los elementos.\n",
    "\n",
    "<img style=\"float:left\" width=\"25%\" src=\"pics/break_for.png\">\n",
    "<img style=\"float:center\" width=\"21%\" src=\"pics/break_while.png\">\n",
    "<br style=\"clear:both;\">"
   ]
  },
  {
   "cell_type": "code",
   "execution_count": null,
   "metadata": {},
   "outputs": [],
   "source": [
    "for n in range(2, 10):\n",
    "    for x in range(2, n):\n",
    "        # Se comprueba que x sea un factor de n\n",
    "        if n % x == 0:\n",
    "            # si lo es, ya sabemos que no es primo,\n",
    "            # se deja de buscar y abandonamos con break\n",
    "            print(n, 'es igual a', x, '*', n//x) \n",
    "            # el comando // es la función suelo(n/x), \n",
    "            # por lo tanto es igual que int(n/x)\n",
    "            break\n",
    "    else:\n",
    "        # el bucle finaliza sin encontrar un factor\n",
    "        print(n, 'es un número primo')"
   ]
  },
  {
   "cell_type": "markdown",
   "metadata": {},
   "source": [
    "La sentencia <kbd>continue</kbd> también tiene un funcionamiento equivalente a su versión en C. El <kbd>continue</kbd> finaliza la interación actual y continúa en la siguiente.\n",
    "\n",
    "El <kbd>break</kbd> permite abandonar/interrumpir el bucle antes de haber iterado sobre todos los elementos.\n",
    "\n",
    "<img style=\"float:left\" width=\"25%\" src=\"pics/continue_for.png\">\n",
    "<img style=\"float:center\" width=\"21%\" src=\"pics/continue_while.png\">\n",
    "<br style=\"clear:both;\">\n",
    "\n",
    "Su caso de uso típico es como una precondición antes de hacer algún procesamiento."
   ]
  },
  {
   "cell_type": "code",
   "execution_count": null,
   "metadata": {},
   "outputs": [],
   "source": [
    "alumnos_notas = [(\"Pepe\", 10), (\"Sonia\", 6), (\"Lara\", 4), (\"Manuel\",12)]\n",
    "\n",
    "for alumno, nota in alumnos_notas:\n",
    "    if nota > 10 or nota < 0:\n",
    "        continue\n",
    "    print(alumno, \"sacó un \", nota)\n",
    "    # aquí podría haber procesamientos adicionales"
   ]
  },
  {
   "cell_type": "markdown",
   "metadata": {},
   "source": [
    "El <kbd>pass</kbd> literalmente no hace nada. Simplemente permite que la sintaxis de un bucle vacío sea correcta. También se utiliza en programación orientada a objetos."
   ]
  },
  {
   "cell_type": "code",
   "execution_count": null,
   "metadata": {},
   "outputs": [],
   "source": [
    "for i in range(100):\n",
    "    pass # si lo quitamos falla, ¡pruébalo!"
   ]
  },
  {
   "cell_type": "markdown",
   "metadata": {},
   "source": [
    "# Funciones <a id=\"functions\"></a><a href=\"#index\"><i class=\"fa fa-list-alt\" aria-hidden=\"true\"></i></a>\n",
    "\n",
    "Las funciones permiten estructurar el código, al igual que en otros lenguajes de programación, tienen parámetros de entrada, un cuerpo (sentencias/instrucciones) y pueden retornar valores a quien las haya invocado.\n",
    "\n",
    "```Python\n",
    "def función(argumento1, argumento2):\n",
    "    # comentario de la función\n",
    "    # cuerpo de la función \n",
    "    return 0 # retorno (opcional)\n",
    "```\n",
    "\n",
    "- Las funciones se definen con la palabra reservada <kbd>def</kbd>.\n",
    "- Ni los parámetros de entrada, ni el resultado tiene tipos.\n",
    "- El cuerpo está indentado.\n",
    "- Si no se devuelve nada explicitamente, la función retornará <kbd>None</kbd>. "
   ]
  },
  {
   "cell_type": "code",
   "execution_count": null,
   "metadata": {},
   "outputs": [],
   "source": [
    "# ejemplo de una función comentada correctamente\n",
    "def cuenta(datos, objetivo):\n",
    "    '''\n",
    "    Cuenta las veces que aparece un valor objetivo\n",
    "    \n",
    "    Parameters\n",
    "    ----------\n",
    "    datos : lista\n",
    "        lista de datos donde buscar.\n",
    "    objetivo : cualquier tipo de dato\n",
    "       objeto que se busca\n",
    "       \n",
    "    Returns\n",
    "    -------\n",
    "    int : número de veces que se encontró el objetivo en la lista\n",
    "    '''\n",
    "    n = 0\n",
    "    for item in datos:\n",
    "        if item == objetivo:\n",
    "            n += 1\n",
    "    return n"
   ]
  },
  {
   "cell_type": "markdown",
   "metadata": {},
   "source": [
    "La invocación de una función, como ya se ha visto en el curso previamente, se realiza escribiendo el nombre de la función seguido de los parámetros de entrada entre paréntesis)."
   ]
  },
  {
   "cell_type": "code",
   "execution_count": null,
   "metadata": {},
   "outputs": [],
   "source": [
    "# Recibe dos objetos: una secuencia/colección y un elemento\n",
    "cuenta([1, 2, 3, 4, 4, 1, 2], 4) # Cuenta las veces que sale el número 4 en la lista."
   ]
  },
  {
   "cell_type": "code",
   "execution_count": null,
   "metadata": {},
   "outputs": [],
   "source": [
    "help(cuenta)"
   ]
  },
  {
   "cell_type": "markdown",
   "metadata": {},
   "source": [
    "Los argumentos de entrada y de salida no tienen tipos, por lo tanto no hay comprobación de tipos en compilación. Esto provoca que los errores, en caso de haberlos, serán detectados durante la ejecución.\n",
    "\n",
    "Es responsabilidad del programador asegurarse de que aplica operaciones a tipos de datos que soporten dichas operaciones.\n",
    "\n",
    "<span class=\"label label-info\"><i class=\"fa fa-info-circle\" aria-hidden=\"true\"></i> Nota</span> Se ha añadido un nuevo estándar que permite añadir <q>pistas</q> al entorno de desarrollo, de este modo en tiempo de compilación nos avisa si hay un problema con los tipos \n",
    "https://docs.python.org/3/library/typing.html.\n"
   ]
  },
  {
   "cell_type": "code",
   "execution_count": null,
   "metadata": {},
   "outputs": [],
   "source": [
    "# Función que calcula a + b (dependiendo del tipo de a y b, será distinto el comportamiento de la suma)\n",
    "def sumar(a, b):\n",
    "    return a + b"
   ]
  },
  {
   "cell_type": "code",
   "execution_count": null,
   "metadata": {},
   "outputs": [],
   "source": [
    "sumar(5.1, 1.3333)"
   ]
  },
  {
   "cell_type": "code",
   "execution_count": null,
   "metadata": {},
   "outputs": [],
   "source": [
    "sumar(\"Hola \",\"Mundo\")"
   ]
  },
  {
   "cell_type": "code",
   "execution_count": null,
   "metadata": {},
   "outputs": [],
   "source": [
    "sumar([1, 2, 3, 4], [5, 6])"
   ]
  },
  {
   "cell_type": "code",
   "execution_count": null,
   "metadata": {},
   "outputs": [],
   "source": [
    "# Esto fallará porque la suma entre int y str no está definida.\n",
    "sumar(\"hola\",str(7))"
   ]
  },
  {
   "cell_type": "code",
   "execution_count": null,
   "metadata": {},
   "outputs": [],
   "source": [
    "# función que saluda y no devuelve nada\n",
    "def saludo():\n",
    "    print(\"Hola\")"
   ]
  },
  {
   "cell_type": "code",
   "execution_count": null,
   "metadata": {},
   "outputs": [],
   "source": [
    "valor = saludo()"
   ]
  },
  {
   "cell_type": "code",
   "execution_count": null,
   "metadata": {},
   "outputs": [],
   "source": [
    "print(valor) # Valor es None"
   ]
  },
  {
   "cell_type": "markdown",
   "metadata": {},
   "source": [
    "<span class=\"label label-danger\"><i class=\"fa fa-bomb\" aria-hidden=\"true\"></i> ¡Cuidado!</span>\n",
    "Los parámetros de las funciones, si son de un tipo mutable, se pueden modificar en el cuerpo de la función. (Recuerda paso por referencia de otros lenguajes como C). Más información sobre qué objetos son mutable e inmutables en Python [aquí](https://medium.com/@meghamohan/mutable-and-immutable-side-of-python-c2145cf72747)."
   ]
  },
  {
   "cell_type": "code",
   "execution_count": null,
   "metadata": {},
   "outputs": [],
   "source": [
    "# Los enteros no son mutables, por lo que num no cambia\n",
    "num = 5\n",
    "def suma10(n):\n",
    "    n += 10\n",
    "    \n",
    "suma10(num)\n",
    "print(num)"
   ]
  },
  {
   "cell_type": "code",
   "execution_count": null,
   "metadata": {},
   "outputs": [],
   "source": [
    "# Las listas son mutables, por lo que l1 cambia\n",
    "l1 = [1, 2, 3, 4]\n",
    "def modifica_lista_mas10(lista):\n",
    "    for j in range(len(lista)):\n",
    "        lista[j] += 10 \n",
    "        \n",
    "modifica_lista_mas10(l1)\n",
    "print(l1)"
   ]
  },
  {
   "cell_type": "markdown",
   "metadata": {},
   "source": [
    "## Alcance de las variables\n",
    "\n",
    "El alcance de una variable hace referencia a cuál es la porción de código donde la variable <q>vive</q> y puede ser usada o referenciada.\n",
    "El alcance puede ser:\n",
    "- **global**: Todo el código, o todo el notebook (desde donde se declaró la variable en adelante).\n",
    "- **local**: Alcance al bloque donde se define la variable.\n",
    "\n",
    "Los identificadores creados dentro del cuerpo tienen ámbito local.\n",
    "- Se puede forzar que usen el ámbito global con <kbd>global</kbd>."
   ]
  },
  {
   "cell_type": "code",
   "execution_count": null,
   "metadata": {},
   "outputs": [],
   "source": [
    "'''\n",
    "La variable global y la local se llaman 'a' intencionadamente para \n",
    "ver cómo se puede forzar que en un caso sea una nueva variable y \n",
    "en el otro la global definida fuera.\n",
    "''' \n",
    "\n",
    "a = 10\n",
    "\n",
    "def sin_global():\n",
    "    a = 5    # esta 'a' es una variable local, distinta de la de arriba\n",
    "    print(\"Dentro de la función \", a)\n",
    "    \n",
    "def con_global():\n",
    "    global a # ahora sí es la misma\n",
    "    a = 5\n",
    "    print(\"Dentro de la función \", a)\n",
    "    \n",
    "sin_global()\n",
    "print(\"Fuera de la función \", a)\n",
    "con_global()\n",
    "print(\"Fuera de la función \", a) # ha cambiado la variable global"
   ]
  },
  {
   "cell_type": "markdown",
   "metadata": {},
   "source": [
    "## Funciones con parámetros por defecto\n",
    "\n",
    "Algo muy interesante en Python, es que las funciones pueden tener valores por defecto para sus parámetros. De este modo, algunos parámetros pueden tener un valor aunque el usuario no lo haya pasado en la invocación/llamada de la función.\n",
    "\n",
    "```Python\n",
    "def f (a, b=15, c=27):\n",
    "    ...\n",
    "```\n",
    "\n",
    "<span class=\"label label-danger\"><i class=\"fa fa-bomb\" aria-hidden=\"true\"></i> ¡Cuidado!</span>\n",
    "Si un parámetro tiene un valor por defecto, todos los parámetros definidos a continuación también deben tenerlo."
   ]
  },
  {
   "cell_type": "code",
   "execution_count": null,
   "metadata": {},
   "outputs": [],
   "source": [
    "def potencia(base, exponente=2):\n",
    "    return base ** exponente"
   ]
  },
  {
   "cell_type": "code",
   "execution_count": null,
   "metadata": {},
   "outputs": [],
   "source": [
    "print(potencia(5))    # por defecto exponente = 2\n",
    "print(potencia(5, 2)) # así que esto es equivalente\n",
    "\n",
    "print(potencia(5, 3))"
   ]
  },
  {
   "cell_type": "code",
   "execution_count": null,
   "metadata": {},
   "outputs": [],
   "source": [
    "def foo(obligatorio, opciona1 = \"op1\", opcional2 = \"op2\"):\n",
    "    print(obligatorio, opciona1, opcional2)\n",
    "\n",
    "foo(\"obligatorio\")"
   ]
  },
  {
   "cell_type": "markdown",
   "metadata": {},
   "source": [
    "<span class=\"label label-info\"><i class=\"fa fa-info-circle\" aria-hidden=\"true\"></i> Pregunta</span> ¿Qué crees que ocurrirá si se codifica lo siguiente?\n",
    "\n",
    "```Python\n",
    "def foo2(obligatorio, opciona1 = \"op1\", obligatorio2):\n",
    "    print(obligatorio, opciona1, opcional2)\n",
    "    \n",
    "foo2(\"obligatorio1\", opciona1 = \"op1\", \"obligatorio2\")\n",
    "```\n",
    "Devolverá el siguiente error.\n",
    "<pre>\n",
    "SyntaxError: non-default argument follows default argument\n",
    "</pre>\n"
   ]
  },
  {
   "cell_type": "markdown",
   "metadata": {},
   "source": [
    "## Retorno de valores\n",
    "\n",
    "En Python, a diferencia de otros lenguajes de programación, se puede devolver más de un valor. Tan sólo hay que separar cada uno de ellos por comas."
   ]
  },
  {
   "cell_type": "code",
   "execution_count": null,
   "metadata": {},
   "outputs": [],
   "source": [
    "def multiple_return():\n",
    "    a = 10\n",
    "    b = 5\n",
    "    c = 2\n",
    "    # aquí puede haber tantas operaciones como se quiera\n",
    "    return a, b, c"
   ]
  },
  {
   "cell_type": "code",
   "execution_count": null,
   "metadata": {},
   "outputs": [],
   "source": [
    "multiple_return()"
   ]
  },
  {
   "cell_type": "markdown",
   "metadata": {},
   "source": [
    "<span class=\"label label-info\"><i class=\"fa fa-info-circle\" aria-hidden=\"true\"></i> Nota</span> En realidad lo que devuelve la función es un único objeto: una tupla. El contenido de la tupla está formado por todos los valores que se indicaron en el <kbd>return</kbd>."
   ]
  },
  {
   "cell_type": "markdown",
   "metadata": {},
   "source": [
    "# Programación Funcional <a id=\"fp\"></a><a href=\"#index\"><i class=\"fa fa-list-alt\" aria-hidden=\"true\"></i></a>\n",
    "\n",
    "La programación funcional es un paradigma de programación en el cual los programas se construyen mediante la aplicación y composición de funciones, para más información sobre su filosofía se puede ir a la [Wikipedia](https://es.wikipedia.org/wiki/Programaci%C3%B3n_funcional).\n",
    "En este curso tan sólo se van a explicar un par de conceptos básicos, pero muy potentes, sobre programación funcional: <kbd>map</kbd> y <kbd>filter</kbd>.\n",
    "\n",
    "<span class=\"label label-info\"><i class=\"fa fa-info-circle\" aria-hidden=\"true\"></i> Nota</span> Ambas funciones son de **orden superior**. En programación funcional, una función de orden superior es aquella que recibe como argumento otra función.\n",
    "\n",
    "## Map\n",
    "\n",
    "<kbd>map()</kbd> es una función que devuelve el resultado de aplicar una función a una o más secuencias.\n",
    "\n",
    "Recibe dos o más argumentos:\n",
    "- el primer argumento es una función.\n",
    "- el/los siguiente/s son secuencias.\n",
    "\n",
    "Devuelve:\n",
    "- el resultado de aplicar la función a los elementos $n$-esimos de las secuencias. Devuelve un objeto de tipo <kbd>map</kbd>, lo más frecuente es transformarlo a una lista como se hace en los siguientes ejemplos.\n",
    "\n",
    "La función que se le pasa a <kbd>map</kbd> puede tener nombre o ser anónima (lambda), pero si es una función que no se va a usar en ningún otro sitio, lo más común es que sea anónima.\n",
    "\n",
    "<span class=\"label label-info\"><i class=\"fa fa-info-circle\" aria-hidden=\"true\"></i> Nota</span> Se denomina función lambda a aquella función que no tiene nombre, por lo que no puede ser utilizada más que donde es definida. En Python las funciones lambda se definen mediante la palabra reservada <kbd>lambda</kbd>. Su sintaxis es:\n",
    "\n",
    "```Python\n",
    "lambda argumentos_de_entrada : cuerpo_de_la_función\n",
    "```"
   ]
  },
  {
   "cell_type": "code",
   "execution_count": null,
   "metadata": {},
   "outputs": [],
   "source": [
    "# Ejemplo de uso de map:\n",
    "#  1º argumento: función que suma 1 a lo que le llegue\n",
    "#  2º argumento: secuencia 1,2,3,4\n",
    "#  resultado: secuencia de entrada con todos los elementos incrementados en uno\n",
    "\n",
    "list(map(lambda x: x + 1, [1, 2, 3, 4]))"
   ]
  },
  {
   "cell_type": "code",
   "execution_count": null,
   "metadata": {},
   "outputs": [],
   "source": [
    "# Ejemplo de uso de map:\n",
    "#  1º argumento: función que suma 2 elementos\n",
    "#  2º y 3º argumentos: secuencias de números\n",
    "#  resultado: suma los elementos en las posiciones 1, 2, ..., entre sí\n",
    "\n",
    "list(map(lambda x, y: x + y, [1, 2, 3, 4], [10, 20, 30, 40]))"
   ]
  },
  {
   "cell_type": "markdown",
   "metadata": {},
   "source": [
    "## Filter\n",
    "\n",
    "Función que filtra los elementos de una secuencia. Es decir, devuelve aquellos elementos de la secuencia para los que la función que se le pasa a <kbd>map</kbd> devuelva <kbd>True</kbd>.\n",
    "\n",
    "Recibe dos argumentos:\n",
    "- el primer argumento es una función (que debe devolver un valor booleano).\n",
    "- el segundo argumento es una secuencia.\n",
    "\n",
    "Devuelve:\n",
    "- Aquellos elementos de la secuencia para los que la función devuelva <kbd>True</kbd>. Al igual que <kbd>map</kbd>, devuelve un objeto que suele transformarse a lista para obtener el resultado."
   ]
  },
  {
   "cell_type": "code",
   "execution_count": null,
   "metadata": {},
   "outputs": [],
   "source": [
    "# x % 2 es cero para los pares. 0 se evalua a False\n",
    "# Por lo tanto, dejará los números impares\n",
    "\n",
    "list(filter(lambda x: x % 2, [1, 2, 3, 4, 5, 6, 7, 8]))"
   ]
  },
  {
   "cell_type": "markdown",
   "metadata": {},
   "source": [
    "<span class=\"label label-info\"><i class=\"fa fa-info-circle\" aria-hidden=\"true\"></i> Pregunta</span> ¿Cómo se podría modificar la celda previa para que devolviese los números pares? Trata de hacerlo tú mismo."
   ]
  },
  {
   "cell_type": "markdown",
   "metadata": {},
   "source": [
    "## Paso de funciones a otras funciones\n",
    "\n",
    "En Python, al igual que en otros lenguajes funcionales como [Lisp](https://es.wikipedia.org/wiki/Lisp), las funciones son entidades de primer nivel.\n",
    "\n",
    "Esto significa que pueden aparecer en partes del código donde otras entidades de primer nivel.\n",
    "\n",
    "Es decir, podemos asignar una función a una variable o podemos podemos pasar una función como parámetro de otra. Tal y como se ha visto con <kbd>map</kbd> y <kbd>filter</kbd>"
   ]
  },
  {
   "cell_type": "code",
   "execution_count": null,
   "metadata": {},
   "outputs": [],
   "source": [
    "def aplica(function, value):\n",
    "    '''\n",
    "    Aplica una función a un valor.\n",
    "    \n",
    "    Parámetros\n",
    "    ----------\n",
    "    function : función\n",
    "        función a aplicar\n",
    "    value : objeto\n",
    "       objeto sobre el que aplicar la función\n",
    "       \n",
    "    Returns\n",
    "    -------\n",
    "    el resultado de aplicar function a value\n",
    "    '''\n",
    "    return function(value)\n",
    "\n",
    "print(aplica(lambda x: x * x, 5))\n",
    "print(aplica(lambda x: x - 1, 5))\n",
    "print(aplica(lambda x: x.upper(), \"¡hola!\"))"
   ]
  },
  {
   "cell_type": "markdown",
   "metadata": {},
   "source": [
    "# Módulos <a id=\"modules\"></a><a href=\"#index\"><i class=\"fa fa-list-alt\" aria-hidden=\"true\"></i></a>\n",
    "\n",
    "Hay multitud de funciones (ej: <kbd>print</kbd>) y clases (ej: <kbd>list</kbd>) definidas en el espacio de nombres de usuario (es decir, que están disponibles sin necesidad de importarlas explícitamente).\n",
    "\n",
    "## Carga de módulos\n",
    "Pero otras funciones no están en el espacio de nombre de usuario y hay que añadirlas. Se pueden añadir bibliotecas adicionales haciendo uso de la sentencia <kbd>import</kbd>.\n",
    "\n",
    "<span class=\"label label-info\"><i class=\"fa fa-info-circle\" aria-hidden=\"true\"></i> Nota</span> Los módulos están estructurados en paquetes. Ej: <kbd>sound.effects.surround.py</kbd> significa que el módulo <kbd>surround</kbd> está dentro del paquete <kbd>sound</kbd> en el subpaquete <kbd>effects</kbd>."
   ]
  },
  {
   "cell_type": "markdown",
   "metadata": {},
   "source": [
    "Se pueden importar los módulos de diversas maneras:\n",
    "\n",
    "- Importar elementos concretos con <kbd>from</kbd>. Queda accesible sin usar el nombre completo.\n",
    "\n",
    "```Python\n",
    "from math import pi, sqrt\n",
    "print(pi)\n",
    "print(sqrt(9))\n",
    "```\n",
    "\n",
    "<span class=\"label label-info\"><i class=\"fa fa-info-circle\" aria-hidden=\"true\"></i> Nota</span> Se pueden renombrar los objetos importados usando la palabra reservada <kbd>as</kbd>.\n",
    "```Python\n",
    "from math import sqrt as raiz_cuadrada\n",
    "print(raiz_cuadrada(9))\n",
    "```\n",
    "- Importar todo el módulo. \n",
    "\n",
    "```Python\n",
    "from math import *   \n",
    "```\n",
    "<span class=\"label label-warning\"><i class=\"fa fa-bomb\" aria-hidden=\"true\"></i> ¡Cuidado!</span> No recomendable, porque algunos nombres podrían estar ya en uso, así que es preferible no utilizarlo. <p>\n",
    "\n",
    "\n",
    "- Importar el módulo utilizando solo <kbd>import</kbd>, en este caso se debe usar el nombre completo (```math.objeto```) para acceder a las definiciones de ```math```.\n",
    "\n",
    "```Python\n",
    "import math \n",
    "print(math.pi)\n",
    "```"
   ]
  },
  {
   "cell_type": "markdown",
   "metadata": {},
   "source": [
    "## Creación de módulos\n",
    "Se puede crear un módulo simplemente creando un fichero con extensión <kbd>.py</kbd>.\n",
    "- Las definiciones de dicho fichero se pueden importar desde cualquier otro módulo del mismo directorio. O desde el módulo <kbd>main</kbd>.\n",
    "\n",
    "El módulo <kbd>main</kbd> es el conjunto de variables y funciones a las que se pueden acceder desde el intérprete.\n",
    "\n",
    "- A parte de definiciones de variables y definiciones de funciones, un módulo puede tener más código. Ese código solo se ejecuta una vez, al importarlo.\n",
    "\n",
    "- También se puede ejecutar un módulo como un programa. \n",
    "\n",
    "```Python\n",
    "if __name__ == \"__main__\":\n",
    "    import sys\n",
    "    factorial(int(sys.argv[1]))\n",
    "```\n",
    "\n",
    "Si el módulo en el que está este fragmento se ejecuta desde el intérprete, entonces se invocan las expresiones que estén dentro de ese <kbd>if</kbd>."
   ]
  },
  {
   "cell_type": "code",
   "execution_count": null,
   "metadata": {},
   "outputs": [],
   "source": [
    "# Para que esto funcione debe haber un fichero facto.py en el mismo directorio\n",
    "from facto import factorial\n",
    "factorial(5)"
   ]
  },
  {
   "cell_type": "markdown",
   "metadata": {},
   "source": [
    "## Módulos interesantes\n",
    "\n",
    "En Python existen infinidad de módulos interesantes, muchos de ellos necesitarían un curso propio e incluso más extenso que este solo para cada uno de ellos.\n",
    "\n",
    "En la última sesión hemos preparado diversos notebooks con mini-tutoriales de los módulos que creemos más pueden interesaros."
   ]
  },
  {
   "cell_type": "markdown",
   "metadata": {},
   "source": [
    "<h1 class=\"jumbo\">Ejercicios y retos   <a id=\"exercises\"></a><a href=\"#index\"><i class=\"fa fa-list-alt\" aria-hidden=\"true\"></i></a></h1>"
   ]
  },
  {
   "cell_type": "markdown",
   "metadata": {},
   "source": [
    "## Ejercicio 1\n",
    "\n",
    "Crear una función que calcule el número de [Fibonacci](https://en.wikipedia.org/wiki/Fibonacci_number) de la posición que se le pase.\n",
    "\n",
    "La sucesión de Fibonacci se calcula sumando los dos elementos previos, ej:\n",
    "- ```Fib(1) = 1```\n",
    "- ```Fib(2) = 1```\n",
    "- ```Fib(3) = 2```\n",
    "- ```Fib(4) = 3```\n",
    "- ```Fib(5) = 5```\n",
    "- ```Fib(6) = 8```\n",
    "- ```Fib(7) = 13```\n",
    "\n",
    "Este ejercicio se puede realizar de dos formas:\n",
    "- Mediante llamadas recursivas, es decir una función que se llame a sí misma.\n",
    "- Mediante bucles, no es tan directo pero es sencillo"
   ]
  },
  {
   "cell_type": "code",
   "execution_count": null,
   "metadata": {},
   "outputs": [],
   "source": [
    "# ESCRIBA SU CÓDIGO AQUÍ\n",
    "def fib(n):    # escribe la serie Fibonacci hasta n\n",
    "    a, b = 0, 1\n",
    "    while b < n:\n",
    "        print(b, end=' ')\n",
    "        a, b = b, a+b\n",
    "    print()\n",
    "\n",
    "def fib_rec(n): # calcula Fibonacci de manera recursiva\n",
    "    if n <= 2:\n",
    "        return 1\n",
    "\n",
    "    return fib_rec(n-1) + fib_rec(n-2)"
   ]
  },
  {
   "cell_type": "markdown",
   "metadata": {},
   "source": [
    "## Ejercicio 2\n",
    "\n",
    "Crea una función que compruebe si una cadena de texto que se le pasa es palíndromo (se lee igual de izquierda a derecha que de derecha a izquierda)."
   ]
  },
  {
   "cell_type": "code",
   "execution_count": null,
   "metadata": {},
   "outputs": [],
   "source": [
    "# ESCRIBA SU CÓDIGO AQUÍ"
   ]
  },
  {
   "cell_type": "markdown",
   "metadata": {},
   "source": [
    "## Ejercicio 3\n",
    "\n",
    "Crea una función que cuente el número de ocurrencias de una palabra en una lista. La función recibirá una lista y una palabra, y devolverá el número de ocurrencias.\n",
    "\n",
    "Utilizar dicha función para imprimir el número de repeticiones de cada elemento de la lista <kbd>words</kbd>."
   ]
  },
  {
   "cell_type": "code",
   "execution_count": null,
   "metadata": {},
   "outputs": [],
   "source": [
    "with open('data/script.txt', 'r') as f:\n",
    "    words = f.read().split()\n",
    "    \n",
    "# ESCRIBA SU CÓDIGO AQUÍ"
   ]
  },
  {
   "cell_type": "markdown",
   "metadata": {},
   "source": [
    "## Ejercicio 4\n",
    "\n",
    "Haz una función que pase de decimal a romano. La entrada es un número entero, la salida es una cadena de texto.\n",
    "\n",
    "Trata de usar la descomposición en funciones que minimice la cantidad de código duplicado y maximice la legibilidad del código."
   ]
  },
  {
   "cell_type": "code",
   "execution_count": null,
   "metadata": {},
   "outputs": [],
   "source": [
    "# ESCRIBA SU CÓDIGO AQUÍ"
   ]
  },
  {
   "cell_type": "markdown",
   "metadata": {},
   "source": [
    "##  Ejercicio 5\n",
    "Encontrar las palabras en castellano que tienen todas las vocales."
   ]
  },
  {
   "cell_type": "code",
   "execution_count": null,
   "metadata": {},
   "outputs": [],
   "source": [
    "from data.es_dic import words\n",
    "\n",
    "# ESCRIBA SU CÓDIGO AQUÍ"
   ]
  },
  {
   "cell_type": "markdown",
   "metadata": {},
   "source": [
    "##  Ejercicio 6\n",
    "Encontrar todas las palabras con más vocales que consonantes. Por ejemplo: ábaco, cefalea, zueco. Y que tenga al menos dos vocales más que consonantes. Por ejemplo: neuroanatomía, obituario, usuario."
   ]
  },
  {
   "cell_type": "code",
   "execution_count": null,
   "metadata": {},
   "outputs": [],
   "source": [
    "from data.es_dic import words\n",
    "\n",
    "# ESCRIBA SU CÓDIGO AQUÍ"
   ]
  },
  {
   "cell_type": "markdown",
   "metadata": {},
   "source": [
    "##  Ejercicio 7\n",
    "Obtener el conjunto de todas las subcadenas de una cadena. Por ejemplo, para la cadena <kbd>\"1234\"</kbd>, se podría obtener algo como:\n",
    "<pre>\n",
    "{'', '1', '12', '123', '1234', '2', '23', '234', '3', '34', '4'}\n",
    "</pre>"
   ]
  },
  {
   "cell_type": "code",
   "execution_count": null,
   "metadata": {},
   "outputs": [],
   "source": [
    "cadena = \"abcd\"\n",
    "\n",
    "# ESCRIBA SU CÓDIGO AQUÍ"
   ]
  },
  {
   "cell_type": "markdown",
   "metadata": {},
   "source": [
    "## Ejercicio 8\n",
    "\n",
    "Obtener el [h-index](https://en.wikipedia.org/wiki/H-index) de los investigadores de la Universidad de Burgos.\n",
    "\n",
    "Se ha obtenido de Google Académico la información de las publicaciones (y sus citas) de los investigadores de la UBU. Estos datos se encuentran almacenados en un diccionario cuya clave es el nombre y apellidos del investigador; por cada uno hay una lista de tuplas y cada tupla contiene:\n",
    "- Número de citas del artículo.\n",
    "- Nombre del artículo.\n",
    "- Año de publicación.\n",
    "\n",
    "Los artículos de cada investigador se encuentran ordenados en orden decreciente (por número de citas).\n",
    "\n",
    "Crear una función que calcule el [h-index](https://es.wikipedia.org/wiki/%C3%8Dndice_h) de un autor dado el nombre/apellidos y el diccionario de datos bibliográficos. Posteriormente llamar a esta función tantas veces como autores haya (recordar <kbd>set</kbd>) y mostrarlos.\n",
    "\n",
    "<span class=\"label label-info\"><i class=\"fa fa-info-circle\" aria-hidden=\"true\"></i> Info</span> La apertura del fichero y la carga del diccionario se suministra a continuación."
   ]
  },
  {
   "cell_type": "code",
   "execution_count": null,
   "metadata": {},
   "outputs": [],
   "source": [
    "import pickle\n",
    "\n",
    "with open('data/dict_ubu_authors_data.pkl', 'rb') as f:\n",
    "    ubu_authors_data = pickle.load(f)\n",
    "\n",
    "# ESCRIBA SU CÓDIGO AQUÍ\n"
   ]
  },
  {
   "cell_type": "markdown",
   "metadata": {},
   "source": [
    "## Ejercicio 9\n",
    "\n",
    "El objetivo es construir un 3 en raya.\n",
    "\n",
    "Los dos jugadores van introduciendo la posición en la que quieren colocar la siguiente ficha, tras cada colocación se comprueba si ha habido un ganador o si ha finalizado en empate.\n",
    "\n",
    "Deben completarse las funciones de tal modo que el programa sea totalmente funcional.\n",
    "\n",
    "### 9a: uno contra uno"
   ]
  },
  {
   "cell_type": "code",
   "execution_count": null,
   "metadata": {},
   "outputs": [],
   "source": [
    "from IPython.display import clear_output\n",
    "\n",
    "def print_board(pl1, pl2):\n",
    "    '''\n",
    "    Imprime el tablero del 3 en raya\n",
    "    \n",
    "    Parámetros\n",
    "    ----------\n",
    "    pl1 : lista\n",
    "        lista con las posiciones del jugador 1\n",
    "    pl2 : lista\n",
    "        lista con las posiciones del jugador 2\n",
    "    \n",
    "    Returns\n",
    "    -------\n",
    "    None\n",
    "    '''\n",
    "    pos = 0\n",
    "    for i in range(3):\n",
    "        print('+---+---+---+\\n|', end='')\n",
    "        for j in range(3):\n",
    "            pos += 1\n",
    "            if pos in pl1:\n",
    "                print(' X ', end='')\n",
    "            elif pos in pl2:\n",
    "                print(' O ', end='')\n",
    "            else:\n",
    "                print(' {0} '.format(pos), end='')\n",
    "            print('|', end='')\n",
    "        print()\n",
    "    print('+---+---+---+')\n",
    "    \n",
    "def ask_player(pos_pl1, pos_pl2, player):\n",
    "    '''\n",
    "    Solicita al usuario la posición. pista: input()\n",
    "    Deberá comprobar que en dicha posición no hay ninguna otra\n",
    "    ficha y que es válida.\n",
    "    \n",
    "    Parámetros\n",
    "    ----------\n",
    "    pos_pl1 : lista\n",
    "        lista con las posiciones del jugador 1\n",
    "    pos_pl2 : lista\n",
    "        lista con las posiciones del jugador 2\n",
    "    player : int\n",
    "        jugador actual: 1 ó 2\n",
    "    \n",
    "    Returns\n",
    "    -------\n",
    "    int : posición que ha introducido el usuario\n",
    "    '''\n",
    "    # ESCRIBA SU CÓDIGO AQUÍ\n",
    "            \n",
    "        \n",
    "def has_won(pos_pl):\n",
    "    '''\n",
    "    Comprueba si un jugador ha ganado. Un jugador ha ganado si\n",
    "    ha conseguido tener tres fichas en raya.\n",
    "    \n",
    "    Parámetros\n",
    "    ----------\n",
    "    pos_pl : lista\n",
    "        lista con las posiciones del jugador\n",
    "    \n",
    "    Returns\n",
    "    -------\n",
    "    bool : True si ha ganado, False en caso contrario\n",
    "    '''\n",
    "    # ESCRIBA SU CÓDIGO AQUÍ\n",
    "\n",
    "    \n",
    "    \n",
    "# Programa principal que ejecuta el juego\n",
    "pl1 = []\n",
    "pl2 = []\n",
    "p1 = True;\n",
    "print('Jugador 1: X\\nJugador 2: O')\n",
    "\n",
    "while (True):\n",
    "    # Pedir la posición\n",
    "    if p1:\n",
    "        p = ask_player(pl1, pl2, 1)\n",
    "        pl1.append(p)\n",
    "    else:\n",
    "        p = ask_player(pl1, pl2, 2)\n",
    "        pl2.append(p)\n",
    "    \n",
    "    # Comprobar si ha finalizado el juego\n",
    "    if has_won(pl1):\n",
    "        print(\"¡El jugador 1 ha ganado!\")\n",
    "        break\n",
    "    elif has_won(pl2):\n",
    "        print(\"¡El jugador 2 ha ganado!\")\n",
    "        break\n",
    "    elif len(pl1) + len(pl2) == 9:\n",
    "        print(\"Fin del juego: empate\")\n",
    "        break\n",
    "    \n",
    "    # Limpiar la pantalla\n",
    "    clear_output()\n",
    "    # Cambiar de jugador\n",
    "    p1 = not p1\n",
    "    # Imprimir el tablero\n",
    "    print_board(pl1, pl2)"
   ]
  },
  {
   "cell_type": "markdown",
   "metadata": {},
   "source": [
    "### 9b: jugando contra el ordenador\n",
    "\n",
    "Modificar el juego del tres en raya para que podamos jugar contra el ordenador. \n",
    "\n",
    "Observación: el ordenador jugará siempre primero colocando en el centro, el resto de sus fichas las colocará de forma aleatoria."
   ]
  },
  {
   "cell_type": "code",
   "execution_count": null,
   "metadata": {},
   "outputs": [],
   "source": [
    "# Copiar todo el código de nuevo y modificar las funciones necesarias\n",
    "# ESCRIBA SU CÓDIGO AQUÍ"
   ]
  },
  {
   "cell_type": "markdown",
   "metadata": {},
   "source": [
    "## Ejercicio 10\n",
    "\n",
    "Programar el juego del ahorcado.\n",
    "\n",
    "El objetivo es crear un juego que seleccione una palabra de forma aleatoria (que al menos tenga 5 letras), y el usuario pueda elegir letras del alfabeto para comprobar si están o no presentes en la palabra.\n",
    "\n",
    "Para seleccionar una palabra aleatoria se puede utilizar: [<kbd>random.choice()</kbd>](https://docs.scipy.org/doc/numpy-1.14.0/reference/generated/numpy.random.choice.html)"
   ]
  },
  {
   "cell_type": "code",
   "execution_count": null,
   "metadata": {},
   "outputs": [],
   "source": [
    "from IPython.display import Image, display\n",
    "import random\n",
    "\n",
    "# Todas las palabras del castellano\n",
    "from data.es_dic import words\n",
    "\n",
    "def print_hangman (num):\n",
    "    '''\n",
    "    Muestra la horca en cada una de las 7 posibles posiciones.\n",
    "    \n",
    "    Parámetros\n",
    "    ----------\n",
    "    num : int\n",
    "        Posición: 0 es la inicial y la 6 es fin del juego.\n",
    "    \n",
    "    Returns\n",
    "    -------\n",
    "    None\n",
    "    '''\n",
    "    display(Image(filename='hangman/Hangman-{}.png'.format(num)))\n",
    "\n",
    "\n",
    "# ESCRIBA SU CÓDIGO AQUÍ"
   ]
  },
  {
   "cell_type": "markdown",
   "metadata": {},
   "source": [
    "## Ejercicio 11\n",
    "\n",
    "Tratamiento de ficheros de texto CSV (_comma separated value_).\n",
    "\n",
    "El objetivo es calcular una serie de valores calculados sobre cada columna. Se deja como punto de inicio la apertura del fichero y la carga de las líneas del fichero en <kbd>lines</kbd>.\n",
    "\n",
    "El programa deberá:\n",
    "- Crear un diccionario con 17 campos: name, hair, feathers...\n",
    "- Volcar en el diccionario la información del fichero csv. Observar que en el diccionario la información aparecerá traspuesta, en comparación a como está la hoja de cálculo.\n",
    "- Buscar el animal con más: patas.\n",
    "- Buscar el animal que pone huevos y es mamífero.\n",
    "- Calcular, por cada tipo de animal: número medio de patas.\n",
    "- Cualquier otra idea que te interese.\n",
    "\n",
    "En la sesión del próximo día se verá como utilizar _DataFrames_, que son estructuras mucho más potentes y versátiles para tratamiento de datos tabulares."
   ]
  },
  {
   "cell_type": "code",
   "execution_count": null,
   "metadata": {},
   "outputs": [],
   "source": [
    "import csv\n",
    "\n",
    "lines = []\n",
    "\n",
    "with open('data/zoo.csv', 'r') as csvfile:\n",
    "    file_reader = csv.reader(csvfile, delimiter=',')\n",
    "    \n",
    "    # Imprimir cada línea del lector\n",
    "    for line in file_reader:\n",
    "        lines.append(line)\n",
    "\n",
    "# ESCRIBA SU CÓDIGO AQUÍ\n"
   ]
  },
  {
   "cell_type": "markdown",
   "metadata": {},
   "source": [
    "##  Ejercicio 12\n",
    "Razonamiento genealógico. Utilizar las relaciones conocidas entre padres e hijos, para calcular relaciones más complejas: abuelos-nietos, tíos-sobrinos...\n",
    "\n",
    "En la siguiente figura se muestra toda la información almacenada (los arcos representan relaciones paterno/materno-filiares, el color indica el género, y los nodos en gris indican el fallecimiento de la persona).\n",
    "\n",
    "<img src=\"pics/family.gv.svg\">\n",
    "\n",
    "En el ejemplo que se carga en la siguiente celda, se definen cuatro relaciones: <kbd>es</kbd>, <kbd>es_padre_de</kbd>, <kbd>esta</kbd>, <kbd>nacio_en</kbd>. \n",
    "La información se almacena como tuplas en las que el primer elemento está relacionado con el tercero a través de la relación nombrada en el segundo elemento. Los valores del segundo elemento son:\n",
    "- Relaciones binarias: <kbd>es_padre_de</kbd> (tanto padre como madre), <kbd>nacio_en</kbd>\n",
    "- Relaciones unarias: <kbd>es</kbd> (hombre o mujer), <kbd>esta</kbd> (muerto).\n",
    "\n",
    "Algunos problemas que podrían plantearse resolver con esta <q>base de datos</q> son:\n",
    "- Obtener el nombre de todos los abuelos.\n",
    "- Obtener el nombre de todos los abuelos vivos.\n",
    "- Año de nacimiento y persona más joven.\n",
    "- El nombre más largo de un padre varón.\n",
    "- Añadir nuevas tuplas con conocimiento sobre quién es abuelo de quién <kbd>(<i style=\"font-family: serif\">x</i>, 'es_abuelo_de', <i style=\"font-family: serif\">y</i>)</kbd>.\n",
    "- Añadir nuevas tuplas con información sobre hermanas <kbd>(<i style=\"font-family: serif\">x</i>, 'es_hermana_de', <i style=\"font-family: serif\">y</i>)</kbd>.\n",
    "- Añadir nuevos hechos sobre quién es primo de quién <kbd>(<i style=\"font-family: serif\">x</i>, 'es_primo_de', <i style=\"font-family: serif\">y</i>)</kbd>.\n",
    "- Añadir nuevos hechos sobre quién es tía de quién <kbd>(<i style=\"font-family: serif\">x</i>, 'es_tia_de', <i style=\"font-family: serif\">y</i>)</kbd>.\n",
    "\n",
    "<span class=\"label label-warning\"><i class=\"fa fa-warning\" aria-hidden=\"true\"></i> ¡Cuidado!</span> no es un ejercicio fácil."
   ]
  },
  {
   "cell_type": "code",
   "execution_count": null,
   "metadata": {},
   "outputs": [],
   "source": [
    "from data.family import facts\n",
    "\n",
    "# Relaciones en el árbol\n",
    "print(set([ r for a,r,e in facts]))\n",
    "\n",
    "# Algunos hechos\n",
    "print(facts[::int(len(facts)/7)])\n",
    "\n",
    "# ESCRIBA SU CÓDIGO AQUÍ"
   ]
  }
 ],
 "metadata": {
  "kernelspec": {
   "display_name": "Python 3",
   "language": "python",
   "name": "python3"
  },
  "language_info": {
   "codemirror_mode": {
    "name": "ipython",
    "version": 3
   },
   "file_extension": ".py",
   "mimetype": "text/x-python",
   "name": "python",
   "nbconvert_exporter": "python",
   "pygments_lexer": "ipython3",
   "version": "3.5.2"
  }
 },
 "nbformat": 4,
 "nbformat_minor": 2
}
