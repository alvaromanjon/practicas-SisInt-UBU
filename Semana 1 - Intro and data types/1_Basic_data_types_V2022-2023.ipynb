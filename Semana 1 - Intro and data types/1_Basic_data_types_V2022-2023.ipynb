{
 "cells": [
  {
   "cell_type": "markdown",
   "metadata": {
    "slideshow": {
     "slide_type": "slide"
    }
   },
   "source": [
    "<img style=\"float:left\" width=\"70%\" src=\"pics/escudo_COLOR_1L_DCHA.png\">\n",
    "<img style=\"float:right\" width=\"15%\" src=\"pics/PythonLogo.svg\">\n",
    "<br style=\"clear:both;\">\n",
    "\n",
    "# Introducción a la programación en Python\n",
    "\n",
    "<h2 style=\"display: inline-block; padding: 4mm; padding-left: 2em; background-color: navy; line-height: 1.3em; color: white; border-radius: 10px;\">Estructuras de datos básicas</h2>\n",
    "\n",
    "## Docentes\n",
    "\n",
    " - **Pedro Latorre Carmona** (Profesor del curso académico **2022-2023**)\n",
    " - César Ignacio García Osorio\n",
    " - Juan José Rodríguez Diez\n",
    " - José Francisco Diez Pastor\n",
    " - Álvar Arnaiz González "
   ]
  },
  {
   "cell_type": "markdown",
   "metadata": {
    "slideshow": {
     "slide_type": "slide"
    }
   },
   "source": [
    "<a id=\"index\"></a>\n",
    "## Tabla de contenidos del notebook\n",
    "\n",
    "1. [Repaso de conceptos](#concepts)\n",
    "2. [Enteros y flotantes &mdash; datos numéricos](#nums)\n",
    "3. [Valores lógicos y comparaciones](#booleans)\n",
    "4. [Cadenas &mdash; datos textuales](#strings)\n",
    "5. [Listas, tuplas y conjuntos &mdash; colecciones de datos](#lists)\n",
    "6. [Diccionarios &mdash; colecciones indexadas por nombre](#dictionaries)\n",
    "7. [Vectores, matrices y tensores](#arrays)\n",
    "8. [Ejercicios y retos](#exercises)\n",
    "\n",
    "\n",
    "<!--\n",
    "## Bibliografía\n",
    "- [Ref1](https://example.com)\n",
    "- [Ref2](https://example.com)\n",
    "- [Ref3](https://example.com)\n",
    "-->\n"
   ]
  },
  {
   "cell_type": "markdown",
   "metadata": {
    "slideshow": {
     "slide_type": "slide"
    }
   },
   "source": [
    "# Repaso de conceptos <a id=\"concepts\"></a><a href=\"#index\"><i class=\"fa fa-list-alt\" aria-hidden=\"true\"></i></a>\n",
    "\n",
    "Estos son algunos de los conceptos cuyo conocimiento se presupone:\n",
    "- **Lenguaje de programación**: lenguaje artificial de propósito limitado, que permite expresar cálculos y algoritmos.\n",
    "- **Programa**: secuencia de instrucciones que permiten la solución de un problema.\n",
    "- **Variable**: en programación, una variable está formada por un espacio de almacenaje en memoria y un nombre simbólico (un identificador) que está asociado a dicho espacio. Ese espacio contiene una cantidad de información conocida o desconocida, es decir un _valor_. El nombre de la variable es la forma usual de referirse al valor almacenado. Esta separación entre nombre y contenido permite que el nombre sea usado independientemente de la información exacta que representa. \n",
    "- **Sentencia**: Instrucción de un lenguaje de programación cuya ejecución consigue un cambio de estado (cambio del valor de una variable, impresión por pantalla, ...).\n",
    "\n",
    "- **Expresión**: Combinación de valores mediante operadores que da a lugar a un nuevo valor.\n",
    "- **Condición**: Expresión que devuelve un valor lógico (cierto o falso) y que puede utilizarse para controlar el flujo de ejecución de las sentencias.\n",
    "- **Sentencia condicional**: Instrucción que tras evaluar una expresión condicional ejecuta o no una secuencia de sentencias, o bien ejecuta un conjunto entre dos conjuntos alternativos.\n",
    "- **Bucle** o **sentencia iterativa**: Instrucción que permite la ejecución repetitiva de una secuencia de instrucciones. El número de veces en que la secuencia se ejecuta se controla mediante una expresión condicional.\n",
    "- **Función**: Secuencia de sentencias a las que se le da un nombre para que pueda ser reutilizada en diversas partes del programa. Una función puede devolver un valor y recibir unos valores.\n",
    "- **Llamar o invocar una función**: Utilizar el nombre de la función para ejecutar sus instrucciones.\n",
    "- **Parámetro o argumento**: Variable especial a través de la cual una función puede recibir valores a utilizar en sus instrucciones. \n",
    "- **Booleano**: Tipo especial de datos que puede tomar uno de dos posibles valores (`True` o `False`).\n",
    "- **Objeto**: Es una abstracción de algunos lenguajes de programación que permite agrupar en una única entidad los valores y atributos de un elemento de interés. Asimismo, agrupa la funcionalidad que permite modificar y acceder a estos valores. \n",
    "- **Clase**: Es una plantilla de construcción de objetos, define los métodos y atributos que tendrá los objetos que se definan por instanciación de la plantilla. \n",
    "- **Operador**: Es el carácter (o caracteres) utilizados para representar las acciones de combinación de uno o más valores, por ejemplo `+` para representar la suma, o `**` para representar la potencia.\n",
    "- **Método**: Es un conjunto de acciones a las que se le asocia un nombre y que se utilizan para recuperar o modificar los valores almacenados en un objeto."
   ]
  },
  {
   "cell_type": "markdown",
   "metadata": {
    "slideshow": {
     "slide_type": "slide"
    }
   },
   "source": [
    "# Enteros y flotantes &mdash; datos numéricos  <a id=\"nums\"></a><a href=\"#index\"><i class=\"fa fa-list-alt\" aria-hidden=\"true\"></i></a>\n",
    "\n",
    "El tipo más básico que podemos considerar son los datos numéricos. Para prácticamente cualquier tarea necesitamos \n",
    "hacer operaciones como contar ocurrencias o acumular magnitudes y valores. "
   ]
  },
  {
   "cell_type": "code",
   "execution_count": 1,
   "metadata": {},
   "outputs": [
    {
     "data": {
      "text/plain": [
       "'\\nLos comentarios de varias líneas se introducen\\ncon 3 comillas simples de inicio y otras 3 al final\\n\\n'"
      ]
     },
     "execution_count": 1,
     "metadata": {},
     "output_type": "execute_result"
    }
   ],
   "source": [
    "'''\n",
    "Los comentarios de varias líneas se introducen\n",
    "con 3 comillas simples de inicio y otras 3 al final\n",
    "\n",
    "'''"
   ]
  },
  {
   "cell_type": "markdown",
   "metadata": {},
   "source": [
    "## Los tipos numéricos de Python"
   ]
  },
  {
   "cell_type": "code",
   "execution_count": 2,
   "metadata": {},
   "outputs": [
    {
     "name": "stdout",
     "output_type": "stream",
     "text": [
      "<class 'int'>\n",
      "<class 'float'>\n"
     ]
    }
   ],
   "source": [
    "# Todo lo que sigue al carácter # es un comentario y es ignorado por el interprete Python,\n",
    "'''\n",
    "Los comentarios de varias líneas se introducen\n",
    "con 3 comillas simples de inicio y otras 3 al final\n",
    "\n",
    "'''\n",
    "\n",
    "num = 4\n",
    "print(type(num)) # => <class 'int'>\n",
    "# La función type devuelve el tipo del valor almacenado en una variable.\n",
    "\n",
    "num = 3.14\n",
    "print(type(num)) # => <class 'float'>"
   ]
  },
  {
   "cell_type": "markdown",
   "metadata": {},
   "source": [
    "## Operaciones aritméticas"
   ]
  },
  {
   "cell_type": "code",
   "execution_count": 3,
   "metadata": {},
   "outputs": [
    {
     "name": "stdout",
     "output_type": "stream",
     "text": [
      "1.5\n",
      "1\n"
     ]
    }
   ],
   "source": [
    "# Suma:            3 + 2\n",
    "# Resta:           3 - 2\n",
    "# Multiplicación:  3 * 2\n",
    "# División:        3 / 2\n",
    "# División entera: 3 // 2  \n",
    "# Resto:           3 % 2   \n",
    "# Potencia:        3 ** 2  \n",
    "# Raíz cuadrada:   3 ** .5\n",
    "\n",
    "\n",
    "\n",
    "print(3 / 2)       # Devuelve 1.5 en Python 3, sin embargo, el resultado es 1 en Python 2\n",
    "print(3 // 2)      # Devuelve 1 tanto en Python 2 como en Python 3"
   ]
  },
  {
   "cell_type": "code",
   "execution_count": 148,
   "metadata": {},
   "outputs": [
    {
     "name": "stdout",
     "output_type": "stream",
     "text": [
      "3\n",
      "1\n",
      "0\n"
     ]
    }
   ],
   "source": [
    "print(13 % 5)      # => 3\n",
    "\n",
    "# una forma de comprobar si un número es par\n",
    "print(13 % 2)      # => 1, es impar\n",
    "print(18 % 2)      # => 0, si el resultado es cero, el número es par"
   ]
  },
  {
   "cell_type": "code",
   "execution_count": 5,
   "metadata": {},
   "outputs": [
    {
     "name": "stdout",
     "output_type": "stream",
     "text": [
      "16\n",
      "2.0\n",
      "7\n",
      "9\n"
     ]
    }
   ],
   "source": [
    "# Precedencias de operadores\n",
    "# Si no se está seguro usar paréntesis.\n",
    "\n",
    "print(4 ** 2)      # => 16\n",
    "print(4 ** .5)     # => 2.0\n",
    "print(3 * 2 + 1)   # => 7 \n",
    "print(3 * (2 + 1)) # => 9 "
   ]
  },
  {
   "cell_type": "code",
   "execution_count": 6,
   "metadata": {},
   "outputs": [
    {
     "name": "stdout",
     "output_type": "stream",
     "text": [
      "4\n"
     ]
    }
   ],
   "source": [
    "print((-2) ** 2) # => 4"
   ]
  },
  {
   "cell_type": "markdown",
   "metadata": {},
   "source": [
    "<div class=\"alert alert-danger\">\n",
    "   <i style=\"color: #a94442; font-size: larger\" class=\"fa fa-warning\" aria-hidden=\"true\"> <b>Conclusión:</b> Cuidado con las precedencias.\n",
    "</div>\n"
   ]
  },
  {
   "cell_type": "code",
   "execution_count": 7,
   "metadata": {},
   "outputs": [
    {
     "name": "stdout",
     "output_type": "stream",
     "text": [
      "2\n",
      "3\n",
      "30\n"
     ]
    }
   ],
   "source": [
    "# Operador de actualización y asignación (igual que C y Java)\n",
    "\n",
    "num = 2\n",
    "print(num) # => 2\n",
    "num += 1\n",
    "print(num) # => 3\n",
    "num *= 10\n",
    "print(num) # => 30"
   ]
  },
  {
   "cell_type": "markdown",
   "metadata": {},
   "source": [
    "## Funciones matemáticas predefinidas"
   ]
  },
  {
   "cell_type": "code",
   "execution_count": 8,
   "metadata": {},
   "outputs": [
    {
     "name": "stdout",
     "output_type": "stream",
     "text": [
      "3\n",
      "4\n",
      "3.9\n"
     ]
    }
   ],
   "source": [
    "# Valor absoluto y redondeo\n",
    "print(abs(-3))\n",
    "print(round(3.86))\n",
    "print(round(3.86, 1))"
   ]
  },
  {
   "cell_type": "markdown",
   "metadata": {},
   "source": [
    "<div class=\"alert alert-info\">\n",
    "   <i style=\"font-size: larger;\" class=\"fa fa-info-circle\" aria-hidden=\"true\"></i> Se puede utilizar el comando <kbd>help</kbd> para obtener ayuda sobre funciones.\n",
    "</div>\n"
   ]
  },
  {
   "cell_type": "code",
   "execution_count": 9,
   "metadata": {},
   "outputs": [
    {
     "name": "stdout",
     "output_type": "stream",
     "text": [
      "Help on built-in function round in module builtins:\n",
      "\n",
      "round(number, ndigits=None)\n",
      "    Round a number to a given precision in decimal digits.\n",
      "    \n",
      "    The return value is an integer if ndigits is omitted or None.  Otherwise\n",
      "    the return value has the same type as the number.  ndigits may be negative.\n",
      "\n"
     ]
    }
   ],
   "source": [
    "help(round)"
   ]
  },
  {
   "cell_type": "code",
   "execution_count": 10,
   "metadata": {},
   "outputs": [
    {
     "name": "stdout",
     "output_type": "stream",
     "text": [
      "(6.123233995736766e-17+1j)\n",
      "6.123233995736766e-17\n",
      "0.0\n"
     ]
    }
   ],
   "source": [
    "# Otra forma de hacer potencias es la función `pow`\n",
    "print(pow(-1, .5)) # => (6.123233995736766e-17+1j)\n",
    "print(pow(-1, .5).real)\n",
    "print(pow(-1, .5).real + 1 - 1)"
   ]
  },
  {
   "cell_type": "code",
   "execution_count": 11,
   "metadata": {},
   "outputs": [
    {
     "name": "stdout",
     "output_type": "stream",
     "text": [
      "8\n",
      "1\n"
     ]
    }
   ],
   "source": [
    "print(max(6,1,8))\n",
    "print(min(6,1,8))"
   ]
  },
  {
   "cell_type": "markdown",
   "metadata": {},
   "source": [
    "En el módulo **math** hay muchas más funciones matemáticas. Lo veremos más adelante"
   ]
  },
  {
   "cell_type": "markdown",
   "metadata": {},
   "source": [
    "## Coerción de tipos (<span style=\"color:red;text-transform: uppercase;\">opcional</span>)\n",
    "La <a class=\"concept\" href=\"http://diccionario.raing.es/es/lema/coerci%C3%B3n-de-tipos\">coerción de tipos</a> es la <q cite=\"http://diccionario.raing.es/es/lema/coerci%C3%B3n-de-tipos\">Característica de los lenguajes de programación que permite, implícita o explícitamente, convertir un elemento de un tipo de datos en otro, sin tener en cuenta la comprobación de tipos</q>."
   ]
  },
  {
   "cell_type": "code",
   "execution_count": 12,
   "metadata": {},
   "outputs": [
    {
     "name": "stdout",
     "output_type": "stream",
     "text": [
      "<class 'int'>\n",
      "<class 'str'>\n"
     ]
    },
    {
     "data": {
      "text/plain": [
       "'255'"
      ]
     },
     "execution_count": 12,
     "metadata": {},
     "output_type": "execute_result"
    }
   ],
   "source": [
    "num = 255\n",
    "print(type(num))\n",
    "num = str(num)\n",
    "print(type(num))\n",
    "num"
   ]
  },
  {
   "cell_type": "code",
   "execution_count": 13,
   "metadata": {},
   "outputs": [
    {
     "data": {
      "text/plain": [
       "'Estamos en el año 2018'"
      ]
     },
     "execution_count": 13,
     "metadata": {},
     "output_type": "execute_result"
    }
   ],
   "source": [
    "# Sirve para convertir los datos a un tipo que nos permita operar con ellos\n",
    "# El operador + concatena cadenas, pero no puede sumar una cadena y un número\n",
    "\n",
    "#cadena = \"Estamos en el año \"+2018\n",
    "cadena = \"Estamos en el año \"+str(2018)\n",
    "cadena"
   ]
  },
  {
   "cell_type": "code",
   "execution_count": 14,
   "metadata": {},
   "outputs": [
    {
     "name": "stdout",
     "output_type": "stream",
     "text": [
      "0b11111111\n",
      "0b10101010\n",
      "0xff\n",
      "0o377\n"
     ]
    }
   ],
   "source": [
    "print(bin(255))       # => '0b11111111'   número a la cadena correspondiente a su representación binaria\n",
    "print(bin(170))       # => '0b10101010'   número a la cadena correspondiente a su representación binaria\n",
    "print(hex(255))       # => '0xff'\n",
    "print(oct(255))       # => '0x377'"
   ]
  },
  {
   "cell_type": "code",
   "execution_count": 15,
   "metadata": {},
   "outputs": [
    {
     "name": "stdout",
     "output_type": "stream",
     "text": [
      "255\n",
      "255\n",
      "17\n",
      "3\n",
      "4\n"
     ]
    }
   ],
   "source": [
    "print(int('0xff',16)) # => 255\n",
    "print(int('ff',16))   # => 255\n",
    "print(int('11',16))   # => 17\n",
    "print(int('11',2))    # => 3\n",
    "print(int('11',3))    # => 4"
   ]
  },
  {
   "cell_type": "markdown",
   "metadata": {},
   "source": [
    "<div class=\"alert alert-info\">\n",
    "   <i style=\"font-size: larger;\" class=\"fa fa-info-circle\" aria-hidden=\"true\"></i> Más funciones en:\n",
    "   <ul>\n",
    "    <li> <a href=\"https://docs.python.org/3/library/functions.html\">https://docs.python.org/3/library/functions.html</a></li>\n",
    "   <li> <a href=\"https://www.programiz.com/python-programming/methods/built-in\">https://www.programiz.com/python-programming/methods/built-in</a></li>\n",
    "    </ul>\n",
    "</div>\n"
   ]
  },
  {
   "cell_type": "markdown",
   "metadata": {},
   "source": [
    "# Comparaciones y valores lógicos  <a id=\"booleans\"></a><a href=\"#index\"><i class=\"fa fa-list-alt\" aria-hidden=\"true\"></i></a>"
   ]
  },
  {
   "cell_type": "markdown",
   "metadata": {},
   "source": [
    "Comparar valores es fundamental en el control del flujo de ejecución: \n",
    "- la ejecución alternativa de sentencias, en las instrucciones condicionales\n",
    "- la ejecución repetitiva de sentencias, en los bucles\n",
    "\n",
    "Python tiene las comparaciones típicas de otros lenguajes de programación."
   ]
  },
  {
   "cell_type": "code",
   "execution_count": 16,
   "metadata": {},
   "outputs": [
    {
     "name": "stdout",
     "output_type": "stream",
     "text": [
      "False\n",
      "True\n",
      "True\n"
     ]
    }
   ],
   "source": [
    "# Igualdad:      3 == 2\n",
    "# Desigualdad:   3 != 2 (también con: not 3 == 2)\n",
    "# Mayor que:     3 >  2\n",
    "# Menor que:     3 <  2\n",
    "# Mayor o igual: 3 >= 2\n",
    "# Menor o igual: 3 <= 2\n",
    "print(3 == 2)\n",
    "print(3 != 2)\n",
    "print(3 > 2)"
   ]
  },
  {
   "cell_type": "markdown",
   "metadata": {},
   "source": [
    "Pero también otras no tan comunes en otros lenguajes."
   ]
  },
  {
   "cell_type": "code",
   "execution_count": 17,
   "metadata": {},
   "outputs": [
    {
     "data": {
      "text/plain": [
       "True"
      ]
     },
     "execution_count": 17,
     "metadata": {},
     "output_type": "execute_result"
    }
   ],
   "source": [
    "5 > 4 > 1 # secuencia decreciente"
   ]
  },
  {
   "cell_type": "code",
   "execution_count": 18,
   "metadata": {},
   "outputs": [
    {
     "data": {
      "text/plain": [
       "True"
      ]
     },
     "execution_count": 18,
     "metadata": {},
     "output_type": "execute_result"
    }
   ],
   "source": [
    "-5 < -4 < -1 # secuencia creciente"
   ]
  },
  {
   "cell_type": "markdown",
   "metadata": {},
   "source": [
    "Además las comparaciones pueden combinarse con los operadores lógicos <i class=\"incode\">and</i>, <i class=\"incode\">or</i>, <i class=\"incode\">not</i>. "
   ]
  },
  {
   "cell_type": "code",
   "execution_count": 19,
   "metadata": {},
   "outputs": [
    {
     "name": "stdout",
     "output_type": "stream",
     "text": [
      "True\n",
      "False\n"
     ]
    }
   ],
   "source": [
    "val=18\n",
    "print(val>10 and val % 2 == 0)\n",
    "print((val % 5 == 1) or (val % 2 == 1))"
   ]
  },
  {
   "cell_type": "code",
   "execution_count": 20,
   "metadata": {},
   "outputs": [
    {
     "name": "stdout",
     "output_type": "stream",
     "text": [
      "False\n",
      "True\n",
      "True\n",
      "False\n",
      "False\n"
     ]
    }
   ],
   "source": [
    "print(True and False) \n",
    "print(True and True)    # True si los dos son True\n",
    "print(False or True)    \n",
    "print(False or False)   # False si los dos son False\n",
    "print(not True)"
   ]
  },
  {
   "cell_type": "markdown",
   "metadata": {},
   "source": [
    "<span class=\"label label-info\"><i class=\"fa fa-info-circle\" aria-hidden=\"true\"></i> Truco</span> Una comparación **`and`** sobre varios valores se puede hacer también con la función **`all`**."
   ]
  },
  {
   "cell_type": "code",
   "execution_count": 150,
   "metadata": {
    "scrolled": true
   },
   "outputs": [
    {
     "name": "stdout",
     "output_type": "stream",
     "text": [
      "True\n",
      "True\n",
      "True\n",
      "False\n",
      "False\n"
     ]
    }
   ],
   "source": [
    "v1 = val>10           # True, 18 es mayor que 10\n",
    "v2 = val % 2 == 0     # True 18 es par\n",
    "v3 = False\n",
    "print(v1)\n",
    "print(v2)\n",
    "print(v1 and v2)\n",
    "print(v1 and v2 and v3)\n",
    "print(all([v1, v2, v3]))"
   ]
  },
  {
   "cell_type": "markdown",
   "metadata": {},
   "source": [
    "<span class=\"label label-info\"><i class=\"fa fa-info-circle\" aria-hidden=\"true\"></i> Truco</span> Una comparación **`or`** sobre varios valores se puede hacer también con la función **`any`**."
   ]
  },
  {
   "cell_type": "code",
   "execution_count": 22,
   "metadata": {
    "scrolled": true
   },
   "outputs": [
    {
     "name": "stdout",
     "output_type": "stream",
     "text": [
      "True\n",
      "True\n"
     ]
    }
   ],
   "source": [
    "v1 = val>10\n",
    "v2 = val % 2 == 0\n",
    "v3 = True\n",
    "print(v1 or v2 or v3)\n",
    "print(any([v1, v2, v3]))"
   ]
  },
  {
   "cell_type": "code",
   "execution_count": 23,
   "metadata": {},
   "outputs": [
    {
     "name": "stdout",
     "output_type": "stream",
     "text": [
      "True\n",
      "False\n",
      "False\n",
      "False\n"
     ]
    }
   ],
   "source": [
    "print(all([True, True, True, True]))           # combinación con and, todos deben ser True\n",
    "print(all([True, True, False, True]))\n",
    "print(any([False, False, False, False]))       # combinación con or, basta si uno es True\n",
    "print(all([True, True, False, True]))"
   ]
  },
  {
   "cell_type": "markdown",
   "metadata": {},
   "source": [
    "# Cadenas &mdash; datos textuales   <a id=\"strings\"></a><a href=\"#index\"><i class=\"fa fa-list-alt\" aria-hidden=\"true\"></i></a>\n",
    "\n",
    "Las <i class=\"concept\">cadenas</i> son el tipo de datos utilizado para las secuencias de caracteres, su sintaxis más habitual es la secuencia de caracteres delimitada por comillas simples o dobles.\n"
   ]
  },
  {
   "cell_type": "markdown",
   "metadata": {},
   "source": [
    "## Ejemplos básicos"
   ]
  },
  {
   "cell_type": "code",
   "execution_count": 153,
   "metadata": {},
   "outputs": [
    {
     "name": "stdout",
     "output_type": "stream",
     "text": [
      "¡Hola mundo!\n"
     ]
    }
   ],
   "source": [
    "mi_mensaje = \"¡Hola mundo!\" \n",
    "print(mi_mensaje)"
   ]
  },
  {
   "cell_type": "code",
   "execution_count": 151,
   "metadata": {},
   "outputs": [
    {
     "name": "stdout",
     "output_type": "stream",
     "text": [
      "En un lugar\n",
      "de La Mancha de cuyo\n",
      "nombre no quiero acordarme vivía ...\n",
      "69\n"
     ]
    }
   ],
   "source": [
    "mi_mensaje_largo = \"\"\"En un lugar\n",
    "de La Mancha de cuyo\n",
    "nombre no quiero acordarme vivía ...\"\"\"\n",
    "print(mi_mensaje_largo)\n",
    "print(len(mi_mensaje_largo)) "
   ]
  },
  {
   "cell_type": "code",
   "execution_count": 156,
   "metadata": {},
   "outputs": [
    {
     "name": "stdout",
     "output_type": "stream",
     "text": [
      "¡\n",
      "H\n",
      "!\n"
     ]
    }
   ],
   "source": [
    "# Se corresponde con el ejemplo del mensaje de: \"¡Hola mundo!\"\n",
    "print(mi_mensaje[0])  # en Python, los índices empiezan en 0\n",
    "print(mi_mensaje[1])\n",
    "print(mi_mensaje[11])\n",
    "#print(mi_mensaje[41]) # ¡OJO! esta daría error, mi_mensaje no es tan largo. Prueba, quitando/borrando \"#\"."
   ]
  },
  {
   "cell_type": "code",
   "execution_count": 27,
   "metadata": {},
   "outputs": [
    {
     "name": "stdout",
     "output_type": "stream",
     "text": [
      "Juan dijo: \"Hola\"\n"
     ]
    }
   ],
   "source": [
    "# Se pueden combinar los dos tipos de comillas por comodidad.\n",
    "\n",
    "cadena = 'Juan dijo: \"Hola\"'\n",
    "print(cadena)"
   ]
  },
  {
   "cell_type": "markdown",
   "metadata": {},
   "source": [
    "<div class=\"alert alert-info\">\n",
    "   <i style=\"font-size: larger;\" class=\"fa fa-info-circle\" aria-hidden=\"true\"></i> El comando <kbd>help</kbd> también puede utilizarse para obtener ayuda sobre tipos de datos.\n",
    "</div>\n"
   ]
  },
  {
   "cell_type": "markdown",
   "metadata": {},
   "source": [
    "## Rebanado de cadenas (<em class=\"concept\">String slicing</em>) (<span style=\"color:red;text-transform: uppercase;\">opcional</span>)\n",
    "\n",
    "El <em class=\"concept\">rebanado de cadenas</em> (aplicable también a las listas que se verán <a href=\"#lists\">más adelante</a>) consiste en obtener una subcadena utilizando los índices de inicio y fin de la porción que quiere extraerse; adicionalmente se puede indicar un paso para extraer una subsecuencia. \n",
    "\n",
    "\n",
    "El funcionamiento varía según los argumentos:\n",
    "- `[num:]` Desde num hasta el final\n",
    "- `[:num]` Desde el principio hasta num\n",
    "- `[num1:num2]` Desde num1 hasta num2\n",
    "- `[num1:num2:num3]` Desde num1 hasta num2 a intervalos de num3\n",
    "- `[::num]` Desde el principio hasta el final a intervalos de num\n"
   ]
  },
  {
   "cell_type": "code",
   "execution_count": 29,
   "metadata": {},
   "outputs": [
    {
     "name": "stdout",
     "output_type": "stream",
     "text": [
      "a mun\n",
      "adLMc  ynb  iocdm\n"
     ]
    }
   ],
   "source": [
    "print(mi_mensaje[4:9]) \n",
    "inicio = 9\n",
    "fin = 60\n",
    "paso = 3\n",
    "print(mi_mensaje_largo[inicio:fin:paso])"
   ]
  },
  {
   "cell_type": "markdown",
   "metadata": {},
   "source": [
    "Se pueden omitir los índices del inicio, del final o ambos."
   ]
  },
  {
   "cell_type": "code",
   "execution_count": 1,
   "metadata": {},
   "outputs": [
    {
     "name": "stdout",
     "output_type": "stream",
     "text": [
      "0123456789\n",
      "012345678\n",
      "0123456\n",
      "0123456\n"
     ]
    }
   ],
   "source": [
    "dígitos = \"0123456789\"\n",
    "print(dígitos[0:10])\n",
    "print(dígitos[0:9])\n",
    "print(dígitos[0:7])\n",
    "print(dígitos[:7])"
   ]
  },
  {
   "cell_type": "code",
   "execution_count": 2,
   "metadata": {},
   "outputs": [
    {
     "name": "stdout",
     "output_type": "stream",
     "text": [
      "456789\n",
      "456789\n",
      "0123456789\n"
     ]
    }
   ],
   "source": [
    "print(dígitos[4:])\n",
    "print(dígitos[4:10])\n",
    "print(dígitos[:])"
   ]
  },
  {
   "cell_type": "markdown",
   "metadata": {},
   "source": [
    "También se pueden utilizar índices y pasos negativos."
   ]
  },
  {
   "cell_type": "code",
   "execution_count": 3,
   "metadata": {},
   "outputs": [
    {
     "name": "stdout",
     "output_type": "stream",
     "text": [
      "012345678\n",
      "34567\n"
     ]
    }
   ],
   "source": [
    "print(dígitos[:-1]) # -1 es la última posición\n",
    "print(dígitos[3:-2]) # -2 es la penúltima"
   ]
  },
  {
   "cell_type": "code",
   "execution_count": 5,
   "metadata": {},
   "outputs": [
    {
     "name": "stdout",
     "output_type": "stream",
     "text": [
      "\n"
     ]
    }
   ],
   "source": [
    "# Por que ese resultado? (fíjate también, en particular, en el ejemplo siguiente)\n",
    "print(dígitos[7:3])  "
   ]
  },
  {
   "cell_type": "code",
   "execution_count": 34,
   "metadata": {},
   "outputs": [
    {
     "name": "stdout",
     "output_type": "stream",
     "text": [
      "7654\n",
      "\n"
     ]
    }
   ],
   "source": [
    "# Por que ese resultado?\n",
    "\n",
    "print(dígitos[7:3:-1])\n",
    "print(dígitos[3:7:-1])"
   ]
  },
  {
   "cell_type": "code",
   "execution_count": 163,
   "metadata": {},
   "outputs": [
    {
     "name": "stdout",
     "output_type": "stream",
     "text": [
      "87654\n",
      "876\n"
     ]
    }
   ],
   "source": [
    "print(dígitos[-2:3:-1])\n",
    "print(dígitos[-2:-5:-1])"
   ]
  },
  {
   "cell_type": "markdown",
   "metadata": {},
   "source": [
    "## Métodos de cadenas\n",
    "Los <em class=\"concept\">métodos</em> son porciones de funcionalidad a las que se les da un nombre y se asocia con un objeto. Un <em class=\"concept\">objeto</em> es una entidad de código que agrupa variables (atributos) y\n",
    "funcionalidad (métodos). Son una forma de obtener valores y hacer operaciones sobre elementos."
   ]
  },
  {
   "cell_type": "code",
   "execution_count": 36,
   "metadata": {},
   "outputs": [
    {
     "name": "stdout",
     "output_type": "stream",
     "text": [
      "¡HOLA MUNDO!\n",
      "5\n"
     ]
    }
   ],
   "source": [
    "print(mi_mensaje.upper())\n",
    "print(mi_mensaje_largo.count(\"r\")) # cuenta el número de ocurrencias de \"r\""
   ]
  },
  {
   "cell_type": "code",
   "execution_count": 37,
   "metadata": {},
   "outputs": [
    {
     "name": "stdout",
     "output_type": "stream",
     "text": [
      "-1\n",
      "18\n"
     ]
    }
   ],
   "source": [
    "print(mi_mensaje_largo.find(\"mancha\"))\n",
    "print(mi_mensaje_largo.find(\"Mancha\"))"
   ]
  },
  {
   "cell_type": "code",
   "execution_count": 166,
   "metadata": {},
   "outputs": [
    {
     "name": "stdout",
     "output_type": "stream",
     "text": [
      "¡Buenos días mundo!\n"
     ]
    }
   ],
   "source": [
    "mi_nuevo_mensaje = mi_mensaje.replace(\"Hola\", \"Buenos días\")\n",
    "print(mi_nuevo_mensaje)"
   ]
  },
  {
   "cell_type": "markdown",
   "metadata": {},
   "source": [
    "<div class=\"alert alert-info\">\n",
    "   <i style=\"font-size: larger;\" class=\"fa fa-info-circle\" aria-hidden=\"true\"></i> Se puede utilizar el comando <kbd>dir</kbd> para obtener los métodos asociados a un objeto.\n",
    "</div>\n"
   ]
  },
  {
   "cell_type": "markdown",
   "metadata": {},
   "source": [
    "## Formateado de cadenas (<span style=\"color:red;text-transform: uppercase;\">opcional</span>)\n",
    "\n",
    "El formateo de cadenas es la manera más moderna y elegante de combinar cadenas con los valores de otras variables.\n",
    "\n",
    "La forma menos elegante es simplemente concatenar cadenas con el operador `+`, si es necesario podemos hacer un cambio de tipo con `str()`"
   ]
  },
  {
   "cell_type": "code",
   "execution_count": 169,
   "metadata": {},
   "outputs": [
    {
     "name": "stdout",
     "output_type": "stream",
     "text": [
      "Buenos díasPedro Latorre\n",
      "Buenos días,Pedro Latorre\n"
     ]
    }
   ],
   "source": [
    "print(\"Buenos días\" \"Pedro Latorre\")\n",
    "saludo = \"Buenos días,\"\n",
    "nombre = \"Pedro Latorre\"\n",
    "mi_mensaje = saludo + nombre\n",
    "print(mi_mensaje) # Ojo con los espacios cuando se concatenan cadenas"
   ]
  },
  {
   "cell_type": "code",
   "execution_count": 172,
   "metadata": {},
   "outputs": [
    {
     "name": "stdout",
     "output_type": "stream",
     "text": [
      "Buenos días, Pedro Latorre ¿Has dormido bien?\n"
     ]
    }
   ],
   "source": [
    "mi_mensaje = saludo + \" \" + nombre + \" ¿Has dormido bien?\"\n",
    "print(mi_mensaje)"
   ]
  },
  {
   "cell_type": "markdown",
   "metadata": {},
   "source": [
    "Con el formateo de cadenas sustituimos las llaves por los argumentos del `format`.\n",
    "- La sustitución puede ser por posición (el valor n-esimo en el hueco n-esimo)\n",
    "- La sustitución puede ser por nombre.\n",
    "- La sustitución puede ser por posición, pero indicando explicitamente la posición del valor que se quiere incluir."
   ]
  },
  {
   "cell_type": "code",
   "execution_count": 42,
   "metadata": {},
   "outputs": [
    {
     "name": "stdout",
     "output_type": "stream",
     "text": [
      "Buenos días César, ¿has dormido bien?\n",
      "Buenos días César, ¿has dormido bien?\n"
     ]
    }
   ],
   "source": [
    "mi_mensaje = \"{} {}, ¿has dormido bien?\".format(saludo, nombre)\n",
    "print(mi_mensaje)\n",
    "mi_mensaje = \"{saludo} {nombre}, ¿has dormido bien?\".format(saludo=saludo, nombre=nombre)\n",
    "print(mi_mensaje)"
   ]
  },
  {
   "cell_type": "markdown",
   "metadata": {},
   "source": [
    "<div class=\"alert alert-info\">\n",
    "   <i style=\"font-size: larger;\" class=\"fa fa-info-circle\" aria-hidden=\"true\"></i> Más información sobre el formateado avanzado en: https://docs.python.org/3/library/datetime.html#strftime-and-strptime-behavior\n",
    "</div>\n"
   ]
  },
  {
   "cell_type": "markdown",
   "metadata": {},
   "source": [
    "# Listas, tuplas y conjuntos &mdash; colecciones de datos   <a id=\"lists\"></a><a href=\"#index\"><i class=\"fa fa-list-alt\" aria-hidden=\"true\"></i></a>\n",
    "\n",
    "* [Listas](#listas)\n",
    "    - [Rebanado de listas](#listsSlicing)\n",
    "    - [Otras operaciones con listas](#otherOpsOnList)\n",
    "    - [Listas por comprensión](#listsComprehension)\n",
    "    - [Copia de listas](#listsCopy)\n",
    "* [Tuplas](#tuples)\n",
    "* [Conjuntos](#sets)\n",
    "    - [Operaciones sobre conjuntos](#setsOperators)\n",
    "    - [Conjuntos vacíos](#emptySets)"
   ]
  },
  {
   "cell_type": "markdown",
   "metadata": {},
   "source": [
    "## Listas <a id=\"listas\"></a>"
   ]
  },
  {
   "cell_type": "markdown",
   "metadata": {},
   "source": [
    "Una <i class=\"concept\">lista</i> es una colección **mutable** de elementos (no necesariamente del mismo tipo) en las que el orden es relevante. Se delimitan con corchetes y sus elementos se separan por comas."
   ]
  },
  {
   "cell_type": "code",
   "execution_count": 173,
   "metadata": {
    "scrolled": true
   },
   "outputs": [
    {
     "name": "stdout",
     "output_type": "stream",
     "text": [
      "['Nilo', 'Arlanza', 'Cerezo', 'Pico', 'Vena']\n",
      "5\n"
     ]
    }
   ],
   "source": [
    "ríos = [\"Nilo\", \"Arlanza\", \"Cerezo\", \"Pico\", \"Vena\"]\n",
    "print(ríos)\n",
    "print(len(ríos))"
   ]
  },
  {
   "cell_type": "markdown",
   "metadata": {},
   "source": [
    "Se puede acceder a los elementos de una lista utilizando un índice (<span class=\"label label-danger\"><i class=\"fa fa-bomb\" aria-hidden=\"true\"></i> ¡Cuidado!</span> Hay que tener en cuenta que el índice del primer elemento es 0, no 1 como en otros lenguajes de programación)."
   ]
  },
  {
   "cell_type": "code",
   "execution_count": 51,
   "metadata": {},
   "outputs": [
    {
     "name": "stdout",
     "output_type": "stream",
     "text": [
      "Arlanza\n",
      "Vena\n",
      "Vena\n"
     ]
    }
   ],
   "source": [
    "print(ríos[1]) # => 'Arlanza', dado que los índices empiezan en 0\n",
    "print(ríos[len(ríos)-1]) # Para obtener el último de los elementos\n",
    "print(ríos[-1])"
   ]
  },
  {
   "cell_type": "markdown",
   "metadata": {},
   "source": [
    "<span class=\"label label-danger\"><i class=\"fa fa-bomb\" aria-hidden=\"true\"></i> ¡Cuidado!</span> Utilizar un índice mayor o igual que la longitud de la lista dará un error. "
   ]
  },
  {
   "cell_type": "code",
   "execution_count": 52,
   "metadata": {},
   "outputs": [],
   "source": [
    "#print(ríos[11]) # => Error! index out of range"
   ]
  },
  {
   "cell_type": "markdown",
   "metadata": {},
   "source": [
    "Se pueden añadir elementos al final de una lista con el método `append`."
   ]
  },
  {
   "cell_type": "code",
   "execution_count": 174,
   "metadata": {},
   "outputs": [
    {
     "name": "stdout",
     "output_type": "stream",
     "text": [
      "['Nilo', 'Arlanza', 'Cerezo', 'Pico', 'Vena', 'Duero']\n"
     ]
    }
   ],
   "source": [
    "ríos.append(\"Duero\")\n",
    "print(ríos)"
   ]
  },
  {
   "cell_type": "markdown",
   "metadata": {},
   "source": [
    "Se pueden insertar elementos en posiciones arbitrarias con el método `insert`."
   ]
  },
  {
   "cell_type": "code",
   "execution_count": 54,
   "metadata": {},
   "outputs": [
    {
     "name": "stdout",
     "output_type": "stream",
     "text": [
      "['Nilo', 'Arlanza', 'Cerezo', 'Pico', 'Vena', 'Duero']\n",
      "['Colorado', 'Nilo', 'Arlanza', 'Cerezo', 'Pico', 'Vena', 'Duero']\n"
     ]
    }
   ],
   "source": [
    "antes_de_esta_posición = 0\n",
    "print(ríos)\n",
    "ríos.insert(antes_de_esta_posición, \"Colorado\")\n",
    "print(ríos)"
   ]
  },
  {
   "cell_type": "code",
   "execution_count": 55,
   "metadata": {
    "scrolled": false
   },
   "outputs": [
    {
     "name": "stdout",
     "output_type": "stream",
     "text": [
      "['Colorado', 'Nilo', 'Arlanza', 'Cerezo', 'Pico', 'Vena', 'Duero']\n",
      "['Colorado', 'Nilo', 'Arlanza', 'Danubio', 'Cerezo', 'Pico', 'Vena', 'Duero']\n"
     ]
    }
   ],
   "source": [
    "antes_de_esta_posición = 3\n",
    "print(ríos)\n",
    "ríos.insert(antes_de_esta_posición, \"Danubio\")\n",
    "print(ríos)"
   ]
  },
  {
   "cell_type": "markdown",
   "metadata": {},
   "source": [
    "<span class=\"label label-danger\"><i class=\"fa fa-bomb\" aria-hidden=\"true\"></i> ¡Cuidado!</span> Si lo que se inserta es a su vez una lista, la lista insertada aparece como nuevo elemento (recuerda, los elementos de una lista pueden ser de tipos arbitrarios, incluidas las listas)."
   ]
  },
  {
   "cell_type": "code",
   "execution_count": 56,
   "metadata": {
    "scrolled": true
   },
   "outputs": [
    {
     "name": "stdout",
     "output_type": "stream",
     "text": [
      "['Nilo', 'Arlanza', 'Cerezo', 'Pico', 'Vena']\n",
      "['Nilo', 'Arlanza', ['Danubio', 'Ebro'], 'Cerezo', 'Pico', 'Vena']\n"
     ]
    }
   ],
   "source": [
    "ríos = [\"Nilo\", \"Arlanza\", \"Cerezo\", \"Pico\", \"Vena\" ]\n",
    "más_ríos = [\"Danubio\", \"Ebro\" ]\n",
    "print(ríos)\n",
    "ríos.insert(2, más_ríos)\n",
    "print(ríos)"
   ]
  },
  {
   "cell_type": "code",
   "execution_count": 57,
   "metadata": {},
   "outputs": [
    {
     "name": "stdout",
     "output_type": "stream",
     "text": [
      "['Nilo', 'Arlanza', 'Cerezo', 'Pico', 'Vena', 'Oca', 'Danubio', 'Ebro', 'Guadalmedina', 'Eo']\n"
     ]
    }
   ],
   "source": [
    "# El operador + concatena listas\n",
    "ríos = [\"Nilo\", \"Arlanza\", \"Cerezo\", \"Pico\", \"Vena\" ]\n",
    "más_ríos = [\"Oca\", \"Danubio\", \"Ebro\", \"Guadalmedina\", \"Eo\" ]\n",
    "ríos += más_ríos\n",
    "print(ríos)"
   ]
  },
  {
   "cell_type": "markdown",
   "metadata": {},
   "source": [
    "<div class=\"alert alert-danger\">\n",
    "   <i style=\"color: #a94442; font-size: larger\" class=\"fa fa-warning\" aria-hidden=\"true\"> IMPORTANTE: El operador <kbd>+</kbd> concatena listas, el método <kbd>.insert</kbd> inserta un nuevo elemento, si éste es una lista, la lista aparece dentro de la otra lista.\n",
    "</div>"
   ]
  },
  {
   "cell_type": "markdown",
   "metadata": {},
   "source": [
    "Si tenemos una lista de números, podemos usar sus elementos (función `sum`), o encontrar el máximo (función `max`), o encontrar el mínimo (función `min`). <span class=\"label label-danger\"><i class=\"fa fa-bomb\" aria-hidden=\"true\"></i> ¡Cuidado!</span>\n",
    "Las funciones `max` y `min` funcionan tanto si se les pasa un número variables de argumentos, como si se les pasa una colección, pero la función `sum` sólo funciona cuando se le pasa como único argumento una colección."
   ]
  },
  {
   "cell_type": "code",
   "execution_count": 58,
   "metadata": {
    "scrolled": true
   },
   "outputs": [
    {
     "name": "stdout",
     "output_type": "stream",
     "text": [
      "23\n",
      "9\n",
      "2\n"
     ]
    }
   ],
   "source": [
    "nums = [5, 7, 9, 2]\n",
    "print(sum(nums))\n",
    "print(max(nums))\n",
    "print(min(nums))"
   ]
  },
  {
   "cell_type": "markdown",
   "metadata": {},
   "source": [
    "<div class=\"alert alert-info\">\n",
    "   <i style=\"font-size: larger;\" class=\"fa fa-info-circle\" aria-hidden=\"true\"></i> Podemos comprobar si un elemento está dentro de una lista (o dentro de cualquier colección) utilizando el operador `in`.\n",
    "</div>\n"
   ]
  },
  {
   "cell_type": "code",
   "execution_count": 59,
   "metadata": {},
   "outputs": [
    {
     "name": "stdout",
     "output_type": "stream",
     "text": [
      "True\n",
      "False\n"
     ]
    }
   ],
   "source": [
    "print(\"Cerezo\" in ríos)\n",
    "print(\"Bernesga\" in ríos)"
   ]
  },
  {
   "cell_type": "markdown",
   "metadata": {},
   "source": [
    "<div class=\"alert alert-info\">\n",
    "   <i style=\"font-size: larger;\" class=\"fa fa-info-circle\" aria-hidden=\"true\"></i> Ya hemos visto por tanto ejemplos de los tres conceptos <i class=\"concept\">método</i>, <i class=\"concept\">función</i> y <i class=\"concept\">operador</i>.\n",
    "</div>\n"
   ]
  },
  {
   "cell_type": "markdown",
   "metadata": {},
   "source": [
    "### Rebanado de listas <a id=\"listsSlicing\"></a>\n",
    "El rebanado de listas (aplicable también a cadenas) consiste en obtener una sublista utilizando los índices de inicio y fin de los elementos que quiere extraerse; adicionalmente se puede indicar un paso para extraer elementos no consecutivos."
   ]
  },
  {
   "cell_type": "code",
   "execution_count": 60,
   "metadata": {},
   "outputs": [
    {
     "name": "stdout",
     "output_type": "stream",
     "text": [
      "[3, 4, 5, 6, 7]\n",
      "[1, 3, 5, 7]\n"
     ]
    }
   ],
   "source": [
    "# La misma idea que con las cadenas de texto\n",
    "\n",
    "una_lista = [0, 1, 2, 3, 4, 5, 6, 7, 8, 9]\n",
    "\n",
    "print(una_lista[3:8])\n",
    "print(una_lista[1:9:2])"
   ]
  },
  {
   "cell_type": "markdown",
   "metadata": {},
   "source": [
    "Se pueden omitir los índices del inicio, del final o ambos."
   ]
  },
  {
   "cell_type": "code",
   "execution_count": 61,
   "metadata": {},
   "outputs": [
    {
     "name": "stdout",
     "output_type": "stream",
     "text": [
      "[6, 7, 8, 9]\n",
      "[0, 1, 2, 3]\n",
      "[0, 1, 2, 3, 4, 5, 6, 7, 8, 9]\n",
      "[0, 3, 6, 9]\n"
     ]
    }
   ],
   "source": [
    "print(una_lista[6:])\n",
    "print(una_lista[:4])\n",
    "print(una_lista[:]) # Devuelve la lista entera, se puede usar para hacer copias.\n",
    "print(una_lista[::3]) "
   ]
  },
  {
   "cell_type": "markdown",
   "metadata": {},
   "source": [
    "También se pueden utilizar índices y pasos negativos."
   ]
  },
  {
   "cell_type": "code",
   "execution_count": 62,
   "metadata": {
    "scrolled": false
   },
   "outputs": [
    {
     "name": "stdout",
     "output_type": "stream",
     "text": [
      "[6, 7, 8, 9]\n",
      "[3, 4, 5, 6, 7]\n",
      "[3, 4, 5, 6, 7]\n",
      "[3, 4, 5, 6, 7]\n",
      "[0, 1, 2, 3]\n",
      "[2, 4, 6, 8]\n",
      "[]\n",
      "[9, 8, 7, 6, 5, 4, 3]\n",
      "[9, 8, 7, 6, 5, 4, 3, 2, 1, 0]\n"
     ]
    }
   ],
   "source": [
    "print(una_lista[-4:])\n",
    "print(una_lista[-7:-2])\n",
    "print(una_lista[3:-2])\n",
    "print(una_lista[-7:8])\n",
    "print(una_lista[:-6])\n",
    "print(una_lista[2:-1:2])\n",
    "print(una_lista[2:-1:-1]) # => []\n",
    "print(una_lista[-1:2:-1]) \n",
    "print(una_lista[::-1]) "
   ]
  },
  {
   "cell_type": "markdown",
   "metadata": {},
   "source": [
    "### Otras operaciones con listas (<span style=\"color:red;text-transform: uppercase;\">opcional</span>) <a id=\"otherOpsOnList\"></a> "
   ]
  },
  {
   "cell_type": "code",
   "execution_count": 63,
   "metadata": {},
   "outputs": [
    {
     "name": "stdout",
     "output_type": "stream",
     "text": [
      "['Nilo', 'Arlanza', 'Cerezo', 'Pico', 'Vena', 'Oca', 'Danubio', 'Ebro', 'Guadalmedina', 'Eo']\n",
      "['Eo', 'Guadalmedina', 'Ebro', 'Danubio', 'Oca', 'Vena', 'Pico', 'Cerezo', 'Arlanza', 'Nilo']\n"
     ]
    }
   ],
   "source": [
    "print(ríos)\n",
    "ríos.reverse()\n",
    "print(ríos)"
   ]
  },
  {
   "cell_type": "code",
   "execution_count": 64,
   "metadata": {},
   "outputs": [
    {
     "name": "stdout",
     "output_type": "stream",
     "text": [
      "['Nilo', 'Arlanza', 'Cerezo', 'Pico', 'Vena', 'Oca', 'Danubio', 'Ebro', 'Guadalmedina', 'Eo']\n"
     ]
    }
   ],
   "source": [
    "print(ríos[::-1])"
   ]
  },
  {
   "cell_type": "code",
   "execution_count": 65,
   "metadata": {},
   "outputs": [
    {
     "name": "stdout",
     "output_type": "stream",
     "text": [
      "['Eo', 'Guadalmedina', 'Ebro', 'Danubio', 'Oca', 'Vena', 'Pico', 'Cerezo', 'Arlanza', 'Nilo']\n",
      "['Arlanza', 'Cerezo', 'Danubio', 'Ebro', 'Eo', 'Guadalmedina', 'Nilo', 'Oca', 'Pico', 'Vena']\n",
      "['Eo', 'Guadalmedina', 'Ebro', 'Danubio', 'Oca', 'Vena', 'Pico', 'Cerezo', 'Arlanza', 'Nilo']\n"
     ]
    }
   ],
   "source": [
    "print(ríos)\n",
    "res = sorted(ríos)\n",
    "print(res)\n",
    "print(ríos) # La lista original no se ve afectada"
   ]
  },
  {
   "cell_type": "code",
   "execution_count": 66,
   "metadata": {},
   "outputs": [
    {
     "name": "stdout",
     "output_type": "stream",
     "text": [
      "['Arlanza', 'Cerezo', 'Danubio', 'Ebro', 'Eo', 'Guadalmedina', 'Nilo', 'Oca', 'Pico', 'Vena']\n",
      "None\n"
     ]
    }
   ],
   "source": [
    "res = ríos.sort() \n",
    "print(ríos) # Se ordena la lista original \n",
    "print(res)  # El valor devuelto es None"
   ]
  },
  {
   "cell_type": "code",
   "execution_count": 67,
   "metadata": {},
   "outputs": [
    {
     "name": "stdout",
     "output_type": "stream",
     "text": [
      "['Vena', 'Pico', 'Oca', 'Nilo', 'Guadalmedina', 'Eo', 'Ebro', 'Danubio', 'Cerezo', 'Arlanza']\n",
      "['Eo', 'Oca', 'Vena', 'Pico', 'Nilo', 'Ebro', 'Cerezo', 'Danubio', 'Arlanza', 'Guadalmedina']\n"
     ]
    }
   ],
   "source": [
    "ríos.sort(reverse=True)\n",
    "print(ríos)\n",
    "print(sorted(ríos, key=len))"
   ]
  },
  {
   "cell_type": "code",
   "execution_count": 69,
   "metadata": {},
   "outputs": [
    {
     "name": "stdout",
     "output_type": "stream",
     "text": [
      "['Danubio', 'Ebro', 'Oca', 'Vena', 'Cerezo', 'Pico', 'Nilo', 'Eo', 'Arlanza', 'Guadalmedina']\n",
      "['Danubio', 'Ebro', 'Oca', 'Vena', 'Cerezo', 'Nilo', 'Eo', 'Arlanza', 'Guadalmedina']\n"
     ]
    }
   ],
   "source": [
    "ríos = ['Danubio', 'Ebro', 'Oca', 'Vena', 'Cerezo', 'Pico', 'Nilo', 'Eo', 'Arlanza', 'Guadalmedina']\n",
    "print(ríos)\n",
    "ríos.remove(\"Pico\")\n",
    "print(ríos)"
   ]
  },
  {
   "cell_type": "code",
   "execution_count": 70,
   "metadata": {},
   "outputs": [
    {
     "name": "stdout",
     "output_type": "stream",
     "text": [
      "['Danubio', 'Ebro', 'Oca', 'Vena', 'Cerezo', 'Nilo', 'Eo', 'Arlanza', 'Guadalmedina']\n",
      "['Danubio', 'Ebro', 'Oca', 'Vena', 'Cerezo', 'Nilo', 'Eo', 'Arlanza']\n"
     ]
    }
   ],
   "source": [
    "print(ríos)\n",
    "ríos.pop()\n",
    "print(ríos)"
   ]
  },
  {
   "cell_type": "code",
   "execution_count": 71,
   "metadata": {},
   "outputs": [
    {
     "name": "stdout",
     "output_type": "stream",
     "text": [
      "['Danubio', 'Ebro', 'Oca', 'Vena', 'Cerezo', 'Nilo', 'Eo', 'Arlanza']\n",
      "['Danubio', 'Ebro', 'Oca', 'Vena', 'Cerezo', 'Nilo', 'Eo']\n",
      "Arlanza\n"
     ]
    }
   ],
   "source": [
    "print(ríos)\n",
    "un_río = ríos.pop()\n",
    "print(ríos)\n",
    "print(un_río)"
   ]
  },
  {
   "cell_type": "code",
   "execution_count": 72,
   "metadata": {},
   "outputs": [],
   "source": [
    "#[].pop() # => pop de lista vacía, SyntaxError"
   ]
  },
  {
   "cell_type": "code",
   "execution_count": 73,
   "metadata": {},
   "outputs": [
    {
     "name": "stdout",
     "output_type": "stream",
     "text": [
      "4\n"
     ]
    }
   ],
   "source": [
    "print(ríos.index(\"Cerezo\"))"
   ]
  },
  {
   "cell_type": "markdown",
   "metadata": {},
   "source": [
    "### Listas por comprensión (<span style=\"color:red;text-transform: uppercase;\">opcional</span>) <a id=\"listsComprehension\"></a> "
   ]
  },
  {
   "cell_type": "markdown",
   "metadata": {},
   "source": [
    "<div class=\"alert alert-info\">\n",
    "   <i style=\"font-size: larger;\" class=\"fa fa-info-circle\" aria-hidden=\"true\"></i> La definición de listas por compresión es una de las características más potentes de Python. Entender su funcionamiento puede ayudarnos a simplificar enormemente nuestro código. \n",
    "</div>\n"
   ]
  },
  {
   "cell_type": "code",
   "execution_count": 175,
   "metadata": {},
   "outputs": [
    {
     "name": "stdout",
     "output_type": "stream",
     "text": [
      "[50, 20, 70, 80, 90, 40]\n",
      "[50, 70, 90]\n",
      "[20, 80, 40]\n"
     ]
    }
   ],
   "source": [
    "nums = [5, 2, 7, 8, 9, 4]\n",
    "print([ n*10 for n in nums ])\n",
    "print([ n*10 for n in nums if n%2 ]) # Si el resto da \"cero\", es lo mismo que considerar la opción \"false\".\n",
    "print([ n*10 for n in nums if not n%2 ])"
   ]
  },
  {
   "cell_type": "code",
   "execution_count": 75,
   "metadata": {},
   "outputs": [
    {
     "name": "stdout",
     "output_type": "stream",
     "text": [
      "[(0, 'Arlanza'), (1, 'Cerezo'), (2, 'Nilo'), (3, 'Pico'), (4, 'Vena')]\n",
      "[(1, 'Arlanza'), (2, 'Cerezo'), (3, 'Nilo'), (4, 'Pico'), (5, 'Vena')]\n",
      "1. Arlanza\n",
      "2. Cerezo\n",
      "3. Nilo\n",
      "4. Pico\n",
      "5. Vena\n"
     ]
    },
    {
     "data": {
      "text/plain": [
       "['Hola', 'que', 'tal', 'estás']"
      ]
     },
     "execution_count": 75,
     "metadata": {},
     "output_type": "execute_result"
    }
   ],
   "source": [
    "ríos = [\"Nilo\", \"Arlanza\", \"Cerezo\", \"Pico\", \"Vena\" ]\n",
    "print([ (n, r) for n, r in enumerate(sorted(ríos)) ])\n",
    "print([ (n, r) for n, r in enumerate(sorted(ríos), start=1) ])\n",
    "print('\\n'.join([ str(n) + '. ' + r for n, r in enumerate(sorted(ríos), start=1) ]))\n",
    "\n",
    "\"Hola que tal estás\".split(' ')"
   ]
  },
  {
   "cell_type": "markdown",
   "metadata": {},
   "source": [
    "<div class=\"alert alert-info\">\n",
    "   <i style=\"font-size: larger;\" class=\"fa fa-info-circle\" aria-hidden=\"true\"></i> <kbd>enumerate</kbd> se aplica a una lista (en general a un objeto iterable) para poder obtener una secuencia de pares constituidos por los elementos de la lista junto con el orden de éstos.\n",
    "</div>\n"
   ]
  },
  {
   "cell_type": "markdown",
   "metadata": {},
   "source": [
    "<div class=\"alert alert-info\">\n",
    "   <i style=\"font-size: larger;\" class=\"fa fa-info-circle\" aria-hidden=\"true\"></i> Un <i class=\"concept\">iterable</i> es un objeto que devuelve un iterador, un <i class=\"concept\">iterador</i> es un objeto que tiene un método <kbd>&lowbar;&lowbar;next&lowbar;&lowbar;</kbd> que con cada invocación devuelve un elemento del iterable en secuencia.\n",
    "</div>\n"
   ]
  },
  {
   "cell_type": "code",
   "execution_count": 76,
   "metadata": {},
   "outputs": [
    {
     "name": "stdout",
     "output_type": "stream",
     "text": [
      "Help on class enumerate in module builtins:\n",
      "\n",
      "class enumerate(object)\n",
      " |  enumerate(iterable, start=0)\n",
      " |  \n",
      " |  Return an enumerate object.\n",
      " |  \n",
      " |    iterable\n",
      " |      an object supporting iteration\n",
      " |  \n",
      " |  The enumerate object yields pairs containing a count (from start, which\n",
      " |  defaults to zero) and a value yielded by the iterable argument.\n",
      " |  \n",
      " |  enumerate is useful for obtaining an indexed list:\n",
      " |      (0, seq[0]), (1, seq[1]), (2, seq[2]), ...\n",
      " |  \n",
      " |  Methods defined here:\n",
      " |  \n",
      " |  __getattribute__(self, name, /)\n",
      " |      Return getattr(self, name).\n",
      " |  \n",
      " |  __iter__(self, /)\n",
      " |      Implement iter(self).\n",
      " |  \n",
      " |  __next__(self, /)\n",
      " |      Implement next(self).\n",
      " |  \n",
      " |  __reduce__(...)\n",
      " |      Return state information for pickling.\n",
      " |  \n",
      " |  ----------------------------------------------------------------------\n",
      " |  Static methods defined here:\n",
      " |  \n",
      " |  __new__(*args, **kwargs) from builtins.type\n",
      " |      Create and return a new object.  See help(type) for accurate signature.\n",
      "\n"
     ]
    }
   ],
   "source": [
    "help(enumerate)"
   ]
  },
  {
   "cell_type": "markdown",
   "metadata": {},
   "source": [
    "### La copia de listas <a id=\"listsCopy\"></a>  (<span style=\"color:red;text-transform: uppercase;\">OJO</span>) "
   ]
  },
  {
   "cell_type": "markdown",
   "metadata": {},
   "source": [
    "Veamos lo que ocurre con la copia de listas.\n",
    "\n",
    "\n",
    "Al asignar una lista a otra variable no se hace una copia, sino que la nueva variable apunta a la misma posición de memoria.\n",
    "\n",
    "**¡OJO!**: Si modificamos la lista, se modifica el valor de la nueva variable, puesto que apunta a la misma posición de memoria."
   ]
  },
  {
   "cell_type": "code",
   "execution_count": 77,
   "metadata": {},
   "outputs": [
    {
     "name": "stdout",
     "output_type": "stream",
     "text": [
      "[1, 2]\n",
      "[1, 2]\n",
      "2\n",
      "[10, 2]\n",
      "[10, 2]\n"
     ]
    }
   ],
   "source": [
    "lista1 = [1,2]\n",
    "lista2 = lista1\n",
    "\n",
    "print(lista1)\n",
    "print(lista2)\n",
    "print(lista2[1])\n",
    "lista1[0] = 10\n",
    "print(lista1)\n",
    "print(lista2)"
   ]
  },
  {
   "cell_type": "markdown",
   "metadata": {},
   "source": [
    "<span class=\"label label-warning\"><i class=\"fa fa-warning\" aria-hidden=\"true\"></i> ¡Cuidado!</span> La copia de listas es ligeramente más complicada que los ejemplos que hemos visto. "
   ]
  },
  {
   "cell_type": "code",
   "execution_count": 177,
   "metadata": {},
   "outputs": [
    {
     "name": "stdout",
     "output_type": "stream",
     "text": [
      "[1, 2]\n",
      "[1, 2]\n",
      "2\n",
      "[10, 2]\n",
      "[1, 2]\n"
     ]
    }
   ],
   "source": [
    "# Aquí, lo que vemos es que aunque modifiquemos algún elemento de \"lista1\", \"lista2\" no se ve modificado.\n",
    "\n",
    "lista1 = [1,2]\n",
    "lista2 = lista1[:]\n",
    "\n",
    "print(lista1)\n",
    "print(lista2)\n",
    "print(lista2[1])\n",
    "lista1[0] = 10\n",
    "print(lista1)\n",
    "print(lista2)"
   ]
  },
  {
   "cell_type": "markdown",
   "metadata": {},
   "source": [
    "<div class=\"alert alert-info\">\n",
    "   <i style=\"font-size: larger;\" class=\"fa fa-info-circle\" aria-hidden=\"true\"></i> Para entender mejor lo que está ocurriendo, probar los ejemplos anteriores en el [Python Tutor](http://www.pythontutor.com/).\n",
    "</div>\n"
   ]
  },
  {
   "cell_type": "code",
   "execution_count": 79,
   "metadata": {
    "scrolled": false
   },
   "outputs": [
    {
     "data": {
      "text/html": [
       "<style>.output_wrapper,.output{height:auto !important;max-height:360px;}.output_scroll{box-shadow:none !important;webkit-box-shadow:none !important;}</style>\n",
       "<iframe width=\"800\" height=\"350\" frameborder=\"0\" src=\"http://pythontutor.com/iframe-embed.html#code=lista1%20%3D%20%5B'Vena',%20%5B'Ebro'%5D%5D%0Alista2%20%3D%20lista1%5B%3A%5D%0Aprint%28lista1%29%0Aprint%28lista2%29%0Alista2%5B1%5D%5B0%5D%20%3D%20'El%20rio%20Ebro'%0Alista1%5B0%5D%20%3D%20'Pico'%0Aprint%28lista1%29%0Aprint%28lista2%29&codeDivHeight=400&codeDivWidth=350&cumulative=false&curInstr=8&heapPrimitives=false&origin=opt-frontend.js&py=3&rawInputLstJSON=%5B%5D&textReferences=false\">Hay problemas de conexión con <a href=\"https://goo.gl/kLfJsk\">el ejemplo en Python tutor</a></iframe>\n"
      ],
      "text/plain": [
       "<IPython.core.display.HTML object>"
      ]
     },
     "metadata": {},
     "output_type": "display_data"
    }
   ],
   "source": [
    "%%HTML\n",
    "<style>.output_wrapper,.output{height:auto !important;max-height:360px;}.output_scroll{box-shadow:none !important;webkit-box-shadow:none !important;}</style>\n",
    "<iframe width=\"800\" height=\"350\" frameborder=\"0\" src=\"http://pythontutor.com/iframe-embed.html#code=lista1%20%3D%20%5B'Vena',%20%5B'Ebro'%5D%5D%0Alista2%20%3D%20lista1%5B%3A%5D%0Aprint%28lista1%29%0Aprint%28lista2%29%0Alista2%5B1%5D%5B0%5D%20%3D%20'El%20rio%20Ebro'%0Alista1%5B0%5D%20%3D%20'Pico'%0Aprint%28lista1%29%0Aprint%28lista2%29&codeDivHeight=400&codeDivWidth=350&cumulative=false&curInstr=8&heapPrimitives=false&origin=opt-frontend.js&py=3&rawInputLstJSON=%5B%5D&textReferences=false\">Hay problemas de conexión con <a href=\"https://goo.gl/kLfJsk\">el ejemplo en Python tutor</a></iframe>"
   ]
  },
  {
   "cell_type": "markdown",
   "metadata": {},
   "source": [
    "<hr style=\"background-color: navy; border-top: 1px solid navy;\"/>\n",
    "Otro ejemplo más que ilustra la diferencia entre la copia superficial (<a href=\"https://en.wikipedia.org/wiki/Object_copying#Shallow_copy\" class=\"concept\">shallow copy</a>) y la copia profunda (<a href=\"https://en.wikipedia.org/wiki/Object_copying#Deep_copy\" class=\"concept\">deep copy</a>)."
   ]
  },
  {
   "cell_type": "code",
   "execution_count": 80,
   "metadata": {},
   "outputs": [
    {
     "data": {
      "text/html": [
       "<style>.output_wrapper,.output{height:auto !important;max-height:1000px;}.output_scroll{box-shadow:none !important;webkit-box-shadow:none !important;}</style>\n",
       "<iframe width=\"800\" height=\"720\" frameborder=\"0\" src=\"http://pythontutor.com/iframe-embed.html#code=l0%20%3D%20%5B1,%202%5D%0Al1%20%3D%20%5B%5B1,'a'%5D,%5B2,'b'%5D%5D%0Al2%20%3D%20l1%0Al3%20%3D%20l1%5B%3A%5D%0Aprint%28f%22l1%3A%20%7Bl1%7D,%20l3%3A%20%7Bl3%7D%5Cnl2%3A%20%7Bl2%7D%5Cn%22%29%0Al1%5B0%5D%3D1%0Aprint%28f%22l1%3A%20%7Bl1%7D,%20l3%3A%20%7Bl3%7D%5Cnl2%3A%20%7Bl2%7D%5Cn%22%29%0Al1%5B1%5D%5B0%5D%3D666%0Aprint%28f%22l1%3A%20%7Bl1%7D,%20l3%3A%20%7Bl3%7D%5Cnl2%3A%20%7Bl2%7D%5Cn%22%29%0Afrom%20copy%20import%20deepcopy%0Al4%20%3D%20deepcopy%28l3%29&codeDivHeight=400&codeDivWidth=350&cumulative=false&curInstr=11&heapPrimitives=false&origin=opt-frontend.js&py=3&rawInputLstJSON=%5B%5D&textReferences=false\">Hay problemas de conexión con <a href=\"https://goo.gl/VKZi5K\">el ejemplo en Python tutor</a></iframe>\n"
      ],
      "text/plain": [
       "<IPython.core.display.HTML object>"
      ]
     },
     "metadata": {},
     "output_type": "display_data"
    }
   ],
   "source": [
    "%%HTML\n",
    "<style>.output_wrapper,.output{height:auto !important;max-height:1000px;}.output_scroll{box-shadow:none !important;webkit-box-shadow:none !important;}</style>\n",
    "<iframe width=\"800\" height=\"720\" frameborder=\"0\" src=\"http://pythontutor.com/iframe-embed.html#code=l0%20%3D%20%5B1,%202%5D%0Al1%20%3D%20%5B%5B1,'a'%5D,%5B2,'b'%5D%5D%0Al2%20%3D%20l1%0Al3%20%3D%20l1%5B%3A%5D%0Aprint%28f%22l1%3A%20%7Bl1%7D,%20l3%3A%20%7Bl3%7D%5Cnl2%3A%20%7Bl2%7D%5Cn%22%29%0Al1%5B0%5D%3D1%0Aprint%28f%22l1%3A%20%7Bl1%7D,%20l3%3A%20%7Bl3%7D%5Cnl2%3A%20%7Bl2%7D%5Cn%22%29%0Al1%5B1%5D%5B0%5D%3D666%0Aprint%28f%22l1%3A%20%7Bl1%7D,%20l3%3A%20%7Bl3%7D%5Cnl2%3A%20%7Bl2%7D%5Cn%22%29%0Afrom%20copy%20import%20deepcopy%0Al4%20%3D%20deepcopy%28l3%29&codeDivHeight=400&codeDivWidth=350&cumulative=false&curInstr=11&heapPrimitives=false&origin=opt-frontend.js&py=3&rawInputLstJSON=%5B%5D&textReferences=false\">Hay problemas de conexión con <a href=\"https://goo.gl/VKZi5K\">el ejemplo en Python tutor</a></iframe>"
   ]
  },
  {
   "cell_type": "markdown",
   "metadata": {},
   "source": [
    "## Tuplas <a id=\"tuples\"></a>\n",
    "\n",
    "Las <i class=\"concept\">tuplas</i> son como listas, pero **no se pueden modificar**, es decir, una vez que se crean, sus valores no pueden cambiarse. Las tuplas pueden usarse como claves de diccionarios (que se verán <a href=\"#dictionaries\">más adelante</a>) o como elementos de conjuntos, en cambio las listas no."
   ]
  },
  {
   "cell_type": "markdown",
   "metadata": {},
   "source": [
    "Una de las ventajas de las tuplas es que son mucho más rápidas."
   ]
  },
  {
   "cell_type": "code",
   "execution_count": 81,
   "metadata": {},
   "outputs": [
    {
     "name": "stdout",
     "output_type": "stream",
     "text": [
      "88.1 ns ± 20 ns per loop (mean ± std. dev. of 7 runs, 10000000 loops each)\n"
     ]
    }
   ],
   "source": [
    "%%timeit\n",
    "lista = [0, 1, 2, 3, 4, 5, 6, 7, 8, 9]"
   ]
  },
  {
   "cell_type": "code",
   "execution_count": 82,
   "metadata": {
    "scrolled": true
   },
   "outputs": [
    {
     "name": "stdout",
     "output_type": "stream",
     "text": [
      "13.5 ns ± 0.196 ns per loop (mean ± std. dev. of 7 runs, 100000000 loops each)\n"
     ]
    }
   ],
   "source": [
    "%%timeit\n",
    "tupla = (0, 1, 2, 3, 4, 5, 6, 7, 8, 9)"
   ]
  },
  {
   "cell_type": "markdown",
   "metadata": {},
   "source": [
    "<span class=\"label label-danger\"><i class=\"fa fa-bomb\" aria-hidden=\"true\"></i> ¡Cuidado!</span> la evaluación de la siguiente celda dará error, dado que las tuplas, una vez creadas, no pueden modificarse."
   ]
  },
  {
   "cell_type": "code",
   "execution_count": 83,
   "metadata": {},
   "outputs": [],
   "source": [
    "#tupla[0] = 'Pico' # => TypeError: 'tuple' object does not support item assignment"
   ]
  },
  {
   "cell_type": "markdown",
   "metadata": {},
   "source": [
    "Más ejemplos de cosas que pueden hacerse con tuplas:"
   ]
  },
  {
   "cell_type": "code",
   "execution_count": 84,
   "metadata": {},
   "outputs": [
    {
     "name": "stdout",
     "output_type": "stream",
     "text": [
      "1 2\n",
      "2 1\n",
      "12\n"
     ]
    }
   ],
   "source": [
    "a, b = 1, 2     # inicialización simultánea de varias variables.\n",
    "print(a,b)\n",
    "a, b = b, a     # intercambio de valores de variables\n",
    "print(a,b)\n",
    "a, _ = 12, 13   # recuperación de valores de una tupla, ignorando los que no interesan\n",
    "print(a)"
   ]
  },
  {
   "cell_type": "markdown",
   "metadata": {},
   "source": [
    "<span class=\"label label-danger\"><i class=\"fa fa-bomb\" aria-hidden=\"true\"></i> ¡Cuidado!</span> la evaluación de la siguiente celda dará error, dado que a la izquierda hay menos variables que valores a la derecha."
   ]
  },
  {
   "cell_type": "code",
   "execution_count": 85,
   "metadata": {},
   "outputs": [],
   "source": [
    "#a, b = 1, 2, 3 # => ValueError: too many values to unpack (expected 2)"
   ]
  },
  {
   "cell_type": "markdown",
   "metadata": {},
   "source": [
    "<span class=\"label label-danger\"><i class=\"fa fa-bomb\" aria-hidden=\"true\"></i> ¡Cuidado!</span> la evaluación de la siguiente celda dará error, dado que a la izquierda hay más variables que valores a la derecha."
   ]
  },
  {
   "cell_type": "code",
   "execution_count": 86,
   "metadata": {},
   "outputs": [],
   "source": [
    "#a, b, c = 1, 2 # => ValueError: not enough values to unpack (expected 3, got 2)"
   ]
  },
  {
   "cell_type": "markdown",
   "metadata": {},
   "source": [
    "## Conjuntos <a id=\"sets\"></a>\n",
    "Los <i class=\"concept\">conjuntos</i> son colecciones de objetos en las que el orden no es relevante y donde no se permiten duplicados.\n",
    "\n",
    "Se pueden modificar (aunque existe una versión no modificable, los \n",
    " <a href=\"https://docs.python.org/3/library/stdtypes.html#frozenset\">frozenset</a>). \n",
    "\n",
    "La comprobación de que un elemento pertenece a un conjunto (operador `in`) es más eficiente y rápida que la comprobación \n",
    "de que un elemento pertenece a una lista.\n"
   ]
  },
  {
   "cell_type": "code",
   "execution_count": 179,
   "metadata": {},
   "outputs": [
    {
     "name": "stdout",
     "output_type": "stream",
     "text": [
      "{'Arlanza', 'Vena', 'Pico', 'Cerezo', 'Nilo'}\n"
     ]
    }
   ],
   "source": [
    "# ¡OJO!: Fíjate que el orden no tiene por qué coincidir con el utilizado/considerado en/durante la definición\n",
    "ríos = { \"Nilo\", \"Arlanza\", \"Cerezo\", \"Pico\", \"Vena\", \"Nilo\", \"Cerezo\" }\n",
    "print(ríos)"
   ]
  },
  {
   "cell_type": "markdown",
   "metadata": {
    "slideshow": {
     "slide_type": "subslide"
    }
   },
   "source": [
    "### Operaciones con conjuntos <a id=\"setsOperators\"></a>\n",
    "Con el tipo de datos `set` se pueden hacer las mismas operaciones que con los conjuntos matemáticos: \n",
    "- Intersección, \n",
    "- Diferencia, \n",
    "- Unión, \n",
    "- Comprobación de pertenencia, \n",
    "- ..."
   ]
  },
  {
   "cell_type": "code",
   "execution_count": 88,
   "metadata": {},
   "outputs": [
    {
     "name": "stdout",
     "output_type": "stream",
     "text": [
      "{'Cerezo', 'Nilo', 'Bernesga', 'Danubio'}\n",
      "{'Nilo', 'Cerezo'}\n",
      "{'Nilo', 'Cerezo'}\n"
     ]
    }
   ],
   "source": [
    "unos_ríos = { \"Nilo\", \"Arlanza\", \"Cerezo\", \"Pico\" }\n",
    "otros_ríos = { \"Nilo\", \"Danubio\", \"Cerezo\" }\n",
    "otros_ríos.add(\"Bernesga\")\n",
    "print(otros_ríos)\n",
    "print(unos_ríos.intersection(otros_ríos))\n",
    "print(unos_ríos & otros_ríos)"
   ]
  },
  {
   "cell_type": "code",
   "execution_count": 89,
   "metadata": {},
   "outputs": [
    {
     "name": "stdout",
     "output_type": "stream",
     "text": [
      "{'Arlanza', 'Pico'}\n",
      "{'Arlanza', 'Danubio', 'Pico', 'Cerezo', 'Nilo', 'Bernesga'}\n",
      "{'Arlanza', 'Danubio', 'Pico', 'Cerezo', 'Nilo', 'Bernesga'}\n"
     ]
    }
   ],
   "source": [
    "print(unos_ríos.difference(otros_ríos))\n",
    "print(unos_ríos.union(otros_ríos))\n",
    "print(unos_ríos | otros_ríos)"
   ]
  },
  {
   "cell_type": "code",
   "execution_count": 90,
   "metadata": {},
   "outputs": [
    {
     "name": "stdout",
     "output_type": "stream",
     "text": [
      "True\n",
      "True\n"
     ]
    }
   ],
   "source": [
    "print({1,2,3,4}.issubset({1,2,3,4,5}))\n",
    "print({1,2,3,4} < {1,2,3,4,5})"
   ]
  },
  {
   "cell_type": "code",
   "execution_count": 91,
   "metadata": {},
   "outputs": [
    {
     "name": "stdout",
     "output_type": "stream",
     "text": [
      "True\n",
      "True\n"
     ]
    }
   ],
   "source": [
    "print({1,2,3,4,5}.issuperset({1,2,3,4}))\n",
    "print({1,2,3,4,5} > {1,2,3,4})\n",
    "\n"
   ]
  },
  {
   "cell_type": "code",
   "execution_count": 92,
   "metadata": {},
   "outputs": [
    {
     "name": "stdout",
     "output_type": "stream",
     "text": [
      "{'Arlanza', 'Danubio', 'Pico', 'Bernesga'}\n",
      "{'Arlanza', 'Danubio', 'Pico', 'Bernesga'}\n"
     ]
    }
   ],
   "source": [
    "print(unos_ríos.symmetric_difference(otros_ríos)) # pertenece a uno, a otro, pero no a los dos\n",
    "print(unos_ríos ^ otros_ríos)"
   ]
  },
  {
   "cell_type": "code",
   "execution_count": 93,
   "metadata": {},
   "outputs": [
    {
     "name": "stdout",
     "output_type": "stream",
     "text": [
      "False\n"
     ]
    }
   ],
   "source": [
    "# True si no tienen nada en común\n",
    "print(unos_ríos.isdisjoint(otros_ríos))"
   ]
  },
  {
   "cell_type": "markdown",
   "metadata": {},
   "source": [
    "### Conjuntos vacíos <a id=\"emptySets\"></a>"
   ]
  },
  {
   "cell_type": "code",
   "execution_count": 94,
   "metadata": {},
   "outputs": [
    {
     "name": "stdout",
     "output_type": "stream",
     "text": [
      "<class 'list'>\n",
      "<class 'tuple'>\n"
     ]
    }
   ],
   "source": [
    "lista_vacía = []\n",
    "print(type(lista_vacía))\n",
    "tupla_vacía = ()\n",
    "print(type(tupla_vacía))"
   ]
  },
  {
   "cell_type": "code",
   "execution_count": 95,
   "metadata": {},
   "outputs": [
    {
     "name": "stdout",
     "output_type": "stream",
     "text": [
      "<class 'dict'>\n"
     ]
    }
   ],
   "source": [
    "# Pero esto no pasa con conjuntos\n",
    "conjunto_vacío = {} # => {} es en realidad para diccionarios\n",
    "print(type(conjunto_vacío))"
   ]
  },
  {
   "cell_type": "code",
   "execution_count": 96,
   "metadata": {},
   "outputs": [
    {
     "name": "stdout",
     "output_type": "stream",
     "text": [
      "<class 'set'>\n"
     ]
    }
   ],
   "source": [
    "conjunto_vacío = set() \n",
    "print(type(conjunto_vacío))"
   ]
  },
  {
   "cell_type": "code",
   "execution_count": 97,
   "metadata": {},
   "outputs": [
    {
     "name": "stdout",
     "output_type": "stream",
     "text": [
      "<class 'list'>\n",
      "<class 'tuple'>\n"
     ]
    }
   ],
   "source": [
    "# También se pueden usar los constructores para listas y tuplas\n",
    "lista_vacía = list()\n",
    "tupla_vacía = tuple()\n",
    "print(type(lista_vacía))\n",
    "print(type(tupla_vacía))"
   ]
  },
  {
   "cell_type": "markdown",
   "metadata": {},
   "source": [
    "# Diccionarios &mdash; colecciones indexadas por nombre   <a id=\"dictionaries\"></a><a href=\"#index\"><i class=\"fa fa-list-alt\" aria-hidden=\"true\"></i></a>\n",
    "\n",
    "Los <i class=\"concept\">diccionarios</i> son estructuras de datos en las que los elementos constituyentes se pueden recuperar utilizando claves que no tienen por qué ser valores numéricos, como ocurre con las listas y las tuplas. **Las claves de acceso pueden ser cualquier valor _inmutable_**, aunque lo más habitual es usar cadenas.\n",
    "\n",
    "Como en los conjuntos, **el orden no es relevante** en los diccionarios.\n",
    "\n",
    "Se delimitan con llaves (como los conjuntos), sus elementos se separan por comas (como en las listas y los conjuntos), pero (**IMPORTANTE**) éstos están conformados por pares de <i class=\"concept\">clave</i> y <i class=\"concept\">valor</i> (la clave separada del valor por dos puntos `:`). Los valores pueden ser de tipos arbitrarios y distintos para cada par."
   ]
  },
  {
   "cell_type": "code",
   "execution_count": 98,
   "metadata": {},
   "outputs": [],
   "source": [
    "un_río = { 'nombre': 'Nilo', 'longitud': 6853, # km\n",
    "    'ciudades': ['El Cairo', 'Jartum', 'Jinja', 'Yuba'] }"
   ]
  },
  {
   "cell_type": "markdown",
   "metadata": {},
   "source": [
    "El acceso a los elementos se hace con la misma sintaxis que en las listas, pero ahora, en vez de un índice, se utiliza el valor de la clave del elemento que quiere recuperarse o modificarse."
   ]
  },
  {
   "cell_type": "code",
   "execution_count": 99,
   "metadata": {},
   "outputs": [
    {
     "data": {
      "text/plain": [
       "'Nilo'"
      ]
     },
     "execution_count": 99,
     "metadata": {},
     "output_type": "execute_result"
    }
   ],
   "source": [
    "un_río['nombre']"
   ]
  },
  {
   "cell_type": "code",
   "execution_count": 100,
   "metadata": {},
   "outputs": [
    {
     "data": {
      "text/plain": [
       "['El Cairo', 'Jartum', 'Jinja', 'Yuba']"
      ]
     },
     "execution_count": 100,
     "metadata": {},
     "output_type": "execute_result"
    }
   ],
   "source": [
    "un_río['ciudades']"
   ]
  },
  {
   "cell_type": "markdown",
   "metadata": {},
   "source": [
    "<span class=\"label label-danger\"><i class=\"fa fa-bomb\" aria-hidden=\"true\"></i> ¡Cuidado!</span> Si se utiliza una clave de acceso no existente en el diccionario, se genera un error.."
   ]
  },
  {
   "cell_type": "code",
   "execution_count": 101,
   "metadata": {},
   "outputs": [],
   "source": [
    "#un_río['caudal'] # => KeyError: 'caudal' "
   ]
  },
  {
   "cell_type": "markdown",
   "metadata": {},
   "source": [
    "<span class=\"label label-info\"><i class=\"fa fa-info-circle\" aria-hidden=\"true\"></i> Truco</span> Si quieres evitar el error de utilizar una clave inexistente, puedes utilizar el método `get` cuyo segundo valor será devuelto en caso de que la clave no exista en el diccionario."
   ]
  },
  {
   "cell_type": "code",
   "execution_count": 102,
   "metadata": {},
   "outputs": [
    {
     "data": {
      "text/plain": [
       "'eso no lo sé'"
      ]
     },
     "execution_count": 102,
     "metadata": {},
     "output_type": "execute_result"
    }
   ],
   "source": [
    "un_río.get('caudal','eso no lo sé')"
   ]
  },
  {
   "cell_type": "code",
   "execution_count": 103,
   "metadata": {},
   "outputs": [
    {
     "name": "stdout",
     "output_type": "stream",
     "text": [
      "su caudal es: None\n",
      "su caudal es: eso no lo sé\n"
     ]
    }
   ],
   "source": [
    "print(f\"su caudal es: {un_río.get('caudal')}\")\n",
    "print(f\"su caudal es: {un_río.get('caudal', 'eso no lo sé')}\")"
   ]
  },
  {
   "cell_type": "markdown",
   "metadata": {},
   "source": [
    "La modificación de los valores se hace como en la lista, pero usando la clave como valor de acceso."
   ]
  },
  {
   "cell_type": "code",
   "execution_count": 104,
   "metadata": {},
   "outputs": [
    {
     "name": "stdout",
     "output_type": "stream",
     "text": [
      "{'nombre': 'Nilo', 'longitud': 6853, 'ciudades': ['El Cairo', 'Jartum', 'Jinja', 'Yuba'], 'caudal': 2.83}\n"
     ]
    }
   ],
   "source": [
    "un_río['caudal'] = 2.830 # m^3/s , valor inventado. el Nilo tiene un caudal mucho mayor\n",
    "print(un_río)"
   ]
  },
  {
   "cell_type": "markdown",
   "metadata": {},
   "source": [
    "Se pueden modificar varios elementos usando el método `update`."
   ]
  },
  {
   "cell_type": "code",
   "execution_count": 105,
   "metadata": {},
   "outputs": [
    {
     "name": "stdout",
     "output_type": "stream",
     "text": [
      "{'nombre': 'Nilo', 'longitud': 6853, 'ciudades': ['El Cairo', 'Jartum', 'Jinja', 'Yuba'], 'caudal': 2830, 'afluentes': ['Nilo blanco', 'Nilo azul', 'Ora', 'Gumara', 'Dinder', 'Sobat', '...']}\n"
     ]
    }
   ],
   "source": [
    "un_río.update({'caudal': 2830, 'afluentes': ['Nilo blanco', 'Nilo azul',\n",
    "    'Ora', 'Gumara', 'Dinder', 'Sobat', '...']})\n",
    "print(un_río)"
   ]
  },
  {
   "cell_type": "markdown",
   "metadata": {},
   "source": [
    "Se pueden eliminar un elemento usando el **operador** `del`."
   ]
  },
  {
   "cell_type": "code",
   "execution_count": 106,
   "metadata": {},
   "outputs": [
    {
     "name": "stdout",
     "output_type": "stream",
     "text": [
      "{'nombre': 'Nilo', 'longitud': 6853, 'ciudades': ['El Cairo', 'Jartum', 'Jinja', 'Yuba'], 'caudal': 2830}\n"
     ]
    }
   ],
   "source": [
    "del un_río['afluentes']\n",
    "print(un_río)"
   ]
  },
  {
   "cell_type": "markdown",
   "metadata": {},
   "source": [
    "### Otras operaciones con diccionarios "
   ]
  },
  {
   "cell_type": "code",
   "execution_count": 107,
   "metadata": {},
   "outputs": [
    {
     "name": "stdout",
     "output_type": "stream",
     "text": [
      "['El Cairo', 'Jartum', 'Jinja', 'Yuba']\n",
      "{'nombre': 'Nilo', 'longitud': 6853, 'caudal': 2830}\n"
     ]
    }
   ],
   "source": [
    "# obtiene el valor y elimina la clave\n",
    "ciudades = un_río.pop('ciudades')\n",
    "print(ciudades)\n",
    "\n",
    "# ya no sale la clave ciudades\n",
    "print(un_río)\n"
   ]
  },
  {
   "cell_type": "code",
   "execution_count": 108,
   "metadata": {},
   "outputs": [
    {
     "name": "stdout",
     "output_type": "stream",
     "text": [
      "len(un_río): 3\n"
     ]
    }
   ],
   "source": [
    "# len cuenta el número de claves, no el número total de elementos\n",
    "print(f\"len(un_río): {len(un_río)}\")"
   ]
  },
  {
   "cell_type": "code",
   "execution_count": 109,
   "metadata": {},
   "outputs": [
    {
     "name": "stdout",
     "output_type": "stream",
     "text": [
      "un_río.keys(): dict_keys(['nombre', 'longitud', 'caudal'])\n",
      "un_río.values(): dict_values(['Nilo', 6853, 2830])\n",
      "un_río.items(): dict_items([('nombre', 'Nilo'), ('longitud', 6853), ('caudal', 2830)])\n"
     ]
    }
   ],
   "source": [
    "print(f\"un_río.keys(): {un_río.keys()}\")           # Devuelve las claves\n",
    "print(f\"un_río.values(): {un_río.values()}\")       # Devuelve los valores\n",
    "print(f\"un_río.items(): {un_río.items()}\")         # Devuelve todos los pares (clave,valor)"
   ]
  },
  {
   "cell_type": "markdown",
   "metadata": {},
   "source": [
    "## Comparaciones de distintas colecciones"
   ]
  },
  {
   "cell_type": "code",
   "execution_count": 112,
   "metadata": {},
   "outputs": [
    {
     "name": "stdout",
     "output_type": "stream",
     "text": [
      "True\n",
      "True\n",
      "False\n",
      "True\n"
     ]
    }
   ],
   "source": [
    "lista1 = [1,2,3]\n",
    "lista2 = lista1[:]\n",
    "lista3 = lista1\n",
    "lista4 = [3,1,2]\n",
    "\n",
    "# El == compara valores\n",
    "print(lista1 == lista2)      #tienen los mismos valores\n",
    "print(lista1 == lista3)      #tienen los mismos valores\n",
    "\n",
    "# El operador is compara referencias\n",
    "print(lista1 is lista2)       #no es la misma referencia\n",
    "print(lista1 is lista3)       #es la misma referencia"
   ]
  },
  {
   "cell_type": "code",
   "execution_count": 113,
   "metadata": {},
   "outputs": [
    {
     "name": "stdout",
     "output_type": "stream",
     "text": [
      "False\n",
      "True\n",
      "True\n",
      "False\n",
      "True\n"
     ]
    }
   ],
   "source": [
    "tupla1 = (1,2,3)\n",
    "set1 = {1,2,3}\n",
    "set2 = {3,1,2}\n",
    "\n",
    "print(lista1 == tupla1)        # Tienen los mismos valores, pero no es el mismo tipo\n",
    "print(lista1 == list(tupla1))  # ahora mismos valores y mismo tipo\n",
    " \n",
    "print(set1 == set2)            # igual, porque no importa el orden\n",
    " \n",
    "print(lista1 == lista4)       # no son iguales, porque importa el orden\n",
    "print(set(lista1) == set(lista4))  # ahora si son iguales, porque no importa el orden"
   ]
  },
  {
   "cell_type": "markdown",
   "metadata": {},
   "source": [
    "# Vectores, matrices y tensores   (<span style=\"color:red;text-transform: uppercase;\">opcional</span>)  \n",
    "\n",
    "En Python no existen tipos específicos para los <i class=\"concept\">vectores</i>, las <i class=\"concept\">matrices</i> y los <i class=\"concept\">tensores</i>. Los vectores son fácilmente representables como listas, las matrices podrían representarse como listas de listas, y del mismo modo los tensores de más dimensiones podrían representarse como listas de tensores de dimensiones menores. Pero el acceso a los elementos usando esta representación se hace un poco engorroso. Además tendríamos que programar las operaciones para manipular estos objetos: sumas, productos, traspuestas, inversas, ..."
   ]
  },
  {
   "cell_type": "code",
   "execution_count": 180,
   "metadata": {},
   "outputs": [
    {
     "name": "stdout",
     "output_type": "stream",
     "text": [
      "v_suma => [6, 6, 6]\n",
      "M => [[2, 3], [4, 5]]\n",
      "M[0][1] => 3\n",
      "T => [[[2, 3, 1], [4, 5, -2]], [[3, -1, 69], [0, 1, -1]]]\n",
      "T[1][0][2] => 69\n"
     ]
    }
   ],
   "source": [
    "# Un ejemplo de vectores\n",
    "v1 = [7, 9, 6]\n",
    "v2 = [-1, -3, 0]\n",
    "# La suma de vectores\n",
    "v_suma = [v1[0]+v2[0], v1[1]+v2[1], v1[2]+v2[2]] # MÉTODO AVANZADO: v_suma = [e1+e2 for e1, e2 in zip(v1, v2)]\n",
    "print(f\"v_suma => {v_suma}\")\n",
    "\n",
    "# Un ejemplo de matriz\n",
    "M = [[2, 3], [4, 5]]\n",
    "print(f\"M => {M}\")\n",
    "# Accediendo a un elemento de M\n",
    "print(f\"M[0][1] => {M[0][1]}\")\n",
    "\n",
    "# Un ejemplo de tensor\n",
    "M1 = [[2, 3, 1], [4, 5, -2]]\n",
    "M2 = [[3, -1, 69], [0, 1, -1]]\n",
    "T = [M1, M2]\n",
    "print(f\"T => {T}\")\n",
    "# Accediendo a un elemento de T. En el caso de 3D, el primer índice se corresponde con el de la tercera dimensión. \n",
    "# En el caso siguiente, estaría indicando la segunda matriz.\n",
    "print(f\"T[1][0][2] => {T[1][0][2]}\")"
   ]
  },
  {
   "cell_type": "markdown",
   "metadata": {},
   "source": [
    "Para facilitar un poco la utilización de este tipo de objetos existe la biblioteca [Numpy](http://www.numpy.org/).\n",
    "\n",
    "Numpy ofrece el tipo `array` que se puede utilizar para representar tensores de dimensiones arbitrarias (también tiene el tipo `matrix` para los tensores bi-dimensionales, _aunque su uso de desaconseja_).\n",
    "\n",
    "Para poder utilizar estos tipos, lo único que tenemos que hacer es importar el paquete `numpy`. Además, la tradición establecida es renombrarlo a `np` para ahorrarnos pulsaciones de teclado."
   ]
  },
  {
   "cell_type": "code",
   "execution_count": 7,
   "metadata": {},
   "outputs": [],
   "source": [
    "import numpy as np"
   ]
  },
  {
   "cell_type": "markdown",
   "metadata": {},
   "source": [
    "Ahora podemos utilizar toda la funcionalidad que proporcionan `numpy`, lo que nos permitirá manipular tensores como si fueran tipos básicos."
   ]
  },
  {
   "cell_type": "code",
   "execution_count": 116,
   "metadata": {},
   "outputs": [
    {
     "name": "stdout",
     "output_type": "stream",
     "text": [
      "v_suma => [6 6 6]\n"
     ]
    }
   ],
   "source": [
    "# Un ejemplo de vectores\n",
    "v1 = np.array([7, 9, 6])\n",
    "v2 = np.array([-1, -3, 0])\n",
    "# La suma de vectores\n",
    "v_suma = v1 + v2\n",
    "print(f\"v_suma => {v_suma}\")"
   ]
  },
  {
   "cell_type": "code",
   "execution_count": 117,
   "metadata": {},
   "outputs": [
    {
     "name": "stdout",
     "output_type": "stream",
     "text": [
      "M =>\n",
      "[[2 3]\n",
      " [4 5]]\n",
      "M[0, 1] => 3\n"
     ]
    }
   ],
   "source": [
    "# Un ejemplo de matriz\n",
    "M = np.array([[2, 3], [4, 5]])\n",
    "print(f\"M =>\\n{M}\")\n",
    "# Accediendo a un elemento de M\n",
    "print(f\"M[0, 1] => {M[0, 1]}\")"
   ]
  },
  {
   "cell_type": "code",
   "execution_count": 14,
   "metadata": {
    "scrolled": false
   },
   "outputs": [
    {
     "name": "stdout",
     "output_type": "stream",
     "text": [
      "T =>\n",
      " [[[ 2  3  1]\n",
      "  [ 4  5 -2]]\n",
      "\n",
      " [[ 3 -1 69]\n",
      "  [ 0  1 -1]]]\n",
      "T[1, 0, 1] => -1\n"
     ]
    }
   ],
   "source": [
    "# Un ejemplo de tensor\n",
    "t1 = [[2, 3, 1], [4, 5, -2]]\n",
    "t2 = [[3, -1, 69], [0, 1, -1]]\n",
    "T = np.array([t1, t2])\n",
    "print(f\"T =>\\n {T}\")\n",
    "# Accediendo a un elemento de T\n",
    "print(f\"T[1, 0, 1] => {T[1, 0, 1]}\")"
   ]
  },
  {
   "cell_type": "markdown",
   "metadata": {},
   "source": [
    "<span class=\"label label-info\"><i class=\"fa fa-info-circle\" aria-hidden=\"true\"></i> Truco</span> Un importante concepto en Numpy es el de [<i class=\"concept\">broadcasting</i>](https://docs.scipy.org/doc/numpy-1.13.0/user/basics.broadcasting.html), básicamente consiste en que cuando se combina con un operador dos arrays, el tamaño del menor se transforma para hacerlo compatible con el del mayor."
   ]
  },
  {
   "cell_type": "code",
   "execution_count": 119,
   "metadata": {},
   "outputs": [
    {
     "name": "stdout",
     "output_type": "stream",
     "text": [
      "M + 10 =>\n",
      " [[ 8 13]\n",
      " [14  5]]\n",
      "M * 5 =>\n",
      " [[-10  15]\n",
      " [ 20 -25]]\n",
      "M - v =>\n",
      " [[-4  0]\n",
      " [ 2 -8]]\n"
     ]
    }
   ],
   "source": [
    "M = np.array([[-2, 3], [4, -5]])\n",
    "v = np.array([[2, 3]])\n",
    "print(f\"M + 10 =>\\n {M + 10}\")\n",
    "print(f\"M * 5 =>\\n {M * 5}\")\n",
    "print(f\"M - v =>\\n {M - v}\")"
   ]
  },
  {
   "cell_type": "code",
   "execution_count": 120,
   "metadata": {
    "scrolled": true
   },
   "outputs": [
    {
     "name": "stdout",
     "output_type": "stream",
     "text": [
      "M =>\n",
      " [[-2  3]\n",
      " [ 4 -5]]\n",
      "M == 2 =>\n",
      " [[False False]\n",
      " [False False]]\n",
      "M > 2 =>\n",
      " [[False  True]\n",
      " [ True False]]\n",
      "M == v =>\n",
      " [[False  True]\n",
      " [False False]]\n"
     ]
    }
   ],
   "source": [
    "print(f\"M =>\\n {M}\")\n",
    "print(f\"M == 2 =>\\n {M == 2}\")\n",
    "print(f\"M > 2 =>\\n {M > 2}\")\n",
    "print(f\"M == v =>\\n {M == v}\")"
   ]
  },
  {
   "cell_type": "markdown",
   "metadata": {},
   "source": [
    "<span class=\"label label-info\"><i class=\"fa fa-info-circle\" aria-hidden=\"true\"></i> Truco</span> Cuando se trabaja con arrays, los equivalentes a `sum`, `all` y `any`, que se usaban para colecciones, son `np.sum`, `np.all` y `np.any`."
   ]
  },
  {
   "cell_type": "code",
   "execution_count": 121,
   "metadata": {},
   "outputs": [
    {
     "name": "stdout",
     "output_type": "stream",
     "text": [
      "M =>\n",
      " [[-2  3]\n",
      " [ 4 -5]]\n",
      "M > -10 =>\n",
      " [[ True  True]\n",
      " [ True  True]]\n",
      "np.all(M > -10) => True\n",
      "np.sum(M) =>\n",
      " 0\n"
     ]
    }
   ],
   "source": [
    "print(f\"M =>\\n {M}\")\n",
    "print(f\"M > -10 =>\\n {M > -10}\")\n",
    "print(f\"np.all(M > -10) => {np.all(M > -10)}\")\n",
    "print(f\"np.sum(M) =>\\n {np.sum(M)}\")"
   ]
  },
  {
   "cell_type": "markdown",
   "metadata": {},
   "source": [
    "<span class=\"label label-info\"><i class=\"fa fa-info-circle\" aria-hidden=\"true\"></i> Truco</span> El operador `*` es la multiplicación elemento a elemento, para la multiplicación de matrices, se usa `@`."
   ]
  },
  {
   "cell_type": "code",
   "execution_count": 122,
   "metadata": {},
   "outputs": [
    {
     "name": "stdout",
     "output_type": "stream",
     "text": [
      "M =>\n",
      " [[-2  3]\n",
      " [ 4 -5]]\n",
      "M * M =>\n",
      " [[ 4  9]\n",
      " [16 25]]\n",
      "M @ 2 =>\n",
      " [[ 16 -21]\n",
      " [-28  37]]\n"
     ]
    }
   ],
   "source": [
    "print(f\"M =>\\n {M}\")\n",
    "print(f\"M * M =>\\n {M * M}\")\n",
    "print(f\"M @ 2 =>\\n {M @ M}\")"
   ]
  },
  {
   "cell_type": "markdown",
   "metadata": {},
   "source": [
    "### Otros ejemplos"
   ]
  },
  {
   "cell_type": "code",
   "execution_count": 123,
   "metadata": {},
   "outputs": [
    {
     "name": "stdout",
     "output_type": "stream",
     "text": [
      "v2 * v2 => [1 9 0]\n",
      "v2 @ v2 => 10\n",
      "3 * v1 + v2 * v2 => [22 36 18]\n",
      "3 * v1 + v2 @ v2 => [31 37 28]\n"
     ]
    }
   ],
   "source": [
    "# Otras operaciones\n",
    "# v1 = np.array([7, 9, 6])\n",
    "# v2 = np.array([-1, -3, 0])\n",
    "\n",
    "print(f\"v2 * v2 => {v2 * v2}\")\n",
    "print(f\"v2 @ v2 => {v2 @ v2}\")\n",
    "print(f\"3 * v1 + v2 * v2 => {3 * v1 + v2 * v2}\")\n",
    "print(f\"3 * v1 + v2 @ v2 => {3 * v1 + v2 @ v2}\")"
   ]
  },
  {
   "cell_type": "code",
   "execution_count": 124,
   "metadata": {},
   "outputs": [
    {
     "name": "stdout",
     "output_type": "stream",
     "text": [
      "v1.shape => (1, 3)\n",
      "v2 => [[-1 -3  0]]\n",
      "v2.T => [[-1]\n",
      " [-3]\n",
      " [ 0]]\n",
      "v2.shape => (1, 3)\n",
      "v2.T.shape => (3, 1)\n",
      "3 * v1 + v2 * v2 => [[22 36 18]]\n",
      "3 * v1 + v2 @ v2.T => [[31 37 28]]\n"
     ]
    }
   ],
   "source": [
    "# Otro ejemplo de vectores\n",
    "v1 = np.array([[7, 9, 6]])\n",
    "v2 = np.array([[-1, -3, 0]])\n",
    "print(f\"v1.shape => {v1.shape}\")\n",
    "print(f\"v2 => {v2}\")\n",
    "print(f\"v2.T => {v2.T}\")\n",
    "print(f\"v2.shape => {v2.shape}\")\n",
    "print(f\"v2.T.shape => {v2.T.shape}\")\n",
    "print(f\"3 * v1 + v2 * v2 => {3 * v1 + v2 * v2}\")\n",
    "print(f\"3 * v1 + v2 @ v2.T => {3 * v1 + v2 @ v2.T}\")"
   ]
  },
  {
   "cell_type": "markdown",
   "metadata": {},
   "source": [
    "<h1 class=\"jumbo\">Ejercicios y retos   <a id=\"exercises\"></a><a href=\"#index\"><i class=\"fa fa-list-alt\" aria-hidden=\"true\"></i></a></h1>"
   ]
  },
  {
   "cell_type": "markdown",
   "metadata": {},
   "source": [
    "### Ejercicio 1\n",
    "Calcular los ceros de una parábola.\n",
    "\n",
    "Dados los valores $a$, $b$, $c$ de un polinomio de segundo grado: $ax^2+bx+c$, encontrar los valores de $x$ para los que el polinomio se evalúa a cero: \n",
    "$$x=\\frac{-b\\pm\\sqrt{b^2-4ac}}{2a}$$"
   ]
  },
  {
   "cell_type": "code",
   "execution_count": 125,
   "metadata": {},
   "outputs": [],
   "source": [
    "a = 2\n",
    "b = 3\n",
    "c = 5\n",
    " # ojo con las raíces de números negativos (aunque podrían usarse números complejos)\n",
    " ## AQUÍ EL CÓDIGO PARA CALCULAR LOS VALORES DE x "
   ]
  },
  {
   "cell_type": "markdown",
   "metadata": {},
   "source": [
    "### Ejercicio 2\n",
    "\n",
    "Cómo utilizarías el acceso indexado a listas para obtener el valor 3 a partir de las siguiente listas?\n",
    "```python\n",
    "lista1 = [1, 2, 3, 4]\n",
    "lista2 = [1, [2, [3, [4]]]]\n",
    "lista3 = [[[[1], 2], 3], 4]\n",
    "lista4 = [[1, 2],[[3], 4]]\n",
    "lista5 = [[[1], [2], [3], [4]]]\n",
    "lista6 = [[[[1]]], [[2]], [3], 4]\n",
    "lista7 = [[[1], [[2, 3], 4]]]\n",
    "```"
   ]
  },
  {
   "cell_type": "code",
   "execution_count": 126,
   "metadata": {},
   "outputs": [],
   "source": [
    "lista1 = [1, 2, 3, 4]\n",
    "# AQUÍ EL CÓDIGO PARA RECUPERAR EL VALOR 3"
   ]
  },
  {
   "cell_type": "code",
   "execution_count": 127,
   "metadata": {},
   "outputs": [],
   "source": [
    "lista2 = [1, [2, [3, [4]]]]\n",
    "# AQUÍ EL CÓDIGO PARA RECUPERAR EL VALOR 3"
   ]
  },
  {
   "cell_type": "code",
   "execution_count": 128,
   "metadata": {},
   "outputs": [],
   "source": [
    "lista3 = [[[[1], 2], 3], 4]\n",
    "# AQUÍ EL CÓDIGO PARA RECUPERAR EL VALOR 3"
   ]
  },
  {
   "cell_type": "code",
   "execution_count": 129,
   "metadata": {},
   "outputs": [],
   "source": [
    "lista4 = [[1, 2],[[3], 4]]\n",
    "# AQUÍ EL CÓDIGO PARA RECUPERAR EL VALOR 3"
   ]
  },
  {
   "cell_type": "code",
   "execution_count": 130,
   "metadata": {},
   "outputs": [],
   "source": [
    "lista5 = [[[1], [2], [3], [4]]]\n",
    "# AQUÍ EL CÓDIGO PARA RECUPERAR EL VALOR 3"
   ]
  },
  {
   "cell_type": "code",
   "execution_count": 131,
   "metadata": {},
   "outputs": [],
   "source": [
    "lista6 = [[[[1]]], [[2]], [3], 4]\n",
    "# AQUÍ EL CÓDIGO PARA RECUPERAR EL VALOR 3"
   ]
  },
  {
   "cell_type": "code",
   "execution_count": 132,
   "metadata": {},
   "outputs": [],
   "source": [
    "lista7 = [[[1], [[2, 3], 4]]]\n",
    "# AQUÍ EL CÓDIGO PARA RECUPERAR EL VALOR 3"
   ]
  },
  {
   "cell_type": "markdown",
   "metadata": {},
   "source": [
    "### Ejercicio 3\n",
    "Sumar dos vectores representados como listas. Si los vectores son $\\vec{v_1}=(2,3)$ y $\\vec{v_2}=(-3,1)$ el resultado sería $\\vec{v_1}+\\vec{v_2}=(-1,4)$"
   ]
  },
  {
   "cell_type": "code",
   "execution_count": 133,
   "metadata": {},
   "outputs": [],
   "source": [
    "vec1 = [4, 8, 10]\n",
    "vec2 = [1, 6, -2]\n",
    "# AQUÍ EL CÓDIGO PARA CALCULAR vec1 + vec2"
   ]
  },
  {
   "cell_type": "markdown",
   "metadata": {},
   "source": [
    "### Ejercicio 4 \n",
    "Sumar dos vectores representados como arrays de numpy. Mirar la parte opcional de tensores"
   ]
  },
  {
   "cell_type": "code",
   "execution_count": 134,
   "metadata": {},
   "outputs": [],
   "source": [
    "vec1 = np.array([4, 8, 10])\n",
    "vec2 = np.array([1, 6, -2])\n",
    "# AQUÍ EL CÓDIGO PARA CALCULAR vec1 + vec2"
   ]
  },
  {
   "cell_type": "markdown",
   "metadata": {},
   "source": [
    "### Ejercicio 5\n",
    "Calcular la norma de un vector representado como array de numpy.\n",
    "\n",
    "Dado un vector $\\vec{v}=(x_1, x_2, \\ldots, x_n)$ calcular: \n",
    "$$\\|x\\|=\\sqrt{\\sum_{i=1}^n x_i^2}$$\n",
    "\n",
    "Si el vector es $\\vec{v}=(9,6,2)$, el resultado sería $11$"
   ]
  },
  {
   "cell_type": "code",
   "execution_count": 135,
   "metadata": {},
   "outputs": [],
   "source": [
    "vec = np.array([5, 8, -3])\n",
    " # AQUÍ EL CÓDIGO PARA CALCULAR LA NORMA DE vec"
   ]
  },
  {
   "cell_type": "markdown",
   "metadata": {},
   "source": [
    "### Ejercicio 6\n",
    "Comprobar que un elemento pertenece a una lista. Si el elemento a buscar es 3 y la lista es <kbd>[4, 7, 9]</kbd>, el resultado sería <kbd>False</kbd>, en cambio para la lista <kbd>[4, 6, 3, 2]</kbd>, el resultado sería <kbd>True</kbd>.\n",
    "\n",
    "<a class=\"label label-info\" style=\"padding-top: .5em\" type=\"button\" data-toggle=\"collapse\" data-target=\"#collapsePista00\">\n",
    "    <i class=\"fa fa-info-circle\" aria-hidden=\"true\"></i> Pista\n",
    "</a>\n",
    "  \n",
    "<div class=\"collapse\" id=\"collapsePista00\">\n",
    "  <div class=\"card card-body\" style=\"-moz-border-bottom-colors: none; -moz-border-left-colors: none; -moz-border-right-colors: none; -moz-border-top-colors: none; background-color: #fefef1; border-bottom-right-radius: 12px; border-color: #f7a600; border-style: solid; border-width: 1px 1px 1px 5px; box-shadow: 2px 3px 5px #ccc; color: #222; display: table; line-height: 1.4em; margin: 10px 20px 20px; overflow: hidden; padding: 10px 16px;\">\n",
    "      El operador <kbd>in</kbd> puede utilizarse para comprobar que un elemento está dentro de una colección.\n",
    "  </div>  \n",
    "</div>"
   ]
  },
  {
   "cell_type": "code",
   "execution_count": 136,
   "metadata": {},
   "outputs": [],
   "source": [
    "lista = [5, 8, 9, 10]\n",
    "elto = 9\n",
    " # AQUÍ EL CÓDIGO"
   ]
  },
  {
   "cell_type": "markdown",
   "metadata": {},
   "source": [
    "### Ejercicio 7\n",
    "Comprobar que todos los elementos de una lista son iguales. Una lista como <kbd>[4, 4, 4]</kbd> daría <kbd>True</kbd>, una lista como <kbd>[1, 1, 1, 2]</kbd> daría <kbd>False</kbd>. \n",
    "\n",
    "<a class=\"label label-info\" style=\"padding-top: .5em\" type=\"button\" data-toggle=\"collapse\" data-target=\"#collapsePista01\">\n",
    "    <i class=\"fa fa-info-circle\" aria-hidden=\"true\"></i> Pista\n",
    "</a>\n",
    "  \n",
    "<div class=\"collapse\" id=\"collapsePista01\">\n",
    "  <div class=\"card card-body\" style=\"-moz-border-bottom-colors: none; -moz-border-left-colors: none; -moz-border-right-colors: none; -moz-border-top-colors: none; background-color: #fefef1; border-bottom-right-radius: 12px; border-color: #f7a600; border-style: solid; border-width: 1px 1px 1px 5px; box-shadow: 2px 3px 5px #ccc; color: #222; display: table; line-height: 1.4em; margin: 10px 20px 20px; overflow: hidden; padding: 10px 16px;\">\n",
    "    Puedes utilizar la lista para crear un array de numpy y aprovecharte del broadcasting.\n",
    "  </div>  \n",
    "</div>"
   ]
  },
  {
   "cell_type": "code",
   "execution_count": 137,
   "metadata": {},
   "outputs": [],
   "source": [
    "lista = [5, 5, 5, 5]\n",
    " # AQUÍ EL CÓDIGO"
   ]
  },
  {
   "cell_type": "code",
   "execution_count": 138,
   "metadata": {},
   "outputs": [
    {
     "data": {
      "text/plain": [
       "True"
      ]
     },
     "execution_count": 138,
     "metadata": {},
     "output_type": "execute_result"
    }
   ],
   "source": [
    "any([False, True])"
   ]
  },
  {
   "cell_type": "markdown",
   "metadata": {},
   "source": [
    "### Ejercicio 8\n",
    "Dada una secuencia de bases de una porción de ADN, representada como una cadena, calcular el [porcentaje GC](https://es.wikipedia.org/wiki/Contenido_GC).\n",
    "\n",
    "<a class=\"label label-info\" style=\"padding-top: .5em\" type=\"button\" data-toggle=\"collapse\" data-target=\"#collapsePista02\">\n",
    "    <i class=\"fa fa-info-circle\" aria-hidden=\"true\"></i> Pista\n",
    "</a>\n",
    "  \n",
    "<div class=\"collapse\" id=\"collapsePista02\">\n",
    "  <div class=\"card card-body\" style=\"-moz-border-bottom-colors: none; -moz-border-left-colors: none; -moz-border-right-colors: none; -moz-border-top-colors: none; background-color: #fefef1; border-bottom-right-radius: 12px; border-color: #f7a600; border-style: solid; border-width: 1px 1px 1px 5px; box-shadow: 2px 3px 5px #ccc; color: #222; display: table; line-height: 1.4em; margin: 10px 20px 20px; overflow: hidden; padding: 10px 16px;\">\n",
    "      Recuerda lo que hacía el método <kbd>count</kbd>, si no lo recuerdas, puedes usar <kbd>help(str.count)</kbd>.\n",
    "  </div>  \n",
    "</div>"
   ]
  },
  {
   "cell_type": "code",
   "execution_count": 139,
   "metadata": {},
   "outputs": [],
   "source": [
    "adn = \"AAGCATCGTGTCATGCATCG\"\n",
    "GC = '<Aquí el código solución>'"
   ]
  },
  {
   "cell_type": "markdown",
   "metadata": {},
   "source": [
    "### Ejercicio 9\n",
    "Comprobar que una número es capicúa, es decir, se lee lo mismo de izquierda a derecha que de derecha a izquierda. \n",
    "\n",
    "<a class=\"label label-info\" style=\"padding-top: .5em\" type=\"button\" data-toggle=\"collapse\" data-target=\"#collapsePista03\">\n",
    "    <i class=\"fa fa-info-circle\" aria-hidden=\"true\"></i> Pista\n",
    "</a>\n",
    "  \n",
    "<div class=\"collapse\" id=\"collapsePista03\">\n",
    "  <div class=\"card card-body\" style=\"-moz-border-bottom-colors: none; -moz-border-left-colors: none; -moz-border-right-colors: none; -moz-border-top-colors: none; background-color: #fefef1; border-bottom-right-radius: 12px; border-color: #f7a600; border-style: solid; border-width: 1px 1px 1px 5px; box-shadow: 2px 3px 5px #ccc; color: #222; display: table; line-height: 1.4em; margin: 10px 20px 20px; overflow: hidden; padding: 10px 16px;\">\n",
    "      Utiliza el constructor de cadenas <kbd>str</kbd> para obtener una cadena a partir del número, y comprueba si la cadena obtenida es un palíndromo, es decir, es igual a su inversa.\n",
    "        </div>  \n",
    "</div>"
   ]
  },
  {
   "cell_type": "code",
   "execution_count": 140,
   "metadata": {},
   "outputs": [],
   "source": [
    "valor = 6941496\n",
    "# Aquí el código"
   ]
  },
  {
   "cell_type": "markdown",
   "metadata": {},
   "source": [
    "### Ejercicio 10\n",
    "\n",
    "Dada la siguiente estructura de datos:"
   ]
  },
  {
   "cell_type": "code",
   "execution_count": 141,
   "metadata": {
    "scrolled": true
   },
   "outputs": [
    {
     "data": {
      "text/plain": [
       "[{'v1': 'g1', 'v2': (3.1415, 2.7118, {'f': 'a/a=1'})},\n",
       " {'v1': 'g2', 'v2': (-3.1415, -2.7118, {'f': 'E=mc^2'})},\n",
       " {'v1': 'g3', 'v2': (0, 1, {'f': 'e^{iπ}-1=0'})}]"
      ]
     },
     "execution_count": 141,
     "metadata": {},
     "output_type": "execute_result"
    }
   ],
   "source": [
    "datos = [{'v1': 'g1', 'v2': (3.1415, 2.7118, {'f': 'a/a=1'}) }, \n",
    "         {'v1': 'g2', 'v2': (-3.1415, -2.7118,  {'f': 'E=mc^2'}) }, \n",
    "         {'v1': 'g3', 'v2': (0, 1, {'f': 'e^{iπ}-1=0'}) },\n",
    "        ]\n",
    "datos"
   ]
  },
  {
   "cell_type": "markdown",
   "metadata": {},
   "source": [
    "¿Cómo accederías al valor `'g1'`?"
   ]
  },
  {
   "cell_type": "code",
   "execution_count": null,
   "metadata": {},
   "outputs": [],
   "source": []
  },
  {
   "cell_type": "markdown",
   "metadata": {},
   "source": [
    "¿Cómo accederías al valor `3.1415`?"
   ]
  },
  {
   "cell_type": "code",
   "execution_count": null,
   "metadata": {},
   "outputs": [],
   "source": []
  },
  {
   "cell_type": "markdown",
   "metadata": {},
   "source": [
    "¿Cómo accederías al valor `-2.7118`?"
   ]
  },
  {
   "cell_type": "code",
   "execution_count": null,
   "metadata": {},
   "outputs": [],
   "source": []
  },
  {
   "cell_type": "markdown",
   "metadata": {},
   "source": [
    "¿Cómo accederías al valor `'e^{iπ}-1=0'`?"
   ]
  },
  {
   "cell_type": "code",
   "execution_count": null,
   "metadata": {},
   "outputs": [],
   "source": []
  },
  {
   "cell_type": "markdown",
   "metadata": {},
   "source": [
    "### Ejercicio 11\n",
    "\n",
    "Dada la siguiente estructura de datos:"
   ]
  },
  {
   "cell_type": "code",
   "execution_count": 142,
   "metadata": {
    "scrolled": false
   },
   "outputs": [
    {
     "data": {
      "text/plain": [
       "{'xyz': ['g1', (3.1415, 2.7118, {'f': 'a/a=1'})],\n",
       " 'abc': ['g2', (-3.1415, -2.7118, {'f': 'E=mc^2'})],\n",
       " 'X11': ['g3', (0, 1, {'f': 'e^{iπ}-1=0'})]}"
      ]
     },
     "execution_count": 142,
     "metadata": {},
     "output_type": "execute_result"
    }
   ],
   "source": [
    "datos = {'xyz': ['g1', (3.1415, 2.7118,  {'f': 'a/a=1'})], \n",
    "         'abc': ['g2', (-3.1415, -2.7118, {'f': 'E=mc^2'})], \n",
    "         'X11': ['g3', (0, 1, {'f': 'e^{iπ}-1=0'})],\n",
    "        }\n",
    "datos"
   ]
  },
  {
   "cell_type": "markdown",
   "metadata": {},
   "source": [
    "¿Cómo accederías al valor `'g1'`?"
   ]
  },
  {
   "cell_type": "code",
   "execution_count": null,
   "metadata": {},
   "outputs": [],
   "source": []
  },
  {
   "cell_type": "markdown",
   "metadata": {},
   "source": [
    "¿Cómo accederías al valor `3.1415`?"
   ]
  },
  {
   "cell_type": "code",
   "execution_count": null,
   "metadata": {},
   "outputs": [],
   "source": []
  },
  {
   "cell_type": "markdown",
   "metadata": {},
   "source": [
    "¿Cómo accederías al valor `-2.7118`?"
   ]
  },
  {
   "cell_type": "code",
   "execution_count": null,
   "metadata": {},
   "outputs": [],
   "source": []
  },
  {
   "cell_type": "markdown",
   "metadata": {},
   "source": [
    "¿Cómo accederías al valor `'e^{iπ}-1=0'`?"
   ]
  },
  {
   "cell_type": "code",
   "execution_count": null,
   "metadata": {},
   "outputs": [],
   "source": []
  },
  {
   "cell_type": "markdown",
   "metadata": {},
   "source": [
    "###  Ejercicio 12 \n",
    "Se tiene los siguientes datos de unos investigadores del área de lenguajes y sistemas informáticos:\n",
    "- Nombre: Juan José Rodríguez, email: jjrodriguez@ubu.es, h-index: 22.\n",
    "- Nombre: César Ignacio García Osorio, email: cgosorio@ubu.es, h-index: 14.\n",
    "- Nombre: José Francisco Díez Pastor, email: jfdpastor@ubu.es, h-index: 8.\n",
    "- Nombre: Álvar Arnáiz González, email: alvarag@ubu.es, h-index: 5.\n",
    "\n",
    "Se quiere almacenar esta información con tres listas: `nombres`, `emails`, `h_indeces`, de forma que la información relacionada ocupe las mismas posiciones en cada lista. **Crea dichas listas**."
   ]
  },
  {
   "cell_type": "code",
   "execution_count": 143,
   "metadata": {},
   "outputs": [],
   "source": [
    "# Aquí la definición de las tres listas\n",
    "nombres = [ ]\n",
    "emails = [ ]\n",
    "h_indeces = [ ]\n",
    "# El acceso a los datos de un investigador consistiría en usar \n",
    "# el índice de su posición para recuperar los tres valores, si pos=0: nombre[pos], emails[pos], h_indices[pos]"
   ]
  },
  {
   "cell_type": "markdown",
   "metadata": {},
   "source": [
    "###  Ejercicio 13 \n",
    "Otra representación para los datos del ejercicio 10 sería tener una lista cuyos elementos sean tuplas con los tres valores que se quieren almacenar para cada investigador.  **Crea dicha lista**."
   ]
  },
  {
   "cell_type": "code",
   "execution_count": 144,
   "metadata": {},
   "outputs": [],
   "source": [
    "# Aquí la definición de la lista de tuplas\n",
    "investigadores = [ ]\n",
    "# El acceso a los datos de un investigador consistiría en usar \n",
    "# el índice de su posición para recuperar los tres valores, si pos=0: n, e, h = investigadores[pos]"
   ]
  },
  {
   "cell_type": "markdown",
   "metadata": {},
   "source": [
    "###  Ejercicio 14 \n",
    "Otra representación para los datos del ejercicio 10 sería tener una lista de diccionarios, en la que cada diccionario tenga las tres claves: `nombre`, `email`, `h_index`. **Crea dicha lista**."
   ]
  },
  {
   "cell_type": "code",
   "execution_count": 145,
   "metadata": {},
   "outputs": [],
   "source": [
    "# Aquí la definición de la lista de diccionarios\n",
    "investigadores = [ ]\n",
    "# El acceso a los datos de un investigador consistiría en usar \n",
    "# el índice de su posición para recuperar los tres valores, \n",
    "# si pos=0: inv=investigadores[pos], inv['nombre'], inv['email'], inv['h_index']"
   ]
  },
  {
   "cell_type": "markdown",
   "metadata": {},
   "source": [
    "###  Ejercicio 15 \n",
    "Otra representación para los datos del ejercicio 10 sería tener un diccionario indexado por el email, de forma que el valor asociado a cada clave sea una tupla con el nombre y el h-index. **Crea dicho diccionario**."
   ]
  },
  {
   "cell_type": "code",
   "execution_count": 146,
   "metadata": {},
   "outputs": [],
   "source": [
    "# Aquí la definición del diccionario de tuplas\n",
    "investigadores = dict()\n",
    "# El acceso a los datos de un investigador consistiría en usar \n",
    "# el índice de su posición para recuperar los tres valores, \n",
    "# si nombre, h_index = investigadores['cgosorio@ubu.es']"
   ]
  },
  {
   "cell_type": "code",
   "execution_count": null,
   "metadata": {},
   "outputs": [],
   "source": []
  },
  {
   "cell_type": "markdown",
   "metadata": {},
   "source": [
    "###  Ejercicio 16 \n",
    "Se podrían combinar las representaciones del ejercicio 12 y 13 para tener un diccionario de diccionarios, en el que cada diccionario miembro este indexado por email, y cada uno de estos diccionarios tenga tres claves (incluida de nuevo la del email). **Crea dicho diccionario**."
   ]
  },
  {
   "cell_type": "code",
   "execution_count": 147,
   "metadata": {},
   "outputs": [],
   "source": [
    "# Aquí la definición del diccionario de diccionarios\n",
    "investigadores = dict()\n",
    "# El acceso a los datos de un investigador consistiría en usar \n",
    "# el índice de su posición para recuperar los tres valores, \n",
    "# si nombre, inv = investigadores['cgosorio@ubu.es'], inv['nombre'], inv['email'], inv['h_index']"
   ]
  },
  {
   "cell_type": "code",
   "execution_count": null,
   "metadata": {},
   "outputs": [],
   "source": []
  },
  {
   "cell_type": "markdown",
   "metadata": {},
   "source": [
    "<div class=\"alert alert-info\">\n",
    "   <i style=\"font-size: larger;\" class=\"fa fa-info-circle\" aria-hidden=\"true\"></i> Como ha podido verse, la misma situación puede representarse de varias formas distintas. **Que una representación sea más adecuada que otra dependerá del problema concreto que quiera resolverse**.  \n",
    "</div>\n"
   ]
  },
  {
   "cell_type": "markdown",
   "metadata": {},
   "source": [
    "<div class=\"alert alert-info\">\n",
    "   <i style=\"font-size: larger;\" class=\"fa fa-info-circle\" aria-hidden=\"true\"></i> En esta sesión se han visto las estructuras de datos básicas de Python (se han incluido los arrays de numpy, porque aunque no es un tipo básico del lenguaje, en un contexto científico vamos a estar utilizando el `import numpy as np` prácticamente por sistema). En la siguiente sesión se verán las estructuras de control que permite la manipulación de los datos. Y por último, en la sesión 3 se verán estructuras de datos incluso más potentes, y algunas de las bibliotecas más interesantes en el contexto de la investigación y el análisis de datos.  \n",
    "</div>\n"
   ]
  },
  {
   "cell_type": "code",
   "execution_count": null,
   "metadata": {},
   "outputs": [],
   "source": []
  }
 ],
 "metadata": {
  "kernelspec": {
   "display_name": "Python 3 (ipykernel)",
   "language": "python",
   "name": "python3"
  },
  "language_info": {
   "codemirror_mode": {
    "name": "ipython",
    "version": 3
   },
   "file_extension": ".py",
   "mimetype": "text/x-python",
   "name": "python",
   "nbconvert_exporter": "python",
   "pygments_lexer": "ipython3",
   "version": "3.9.7"
  }
 },
 "nbformat": 4,
 "nbformat_minor": 2
}
