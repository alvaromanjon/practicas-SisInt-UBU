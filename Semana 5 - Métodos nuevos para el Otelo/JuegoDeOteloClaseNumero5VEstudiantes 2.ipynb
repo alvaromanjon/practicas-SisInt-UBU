{
 "cells": [
  {
   "cell_type": "markdown",
   "metadata": {},
   "source": [
    "<img style=\"float:left\" width=\"70%\" src=\"pics/escudo_COLOR_1L_DCHA.png\">\n",
    "<img style=\"float:right\" width=\"15%\" src=\"pics/PythonLogo.svg\">\n",
    "<br style=\"clear:both;\">\n",
    "\n",
    "\n",
    "# Otelo\n",
    "### *Sistemas Inteligentes* (Curso 2022-2023)\n",
    "\n",
    "\n",
    "\n",
    "<h2 style=\"display: inline-block; padding: 4mm; padding-left: 2em; background-color: navy; line-height: 1.3em; color: white; border-radius: 10px;\">Hacia la versión \"manual\" del juego (II) </h2>\n",
    "\n",
    "## Docentes\n",
    "\n",
    " - Pedro Latorre Carmona"
   ]
  },
  {
   "cell_type": "markdown",
   "metadata": {},
   "source": [
    "## Definición de la clase\n",
    "\n",
    "Partimos de la definición de la clase **Tablerootelo** que se vio la semana anterior."
   ]
  },
  {
   "cell_type": "code",
   "execution_count": null,
   "metadata": {},
   "outputs": [],
   "source": [
    "from copy import deepcopy\n",
    "from typing import Tuple, List"
   ]
  },
  {
   "cell_type": "code",
   "execution_count": null,
   "metadata": {},
   "outputs": [],
   "source": [
    "class Tablerootelo:\n",
    "    \n",
    "    def __init__(self, matrix):\n",
    "        self.setMatrix(matrix)\n",
    "    \n",
    "    \n",
    "    def __eq__(self, other) -> bool:\n",
    "        \n",
    "        \n",
    " #      return XXXXXXXXXXXXX\n",
    "    \n",
    "    \n",
    "    def setMatrix(self, matrix):\n",
    "        self.matrix = deepcopy(matrix)\n",
    "    \n",
    "    \n",
    "    def getMatrix(self) -> List[List]:\n",
    "        return deepcopy(self.matrix)\n",
    "    \n",
    "    \n",
    "    def placeTile(self, row: int, col: int, tile: int):\n",
    "        self.matrix[row-1][col-1] = tile\n",
    "        \n",
    "        \n",
    "    def utility(self) -> int:\n",
    " \n",
    "\n",
    "    #           CÓDIGO, AQUÍ\n",
    "\n",
    "    \n",
    "    #   return XXXXXXXXXX"
   ]
  },
  {
   "cell_type": "markdown",
   "metadata": {},
   "source": [
    "---\n",
    "## Generación de una función que determine el número de fichas que se dan la vuelta al *elegir* una determinada casilla\n",
    "\n",
    "La idea de este Notebook es empezar a trabajar en una función que permita obtener el número de fichas que se dan la vuelta, alrededor de la posición que se está evaluando.\n",
    "\n",
    "Para ello, hemos de hacer una *búsqueda* en las 8 posibles direcciones que se pueden definir a partir de una determinada casilla. Es decir:\n",
    "\n",
    "<img src=\"pics/EspacioBusquedaCasillas.png\">\n",
    "\n",
    "Esta función debe devolver un **número entero** correspondiente al número **total** de fichas del jugador contrario que se darían la vuelta si un determinado jugador ocupara una casilla de coordenadas *(fila,columna)*."
   ]
  },
  {
   "cell_type": "code",
   "execution_count": null,
   "metadata": {},
   "outputs": [],
   "source": [
    "class Tablerootelo:\n",
    "    \n",
    "    def __init__(self, matrix):\n",
    "        self.setMatrix(matrix)\n",
    "    \n",
    "    \n",
    "    def __eq__(self, other) -> bool:\n",
    "        \n",
    "        \n",
    " #      return XXXXXXXXXXXXX\n",
    "    \n",
    "    \n",
    "    def setMatrix(self, matrix):\n",
    "        self.matrix = deepcopy(matrix)\n",
    "    \n",
    "    \n",
    "    def getMatrix(self) -> List[List]:\n",
    "        return deepcopy(self.matrix)\n",
    "    \n",
    "    \n",
    "    def placeTile(self, row: int, col: int, tile: int):\n",
    "        self.matrix[row-1][col-1] = tile\n",
    "        \n",
    "        \n",
    "    def utility(self) -> int:\n",
    " \n",
    "\n",
    "    #           CÓDIGO, AQUÍ\n",
    "\n",
    "    \n",
    "    #   return XXXXXXXXXX\n",
    "    \n",
    "    \n",
    "# ==============================================================================================================================\n",
    "# La función va a ser de la siguiente forma:\n",
    "#\n",
    "# def isAvailable(tablero, fila, columna, playerID, PLAYMODE=True):\n",
    "#\n",
    "# donde:\n",
    "# a) tablero: Es un tablero (valga la redundancia/frase). En este caso, es una lista de listas, a modo de MATRIZ.\n",
    "#\n",
    "# b) (fila, columna): Posición de fila y columna de una casilla que toca el ratón, cuando tomo la decisión.\n",
    "#\n",
    "# c) jugador: Identificador del jugador. El jugador \"1\" soy YO (fichas NEGRAS). El jugador \"2\" es el ordenador \n",
    "# (fichas BLANCAS).\n",
    "#\n",
    "# d) PLAYMODE=True, si se está en modo JUEGO. Si se está en modo BÚSQUEDA, PLAYMODE=False.\n",
    "#\n",
    "# OBJETIVOS: \n",
    "# \n",
    "# 1) Hay que crear 8 bloques de búsqueda para cada una de las 8 direcciones potenciales que aparecen en el dibujo superior.\n",
    "#\n",
    "# 2) Hay que identificar el número de posiciones ocupadas POR EL OTRO, PARTIENDO de esa posición, teniendo en cuenta\n",
    "# el conjunto total de direcciones de movimiento. Es decir, la suma será sobre el conjunto de las 8 direcciones posibles de\n",
    "# movimiento.\n",
    "#\n",
    "# ==============================================================================================================================\n",
    "\n",
    "    def isAvailable(self, fila: int, columna: int, jugador: int, PLAYMODE:bool) -> int:\n",
    "   \n",
    "    \n",
    "    # CÓDIGO, AQUÍ DENTRO.\n",
    "    #\n",
    "    # Se devuelve una variable \"contadora\" que es el número de fichas que potencialmente SE DARÍAN LA VUELTA.\n",
    "\n",
    "        \n",
    "    \n",
    "    return contador"
   ]
  },
  {
   "cell_type": "markdown",
   "metadata": {},
   "source": [
    "**IMPORTANTE**: Las funciones que planteo debajo deberían **incorporarse** a la clase, y ser programadas con las peculiaridades asociadas a estar dentro de una **clase**. "
   ]
  },
  {
   "cell_type": "markdown",
   "metadata": {},
   "source": [
    "---\n",
    "### Función que determina si cualquier tipo de movimiento se puede realizar\n",
    "\n",
    "Incluid una función que devuelva **verdadero** o **falso** dependiendo de si, para un estado determinado, se puede realizar cualquier tipo de movimiento."
   ]
  },
  {
   "cell_type": "code",
   "execution_count": null,
   "metadata": {},
   "outputs": [],
   "source": [
    "def moveCanBeMade(self, jugador: int) -> bool:\n",
    "\n",
    "    # CÓDIGO, AQUÍ. \n",
    "    \n",
    "    # movesFound es una variable boolena, que devuelve \"verdadero\" o \"falso\", dependiendo de si se puede hacer \n",
    "    # cualquier tipo de movimiento, o no.\n",
    "    \n",
    "    \n",
    "    return movesFound"
   ]
  },
  {
   "cell_type": "markdown",
   "metadata": {},
   "source": [
    "### Función que determina si el juego ha terminado\n",
    "\n",
    "Incluid una función que devuelva, en función del número de fichas blancas o negras que posee un tablero, en un determinado momento, un valor de $1$, $2$, o $-1$, si han ganado las fichas **negras**, **blancas**, o se ha producido un **empate**, respectivamente."
   ]
  },
  {
   "cell_type": "code",
   "execution_count": null,
   "metadata": {},
   "outputs": [],
   "source": [
    "def endGame(self) -> int:\n",
    "    \n",
    "    \n",
    "        # CÓDIGO, AQUÍ.\n",
    "        \n",
    "    \n",
    "    return victoria"
   ]
  },
  {
   "cell_type": "markdown",
   "metadata": {},
   "source": [
    "### Función que ejecuta el movimiento \n",
    "\n",
    "Esta función tiene que analizar si:\n",
    "\n",
    "1. El movimiento se puede realizar. \n",
    "2. Si el movimiento no se puede realizar, si el del otro jugador, sí se puede\n",
    "3. Si al realizar cualquiera de los movimientos, el juego se termina\n",
    "\n",
    "Teniendo en cuenta los $3$ puntos anteriores, debería:\n",
    "\n",
    "- Si el movimiento se puede hacer, que se haga\n",
    "- Si le corresponde jugar al ordenador, que llame a la función que ha de hacer el movimiento en **MINIMAX**."
   ]
  },
  {
   "cell_type": "code",
   "execution_count": null,
   "metadata": {},
   "outputs": [],
   "source": [
    "def performMove(self,x:int, y:int,jugador: int):\n",
    "    \n",
    "    # CÓDIGO, AQUÍ."
   ]
  }
 ],
 "metadata": {
  "kernelspec": {
   "display_name": "Python 3 (ipykernel)",
   "language": "python",
   "name": "python3"
  },
  "language_info": {
   "codemirror_mode": {
    "name": "ipython",
    "version": 3
   },
   "file_extension": ".py",
   "mimetype": "text/x-python",
   "name": "python",
   "nbconvert_exporter": "python",
   "pygments_lexer": "ipython3",
   "version": "3.9.7"
  }
 },
 "nbformat": 4,
 "nbformat_minor": 2
}
