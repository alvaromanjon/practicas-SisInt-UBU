{
 "cells": [
  {
   "cell_type": "markdown",
   "metadata": {},
   "source": [
    "<img style=\"float:left\" width=\"70%\" src=\"pics/escudo_COLOR_1L_DCHA.png\">\n",
    "<img style=\"float:right\" width=\"15%\" src=\"pics/PythonLogo.svg\">\n",
    "<br style=\"clear:both;\">\n",
    "\n",
    "\n",
    "# Minimax\n",
    "### *Sistemas Inteligentes* (Curso 2021-2022)\n",
    "\n",
    "\n",
    "\n",
    "<h2 style=\"display: inline-block; padding: 4mm; padding-left: 2em; background-color: navy; line-height: 1.3em; color: white; border-radius: 10px;\">Fundamentos y estrategias del algoritmo \"Minimax\"</h2>\n",
    "\n",
    "## Docentes\n",
    "\n",
    " - Pedro Latorre Carmona"
   ]
  },
  {
   "cell_type": "markdown",
   "metadata": {},
   "source": [
    "---\n",
    "Si pensamos en un juego en términos de dos jugadores, **Max** y **Min**, jugando de forma alternante, se puede representar el *juego* como un árbol de decisiones. Considerad el siguiente ejemplo:\n",
    "\n",
    "<img width=\"40%\" src=\"pics/EjemploMinimax1.png\">\n",
    "\n",
    "Cada nodo en este árbol (excepto para el caso de los nodos terminales) representa una decisión  que debería hacerse en ese momento en el juego. Decidimos qué movimiento hacer. En este ejemplo, solamente se están considerando dos movimientos, pero, en general, puede haber un número tan grande como queramos.\n",
    "\n",
    "El nodo más arriba (el que está a profundidad $0$) es el **estado actual** del juego. Aquí empezamos con **Max**, ya que es el jugador que quiere maximizar el *score*. En vez de decidir basándose solamente en los posibles movimientos que **Max** puede hacer a partir de ese momento, piensa: \"Después de hacer estos movimientos, ¿qué hará **Min**?\n",
    "\n",
    "Así que llama a **Min**, y le pregunta: \"¿Qué harás si elijo **izquierda**?, y después: \"¿Qué harás si elijo **derecha**?.\n",
    "\n",
    "Después de averiguar qué hará **Min**, **Max** elige la opción que maximiza su score. \n",
    "\n",
    "En general, ¿qué haría entonces **Min**? Pues aplicar la misma estrategia que **Max**, es decir, llamar y preguntar a **Max** qué hará si él hace un determinado movimiento.\n",
    "\n",
    "Y así, se construye un gran árbol, de forma recursiva, hasta que alcanzan un **nivel terminal**. \n",
    "\n",
    "Un **estado** o **nivel terminal** es aquel en el que el juego termina. Sin embargo, dejar explorar todas las posibles alternativas seguramente será demasiado costoso computacionalmente. Por tanto lo que hacemos es fijar una **profundidad máxima**.\n",
    "\n",
    "Al final, lo que tenemos es:\n",
    "\n",
    "<img width=\"40%\" src=\"pics/EjemploMinimax2.png\">\n",
    "\n",
    "Las elecciones hechas por **Min** están marcadas con una flecha. Los scores se propagan del nivel $2$ al $1$. En el caso de **Max** para el nivel $0$:\n",
    "\n",
    "<img width=\"40%\" src=\"pics/EjemploMinimax3.png\">\n",
    "\n",
    "Esto significa que el movimiento óptimo a hacer en el estado actual del juego es el representado por la rama derecha de ese nodo superior, y el score que obtendremos es **al menos** $3$.\n",
    "\n",
    "\n",
    "---"
   ]
  },
  {
   "cell_type": "markdown",
   "metadata": {},
   "source": [
    "## Poda $\\alpha-\\beta$\n",
    "\n",
    "La poda $\\alpha-\\beta$ es una estrategia que se usa para mejorar el algoritmo Minimax al permitir que se ignoren algunas ramas del árbol que sabemos, con anterioridad (por anticipado) que no nos ayudarán a tomar la decisión óptima. El nombre viene del hecho de usar dos parámetros ($\\alpha$ y $\\beta$)."
   ]
  },
  {
   "cell_type": "markdown",
   "metadata": {},
   "source": [
    "¿Cómo funciona el método?\n",
    "\n",
    "Cada vez que obtenemos el score de un nodo, lo propagamos hacia arriba en el árbol a su *padre* y lo usamos para establecer una cota inferior o superior del resultado del nodo *padre*.\n",
    "\n",
    "Por ejemplo, en el árbol visto si empezamos evaluando los nodos de izquierda a derecha después de establecer el score del nodo terminal más a la izquierda (el cual es $4$) sabemos que el resultado del nodo *padre* no puede ser mayor de $4$. \n",
    "\n",
    "<img width=\"35%\" src=\"pics/AlfaBeta1.png\">\n",
    "\n",
    "Veamos qué ocurre a continuación. Evaluamos el siguiente nodo terminal y encontramos que el valor para el padre es $3$ y que el nodo arriba no puede ser más pequeño que $3$. \n",
    "\n",
    "<img width=\"35%\" src=\"pics/AlfaBeta2.png\">\n",
    "\n",
    "Si seguimos evaluando los nodos, descubrimos el terminal con valor $2$, y esto significa que su padre debería ser $\\leq 2$.\n",
    "\n",
    "<img width=\"35%\" src=\"pics/AlfaBeta3.png\">\n",
    "\n",
    "Ahora bien, ¿necesitamos evaluar también el último nodo?\n",
    "\n",
    "<img width=\"35%\" src=\"pics/AlfaBeta4.png\">"
   ]
  }
 ],
 "metadata": {
  "kernelspec": {
   "display_name": "Python 3 (ipykernel)",
   "language": "python",
   "name": "python3"
  },
  "language_info": {
   "codemirror_mode": {
    "name": "ipython",
    "version": 3
   },
   "file_extension": ".py",
   "mimetype": "text/x-python",
   "name": "python",
   "nbconvert_exporter": "python",
   "pygments_lexer": "ipython3",
   "version": "3.9.7"
  }
 },
 "nbformat": 4,
 "nbformat_minor": 2
}
