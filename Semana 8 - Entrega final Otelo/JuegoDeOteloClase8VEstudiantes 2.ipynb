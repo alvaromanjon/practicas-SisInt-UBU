{
 "cells": [
  {
   "cell_type": "markdown",
   "metadata": {},
   "source": [
    "<img style=\"float:left\" width=\"70%\" src=\"pics/escudo_COLOR_1L_DCHA.png\">\n",
    "<img style=\"float:right\" width=\"15%\" src=\"pics/PythonLogo.svg\">\n",
    "<br style=\"clear:both;\">\n",
    "\n",
    "\n",
    "# Otelo\n",
    "### *Sistemas Inteligentes* (Curso 2022-2023)\n",
    "\n",
    "\n",
    "\n",
    "<h2 style=\"display: inline-block; padding: 4mm; padding-left: 2em; background-color: navy; line-height: 1.3em; color: white; border-radius: 10px;\">Hacia la versión \"automática\" del juego (II) - performMoveMinMax e Integración</h2>\n",
    "\n",
    "## Docentes\n",
    "\n",
    " - Pedro Latorre Carmona"
   ]
  },
  {
   "cell_type": "markdown",
   "metadata": {},
   "source": [
    "## Definición de la clase\n",
    "\n",
    "Partimos de la definición de la clase **Tablerootelo** que se vio la semana anterior."
   ]
  },
  {
   "cell_type": "code",
   "execution_count": 1,
   "metadata": {},
   "outputs": [],
   "source": [
    "from copy import deepcopy\n",
    "from typing import Tuple, List"
   ]
  },
  {
   "cell_type": "code",
   "execution_count": 2,
   "metadata": {},
   "outputs": [],
   "source": [
    "class Tablerootelo:\n",
    "    \n",
    "   \n",
    "\n",
    "    # LO QUE CORRESPONDA"
   ]
  },
  {
   "cell_type": "markdown",
   "metadata": {},
   "source": [
    "## Función asociada al método *Minimax* (con poda $\\alpha-\\beta$)"
   ]
  },
  {
   "cell_type": "code",
   "execution_count": 16,
   "metadata": {},
   "outputs": [],
   "source": [
    "def miniMax(state:Tablerootelo, currentLevel:int, maxLevel:int, player:int, alpha:int, beta:int, stop:bool) -> Tuple[Tablerootelo, int, bool]:\n",
    "\n",
    "    # LO QUE CORRESPONDA"
   ]
  },
  {
   "cell_type": "markdown",
   "metadata": {},
   "source": [
    "## Generación de la función *performMoveMinMax*"
   ]
  },
  {
   "cell_type": "code",
   "execution_count": 29,
   "metadata": {},
   "outputs": [],
   "source": [
    "# Función que debe proponer la casilla (en coordenadas (row,column)) que el ordenador debe ocupar como su siguiente \n",
    "# MEJOR MOVIMIENTO\n",
    "\n",
    "# Tenemos dos alternativas:\n",
    "    \n",
    "# 1. Que devuelva la casilla a ocupar, y ya otro programa \"pinta\" en el tablero tanto la ocupación de la casilla, como la \n",
    "# actualización\n",
    "\n",
    "# 2. Que dentro del programa llame a otro programa, si éste es el que \"pinta\" la nueva versión del tablero\n",
    "\n",
    "\n",
    "def performMoveMinMax(state:Tablerootelo, player:int):\n",
    "    \n",
    "    \n",
    "    \n",
    "    # CÓDIGO, AQUÍ       \n",
    "    \n",
    "    \n",
    "    \n",
    "    movimiento = Movoptimo\n",
    "    return movimiento"
   ]
  },
  {
   "cell_type": "code",
   "execution_count": 30,
   "metadata": {},
   "outputs": [],
   "source": [
    "# Función que llama a \"performMoveMinMax\" en el caso directamente sea la parte de AI la que tiene que mover, y aparte\n",
    "# de devolver el movimiento, utiliza una variable \"booleana\" llamada \"AIReadyToMove\" que determinará, de cara al resto\n",
    "# del código, si le corresponde o no mover al ordenador.\n",
    "\n",
    "def AIMove(state:Tablerootelo, player:int):\n",
    "    \n",
    "   "
   ]
  },
  {
   "cell_type": "markdown",
   "metadata": {},
   "source": [
    "## Integración de las diferentes partes\n",
    "\n",
    "Quedaría por hacer:\n",
    "\n",
    "1. Crear una versión del tablero con la que empezar a trabajar. Ya os dije que puede ser en *modo texto*, o en la versión que yo os di.\n",
    "\n",
    "\n",
    "2. Crear un programa principal que vaya:\n",
    "\n",
    "- permitiendo que tanto: (a) el jugador como (b) el ordenador jueguen, y \n",
    "- actualizando el tablero acorde a esos movimientos (en el sentido de ir \"mostrando\" las variaciones que se produzcan en el tablero).\n",
    "\n",
    "\n",
    "3. Crear una forma de ejecutar el juego ($= 1 + 2$) mientras se puedan hacer movimientos. Podéis usar la sentencia *while*, por ejemplo. Es decir, **mientras se dé una condición**, se juega. Tenéis que considerar que cuando ya no se puedan hacer más movimientos, de alguna forma **se ha de informar**."
   ]
  },
  {
   "cell_type": "code",
   "execution_count": null,
   "metadata": {},
   "outputs": [],
   "source": []
  }
 ],
 "metadata": {
  "kernelspec": {
   "display_name": "Python 3 (ipykernel)",
   "language": "python",
   "name": "python3"
  },
  "language_info": {
   "codemirror_mode": {
    "name": "ipython",
    "version": 3
   },
   "file_extension": ".py",
   "mimetype": "text/x-python",
   "name": "python",
   "nbconvert_exporter": "python",
   "pygments_lexer": "ipython3",
   "version": "3.9.7"
  }
 },
 "nbformat": 4,
 "nbformat_minor": 2
}
