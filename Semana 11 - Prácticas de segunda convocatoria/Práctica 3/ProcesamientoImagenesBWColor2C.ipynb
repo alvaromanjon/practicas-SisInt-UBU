{
 "cells": [
  {
   "cell_type": "markdown",
   "metadata": {},
   "source": [
    "<img style=\"float:left\" width=\"70%\" src=\"pics/escudo_COLOR_1L_DCHA.png\">\n",
    "<img style=\"float:right\" width=\"15%\" src=\"pics/PythonLogo.svg\">\n",
    "<br style=\"clear:both;\">\n",
    "\n",
    "# Técnicas de procesamiento de imágenes. Histogramas y agrupamiento.\n",
    "\n",
    "En este **Notebook**, se realizará la práctica 3 de la parte de laboratorio de la asignatura, en su versión de segunda convocatoria (2C). Se aplicarán técnicas asociadas al **histograma** de una imagen, y al **agrupamiento de datos**, para imágenes en color.\n",
    "\n",
    "## Autor\n",
    "- Pedro Latorre Carmona"
   ]
  },
  {
   "cell_type": "markdown",
   "metadata": {
    "collapsed": true
   },
   "source": [
    "# Objetivos\n",
    "\n",
    "Los objetivos de la práctica 3 en segunda convocatoria son tres:\n",
    "\n",
    "- Hacer una implementación propia de los siguientes 2 métodos de umbralización sobre imágenes en escala de grises, y comparar los resultados con los métodos que se obtienen en la librería de **scikit-image**.\n",
    "\n",
    "\n",
    "    - Método de **Otsu global**\n",
    "    - Método de **Otsu local**\n",
    "    \n",
    "\n",
    "- Hacer un estudio de la variación del resultado de binarización del método de **Ostu local**, con el tamaño $N\\times N$ de la ventana utilizada.\n",
    "\n",
    "\n",
    "- Hacer una **implementación propia** del método **Fuzzy C-Means**, y ejecutarlo sobre dos de las imágenes en color, analizando la variación del resultado con:\n",
    "\n",
    "\n",
    "    - Número de iteraciones\n",
    "    - Valor del parámetro de **fuzziness** (m)\n",
    "    - Número de grupos.\n",
    "\n",
    "Los detalles del método Fuzzy C-means se pueden encontrar en:\n",
    "\n",
    "https://es.wikipedia.org/wiki/Fuzzy_clustering\n",
    "\n",
    "El algoritmo a implementar está en la Sección **Algoritmos Fuzzy c-means**."
   ]
  },
  {
   "cell_type": "code",
   "execution_count": null,
   "metadata": {},
   "outputs": [],
   "source": []
  }
 ],
 "metadata": {
  "kernelspec": {
   "display_name": "Python 3 (ipykernel)",
   "language": "python",
   "name": "python3"
  },
  "language_info": {
   "codemirror_mode": {
    "name": "ipython",
    "version": 3
   },
   "file_extension": ".py",
   "mimetype": "text/x-python",
   "name": "python",
   "nbconvert_exporter": "python",
   "pygments_lexer": "ipython3",
   "version": "3.9.7"
  }
 },
 "nbformat": 4,
 "nbformat_minor": 2
}
