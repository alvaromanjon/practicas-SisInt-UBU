{
 "cells": [
  {
   "cell_type": "markdown",
   "metadata": {},
   "source": [
    "<img style=\"float:left\" width=\"70%\" src=\"pics/escudo_COLOR_1L_DCHA.png\">\n",
    "<img style=\"float:right\" width=\"15%\" src=\"pics/PythonLogo.svg\">\n",
    "<br style=\"clear:both;\">\n",
    "\n",
    "# Evaluación de la base de datos *Drug classification*\n",
    "\n",
    "En este *Notebook* se debe realizar el trabajo para obtener la tasa de clasificación sobre la base de datos de **Kaggle** de *clasificación de drogas*, utilizando el método de clasificación de **Support Vector Machines** (**SVM**), con parámetros $(C,\\gamma)$ obtenidos mediante *búsqueda en rejilla* (*grid search*).\n",
    "\n",
    "## Autor\n",
    "- Pedro Latorre Carmona\n",
    "\n",
    "### Curso\n",
    "- 2022-2023"
   ]
  },
  {
   "cell_type": "markdown",
   "metadata": {},
   "source": [
    "Esta base de datos la podéis encontrar en:\n",
    "\n",
    "https://www.kaggle.com/datasets/prathamtripathi/drug-classification\n",
    "\n",
    "No obstante, en el fichero comprimido de la práctica, tenéis el correspondiente fichero *.csv* en la carpeta *DrugClassification*.\n",
    "\n",
    "Cuando abráis dicho fichero, por ejemplo, con **openoffice**, veréis que tiene el siguiente aspecto:\n",
    "\n",
    "<img src=\"pics/DCHowItLooksLike.png\">\n",
    "\n",
    "Lo primero que tenéis que hacer es convertir aquellas columnas que tengan valores no numéricos, a equivalentes numéricos con los que poder trabajar. Eso incluye la última columna, que debe ser considerada como la columna de las etiquetas. \n",
    "\n",
    "El conjunto de los objetivos es el mismo que en el caso de la práctica 2 de primera convocatoria, y se evaluará de la misma forma.\n",
    "\n",
    "**IMPORTANTE**\n",
    "\n",
    "Tenéis que hacer el mismo tipo de estudio que en el caso de la práctica 2 de la primera convocatoria, pero en este caso, para esta base de datos."
   ]
  },
  {
   "cell_type": "code",
   "execution_count": null,
   "metadata": {},
   "outputs": [],
   "source": []
  }
 ],
 "metadata": {
  "kernelspec": {
   "display_name": "Python 3 (ipykernel)",
   "language": "python",
   "name": "python3"
  },
  "language_info": {
   "codemirror_mode": {
    "name": "ipython",
    "version": 3
   },
   "file_extension": ".py",
   "mimetype": "text/x-python",
   "name": "python",
   "nbconvert_exporter": "python",
   "pygments_lexer": "ipython3",
   "version": "3.9.7"
  }
 },
 "nbformat": 4,
 "nbformat_minor": 2
}
