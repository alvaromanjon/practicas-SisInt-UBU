{
 "cells": [
  {
   "attachments": {},
   "cell_type": "markdown",
   "metadata": {},
   "source": [
    "<img style=\"float:left\" width=\"70%\" src=\"pics/escudo_COLOR_1L_DCHA.png\">\n",
    "<img style=\"float:right\" width=\"15%\" src=\"pics/PythonLogo.svg\">\n",
    "<br style=\"clear:both;\">\n",
    "\n",
    "\n",
    "# Juego de *Otelo* **inverso**\n",
    "### Curso 2022-2023\n",
    "\n",
    "\n",
    "\n",
    "<h2 style=\"display: inline-block; padding: 4mm; padding-left: 2em; background-color: navy; line-height: 1.3em; color: white; border-radius: 10px;\">Propuesta</h2>\n",
    "\n",
    "## Docentes\n",
    "\n",
    " - Pedro Latorre Carmona\n",
    "\n",
    "## Alumno\n",
    "- Álvaro Manjón Vara"
   ]
  },
  {
   "cell_type": "markdown",
   "metadata": {},
   "source": [
    "---\n",
    "\n",
    "# Reglas y objetivos\n",
    "\n",
    "\n",
    "El juego de **Otelo** se compone de un tablero con forma cuadrada con 8 casillas de lado ($8\\times8 = 64$ casillas en total), y 64 fichas con dos caras: Una, negra y otra, blanca.\n",
    "\n",
    "En el juego de **Otelo inverso**, para esta **segunda convocatoria**, vamos a tener un tablero de $10\\times10$, y el objetivo en este caso es terminar con el **menor número de fichas posible**, teniendo en cuenta que siempre hemos de mover, y que se ha de intentar siempre darle la vuelta a una ficha del jugador contrario.\n",
    "\n",
    "Por tanto, en esta versión del juego:\n",
    "\n",
    "- Hay que aumentar el tamaño del tablero, a uno de $10\\times10$\n",
    "\n",
    "- Hay que inventarse una heurística que funcione para el nuevo objetivo del juego.\n",
    "\n",
    "- Jugadores y dinámica restantes, son iguales.\n",
    "\n",
    "En esta práctica:\n",
    "\n",
    "- La división/peso de los puntos a la hora de la calificación es la misma que en el caso de la versión original del juego de **Otelo**.\n",
    "\n",
    "- Todo lo demás también se mantiene igual, salvo por el objetivo a cumplir y el tamaño del tablero."
   ]
  },
  {
   "cell_type": "code",
   "execution_count": 1,
   "metadata": {},
   "outputs": [],
   "source": [
    "from copy import deepcopy\n",
    "from typing import Tuple, List"
   ]
  },
  {
   "attachments": {},
   "cell_type": "markdown",
   "metadata": {},
   "source": [
    "# Creación del tablero"
   ]
  },
  {
   "cell_type": "code",
   "execution_count": 2,
   "metadata": {},
   "outputs": [],
   "source": [
    "def crearTablero(tamaño: int) -> list:\n",
    "  \"\"\"\n",
    "  Crea un tablero vacío con las fichas iniciales de tamaño n x n.\n",
    "  \"\"\"\n",
    "  # Creación del tablero vacío\n",
    "  tablero = [[0 for i in range(tamaño)] for j in range(tamaño)]\n",
    "\n",
    "  # Colocación de las fichas iniciales\n",
    "  primeraCasilla = int(len(tablero)/2 - 1)\n",
    "  segundaCasilla = int(len(tablero)/2)\n",
    "  tablero[primeraCasilla][primeraCasilla] = 1\n",
    "  tablero[primeraCasilla][segundaCasilla] = 2\n",
    "  tablero[segundaCasilla][primeraCasilla] = 2\n",
    "  tablero[segundaCasilla][segundaCasilla] = 1\n",
    "\n",
    "  # Visualización del tablero\n",
    "  for i in range(len(tablero)):\n",
    "    for j in range(len(tablero[i])):\n",
    "      print(tablero[i][j], end='')\n",
    "    print()\n",
    "  \n",
    "  return tablero"
   ]
  },
  {
   "cell_type": "code",
   "execution_count": 3,
   "metadata": {},
   "outputs": [
    {
     "name": "stdout",
     "output_type": "stream",
     "text": [
      "0000000000\n",
      "0000000000\n",
      "0000000000\n",
      "0000000000\n",
      "0000120000\n",
      "0000210000\n",
      "0000000000\n",
      "0000000000\n",
      "0000000000\n",
      "0000000000\n"
     ]
    }
   ],
   "source": [
    "tablero = crearTablero(10)"
   ]
  },
  {
   "cell_type": "code",
   "execution_count": 4,
   "metadata": {},
   "outputs": [],
   "source": [
    "def get_content(coord):\n",
    "    \"\"\"\n",
    "    Obtiene el contenido de una determinada posición.\n",
    "    \n",
    "    Parameters\n",
    "    ----------\n",
    "    coord : Posición [y,x] de la que queremos conocer el contenido\n",
    "    \n",
    "    Returns\n",
    "    --------\n",
    "    contenido : Una lista de tamaño 1 .\n",
    "    \"\"\"\n",
    "    contenido = [None]\n",
    "    \n",
    "    if tablero[coord[0]][coord[1]] == 0:\n",
    "        contenido[0] = \"fondorojo\"\n",
    "    elif tablero[coord[0]][coord[1]] == 1:\n",
    "        contenido[0] = \"caranegrafichafondorojo\"\n",
    "    elif tablero[coord[0]][coord[1]] == 2:\n",
    "        contenido[0] = \"carablancafichafondorojo\"\n",
    "                   \n",
    "    \n",
    "    return contenido"
   ]
  },
  {
   "cell_type": "code",
   "execution_count": 5,
   "metadata": {},
   "outputs": [
    {
     "name": "stdout",
     "output_type": "stream",
     "text": [
      "./ImagenesCasillasOtelo/FondoRojo.png\n"
     ]
    }
   ],
   "source": [
    "element_image = {\n",
    "    \"fondorojo\": \"./ImagenesCasillasOtelo/FondoRojo.png\",\n",
    "    \"caranegrafichafondorojo\": \"./ImagenesCasillasOtelo/CaraNegraFichaFondoRojo.png\",\n",
    "    \"carablancafichafondorojo\": \"./ImagenesCasillasOtelo/CaraBlancaFichaFondoRojo.png\"\n",
    "}\n",
    "\n",
    "print(element_image[\"fondorojo\"])"
   ]
  },
  {
   "cell_type": "code",
   "execution_count": 6,
   "metadata": {},
   "outputs": [
    {
     "data": {
      "application/vnd.jupyter.widget-view+json": {
       "model_id": "d35dda1bbe844ccfb5ce4d5bd6e08a1c",
       "version_major": 2,
       "version_minor": 0
      },
      "text/plain": [
       "HTML(value='<style> img.game {width: 37px !important; height: 22px !important;}</style><table><tr><td><img cla…"
      ]
     },
     "metadata": {},
     "output_type": "display_data"
    }
   ],
   "source": [
    "from IPython.display import display\n",
    "from ipywidgets import HTML\n",
    "\n",
    "\n",
    "def get_html():\n",
    "    \"\"\" Muestra una representación gráfica del juego.\n",
    "\n",
    "    Devuelve un \"string\" que contiene HTML\n",
    "\n",
    "    \"\"\" \n",
    "    \n",
    "    \n",
    "    height = len(tablero)\n",
    "    width = len(tablero[0])\n",
    "    \n",
    "    html_string = \"<style> img.game {width: 37px !important; height: 22px !important;}</style><table>\"\n",
    "    \n",
    "\n",
    "\n",
    "    new_row = \"<tr>\"\n",
    "    end_row = \"</tr>\"\n",
    "    \n",
    "    for i in range(height):\n",
    "        html_string+=new_row\n",
    "        for j in range(width):\n",
    "            \n",
    "            content = get_content((i,j))\n",
    "            drawing = element_image[content[0]]\n",
    "            \n",
    "            html = '<td><img class=\"game\" src=%s alt=\"\"></img></td>' % drawing     \n",
    "            \n",
    "            \n",
    "            html_string+=html\n",
    "        html_string+=end_row\n",
    "            \n",
    "    html_string += \"</table>\"\n",
    "        \n",
    "                \n",
    "    return html_string\n",
    "\n",
    "HTML(get_html())"
   ]
  }
 ],
 "metadata": {
  "kernelspec": {
   "display_name": "base",
   "language": "python",
   "name": "python3"
  },
  "language_info": {
   "codemirror_mode": {
    "name": "ipython",
    "version": 3
   },
   "file_extension": ".py",
   "mimetype": "text/x-python",
   "name": "python",
   "nbconvert_exporter": "python",
   "pygments_lexer": "ipython3",
   "version": "3.9.13"
  },
  "vscode": {
   "interpreter": {
    "hash": "2a7084dce4a57fabdb294815b03e7954449d6920124286f14e8400459bb21104"
   }
  }
 },
 "nbformat": 4,
 "nbformat_minor": 2
}
