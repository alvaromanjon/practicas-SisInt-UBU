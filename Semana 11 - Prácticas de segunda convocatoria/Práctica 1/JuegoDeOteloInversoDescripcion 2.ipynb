{
 "cells": [
  {
   "cell_type": "markdown",
   "metadata": {},
   "source": [
    "<img style=\"float:left\" width=\"70%\" src=\"pics/escudo_COLOR_1L_DCHA.png\">\n",
    "<img style=\"float:right\" width=\"15%\" src=\"pics/PythonLogo.svg\">\n",
    "<br style=\"clear:both;\">\n",
    "\n",
    "\n",
    "# Juego de *Otelo* **inverso**\n",
    "### Curso 2022-2023\n",
    "\n",
    "\n",
    "\n",
    "<h2 style=\"display: inline-block; padding: 4mm; padding-left: 2em; background-color: navy; line-height: 1.3em; color: white; border-radius: 10px;\">Propuesta</h2>\n",
    "\n",
    "## Docentes\n",
    "\n",
    " - Pedro Latorre Carmona"
   ]
  },
  {
   "cell_type": "markdown",
   "metadata": {},
   "source": [
    "---\n",
    "\n",
    "# Reglas y objetivos\n",
    "\n",
    "\n",
    "El juego de **Otelo** se compone de un tablero con forma cuadrada con 8 casillas de lado ($8\\times8 = 64$ casillas en total), y 64 fichas con dos caras: Una, negra y otra, blanca.\n",
    "\n",
    "En el juego de **Otelo inverso**, para esta **segunda convocatoria**, vamos a tener un tablero de $10\\times10$, y el objetivo en este caso es terminar con el **menor número de fichas posible**, teniendo en cuenta que siempre hemos de mover, y que se ha de intentar siempre darle la vuelta a una ficha del jugador contrario.\n",
    "\n",
    "Por tanto, en esta versión del juego:\n",
    "\n",
    "- Hay que aumentar el tamaño del tablero, a uno de $10\\times10$\n",
    "\n",
    "- Hay que inventarse una heurística que funcione para el nuevo objetivo del juego.\n",
    "\n",
    "- Jugadores y dinámica restantes, son iguales.\n",
    "\n",
    "En esta práctica:\n",
    "\n",
    "- La división/peso de los puntos a la hora de la calificación es la misma que en el caso de la versión original del juego de **Otelo**.\n",
    "\n",
    "- Todo lo demás también se mantiene igual, salvo por el objetivo a cumplir y el tamaño del tablero."
   ]
  },
  {
   "cell_type": "code",
   "execution_count": null,
   "metadata": {},
   "outputs": [],
   "source": []
  }
 ],
 "metadata": {
  "kernelspec": {
   "display_name": "Python 3 (ipykernel)",
   "language": "python",
   "name": "python3"
  },
  "language_info": {
   "codemirror_mode": {
    "name": "ipython",
    "version": 3
   },
   "file_extension": ".py",
   "mimetype": "text/x-python",
   "name": "python",
   "nbconvert_exporter": "python",
   "pygments_lexer": "ipython3",
   "version": "3.9.7"
  }
 },
 "nbformat": 4,
 "nbformat_minor": 2
}
