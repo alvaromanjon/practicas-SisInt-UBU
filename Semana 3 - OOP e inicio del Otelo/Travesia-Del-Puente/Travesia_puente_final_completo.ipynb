{
 "cells": [
  {
   "cell_type": "markdown",
   "metadata": {
    "slideshow": {
     "slide_type": "slide"
    }
   },
   "source": [
    "# Travesía del puente\n",
    "\n",
    "El objetivo del juego es ayudar a una familia a cruzar el puente. El puente se cruza en completa oscuridad por lo que se necesita una lampara para cruzarlo. Debido a la fragilidad del puente, solo dos personas pueden cruzarlo al mismo tiempo (y, evidentemente, en el mismo sentido). Cada persona cruza a un ritmo diferente y cuando dos personas estén cruzando a la vez deben avanzar al ritmo de la más lenta."
   ]
  },
  {
   "cell_type": "markdown",
   "metadata": {
    "slideshow": {
     "slide_type": "slide"
    }
   },
   "source": [
    "## Reglas \n",
    "\n",
    "- Se tiene una lámpara que dura 30 segundos. Hay que cruzar antes de que se apague.\n",
    "- Solo dos personas máximo pueden cruzar a la vez. Avanzando al ritmo de la más lenta.\n",
    "\n",
    "## Miembros de la familia\n",
    "- Hijo pequeño: 1s\n",
    "- Hijo mayor: 3s\n",
    "- Madre: 6s\n",
    "- Padre 8s\n",
    "- Abuelo 12s"
   ]
  },
  {
   "cell_type": "markdown",
   "metadata": {
    "slideshow": {
     "slide_type": "notes"
    }
   },
   "source": [
    "## Visualización:\n",
    "\n",
    "Podemos ver cómo sería la implementación final del juego de la travesía del puente en el siguiente enlace:\n",
    "\n",
    "https://www.youtube.com/watch?v=OBb_85OVqfs"
   ]
  },
  {
   "cell_type": "markdown",
   "metadata": {
    "slideshow": {
     "slide_type": "slide"
    }
   },
   "source": [
    "# Definiendo estructuras de datos\n",
    "\n",
    "\n",
    "- Representamos el tiempo restante con una variable tiempo.\n",
    "- Representamos dónde se encuentra el candil con una variable booleana (True: Zona en peligro, False: Zona salvados)\n",
    "\n",
    "- Podemos definir cada uno de los familiares como una lista con su nombre y su coste al cruzar.\n",
    "\n",
    "- Vamos a tener una lista *salvados* con los familiares que ya han cruzado y otra lista *en_\\peligro* con los familiares que faltan por cruzar.\n",
    "\n"
   ]
  },
  {
   "cell_type": "markdown",
   "metadata": {
    "slideshow": {
     "slide_type": "slide"
    }
   },
   "source": [
    "Estado sería una clase que contendría las dos listas (*salvados*, *en_\\peligro*), el tiempo y la variable candil.\n",
    "\n",
    "- Habría una función \\_\\_str\\_\\_ que devolvería como string la representación del estado\n",
    "\n",
    "- Habría una función \\_\\_eq\\_\\_ que devolvería si dos estados son iguales. Dos estados son iguales si sus representaciones en modo string lo son.\n",
    "\n",
    "- Habría un metodo \\_\\_hash\\_\\_ para poder usar EstadoTravesiaBase en un set y saber si ya ha sido visitado\n",
    "\n",
    "```Python\n",
    "def __hash__(self):\n",
    "    return hash(self.__str__())\n",
    "```\n",
    "\n",
    "\n"
   ]
  },
  {
   "cell_type": "markdown",
   "metadata": {
    "slideshow": {
     "slide_type": "slide"
    }
   },
   "source": [
    "# ¿Como se implementaría un estado?\n",
    "\n",
    "```Python\n",
    "class EstadoTravesiaBase:\n",
    "    \n",
    "    def __init__(self):\n",
    "\n",
    "        self.tiempo = 30\n",
    "        self.candil = True\n",
    "\n",
    "        hijop = [\"Hijo pequeño\", 1]\n",
    "        # completa\n",
    "\n",
    "        self.en_peligro = []\n",
    "        self.salvados = []\n",
    "        \n",
    "        \n",
    "    def __str__(self):\n",
    "        rep = ''\n",
    "        # completa\n",
    "        return rep\n",
    "    \n",
    "    def __eq__(self, other):        \n",
    "        return self.__str__() == other.__str__()\n",
    "        \n",
    "    def __hash__(self):\n",
    "        return hash(self.__str__())\n",
    "```"
   ]
  },
  {
   "cell_type": "code",
   "execution_count": 1,
   "metadata": {
    "slideshow": {
     "slide_type": "slide"
    }
   },
   "outputs": [],
   "source": [
    "class EstadoTravesiaBase:\n",
    "    \n",
    "    def __init__(self):\n",
    "\n",
    "        self.tiempo = 30\n",
    "        self.candil = True\n",
    "\n",
    "        hijop = [\"Hijo pequeño\", 1]\n",
    "        hijom = [\"Hijo mayor\", 3]\n",
    "        madre = [\"Madre\", 6]\n",
    "        padre = [\"Padre\", 8]\n",
    "        abuelo = [\"Abuelo\", 12]\n",
    "\n",
    "        self.en_peligro = [hijop, hijom, madre, padre, abuelo]\n",
    "        self.salvados = []\n",
    "        \n",
    "        \n",
    "    def __str__(self):\n",
    "        rep = 'Candil {} Peligro {} Salvados {} Tiempo {} \\n'.format(\n",
    "            self.candil,[familiar[0] for familiar in self.en_peligro],\n",
    "            [familiar[0] for familiar in self.salvados],self.tiempo)\n",
    "        return rep\n",
    "    \n",
    "    def __eq__(self, other):        \n",
    "        return self.__str__() == other.__str__()\n",
    "    \n",
    "    def __hash__(self):\n",
    "        return hash(self.__str__())\n",
    "        \n",
    "    \n"
   ]
  },
  {
   "cell_type": "code",
   "execution_count": 2,
   "metadata": {
    "slideshow": {
     "slide_type": "slide"
    }
   },
   "outputs": [
    {
     "name": "stdout",
     "output_type": "stream",
     "text": [
      "Candil True Peligro ['Hijo pequeño', 'Hijo mayor', 'Madre', 'Padre', 'Abuelo'] Salvados [] Tiempo 30 \n",
      "\n"
     ]
    }
   ],
   "source": [
    "# ejemplo de creación de un estado inicial\n",
    "e1 =  EstadoTravesiaBase()\n",
    "print(e1)"
   ]
  },
  {
   "cell_type": "code",
   "execution_count": 3,
   "metadata": {},
   "outputs": [
    {
     "name": "stdout",
     "output_type": "stream",
     "text": [
      "Candil True Peligro ['Hijo pequeño', 'Hijo mayor', 'Madre', 'Padre', 'Abuelo'] Salvados [] Tiempo 30 \n",
      "\n"
     ]
    }
   ],
   "source": [
    "# ejemplo de creación de un estado inicial\n",
    "e1 =  EstadoTravesiaBase()\n",
    "print(e1)"
   ]
  },
  {
   "cell_type": "markdown",
   "metadata": {
    "slideshow": {
     "slide_type": "slide"
    }
   },
   "source": [
    "## ¿Cuales serían serían los estados finales?\n",
    "\n",
    "- Para que quede más compacto vamos a tener un EstadoTravesiaBase solo con la definición del estado y una clase EstadoTravesia que añade las demás funciones necesarias para manipular el estado.\n",
    "\n",
    "- Hacer un EstadoTravesia que herede de EstadoTravesiaBase\n",
    "\n",
    "- Vamos a tener una función *es\\_final()* que devuelve True si el tiempo <= 0 o *en\\_peligro* es la lista vacia.\n",
    "\n",
    "\n",
    "Intenta hacer la función **is_final** dentro de EstadoTravesia. No pases la diapositiva hasta haberlo intentado."
   ]
  },
  {
   "cell_type": "markdown",
   "metadata": {
    "slideshow": {
     "slide_type": "slide"
    }
   },
   "source": [
    "Añade esto a la clase EstadoTravesia\n",
    "\n",
    "```Python\n",
    "def is_final(self):\n",
    "        return len(self.en_peligro)==0 or self.tiempo <= 0\n",
    "    \n",
    "```"
   ]
  },
  {
   "cell_type": "markdown",
   "metadata": {
    "slideshow": {
     "slide_type": "slide"
    }
   },
   "source": [
    "## ¿Cual sería la función que genera los siguientes estados?\n",
    "\n",
    "\n",
    "- Al ir de *en_\\peligro* a *salvados*  se van a mover 2 familiares y al ir de *salvados* a *en_\\peligro* se va a mover solo 1.\n",
    "- Cuando el candil es True va a mover elementos de la lista *en_\\peligro* a la lista *salvados* y si vale False lo contrario.\n",
    "- Cada vez que se hace un movimiento se descuenta el coste del familiar más lento a la variable tiempo y se cambia el valor de candil\n",
    "\n",
    "- Vamos a tener un operador mueve, esta función recibe una lista de familiares (que tendrá tamaño 1 o 2 según sea el valor del candil.)\n",
    "\n",
    "\n"
   ]
  },
  {
   "cell_type": "markdown",
   "metadata": {
    "slideshow": {
     "slide_type": "slide"
    }
   },
   "source": [
    "Se puede tener una función auxiliar *get_posibles_movimientos* que nos diga que familiares se pueden mover en cada momento. \n",
    "- Esta función siempre devuelve **una lista de listas**. \n",
    "    - Si el candil es True va a devolver una lista con todas las combinaciones de 2 familiares posibles de la lista en_peligro. Cada combinación de 2 familiares es una lista.\n",
    "    - Si es False, es el caso en el que un familiar vuelve con el candil, habrá tantas posibilidades como familiares haya en la lista *salvados*. Como la función *mueve* recibe una lista, esta función devolverá listas de listas, cada uno de los posibles movimientos. Serán listas de tamaño 1.\n",
    "\n",
    "En cada movimiento se van a mover 1-2 familiares. Así que *get_posibles_movimientos* va a devolver una lista con todas las combinaciones de 1 y 2 familiares posibles.\n",
    "\n"
   ]
  },
  {
   "cell_type": "markdown",
   "metadata": {
    "slideshow": {
     "slide_type": "slide"
    }
   },
   "source": [
    "### Pistas implementación\n",
    "\n",
    "Para implementarlo se puede usar itertools.combinations que devuelve las posibles combinaciones de un tamaño dado\n",
    "\n",
    "```Python\n",
    "from itertools import combinations\n",
    "\n",
    "x = ['a','b','c','d']\n",
    "\n",
    "list(combinations(x,2)) #devuelve una lista con todas las combinaciones de tamaño 2\n",
    "#list(combinations(x,1)) # devolvería una lista con todas las combinaciones de tamaño 1\n",
    "```\n",
    "\n",
    "Se pueden eliminar elementos de una lista con *remove* y añadirlos con *append*\n",
    "\n",
    "``` Python\n",
    "l1 = [1,2,3,4]\n",
    "l1.remove(2)\n",
    "print(l1)\n",
    "l1.append(5)\n",
    "print(l1)\n",
    "```\n",
    "\n",
    "Intenta implementar una función **mueve(self,mov)** y la función que devuelve todos los posibles movimientos antes de pasar la página y ver la implementación del profesor"
   ]
  },
  {
   "cell_type": "code",
   "execution_count": 4,
   "metadata": {
    "slideshow": {
     "slide_type": "slide"
    }
   },
   "outputs": [],
   "source": [
    "from itertools import combinations\n",
    "\n",
    "class EstadoTravesia(EstadoTravesiaBase):    \n",
    "   \n",
    "    def is_final(self):\n",
    "        return len(self.en_peligro)==0 or self.tiempo <= 0    \n",
    "    \n",
    "    def get_posibles_movimientos(self):        \n",
    "        if self.candil:\n",
    "            return list(combinations(self.en_peligro,2))\n",
    "        else:\n",
    "            return list(combinations(self.salvados,1))\n",
    "        \n",
    "    def mueve(self,mov):\n",
    "        coste_max = 0\n",
    "        for familiar in mov:            \n",
    "            if familiar[1] > coste_max:\n",
    "                coste_max = familiar[1]            \n",
    "            if self.candil:\n",
    "                self.en_peligro.remove(familiar)\n",
    "                self.salvados.append(familiar)\n",
    "            else:\n",
    "                self.salvados.remove(familiar)\n",
    "                self.en_peligro.append(familiar)                \n",
    "        self.tiempo -=coste_max\n",
    "        self.candil = not self.candil "
   ]
  },
  {
   "cell_type": "code",
   "execution_count": 5,
   "metadata": {
    "slideshow": {
     "slide_type": "slide"
    }
   },
   "outputs": [
    {
     "data": {
      "text/plain": [
       "[(['Hijo pequeño', 1], ['Hijo mayor', 3]),\n",
       " (['Hijo pequeño', 1], ['Madre', 6]),\n",
       " (['Hijo pequeño', 1], ['Padre', 8]),\n",
       " (['Hijo pequeño', 1], ['Abuelo', 12]),\n",
       " (['Hijo mayor', 3], ['Madre', 6]),\n",
       " (['Hijo mayor', 3], ['Padre', 8]),\n",
       " (['Hijo mayor', 3], ['Abuelo', 12]),\n",
       " (['Madre', 6], ['Padre', 8]),\n",
       " (['Madre', 6], ['Abuelo', 12]),\n",
       " (['Padre', 8], ['Abuelo', 12])]"
      ]
     },
     "execution_count": 5,
     "metadata": {},
     "output_type": "execute_result"
    }
   ],
   "source": [
    "# Ejemplo de como se usaría get_posibles_movimientos\n",
    "e1 =  EstadoTravesia()\n",
    "posible_movs = e1.get_posibles_movimientos()\n",
    "posible_movs"
   ]
  },
  {
   "cell_type": "code",
   "execution_count": 6,
   "metadata": {},
   "outputs": [
    {
     "data": {
      "text/plain": [
       "[(['Hijo pequeño', 1], ['Hijo mayor', 3]),\n",
       " (['Hijo pequeño', 1], ['Madre', 6]),\n",
       " (['Hijo pequeño', 1], ['Padre', 8]),\n",
       " (['Hijo pequeño', 1], ['Abuelo', 12]),\n",
       " (['Hijo mayor', 3], ['Madre', 6]),\n",
       " (['Hijo mayor', 3], ['Padre', 8]),\n",
       " (['Hijo mayor', 3], ['Abuelo', 12]),\n",
       " (['Madre', 6], ['Padre', 8]),\n",
       " (['Madre', 6], ['Abuelo', 12]),\n",
       " (['Padre', 8], ['Abuelo', 12])]"
      ]
     },
     "execution_count": 6,
     "metadata": {},
     "output_type": "execute_result"
    }
   ],
   "source": [
    "e1 =  EstadoTravesia()\n",
    "posible_movs = e1.get_posibles_movimientos()\n",
    "posible_movs"
   ]
  },
  {
   "cell_type": "code",
   "execution_count": 7,
   "metadata": {
    "slideshow": {
     "slide_type": "slide"
    }
   },
   "outputs": [
    {
     "name": "stdout",
     "output_type": "stream",
     "text": [
      "Candil False Peligro ['Madre', 'Padre', 'Abuelo'] Salvados ['Hijo pequeño', 'Hijo mayor'] Tiempo 27 \n",
      "\n"
     ]
    }
   ],
   "source": [
    "# Ejemplo de como se usaría mueve para realizar un movimiento\n",
    "\n",
    "e1.mueve(posible_movs[0])\n",
    "print(e1)"
   ]
  },
  {
   "cell_type": "markdown",
   "metadata": {
    "slideshow": {
     "slide_type": "slide"
    }
   },
   "source": [
    "# Ultimas adaptaciones\n",
    "\n",
    "### Llevar un registro de los movimientos efectuados\n",
    "\n",
    "- Para recuperar la solución vamos a crear un nuevo atributo de EstadoTravesia llamado **registro** de tipo str.\n",
    "- Va a almacenar una nueva linea por cada movimiento efectuado.\n",
    "    - Habría que modificar la función mueve para llevar a cabo este registro.\n",
    "\n"
   ]
  },
  {
   "cell_type": "code",
   "execution_count": 8,
   "metadata": {
    "slideshow": {
     "slide_type": "slide"
    }
   },
   "outputs": [],
   "source": [
    "from itertools import combinations\n",
    "\n",
    "class EstadoTravesia(EstadoTravesiaBase):\n",
    "    \n",
    "    def __init__(self):\n",
    "        EstadoTravesiaBase.__init__(self)\n",
    "        self.registro ='Candil {} Peligro {} Salvados {} Tiempo {} \\n'.format(\n",
    "            self.candil,[familiar[0] for familiar in self.en_peligro],\"\",self.tiempo)       \n",
    "        \n",
    "    def is_final(self):\n",
    "        return len(self.en_peligro)==0 or self.tiempo <= 0\n",
    "    \n",
    "    def get_posibles_movimientos(self):        \n",
    "        if self.candil:\n",
    "            return list(combinations(self.en_peligro,2))\n",
    "        else:\n",
    "            return list(combinations(self.salvados,1))\n",
    "        \n",
    "    def mueve(self,mov):\n",
    "        coste_max = 0\n",
    "        for familiar in mov:            \n",
    "            if familiar[1] > coste_max:\n",
    "                coste_max = familiar[1]            \n",
    "            if self.candil:\n",
    "                self.en_peligro.remove(familiar)\n",
    "                self.salvados.append(familiar)\n",
    "            else:\n",
    "                self.salvados.remove(familiar)\n",
    "                self.en_peligro.append(familiar)                \n",
    "        self.tiempo -=coste_max\n",
    "        self.candil = not self.candil         \n",
    "        self.registro+='Candil {} Tiempo {} Muevo {} \\n'.format(\n",
    "            self.candil,self.tiempo,[familiar[0] for familiar in mov])"
   ]
  },
  {
   "cell_type": "code",
   "execution_count": 9,
   "metadata": {
    "slideshow": {
     "slide_type": "slide"
    }
   },
   "outputs": [
    {
     "name": "stdout",
     "output_type": "stream",
     "text": [
      "Candil True Peligro ['Hijo pequeño', 'Hijo mayor', 'Madre', 'Padre', 'Abuelo'] Salvados  Tiempo 30 \n",
      "Candil False Tiempo 27 Muevo ['Hijo pequeño', 'Hijo mayor'] \n",
      "Candil True Tiempo 26 Muevo ['Hijo pequeño'] \n",
      "\n"
     ]
    }
   ],
   "source": [
    "e1 =  EstadoTravesia()\n",
    "posible_movs = e1.get_posibles_movimientos()\n",
    "e1.mueve(posible_movs[0])\n",
    "posible_movs = e1.get_posibles_movimientos()\n",
    "e1.mueve(posible_movs[0])\n",
    "\n",
    "print(e1.registro)\n"
   ]
  },
  {
   "cell_type": "code",
   "execution_count": 10,
   "metadata": {},
   "outputs": [
    {
     "name": "stdout",
     "output_type": "stream",
     "text": [
      "Candil True Peligro ['Hijo pequeño', 'Hijo mayor', 'Madre', 'Padre', 'Abuelo'] Salvados  Tiempo 30 \n",
      "Candil False Tiempo 27 Muevo ['Hijo pequeño', 'Hijo mayor'] \n",
      "Candil True Tiempo 26 Muevo ['Hijo pequeño'] \n",
      "\n"
     ]
    }
   ],
   "source": [
    "e1 =  EstadoTravesia()\n",
    "posible_movs = e1.get_posibles_movimientos()\n",
    "e1.mueve(posible_movs[0])\n",
    "posible_movs = e1.get_posibles_movimientos()\n",
    "e1.mueve(posible_movs[0])\n",
    "\n",
    "print(e1.registro)"
   ]
  },
  {
   "cell_type": "markdown",
   "metadata": {
    "slideshow": {
     "slide_type": "slide"
    }
   },
   "source": [
    "# Resolución del problema: Búsqueda en profundidad\n",
    "\n",
    "\n",
    "```Python\n",
    "def dfs(estadoInicial):\n",
    "    visitados, pila = set(), [estadoInicial]\n",
    "    while pila: # mientras queden elementos en la pila, cojo el primero\n",
    "        actual = pila.pop()\n",
    "        \n",
    "        if is_meta(actual): # evaluo si es meta\n",
    "            return actual        \n",
    "        \n",
    "        if actual not in visitados: # si no es meta y no había sido visitado anteriormente lo expando\n",
    "            visitados.add(actual)\n",
    "            suc = sucesores(actual,visitados)\n",
    "            pila.extend(suc)\n",
    "    \n",
    "```\n",
    "Más explicaciones en la siguiente diapositiva"
   ]
  },
  {
   "cell_type": "markdown",
   "metadata": {
    "slideshow": {
     "slide_type": "slide"
    }
   },
   "source": [
    "Recordatorio extends\n",
    "```Python\n",
    "l1 = [1,2,3,4]\n",
    "l1.extend([5,6,7])\n",
    "l1\n",
    "\n",
    "[1, 2, 3, 4, 5, 6, 7]\n",
    "\n",
    "```\n",
    "- Haría falta una función *is_meta* que devuelve True cuando todos los familiares están a salvo y el tiempo es mayor o igual que 0.\n",
    "\n",
    "- Haría falta una función sucesores que devuelve una lista de estados sucesores:\n",
    "    - genera un estado nuevo por cada posible movimiento que se pueda hacer\n",
    "    - no devuelve estados que ya estuviesen visitados\n",
    "    - cada estado que devuelve se genera de una copia del estado original, para no cambiar los valores del estado original. Pista  copia = copy.deepcopy(estado)\n",
    "    - si es un estado final devuelve la lista vacia\n",
    "    \n",
    "  \n",
    "- Intenta implementar ambas funciones antes de pasar de diapositiva.\n"
   ]
  },
  {
   "cell_type": "code",
   "execution_count": 11,
   "metadata": {},
   "outputs": [],
   "source": [
    "t = (2, \"mit\", 3)"
   ]
  },
  {
   "cell_type": "code",
   "execution_count": 12,
   "metadata": {},
   "outputs": [
    {
     "data": {
      "text/plain": [
       "(2, 'mit')"
      ]
     },
     "execution_count": 12,
     "metadata": {},
     "output_type": "execute_result"
    }
   ],
   "source": [
    "t[0:2]"
   ]
  },
  {
   "cell_type": "code",
   "execution_count": 13,
   "metadata": {
    "slideshow": {
     "slide_type": "slide"
    }
   },
   "outputs": [],
   "source": [
    "import copy\n",
    "\n",
    "\n",
    "def is_meta(estado):\n",
    "    if len(estado.en_peligro)==0 and estado.tiempo>=0:\n",
    "        return True\n",
    "    else:\n",
    "        return False\n",
    "    \n",
    "    \n",
    "def sucesores(estado,visitados):\n",
    "    \n",
    "    if estado.is_final():\n",
    "        return []    \n",
    "    sucesores = []\n",
    "    posible_movs = estado.get_posibles_movimientos()\n",
    "    \n",
    "    for mov in posible_movs:\n",
    "        estadoCopy = copy.deepcopy(estado)\n",
    "        estadoCopy.mueve(mov)\n",
    "        \n",
    "        if not estadoCopy in visitados:\n",
    "            sucesores.append(estadoCopy)\n",
    "            \n",
    "    return sucesores"
   ]
  },
  {
   "cell_type": "code",
   "execution_count": 14,
   "metadata": {},
   "outputs": [
    {
     "name": "stdout",
     "output_type": "stream",
     "text": [
      "Candil True Peligro ['Hijo pequeño', 'Hijo mayor', 'Madre', 'Padre', 'Abuelo'] Salvados [] Tiempo 30 \n",
      "\n"
     ]
    }
   ],
   "source": [
    "e1 =  EstadoTravesia()\n",
    "print(e1)"
   ]
  },
  {
   "cell_type": "code",
   "execution_count": 15,
   "metadata": {
    "slideshow": {
     "slide_type": "slide"
    }
   },
   "outputs": [],
   "source": [
    "def dfs(estadoInicial):\n",
    "    visitados, pila = set(), [estadoInicial]\n",
    "    while pila:\n",
    "               \n",
    "        actual = pila.pop()\n",
    "        #print(actual)\n",
    "        \n",
    "        if is_meta(actual):\n",
    "            return actual        \n",
    "\n",
    "        if actual not in visitados:\n",
    "            visitados.add(actual)\n",
    "            suc = sucesores(actual,visitados)            \n",
    "            pila.extend(suc)\n",
    "                        "
   ]
  },
  {
   "cell_type": "code",
   "execution_count": 16,
   "metadata": {},
   "outputs": [
    {
     "name": "stdout",
     "output_type": "stream",
     "text": [
      "Candil True Peligro ['Hijo pequeño', 'Hijo mayor', 'Madre', 'Padre', 'Abuelo'] Salvados  Tiempo 30 \n",
      "Candil False Tiempo 24 Muevo ['Hijo pequeño', 'Madre'] \n",
      "Candil True Tiempo 23 Muevo ['Hijo pequeño'] \n",
      "Candil False Tiempo 20 Muevo ['Hijo mayor', 'Hijo pequeño'] \n",
      "Candil True Tiempo 19 Muevo ['Hijo pequeño'] \n",
      "Candil False Tiempo 7 Muevo ['Padre', 'Abuelo'] \n",
      "Candil True Tiempo 4 Muevo ['Hijo mayor'] \n",
      "Candil False Tiempo 1 Muevo ['Hijo pequeño', 'Hijo mayor'] \n",
      "\n"
     ]
    }
   ],
   "source": [
    "e1 =  EstadoTravesia()\n",
    "meta = dfs(e1)\n",
    "print(meta.registro)"
   ]
  },
  {
   "cell_type": "code",
   "execution_count": null,
   "metadata": {},
   "outputs": [],
   "source": []
  }
 ],
 "metadata": {
  "celltoolbar": "Slideshow",
  "kernelspec": {
   "display_name": "Python 3",
   "language": "python",
   "name": "python3"
  },
  "language_info": {
   "codemirror_mode": {
    "name": "ipython",
    "version": 3
   },
   "file_extension": ".py",
   "mimetype": "text/x-python",
   "name": "python",
   "nbconvert_exporter": "python",
   "pygments_lexer": "ipython3",
   "version": "3.7.4"
  }
 },
 "nbformat": 4,
 "nbformat_minor": 2
}
