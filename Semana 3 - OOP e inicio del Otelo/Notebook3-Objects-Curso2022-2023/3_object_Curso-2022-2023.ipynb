{
 "cells": [
  {
   "cell_type": "markdown",
   "metadata": {
    "slideshow": {
     "slide_type": "-"
    }
   },
   "source": [
    "<img style=\"float:left\" width=\"70%\" src=\"pics/escudo_COLOR_1L_DCHA.png\">\n",
    "<img style=\"float:right\" width=\"15%\" src=\"pics/PythonLogo.svg\">\n",
    "<br style=\"clear:both;\">\n",
    "\n",
    "# Introduccion a la programacion en Python\n",
    "\n",
    "<h2 style=\"display: inline-block; padding: 4mm; padding-left: 2em; background-color: navy; line-height: 1.3em; color: white; border-radius: 10px;\">Orientación a objetos, colecciones</h2>\n",
    "\n",
    "### Docentes\n",
    "\n",
    " - **Pedro Latorre Carmona** (vuestro profesor de prácticas del Curso **2022-2023**)\n",
    " - César Ignacio García Osorio\n",
    " - Juan José Rodríguez Diez\n",
    " - José Francisco Diez Pastor\n",
    " - Álvar Arnaiz González \n",
    " ---"
   ]
  },
  {
   "cell_type": "markdown",
   "metadata": {
    "collapsed": true
   },
   "source": [
    "## Orientación a objetos.\n",
    "\n",
    "- Os he dejado, en el Aula Virtual, una serie de enlaces a vídeos, en el fichero de texto (**Enlaces Interesantes Explicación \"POO\" + \"Python\".txt**)\n",
    "- Los primeros vídeos (del conjunto de la serie) se centran en:\n",
    "    - La razón de la creación de un \"paradigma\" de \"Programación Orientada a Objetos\"\n",
    "    - Cómo se plasma esta necesidad en las características propias de este \"paradigma de programación\"\n",
    "    - Cómo se gestionan las \"propiedades\" y los \"comportamientos\" de las \"clases\".\n",
    "\n",
    "\n",
    "#### Clases\n",
    "- Se definen con la palabra reservada **class** seguida del nombre de la clase, dos puntos y el cuerpo indentado.\n",
    "- El cuerpo incluye las definiciones de todos los métodos de la clase.\n",
    "- Los métodos se definen como funciones normales, pero con un parámetro especial llamado **self**.\n",
    "    - Este parámetro identifica la instancia sobre la que se invoca el método (como *this* en java).\n",
    "    - Al invocar el método no hay que pasar nada a **self**, se invoca con el resto de parámetros.\n",
    "- El constructor es un método especial llamado **\\__init\\__** \n",
    "\n",
    "\n",
    "\n",
    "#### Encapsulación\n",
    "- Está \"soportada\" en Python.\n",
    "- Teniendo en cuenta el \"convenio del punto\", hay que poner un doble guión bajo, justo después de dicho punto (véase vídeo en https://www.youtube.com/watch?v=x5CY8fVyYLo, a partir de [mm:ss]=[16:20]).\n",
    "- Se pueden encapsular tanto \"variables\" como \"métodos\", en ambos casos haciendo uso del \"doble guión bajo\" (actualizando en las otras partes del código donde sea necesario [porque aparezcan también]).\n",
    "\n",
    "---\n"
   ]
  },
  {
   "cell_type": "markdown",
   "metadata": {},
   "source": [
    "### Un pequeñísimo repaso (I): en qué consiste la Programación Orientada a Objetos (POO)\n",
    "\n",
    "<img style=\"float:left\" width=\"80%\" src=\"pics/EnQueConsistePOO.png\">"
   ]
  },
  {
   "cell_type": "markdown",
   "metadata": {},
   "source": [
    "### Un pequeñísimo repaso (II): Ventajas de la Programación Orientada a Objetos (POO)\n",
    "<img style=\"float:left\" width=\"80%\" src=\"pics/POOCaracteristicas.png\">"
   ]
  },
  {
   "cell_type": "markdown",
   "metadata": {},
   "source": [
    "### Un pequeñísimo repaso (III): Qué es una clase\n",
    "<img style=\"float:left\" width=\"80%\" src=\"pics/QueEsUnaClase.png\">"
   ]
  },
  {
   "cell_type": "markdown",
   "metadata": {},
   "source": [
    "### Un pequeñísimo repaso (IV): Qué es una instancia de clase\n",
    "<img style=\"float:left\" width=\"80%\" src=\"pics/QueEsUnaInstanciaDeClase.png\">"
   ]
  },
  {
   "cell_type": "markdown",
   "metadata": {},
   "source": [
    "### Ejemplo de escritura de \"clase\"\n",
    "\n",
    "<img style=\"float:left\" width=\"85%\" src=\"pics/POOCoche.png\">"
   ]
  },
  {
   "cell_type": "markdown",
   "metadata": {},
   "source": [
    "### Constructor e \\__init\\__\n",
    "<img style=\"float:left\" width=\"80%\" src=\"pics/POOConstructorEInit.png\">"
   ]
  },
  {
   "cell_type": "markdown",
   "metadata": {},
   "source": [
    "### Encapsulación de variables\n",
    "\n",
    "<img style=\"float:left\" width=\"85%\" src=\"pics/POOCocheEncapsulacionVariables.png\">"
   ]
  },
  {
   "cell_type": "markdown",
   "metadata": {},
   "source": [
    "### Encapsulación de métodos\n",
    "\n",
    "<img style=\"float:left\" width=\"85%\" src=\"pics/POOCocheEncapsulacionMetodos.png\">"
   ]
  },
  {
   "cell_type": "markdown",
   "metadata": {},
   "source": [
    "### Métodos especiales\n",
    "\n",
    "- Otro método especial es **\\__str\\__** que al invocarlo devuelve una representación de esa clase (equivalente al toString() de Java).\n",
    "- Similar a \\__str\\__ es **\\__repr\\__**. El  \\__str\\__ de una clase contenedor invocará el \\__repr\\__ de los objetos que están en su interior. Lo más fácil es que \\__repr\\__ sea una copia de \\__str\\__\n",
    "\n",
    "- **\\__eq\\__** Necesario parar comparar la igualdad de dos objetos. Debe devolver un booleano.\n",
    "- **\\__hash\\__** Obtiene un valor hash del objeto. Debe devolver un entero. Necesario para usar el objeto dentro de sets o como clave en un diccionario. Una forma fácil de crear un hash es obteniendo el hash de una tupla con todos los elementos del objeto que tomen parte en la comparación\n"
   ]
  },
  {
   "cell_type": "code",
   "execution_count": 1,
   "metadata": {},
   "outputs": [
    {
     "name": "stdout",
     "output_type": "stream",
     "text": [
      "Renault va a 0 km/h\n",
      "Seat va a 0 km/h\n",
      "Renault va a 3 km/h\n",
      "Seat va a 1 km/h\n",
      "Renault va a 0 km/h\n",
      "Seat va a 1 km/h\n"
     ]
    }
   ],
   "source": [
    "class Coche:\n",
    "    \"\"\" \n",
    "    Los comentarios con triple comilla son comentarios de clase o metodos\n",
    "    pueden ocupar varias lineas.\n",
    "    \"\"\"\n",
    "    def __init__(self,nombre):\n",
    "        self._nombre = nombre\n",
    "        self._velocidad = 0\n",
    "    \n",
    "    def acelera(self):\n",
    "        self._velocidad=self._velocidad+1\n",
    "    \n",
    "    def frena(self):\n",
    "        self._velocidad=0\n",
    "    \n",
    "    def __str__(self):\n",
    "        return self._nombre+\" va a \"+str(self._velocidad)+\" km/h\"\n",
    "    \n",
    "    def __repr__(self):\n",
    "        return self._nombre+\" va a \"+str(self._velocidad)+\" km/h\"\n",
    "    \n",
    "    def __eq__(self,other):\n",
    "        return self._nombre == other._nombre\n",
    "    \n",
    "    def __hash__(self):\n",
    "        return hash((self._nombre))\n",
    "\n",
    "coche1=Coche(\"Renault\")\n",
    "coche2=Coche(\"Seat\")\n",
    "print(coche1)\n",
    "print(coche2)\n",
    "\n",
    "coche1.acelera()\n",
    "coche1.acelera()\n",
    "coche1.acelera()\n",
    "coche2.acelera()\n",
    "print(coche1)\n",
    "print(coche2)\n",
    "coche1.frena()\n",
    "\n",
    "print(coche1)\n",
    "print(coche2)\n",
    "\n"
   ]
  },
  {
   "cell_type": "code",
   "execution_count": 6,
   "metadata": {},
   "outputs": [
    {
     "data": {
      "text/plain": [
       "False"
      ]
     },
     "execution_count": 6,
     "metadata": {},
     "output_type": "execute_result"
    }
   ],
   "source": [
    "coche1==coche2"
   ]
  },
  {
   "cell_type": "code",
   "execution_count": 7,
   "metadata": {},
   "outputs": [
    {
     "data": {
      "text/plain": [
       "True"
      ]
     },
     "execution_count": 7,
     "metadata": {},
     "output_type": "execute_result"
    }
   ],
   "source": [
    "coche3=Coche(\"Renault\")\n",
    "coche1==coche3"
   ]
  },
  {
   "cell_type": "code",
   "execution_count": null,
   "metadata": {},
   "outputs": [],
   "source": []
  },
  {
   "cell_type": "markdown",
   "metadata": {},
   "source": [
    "### Herencia\n",
    "\n",
    "- El concepto de herencia es el mismo que en el caso de la **herencia familiar**.\n",
    "- Hay que indicar el nombre de la clase base entre paréntesis. Se redefinen los métodos y se añaden los atributos que sea necesario.\n",
    "- La herencia puede ser *simple* o *múltiple*. En la herencia *múltiple*, una clase hereda métodos de más de una clase principal o padre."
   ]
  },
  {
   "cell_type": "markdown",
   "metadata": {},
   "source": [
    "### ¿Qués es la Herencia?\n",
    "\n",
    "<img style=\"float:left\" width=\"70%\" src=\"pics/QueEsLaHerencia.png\">"
   ]
  },
  {
   "cell_type": "markdown",
   "metadata": {},
   "source": [
    "### Para qué sirve la Herencia\n",
    "\n",
    "<img style=\"float:left\" width=\"70%\" src=\"pics/ParaQueSirveLaHerencia.png\">"
   ]
  },
  {
   "cell_type": "markdown",
   "metadata": {},
   "source": [
    "### Superclase y subclase\n",
    "\n",
    "<img style=\"float:left\" width=\"70%\" src=\"pics/ConceptoSuperclaseClaseSubclase.png\">"
   ]
  },
  {
   "cell_type": "markdown",
   "metadata": {},
   "source": [
    "### Herencia vehículo --> Moto\n",
    "\n",
    "<img style=\"float:left\" width=\"80%\" src=\"pics/POOConstructorEInit.png\">\n",
    "\n",
    "\n",
    "\n",
    "<img style=\"float:left\" width=\"80%\" src=\"pics/HerenciaVehiculoMoto.png\">"
   ]
  },
  {
   "cell_type": "code",
   "execution_count": 2,
   "metadata": {},
   "outputs": [
    {
     "name": "stdout",
     "output_type": "stream",
     "text": [
      "Renault va a 0 km/h\n",
      "Ferrari va a 0 km/h\n",
      "Renault va a 2 km/h\n",
      "Ferrari va a 6 km/h\n"
     ]
    }
   ],
   "source": [
    "class CocheRapido(Coche):\n",
    "    \"\"\" \n",
    "    Coche rápido que acelera mucho más rápido\n",
    "    \"\"\"\n",
    "    def acelera(self):\n",
    "        self._velocidad=self._velocidad+3\n",
    "        \n",
    "coche1=Coche(\"Renault\")\n",
    "coche2=CocheRapido(\"Ferrari\")\n",
    "print(coche1)\n",
    "print(coche2)\n",
    "coche1.acelera()\n",
    "coche1.acelera()\n",
    "coche2.acelera()\n",
    "coche2.acelera()\n",
    "print(coche1)\n",
    "print(coche2)"
   ]
  },
  {
   "cell_type": "markdown",
   "metadata": {},
   "source": [
    "Si necesitamos redefinir el método **\\_\\_init\\_\\_** invocando al **\\_\\_init\\_\\_** de la clase base lo podemos hacer de la siguiente manera:\n",
    "\n",
    "```Python\n",
    "class Persona(object):\n",
    "    \"Clase que representa una persona.\"\n",
    "    def __init__(self, identificacion, nombre, apellido):\n",
    "        \"Constructor de Persona\"\n",
    "        self.identificacion = identificacion\n",
    "        self.nombre = nombre\n",
    "        self.apellido = apellido\n",
    "        \n",
    "        \n",
    "class Alumno(Persona):\n",
    "    \"Clase que representa a un alumno.\"\n",
    "    def __init__(self, identificacion, nombre, apellido, universidad):\n",
    "        \"Constructor de AlumnoFIUBA\"\n",
    "        # llamamos al constructor de Persona\n",
    "        Persona.__init__(self, identificacion, nombre, apellido) # aqui se invoca el constructor del padre\n",
    "        # agregamos el nuevo atributo\n",
    "        self.universidad = universidad\n",
    "\n",
    "\n",
    "```"
   ]
  },
  {
   "cell_type": "markdown",
   "metadata": {},
   "source": [
    "### Clases abstractas\n",
    "En python se conocen como ABCs (*Abstract Base Class*).\n",
    "- No pueden ser instanciadas. Es decir, no se pueden crear *instancias* u *objetos*, haciendo una llamada a la clase correspondiente.\n",
    "- Las clases concretas heredan de las abstractas y proporcionan implementaciones de los métodos declarados en la clase abstracta.\n",
    "\n",
    "Se puede definir una clase abstracta heredando de la clase **ABC** del módulo **abc**. Y se especifican con decoradores cuáles son los métodos abstractos.\n",
    "\n"
   ]
  },
  {
   "cell_type": "markdown",
   "metadata": {},
   "source": [
    "### Pequeñito ejemplo - Clase y método abstracto(s)\n",
    "\n",
    "<img style=\"float:left\" width=\"40%\" src=\"pics/ClaseYMetodoAbstracto.png\">"
   ]
  },
  {
   "cell_type": "code",
   "execution_count": 1,
   "metadata": {},
   "outputs": [],
   "source": [
    "import abc\n",
    "from abc import ABC\n",
    "\n",
    "class CocheAbstracto(ABC):\n",
    "        @abc.abstractmethod\n",
    "        def quien_soy(self):\n",
    "            print(\"Soy un coche abstracto\")\n",
    "\n",
    "#coche = CocheAbstracto()\n",
    "#coche.quien_soy()\n",
    "# esto daría error"
   ]
  },
  {
   "cell_type": "code",
   "execution_count": 4,
   "metadata": {},
   "outputs": [
    {
     "name": "stdout",
     "output_type": "stream",
     "text": [
      "Soy un coche concreto\n"
     ]
    }
   ],
   "source": [
    "class CocheConcreto(CocheAbstracto):\n",
    "    \n",
    "    def quien_soy(self):\n",
    "        print(\"Soy un coche concreto\")\n",
    "\n",
    "coche = CocheConcreto()\n",
    "coche.quien_soy()\n",
    "    \n",
    "    \n",
    "\n"
   ]
  },
  {
   "cell_type": "markdown",
   "metadata": {
    "collapsed": true
   },
   "source": [
    "\n"
   ]
  },
  {
   "cell_type": "code",
   "execution_count": null,
   "metadata": {},
   "outputs": [],
   "source": []
  },
  {
   "cell_type": "code",
   "execution_count": null,
   "metadata": {},
   "outputs": [],
   "source": []
  },
  {
   "cell_type": "code",
   "execution_count": null,
   "metadata": {},
   "outputs": [],
   "source": []
  },
  {
   "cell_type": "markdown",
   "metadata": {},
   "source": [
    "\n"
   ]
  },
  {
   "cell_type": "code",
   "execution_count": null,
   "metadata": {},
   "outputs": [],
   "source": []
  },
  {
   "cell_type": "code",
   "execution_count": null,
   "metadata": {},
   "outputs": [],
   "source": []
  },
  {
   "cell_type": "code",
   "execution_count": null,
   "metadata": {},
   "outputs": [],
   "source": []
  }
 ],
 "metadata": {
  "kernelspec": {
   "display_name": "Python 3 (ipykernel)",
   "language": "python",
   "name": "python3"
  },
  "language_info": {
   "codemirror_mode": {
    "name": "ipython",
    "version": 3
   },
   "file_extension": ".py",
   "mimetype": "text/x-python",
   "name": "python",
   "nbconvert_exporter": "python",
   "pygments_lexer": "ipython3",
   "version": "3.9.7"
  }
 },
 "nbformat": 4,
 "nbformat_minor": 1
}
