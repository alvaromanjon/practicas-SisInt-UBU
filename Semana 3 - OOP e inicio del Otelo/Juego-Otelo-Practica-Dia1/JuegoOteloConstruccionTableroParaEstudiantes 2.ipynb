{
 "cells": [
  {
   "cell_type": "markdown",
   "metadata": {},
   "source": [
    "<img style=\"float:left\" width=\"70%\" src=\"pics/escudo_COLOR_1L_DCHA.png\">\n",
    "<img style=\"float:right\" width=\"15%\" src=\"pics/PythonLogo.svg\">\n",
    "<br style=\"clear:both;\">\n",
    "\n",
    "\n",
    "# Juego de *Otelo*\n",
    "### Primera práctica de *Sistemas Inteligentes* (Curso 2022-2023)\n",
    "\n",
    "\n",
    "\n",
    "<h2 style=\"display: inline-block; padding: 4mm; padding-left: 2em; background-color: navy; line-height: 1.3em; color: white; border-radius: 10px;\">Construcción del tablero</h2>\n",
    "\n",
    "## Docentes\n",
    "\n",
    " - Pedro Latorre Carmona"
   ]
  },
  {
   "cell_type": "markdown",
   "metadata": {},
   "source": [
    "---\n",
    "Tal y como hemos comentado, el juego de **Otelo** se compone de un tablero con forma cuadrada con 8 casillas de lado ($8\\times8 = 64$ casillas en total), y 64 fichas con dos caras: una negra y otra blanca. \n",
    "\n",
    "El objetivo del juego es que el jugador tenga más fichas de su color, al final de la partida (cuando ya no se pueda avanzar en el juego).\n",
    "\n",
    "---"
   ]
  },
  {
   "cell_type": "markdown",
   "metadata": {},
   "source": [
    "En esta práctica, los objetivos a cubrir son:\n",
    "\n",
    "- **Objetivo 1**: Generar un tablero de $8\\times8$ vacío, el cual vendrá representado por una matriz de $8\\times8$ con la letra **E**, que significa *empty*, en inglés.\n",
    "\n",
    "- **Objetivo 2**: Transformar este tablero en una matriz de números, donde estos números serán los asociados a las letras correspondientes. La matriz será, en este primer caso, una *lista de listas*.\n",
    "\n",
    "- **Objetivo 3**: Hacer un programa que permita generar una *lista de listas* donde todos los elementos en dicha lista vengan dados por una constante dada (a elegir por el usuario, por ejemplo).\n",
    "\n",
    "- **Objetivo 4**: Cambiar una posición $(i,j)$ de esa matriz, a un valor diferente. El valor de las posiciones $i$ y $j$ debe programarse de tal forma que se elija de forma aleatoria. "
   ]
  },
  {
   "cell_type": "markdown",
   "metadata": {},
   "source": [
    "---\n",
    "Para cubrir los objetivos $1$ y $2$, vamos a cargar un fichero de texto que va a codificar un tablero ficticio de $8\\times8$, en el que va a haber 4 casillas, dos con el número $1$, y $2$ con el número 2. Las dos con el número $1$, estarán en las coordenadas $(i,j)=(4,4)$ e $(i,j)=(5,5)$. Las dos con el número $2$, estarán en las posiciones $(i,j)=(4,5)$ e $(i,j)=(5,4)$.\n",
    "\n",
    "Las casillas vacías tendrán la letra **E**, las dos casillas con el $1$, tendrán la letra **O**, correspondiente a la palabra **one**. Las dos casillas con el $2$, tendrán la letra **T**, correspondiente a **two**. \n",
    "\n",
    "---"
   ]
  },
  {
   "cell_type": "code",
   "execution_count": 1,
   "metadata": {},
   "outputs": [
    {
     "name": "stdout",
     "output_type": "stream",
     "text": [
      "[0, 0, 0, 0, 0, 0, 0, 0]\n"
     ]
    }
   ],
   "source": [
    "# Generamos una lista de dimensión 1x4, formada toda con un número constante. \n",
    "# En este caso, el número \"0\". \n",
    "\n",
    "import itertools\n",
    "\n",
    "listaVacia=list(itertools.repeat(0,8))\n",
    "print(listaVacia)"
   ]
  },
  {
   "cell_type": "code",
   "execution_count": 2,
   "metadata": {},
   "outputs": [
    {
     "data": {
      "text/plain": [
       "8"
      ]
     },
     "execution_count": 2,
     "metadata": {},
     "output_type": "execute_result"
    }
   ],
   "source": [
    "# Comprobamos la longitud de la lista\n",
    "\n",
    "len(listaVacia)"
   ]
  },
  {
   "cell_type": "code",
   "execution_count": 3,
   "metadata": {},
   "outputs": [],
   "source": [
    "# Cargamos un fichero que codifica un tablero como el indicado arriba.\n",
    "\n",
    "fileHandler = open (\"PrimerTableroOtelo.txt\", \"r\",encoding=\"utf-8\")\n",
    " \n",
    "## UTILIZA LA OPCIÓN \".readlines\" para leer el conjunto de las filas \n",
    "# Haz algo así como:\n",
    "\n",
    "# listOfLines = fileHandler....\n",
    " \n",
    "# Cerramos el fichero \n",
    "fileHandler.close()"
   ]
  },
  {
   "cell_type": "code",
   "execution_count": 4,
   "metadata": {},
   "outputs": [
    {
     "ename": "NameError",
     "evalue": "name 'listOfLines' is not defined",
     "output_type": "error",
     "traceback": [
      "\u001b[1;31m---------------------------------------------------------------------------\u001b[0m",
      "\u001b[1;31mNameError\u001b[0m                                 Traceback (most recent call last)",
      "\u001b[1;32m~\\AppData\\Local\\Temp/ipykernel_8360/714891557.py\u001b[0m in \u001b[0;36m<module>\u001b[1;34m\u001b[0m\n\u001b[0;32m      1\u001b[0m \u001b[1;31m# Fíjate lo que contiene \"listOfLines\"\u001b[0m\u001b[1;33m\u001b[0m\u001b[1;33m\u001b[0m\u001b[0m\n\u001b[0;32m      2\u001b[0m \u001b[1;33m\u001b[0m\u001b[0m\n\u001b[1;32m----> 3\u001b[1;33m \u001b[0mprint\u001b[0m\u001b[1;33m(\u001b[0m\u001b[0mlistOfLines\u001b[0m\u001b[1;33m)\u001b[0m\u001b[1;33m\u001b[0m\u001b[1;33m\u001b[0m\u001b[0m\n\u001b[0m",
      "\u001b[1;31mNameError\u001b[0m: name 'listOfLines' is not defined"
     ]
    }
   ],
   "source": [
    "# Fíjate lo que contiene \"listOfLines\"\n",
    "\n",
    "print(listOfLines)"
   ]
  },
  {
   "cell_type": "markdown",
   "metadata": {},
   "source": [
    "---\n",
    "Ve a la siguiente página web, para intentar entender lo que hace el método **.strip**\n",
    "\n",
    "https://www.w3schools.com/python/ref_string_strip.asp\n",
    "\n",
    "---"
   ]
  },
  {
   "cell_type": "code",
   "execution_count": 5,
   "metadata": {},
   "outputs": [
    {
     "name": "stdout",
     "output_type": "stream",
     "text": [
      "EEEE\n",
      "EEEE\n",
      "ETTE\n",
      "EEEE\n"
     ]
    }
   ],
   "source": [
    "for line in listOfLines:\n",
    "    a=line.strip()\n",
    "    print(a)"
   ]
  },
  {
   "cell_type": "markdown",
   "metadata": {},
   "source": [
    "A continuación, lo que haremos será *transformar* este fichero e una matriz de $8\\times8$ en la que todas las casillas que estén vacías, serán consideradas como $0$, mientras que las que tengan los números uno, o dos, serán substituidas por los números correspondientes. Para ello, hemos de identificar el contenido de cada casilla, para substituirlo por el número."
   ]
  },
  {
   "cell_type": "code",
   "execution_count": 6,
   "metadata": {},
   "outputs": [],
   "source": [
    "# Generamos una función que, para cada carácter, devuelve el número correspondiente \n",
    "\n",
    "def getCodigoTablero(caracter):\n",
    "    '''\n",
    "    Devuelve el código de mapa asociado a los caracteres definidos.\n",
    "    '''    \n",
    "\n",
    "    ## CREA EL CÓDIGO AQUÍ"
   ]
  },
  {
   "cell_type": "code",
   "execution_count": 7,
   "metadata": {},
   "outputs": [],
   "source": [
    "# Generamos un tablero que directamente codifique los números asociados.\n",
    "\n",
    "mapa = []\n",
    "\n",
    "## CREA EL CÓDIGO AQUÍ"
   ]
  },
  {
   "cell_type": "code",
   "execution_count": 8,
   "metadata": {},
   "outputs": [
    {
     "name": "stdout",
     "output_type": "stream",
     "text": [
      "El mapa, codificado numéricamente, es: [[0, 0, 0, 0], [0, 0, 0, 0], [0, 2, 2, 0], [0, 0, 0, 0]]\n"
     ]
    }
   ],
   "source": [
    "print(\"El mapa, codificado numéricamente, es:\", mapa)"
   ]
  },
  {
   "cell_type": "markdown",
   "metadata": {},
   "source": [
    "---\n",
    "Para cubrir los objetivos 3 y 4, vamos a crear una matriz de valores constantes, de un cierto número de filas y columnas. Suponemos que la matriz no la leemos de un fichero de texto.\n",
    "\n",
    "---"
   ]
  },
  {
   "cell_type": "code",
   "execution_count": 3,
   "metadata": {},
   "outputs": [],
   "source": [
    "def creaMatrizDato(n,m, dato):\n",
    "    '''\n",
    "    n: Número de filas de la matriz\n",
    "    m: Número de columnas de la matriz\n",
    "    dato: Valor que se quiere poner en TODOS los lugares de la matriz\n",
    "    '''\n",
    "\n",
    "    ## CREA EL CÓDIGO AQUÍ"
   ]
  },
  {
   "cell_type": "code",
   "execution_count": 10,
   "metadata": {},
   "outputs": [],
   "source": [
    "matriz=creaMatrizDato(8,8,5)"
   ]
  },
  {
   "cell_type": "code",
   "execution_count": 11,
   "metadata": {},
   "outputs": [
    {
     "name": "stdout",
     "output_type": "stream",
     "text": [
      "Matriz: [[5, 5, 5, 5], [5, 5, 5, 5], [5, 5, 5, 5], [5, 5, 5, 5]]\n"
     ]
    }
   ],
   "source": [
    "print(\"Matriz:\", matriz)"
   ]
  },
  {
   "cell_type": "code",
   "execution_count": 12,
   "metadata": {},
   "outputs": [
    {
     "name": "stdout",
     "output_type": "stream",
     "text": [
      "La fila aleatoria elegida es: 2\n",
      "La columna aleatoria elegida es: 0\n",
      "La matriz entera es: [[5, 5, 5, 5], [5, 5, 5, 5], [5, 5, 5, 5], [5, 5, 5, 5]]\n",
      "El elemento de la matriz concreto elegido es: 5\n"
     ]
    }
   ],
   "source": [
    "# Ahora, generamos una lista con los posibles valores de los índices aleatorios, lo que permitirá seleccionar aleatoriamente\n",
    "# la posición de la fila y la columna de la matriz.\n",
    "\n",
    "# La idea con la lista formada por los \"items\" 0, 1, 2 y 3 es que elija de forma aleatoria uno de ellos, para cada uno de los\n",
    "# índices (fila, columna) de la matriz.\n",
    "\n",
    "import random\n",
    "\n",
    "listaMia=['0', '1', '2', '3']\n",
    "\n",
    "## CREA EL CÓDIGO AQUÍ UTILIZANDO LA OPCIÓN \"random\" puesta."
   ]
  },
  {
   "cell_type": "code",
   "execution_count": 13,
   "metadata": {},
   "outputs": [],
   "source": [
    "#Podemos cambiar el valor de un elemento de la matriz, directamente, de la siguiente forma:\n",
    "\n",
    "matriz[1][2]=3"
   ]
  },
  {
   "cell_type": "code",
   "execution_count": 14,
   "metadata": {},
   "outputs": [
    {
     "name": "stdout",
     "output_type": "stream",
     "text": [
      "Matriz: [[5, 5, 5, 5], [5, 5, 3, 5], [5, 5, 5, 5], [5, 5, 5, 5]]\n"
     ]
    }
   ],
   "source": [
    "print(\"Matriz:\", matriz)"
   ]
  }
 ],
 "metadata": {
  "kernelspec": {
   "display_name": "Python 3 (ipykernel)",
   "language": "python",
   "name": "python3"
  },
  "language_info": {
   "codemirror_mode": {
    "name": "ipython",
    "version": 3
   },
   "file_extension": ".py",
   "mimetype": "text/x-python",
   "name": "python",
   "nbconvert_exporter": "python",
   "pygments_lexer": "ipython3",
   "version": "3.9.7"
  }
 },
 "nbformat": 4,
 "nbformat_minor": 2
}
