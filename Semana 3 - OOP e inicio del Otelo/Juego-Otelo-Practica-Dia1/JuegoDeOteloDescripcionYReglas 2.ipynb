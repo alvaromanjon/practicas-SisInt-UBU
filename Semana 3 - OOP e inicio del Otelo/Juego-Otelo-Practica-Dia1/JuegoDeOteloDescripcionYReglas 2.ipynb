{
 "cells": [
  {
   "cell_type": "markdown",
   "metadata": {},
   "source": [
    "<img style=\"float:left\" width=\"70%\" src=\"pics/escudo_COLOR_1L_DCHA.png\">\n",
    "<img style=\"float:right\" width=\"15%\" src=\"pics/PythonLogo.svg\">\n",
    "<br style=\"clear:both;\">\n",
    "\n",
    "\n",
    "# Juego de *Otelo*\n",
    "### Curso 2022-2023\n",
    "\n",
    "\n",
    "\n",
    "<h2 style=\"display: inline-block; padding: 4mm; padding-left: 2em; background-color: navy; line-height: 1.3em; color: white; border-radius: 10px;\">Descripción</h2>\n",
    "\n",
    "## Docentes\n",
    "\n",
    " - Pedro Latorre Carmona"
   ]
  },
  {
   "cell_type": "markdown",
   "metadata": {},
   "source": [
    "---\n",
    "\n",
    "# Introducción\n",
    "\n",
    "\n",
    "El juego de **Otelo** se compone de un tablero con forma cuadrada con 8 casillas de lado ($8\\times8 = 64$ casillas en total), y 64 fichas con dos caras: una negra y otra blanca.\n",
    "\n",
    "Las casillas se definen con una letra, para las columnas, y un número para las filas. De este modo, la casilla situada arriba del a la izquierda es la $A1$, mientras que la que está a la derecha en la misma fila se denomina $H1$. Por consiguiente, las casillas situadas en la parte inferior a la izquierda y a la derecha son $A8$ y $H8$, respectivamente.\n",
    "\n",
    "Aunque las fichas tengan dos caras, se las considera blancas o negras dependiendo de la cara que se puede ver en el tablero. Al inicio de una partida en **Otelo**, se sitúan 4 fichas en el centro del tablero, alternándose una ficha blanca y una ficha negra, tal y como se muestra en la siguiente imagen:\n",
    "\n",
    "<img src=\"pics/TableroYPosicionInicialB.png\">"
   ]
  },
  {
   "cell_type": "markdown",
   "metadata": {},
   "source": [
    "## Características a tener en cuenta:\n",
    "\n",
    "- La forma de aumentar el número de fichas que tiene un jugador es capturando las fichas del oponente. \n",
    "\n",
    "\n",
    "- Las fichas enemigas que queden en línea recta (vertical, horizontal o diagonal) entre la ficha del jugador activo y cualquiera de las otras fichas de éste, se *dan la vuelta* (es decir, cambian de color) siendo así *capturadas*.\n",
    "\n",
    "\n",
    "- Sólo se permite poner fichas en las posiciones que no han sido ocupadas. \n",
    "\n",
    "\n",
    "- **IMPORTANTE**: En relación con el punto anterior, cada partida consta de hasta **60 turnos** (**64** casillas del tablero menos las **4** ocupadas inicialmente). \n",
    "\n",
    "\n",
    "- **NO** se pueden dejar huecos en el movimiento de una ficha entre la del oponente y la casilla **a la que vas**.\n",
    "\n",
    "\n",
    "- Sólo se puede poner una ficha si se capturan fichas del oponente. De esta forma, sólo se pueden poner fichas en las casillas adyacentes a otras fichas. \n",
    "\n",
    "\n",
    "- Si no se puede poner ficha, se pasa el turno.\n",
    "\n",
    "\n",
    "- La partida llega a su fin cuando:\n",
    "\n",
    "\n",
    "      Se ocupan las 64 casillas del tablero.\n",
    "\n",
    "      Ninguno de los dos jugadores puede mover."
   ]
  },
  {
   "cell_type": "markdown",
   "metadata": {},
   "source": [
    "\n",
    "# Estrategias\n",
    "\n",
    "Lo más intuitivo que puede verse a la hora de realizar movimientos en **Otelo**, es el conseguir capturar la mayor cantidad de fichas del oponente en el menor tiempo posible, de forma que se incremente sustancialmente el número de piezas en ese momento. \n",
    "\n",
    "Uno de los problemas a considerar es que, aunque parezca la mejor estrategia en este juego, muchas veces puede desembocar en el fracaso, pues, a medida que se incrementa el número de piezas del jugador actual, menor cantidad de movimientos puede realizarse más adelante y más posibilidades para el contrario de capturar tus fichas. \n",
    "\n",
    "Para ello, deben tenerse en cuenta ciertas estrategias. \n",
    "\n",
    "Por ejemplo: \n",
    "\n",
    "1. **Esquinas**\n",
    "\n",
    "La estrategia más importante de **Otelo** es hacerse con las esquinas, pues son necesariamente (por las características del juego) posiciones fijas. De este modo, el conseguir situar una ficha en una de las esquinas permite que se puedan situar fichas del mismo tipo alrededor de ella, consiguiendo que también sean fijas.\n",
    "\n",
    "<img src=\"pics/Estrategia-1B.png\">\n",
    "\n",
    "\n",
    "2. **Laterales**\n",
    "\n",
    "El uso de fichas en los laterales es también una buena idea, ya que existen menos posibilidades que las fichas sean convertidas a las del otro jugador. \n",
    "\n",
    "<img src=\"pics/Estrategia-2B.png\">\n",
    "\n",
    "3. Casillas denominadas **X** y **C**.\n",
    "\n",
    "Las casillas **X** son las casillas contiguas a una esquina en diagonal. Estas casillas son de vital importancia, pues pueden permitir que el jugador acceda a una esquina o que sea el oponente quien obtenga la deseada posición. \n",
    "\n",
    "Por eso se las considera las peores casillas en las que se debe situar una ficha, ya que da muchísimas posibilidades al oponente de hacerse con una esquina, lo cual es bastante negativo para el jugador.\n",
    "\n",
    "Las casillas **C** son las casillas contiguas a una esquina que están en uno de los laterales. Estas posiciones son también muy importantes, como las casillas **X**, aunque son menos peligrosas que éstas para el jugador, pues también pueden servir como un punto de apoyo ya que están en un lateral. \n",
    "\n",
    "De todas maneras, siguen siendo posiciones que los jugadores desean evitar, ya que dan acceso a las esquinas; aunque con menos facilidad que lo harían las casillas **X**.\n",
    "\n",
    "<img src=\"pics/EstrategiaCasillasXyC.png\">"
   ]
  },
  {
   "cell_type": "markdown",
   "metadata": {},
   "source": [
    "# Cómo será el juego en nuestro *modo*\n",
    "\n",
    "---\n",
    "\n",
    "Lo ideal sería crear una *interfaz* que nos permita jugar a nosotros y al *jugador automático*. \n",
    "\n",
    "La pantalla de comienzo podría ser (idea que os doy) similar a la que se presenta a continuación (las casillas sí deben estar en la posición establecida):\n",
    "\n",
    "<img src=\"pics/InitialGUI.png\">\n",
    "\n",
    "\n",
    "**IMPORTANTE**: Tened en cuenta, no obstante, lo que hemos comentado en clase. Lo más importante es conseguir que el juego funcione y cumpla una serie de reglas. Una vez hecho esto, se puede trabajar en presentarlo de una forma u otra."
   ]
  },
  {
   "cell_type": "markdown",
   "metadata": {},
   "source": [
    "---\n",
    "# Parte de *Inteligencia Artificial* (IA)\n"
   ]
  },
  {
   "cell_type": "markdown",
   "metadata": {},
   "source": [
    "- El objetivo del jugador automático es colocar la ficha de su color en aquella posición que mayor beneficio le aporte. Para ello tiene que comprobar las fichas que captura del contrario en cada una de las casillas vacías.\n",
    "\n",
    "\n",
    "- Lo primero que se tiene que comprobar en cada una de las direcciones es que la casilla no este situada en un borde del tablero que impida capturar en dicha dirección.\n",
    "\n",
    "\n",
    "- Hay que tener en cuenta que el mejor movimiento no es siempre aquel en el que se capturen más fichas del contrario, sino el que a la larga nos de más fichas. \n",
    "\n",
    "\n",
    "- **EJEMPLO** de lo anterior: Es mejor un movimiento en el que se capturen 3 fichas del contrario, pero luego él como mucho solo pueda capturar 1, a otro movimiento en el que inicialmente capturemos 5 fichas, pero acabemos perdiendo 4.\n",
    "\n",
    "\n",
    "- Para poder comprobar los movimientos del contrario, se puede, por ejemplo, utilizar un método recursivo que compruebe, para cada una de los movimientos válidos:\n",
    "\n",
    "    1. Los tres siguientes turnos del contrario, y \n",
    "    \n",
    "    2. Los dos próximos propios. \n",
    "    \n"
   ]
  },
  {
   "cell_type": "code",
   "execution_count": null,
   "metadata": {},
   "outputs": [],
   "source": []
  }
 ],
 "metadata": {
  "kernelspec": {
   "display_name": "Python 3 (ipykernel)",
   "language": "python",
   "name": "python3"
  },
  "language_info": {
   "codemirror_mode": {
    "name": "ipython",
    "version": 3
   },
   "file_extension": ".py",
   "mimetype": "text/x-python",
   "name": "python",
   "nbconvert_exporter": "python",
   "pygments_lexer": "ipython3",
   "version": "3.9.7"
  }
 },
 "nbformat": 4,
 "nbformat_minor": 2
}
