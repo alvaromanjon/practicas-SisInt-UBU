{
 "cells": [
  {
   "cell_type": "markdown",
   "metadata": {},
   "source": [
    "<img style=\"float:left\" width=\"70%\" src=\"pics/escudo_COLOR_1L_DCHA.png\">\n",
    "<img style=\"float:right\" width=\"15%\" src=\"pics/PythonLogo.svg\">\n",
    "<br style=\"clear:both;\">\n",
    "\n",
    "\n",
    "# Juego de *Otelo*\n",
    "### *Sistemas Inteligentes* (Curso 2022-2023)\n",
    "\n",
    "\n",
    "\n",
    "<h2 style=\"display: inline-block; padding: 4mm; padding-left: 2em; background-color: navy; line-height: 1.3em; color: white; border-radius: 10px;\">Una propuesta muy sencilla de \"tablero visual\"</h2>\n",
    "\n",
    "## Docentes\n",
    "\n",
    " - Pedro Latorre Carmona"
   ]
  },
  {
   "cell_type": "markdown",
   "metadata": {},
   "source": [
    "---\n",
    "Vamos a hacer un tablero visual lo más sencillo posible, creando un fichero de texto que va a tener la configuración del tablero, y donde vamos a tener tres letras, que van a representar las casillas del mismo:\n",
    "\n",
    "    0 --> A\n",
    "    1 --> B\n",
    "    2 --> C\n",
    "\n",
    "En el caso del número $0$, consideraremos que define una casilla que no tiene ni ficha (por la cara) blanca ni ficha (por la cara) negra.\n",
    "\n",
    "El número $1$ representará la ficha **negra**.\n",
    "\n",
    "El número $2$ representará la ficha **blanca**.\n",
    "\n",
    "---"
   ]
  },
  {
   "cell_type": "code",
   "execution_count": 1,
   "metadata": {},
   "outputs": [],
   "source": [
    "# Vamos a convertir un tablero predeterminado, en otro, en el que substituiremos los números por casillas \"visuales\"\n",
    "\n",
    "\n",
    "#tablero = [[0,0,0,0,0,0,0,0],\n",
    "#         [0,0,0,0,0,0,0,0],\n",
    "#         [0,0,0,0,0,0,0,0],\n",
    "#         [0,0,0,1,2,0,0,0],\n",
    "#         [0,0,0,2,1,0,0,0],\n",
    "#         [0,0,0,0,0,0,0,0],\n",
    "#         [0,0,0,0,0,0,0,0],\n",
    "#         [0,0,0,0,0,0,0,0]]"
   ]
  },
  {
   "cell_type": "code",
   "execution_count": 2,
   "metadata": {},
   "outputs": [
    {
     "name": "stdout",
     "output_type": "stream",
     "text": [
      "[0, 0, 0, 0, 0, 0, 0, 0]\n"
     ]
    }
   ],
   "source": [
    "import itertools\n",
    "\n",
    "listaVacia=list(itertools.repeat(0,8))\n",
    "print(listaVacia)"
   ]
  },
  {
   "cell_type": "code",
   "execution_count": 3,
   "metadata": {},
   "outputs": [
    {
     "data": {
      "text/plain": [
       "8"
      ]
     },
     "execution_count": 3,
     "metadata": {},
     "output_type": "execute_result"
    }
   ],
   "source": [
    "len(listaVacia)"
   ]
  },
  {
   "cell_type": "code",
   "execution_count": 4,
   "metadata": {},
   "outputs": [],
   "source": [
    "# Cargamos un fichero que codifica un tablero como el indicado arriba.\n",
    "\n",
    "fileHandler = open (\"PrimerTableroEquivalenciaANumerosOtelo.txt\", \"r\",encoding=\"utf-8\")\n",
    " \n",
    "# Get list of all lines in file\n",
    "listOfLines = fileHandler.readlines()\n",
    " \n",
    "# Close file \n",
    "fileHandler.close()"
   ]
  },
  {
   "cell_type": "code",
   "execution_count": 5,
   "metadata": {},
   "outputs": [
    {
     "name": "stdout",
     "output_type": "stream",
     "text": [
      "['AAAAAAAA\\n', 'AAAAAAAA\\n', 'AAAAAAAA\\n', 'AAABCAAA\\n', 'AAACBAAA\\n', 'AAAAAAAA\\n', 'AAAAAAAA\\n', 'AAAAAAAA']\n"
     ]
    }
   ],
   "source": [
    "print(listOfLines)"
   ]
  },
  {
   "cell_type": "code",
   "execution_count": 6,
   "metadata": {},
   "outputs": [
    {
     "name": "stdout",
     "output_type": "stream",
     "text": [
      "AAAAAAAA\n",
      "AAAAAAAA\n",
      "AAAAAAAA\n",
      "AAABCAAA\n",
      "AAACBAAA\n",
      "AAAAAAAA\n",
      "AAAAAAAA\n",
      "AAAAAAAA\n"
     ]
    }
   ],
   "source": [
    "for line in listOfLines:\n",
    "    a=line.strip()\n",
    "    print(a)"
   ]
  },
  {
   "cell_type": "code",
   "execution_count": 7,
   "metadata": {},
   "outputs": [],
   "source": [
    "def getCodigoTablero(caracter):\n",
    "    '''\n",
    "    Devuelve el código de mapa asociado a los caracteres definidos.\n",
    "    '''    \n",
    "    codigo = 0\n",
    "    if caracter == 'A':\n",
    "        codigo = 0\n",
    "    if caracter == 'B':\n",
    "        codigo = 1        \n",
    "    elif caracter == 'C':\n",
    "        codigo = 2\n",
    "            \n",
    "    return codigo"
   ]
  },
  {
   "cell_type": "code",
   "execution_count": 8,
   "metadata": {},
   "outputs": [],
   "source": [
    "# Generamos un tablero que directamente codifique los números asociados.\n",
    "\n",
    "tablero = []\n",
    "nFila=0\n",
    "\n",
    "ancho=len(listaVacia)\n",
    "\n",
    "for linea in listOfLines:\n",
    "        \n",
    "        fila = list(itertools.repeat(0, ancho))\n",
    "\n",
    "        nCol = 0\n",
    "        for ch in linea:\n",
    "            if ch =='\\n':\n",
    "                break\n",
    "\n",
    "            codigo = getCodigoTablero(ch)\n",
    "            fila[nCol] = codigo                \n",
    "\n",
    "            nCol+=1\n",
    "\n",
    "        tablero.append(fila)\n",
    "        nFila+=1"
   ]
  },
  {
   "cell_type": "code",
   "execution_count": 9,
   "metadata": {},
   "outputs": [
    {
     "name": "stdout",
     "output_type": "stream",
     "text": [
      "[[0, 0, 0, 0, 0, 0, 0, 0], [0, 0, 0, 0, 0, 0, 0, 0], [0, 0, 0, 0, 0, 0, 0, 0], [0, 0, 0, 1, 2, 0, 0, 0], [0, 0, 0, 2, 1, 0, 0, 0], [0, 0, 0, 0, 0, 0, 0, 0], [0, 0, 0, 0, 0, 0, 0, 0], [0, 0, 0, 0, 0, 0, 0, 0]]\n"
     ]
    }
   ],
   "source": [
    "print(tablero)"
   ]
  },
  {
   "cell_type": "code",
   "execution_count": 10,
   "metadata": {},
   "outputs": [
    {
     "name": "stdout",
     "output_type": "stream",
     "text": [
      "0\n"
     ]
    }
   ],
   "source": [
    "print(tablero[0][0])"
   ]
  },
  {
   "cell_type": "code",
   "execution_count": 11,
   "metadata": {},
   "outputs": [],
   "source": [
    "def get_content(coord):\n",
    "    \"\"\"\n",
    "    Obtiene el contenido de una determinada posición.\n",
    "    \n",
    "    Parameters\n",
    "    ----------\n",
    "    coord : Posición [y,x] de la que queremos conocer el contenido\n",
    "    \n",
    "    Returns\n",
    "    --------\n",
    "    contenido : Una lista de tamaño 1 .\n",
    "    \"\"\"\n",
    "    contenido = [None]\n",
    "    \n",
    "    if tablero[coord[0]][coord[1]] == 0:\n",
    "        contenido[0] = \"fondorojo\"\n",
    "    elif tablero[coord[0]][coord[1]] == 1:\n",
    "        contenido[0] = \"caranegrafichafondorojo\"\n",
    "    elif tablero[coord[0]][coord[1]] == 2:\n",
    "        contenido[0] = \"carablancafichafondorojo\"\n",
    "                   \n",
    "    \n",
    "    return contenido"
   ]
  },
  {
   "cell_type": "code",
   "execution_count": 12,
   "metadata": {},
   "outputs": [
    {
     "name": "stdout",
     "output_type": "stream",
     "text": [
      "./ImagenesCasillasOtelo/FondoRojo.png\n"
     ]
    }
   ],
   "source": [
    "element_image = {\n",
    "    \"fondorojo\": \"./ImagenesCasillasOtelo/FondoRojo.png\",\n",
    "    \"caranegrafichafondorojo\": \"./ImagenesCasillasOtelo/CaraNegraFichaFondoRojo.png\",\n",
    "    \"carablancafichafondorojo\": \"./ImagenesCasillasOtelo/CaraBlancaFichaFondoRojo.png\"\n",
    "}\n",
    "\n",
    "print(element_image[\"fondorojo\"])"
   ]
  },
  {
   "cell_type": "code",
   "execution_count": 13,
   "metadata": {},
   "outputs": [
    {
     "data": {
      "application/vnd.jupyter.widget-view+json": {
       "model_id": "1aabee9addcd4f4fb5920632915bfb54",
       "version_major": 2,
       "version_minor": 0
      },
      "text/plain": [
       "HTML(value='<style> img.game {width: 37px !important; height: 22px !important;}</style><table><tr><td><img cla…"
      ]
     },
     "metadata": {},
     "output_type": "display_data"
    }
   ],
   "source": [
    "from IPython.display import display\n",
    "from ipywidgets import HTML\n",
    "\n",
    "\n",
    "def get_html():\n",
    "    \"\"\" Muestra una representación gráfica del juego.\n",
    "\n",
    "    Devuelve un \"string\" que contiene HTML\n",
    "\n",
    "    \"\"\" \n",
    "    \n",
    "    \n",
    "    height = len(tablero)\n",
    "    width = len(tablero[0])\n",
    "    \n",
    "    html_string = \"<style> img.game {width: 37px !important; height: 22px !important;}</style><table>\"\n",
    "    \n",
    "\n",
    "\n",
    "    new_row = \"<tr>\"\n",
    "    end_row = \"</tr>\"\n",
    "    \n",
    "    for i in range(height):\n",
    "        html_string+=new_row\n",
    "        for j in range(width):\n",
    "            \n",
    "            content = get_content((i,j))\n",
    "            drawing = element_image[content[0]]\n",
    "            \n",
    "            html = '<td><img class=\"game\" src=%s alt=\"\"></img></td>' % drawing     \n",
    "            \n",
    "            \n",
    "            html_string+=html\n",
    "        html_string+=end_row\n",
    "            \n",
    "    html_string += \"</table>\"\n",
    "        \n",
    "                \n",
    "    return html_string\n",
    "\n",
    "HTML(get_html())"
   ]
  },
  {
   "cell_type": "code",
   "execution_count": null,
   "metadata": {},
   "outputs": [],
   "source": []
  }
 ],
 "metadata": {
  "kernelspec": {
   "display_name": "Python 3 (ipykernel)",
   "language": "python",
   "name": "python3"
  },
  "language_info": {
   "codemirror_mode": {
    "name": "ipython",
    "version": 3
   },
   "file_extension": ".py",
   "mimetype": "text/x-python",
   "name": "python",
   "nbconvert_exporter": "python",
   "pygments_lexer": "ipython3",
   "version": "3.9.7"
  }
 },
 "nbformat": 4,
 "nbformat_minor": 2
}
