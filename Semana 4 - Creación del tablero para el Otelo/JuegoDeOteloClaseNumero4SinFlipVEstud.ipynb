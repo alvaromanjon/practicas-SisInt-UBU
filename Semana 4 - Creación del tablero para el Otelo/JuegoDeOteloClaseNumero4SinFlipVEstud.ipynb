{
 "cells": [
  {
   "cell_type": "markdown",
   "metadata": {},
   "source": [
    "<img style=\"float:left\" width=\"70%\" src=\"pics/escudo_COLOR_1L_DCHA.png\">\n",
    "<img style=\"float:right\" width=\"15%\" src=\"pics/PythonLogo.svg\">\n",
    "<br style=\"clear:both;\">\n",
    "\n",
    "\n",
    "# Otelo\n",
    "### *Sistemas Inteligentes* (Curso 2022-2023)\n",
    "\n",
    "\n",
    "\n",
    "<h2 style=\"display: inline-block; padding: 4mm; padding-left: 2em; background-color: navy; line-height: 1.3em; color: white; border-radius: 10px;\">Hacia la versión \"manual\" del juego</h2>\n",
    "\n",
    "## Docentes\n",
    "\n",
    " - Pedro Latorre Carmona"
   ]
  },
  {
   "cell_type": "markdown",
   "metadata": {},
   "source": [
    "---\n",
    "El objetivo del juego es ocupar el mayor número posible de casillas, y que éste sea mayor que el número ocupado por el otro jugador. Tal y como comentamos en la clase de la semana anterior:\n",
    "\n",
    "- La forma de aumentar el número de fichas que tiene un jugador es capturando las fichas del oponente. \n",
    "\n",
    "\n",
    "- Las fichas enemigas que queden en línea recta (vertical, horizontal o diagonal) entre la ficha del jugador activo y cualquiera de las otras fichas de éste, se *dan la vuelta* (es decir, cambian de color) siendo así *capturadas*.\n",
    "\n",
    "\n",
    "- Sólo se permite poner fichas en las posiciones que no han sido ocupadas. \n",
    "\n",
    "\n",
    "- **IMPORTANTE**: En relación con el punto anterior, cada partida consta de hasta **60 turnos** (**64** casillas del tablero menos las **4** ocupadas inicialmente). \n",
    "\n",
    "\n",
    "- **NO** se pueden dejar huecos en el movimiento de una ficha entre la del oponente y la casilla **a la que vas**.\n",
    "\n",
    "\n",
    "- Sólo se puede poner una ficha si se capturan fichas del oponente. De esta forma, sólo se pueden poner fichas en las casillas adyacentes a otras fichas. \n",
    "\n",
    "\n",
    "- Si no se puede poner ficha, se pasa el turno.\n",
    "\n",
    "\n",
    "- La partida llega a su fin cuando:\n",
    "\n",
    "\n",
    "        Se ocupan las 64 casillas del tablero.\n",
    "\n",
    "        Ninguno de los dos jugadores puede mover."
   ]
  },
  {
   "cell_type": "markdown",
   "metadata": {},
   "source": [
    "En esta práctica, vamos a:\n",
    "\n",
    "1) Definir una función que nos va a determinar el número de fichas que se dan la vuelta respecto de una posición $(x,y)$ determinada por un jugador.\n",
    "\n",
    "2) Entender y establecer una primera **función de coste** o **heurística** a aplicar para que el juego pueda ser optimizado.\n",
    "\n",
    "---\n"
   ]
  },
  {
   "cell_type": "markdown",
   "metadata": {},
   "source": [
    "## IMPORTANTE:\n",
    "\n",
    "Dos cuestiones:\n",
    "\n",
    "- **PRIMERA CUESTIÓN**\n",
    "\n",
    "\n",
    "Debemos tener presente que en este juego, el jugador $1$ es una persona física, que, a diferencia de otros juegos, **NO REALIZA** movimientos **ALEATORIOS**, sino **INTELIGENTES**. \n",
    "\n",
    "En este caso, **MINIMAX** se aplica al jugador $2$. El jugador 2 es **el ordenador**, y sus movimientos son los correspondientes a las fichas **blancas**.\n",
    "\n",
    "\n",
    "- **SEGUNDA CUESTIÓN**\n",
    "\n",
    "\n",
    "Teniendo en cuenta que el jugador $2$ es el *importante* para **MINIMAX**, hemos de definir una función de coste que aumente conforme el movimiento de las fichas blancas le favorezca. "
   ]
  },
  {
   "cell_type": "markdown",
   "metadata": {},
   "source": [
    "## Definición de la clase\n",
    "\n",
    "A continuación vamos a hacer una primera definición de la clase, a la cual podríamos llamar, por ejemplo, **Tablerootelo**."
   ]
  },
  {
   "cell_type": "code",
   "execution_count": null,
   "metadata": {},
   "outputs": [],
   "source": [
    "from copy import deepcopy\n",
    "from typing import Tuple, List"
   ]
  },
  {
   "cell_type": "code",
   "execution_count": null,
   "metadata": {},
   "outputs": [],
   "source": [
    "class Tablerootelo:\n",
    "    \n",
    "    def __init__(self, matrix):\n",
    "        self.setMatrix(matrix)\n",
    "    \n",
    "    \n",
    "    def __eq__(self, other) -> bool:\n",
    "        \n",
    "        \n",
    "        # CÓDIGO, AQUÍ\n",
    "        \n",
    "        \n",
    "        return True\n",
    "    \n",
    "    \n",
    "    def setMatrix(self, matrix):\n",
    "        self.matrix = deepcopy(matrix)\n",
    "    \n",
    "    \n",
    "    def getMatrix(self) -> List[List]:\n",
    "        return deepcopy(self.matrix)\n",
    "    \n",
    "    \n",
    "    def placeTile(self, row: int, col: int, tile: int):\n",
    "        self.matrix[row-1][col-1] = tile\n",
    "        \n",
    "        \n",
    "    def utility(self) -> int:\n",
    " \n",
    "\n",
    "    #           CÓDIGO, AQUÍ\n",
    "\n",
    "    \n",
    "    #   return XXXXXXXXXXXXXX"
   ]
  },
  {
   "cell_type": "markdown",
   "metadata": {},
   "source": [
    "---\n",
    "### Piensa cómo deberías instanciar ahora esta clase, y comparar una instancia con otra (con *eq*)."
   ]
  },
  {
   "cell_type": "code",
   "execution_count": null,
   "metadata": {},
   "outputs": [],
   "source": []
  },
  {
   "cell_type": "code",
   "execution_count": null,
   "metadata": {},
   "outputs": [],
   "source": []
  },
  {
   "cell_type": "markdown",
   "metadata": {},
   "source": [
    "---\n",
    "# Definición de una primera/potencial *función de coste* o *heurística*\n",
    "\n",
    "La función la deberías programar arriba, en el método **utility**.\n",
    "\n",
    "La primera función de coste que os propongo va a ser una función que constará de dos términos, tal que:\n",
    "\n",
    "$U$ = $\\delta p$ + $M$\n",
    "\n",
    "donde:\n",
    "\n",
    "- $U$: Función de *utilidad*\n",
    "\n",
    "- $\\delta p$: Porcentaje de ocupación\n",
    "\n",
    "- $M$: Movilidad\n",
    "\n",
    "El porcentaje de ocupación se puede definir de dos formas:\n",
    "\n",
    "1) $\\delta p = \\left(\\frac{N_{w}}{N_{w}+N_{b}}\\right) \\times 100$\n",
    "\n",
    "2) $\\delta p = - \\left(\\frac{N_{b}}{N_{w}+N_{b}}\\right) \\times 100$\n",
    "\n",
    "donde:\n",
    "\n",
    "- $N_{b}$: Número de casillas ocupadas por ficha con la **cara negra** visible\n",
    "\n",
    "- $N_{w}$: Número de casillas ocupadas por ficha con **cara blanca** visible\n",
    "\n",
    "Por tanto, esta función tendrá un valor positivo, o negativo, en el intervalo $[0, 100]$\n",
    "\n",
    "En cuanto a la función $M$, se define como:\n",
    "\n",
    "$M = \\left(\\frac{1_{M(2)}}{1_{M(2)} + 1_{M(1)}}\\right) \\times 100$\n",
    "\n",
    "En esta ecuación:\n",
    "\n",
    "- $1_{M(1)}$: Función que devuelve $0$ o $1$, dependiendo de si el movimiento a la casilla de destino produce que al menos una ficha del jugador $1$ se de la vuelta, o no.\n",
    "\n",
    "- $1_{M(2)}$: Función que devuelve $0$ o $1$, dependiendo de si el movimiento a la casilla de destino produce que al menos una ficha del jugador $2$ se de la vuelta, o no.\n",
    "\n",
    "Con esta definición, se ha de evitar que $M$ pueda llegar a tener valor de indeterminación numérica. En este caso, podría ocurrir tener: $\\frac{0}{0}$. \n",
    "\n",
    "Por tanto:\n",
    "\n",
    "- Si $1_{M(1)}=1_{M(2)}=0 $, consideraremos que $M = 0$ \n",
    "\n",
    "---"
   ]
  },
  {
   "cell_type": "code",
   "execution_count": null,
   "metadata": {},
   "outputs": [],
   "source": []
  }
 ],
 "metadata": {
  "kernelspec": {
   "display_name": "Python 3 (ipykernel)",
   "language": "python",
   "name": "python3"
  },
  "language_info": {
   "codemirror_mode": {
    "name": "ipython",
    "version": 3
   },
   "file_extension": ".py",
   "mimetype": "text/x-python",
   "name": "python",
   "nbconvert_exporter": "python",
   "pygments_lexer": "ipython3",
   "version": "3.9.7"
  }
 },
 "nbformat": 4,
 "nbformat_minor": 2
}
